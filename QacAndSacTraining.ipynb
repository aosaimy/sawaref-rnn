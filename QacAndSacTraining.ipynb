{
 "cells": [
  {
   "cell_type": "code",
   "execution_count": 7,
   "metadata": {
    "ExecuteTime": {
     "end_time": "2018-09-26T10:47:19.879596Z",
     "start_time": "2018-09-26T09:47:19.875Z"
    },
    "collapsed": false,
    "deletable": true,
    "editable": true
   },
   "outputs": [
    {
     "ename": "Error",
     "evalue": "Cannot find module 'conllu-dao'",
     "output_type": "error",
     "traceback": [
      "internal/modules/cjs/loader.js:573",
      "    throw err;",
      "    ^",
      "",
      "Error: Cannot find module 'conllu-dao'",
      "    at Function.Module._resolveFilename (internal/modules/cjs/loader.js:571:15)",
      "    at Function.Module._load (internal/modules/cjs/loader.js:497:25)",
      "    at Module.require (internal/modules/cjs/loader.js:626:17)",
      "    at require (internal/modules/cjs/helpers.js:20:18)",
      "    at evalmachine.<anonymous>:2:14",
      "    at Script.runInThisContext (vm.js:91:20)",
      "    at Object.runInThisContext (vm.js:298:38)",
      "    at run ([eval]:1002:15)",
      "    at onRunRequest ([eval]:829:18)",
      "    at onMessage ([eval]:789:13)"
     ]
    }
   ],
   "source": [
    "\"use strict\"\n",
    "var conllu = require(\"conllu-dao\")\n",
    "var fs = require(\"fs\")"
   ]
  },
  {
   "cell_type": "code",
   "execution_count": 5,
   "metadata": {
    "ExecuteTime": {
     "end_time": "2018-09-26T10:36:53.760704Z",
     "start_time": "2018-09-26T09:36:53.754Z"
    },
    "collapsed": false,
    "deletable": true,
    "editable": true
   },
   "outputs": [
    {
     "data": {
      "text/plain": [
       "{ asd: 'sad' }"
      ]
     },
     "execution_count": 5,
     "metadata": {},
     "output_type": "execute_result"
    }
   ],
   "source": [
    "var input = fs.readFileSync(\"./QAC.conllu\", { encoding: \"utf-8\" });\n",
    "// console.error(input);\n",
    "var conlluDocument = new conllu.ConlluDocument()\n",
    "var s = conlluDocument.parse(input, function(x) {\n",
    "    console.error(x)\n",
    "}, true)\n",
    "var inquirer = require('inquirer');\n",
    "\n",
    "var defaultanswers = {\n",
    "    from: 'u',\n",
    "    to: 'u',\n",
    "    checkf: false,\n",
    "    checkt: false,\n",
    "}\n",
    "var x = [{\n",
    "        name: 'from',\n",
    "        default: defaultanswers.from,\n",
    "        message: 'The tag from?',\n",
    "        validate: function(text) {\n",
    "            if (text != \"u\" && text != \"x\") {\n",
    "                return 'Must be either u for UPOSTAG or x for XPOSTAG.';\n",
    "            }\n",
    "\n",
    "            return true;\n",
    "        }\n",
    "    },\n",
    "    {\n",
    "        name: 'to',\n",
    "        default: defaultanswers.to,\n",
    "        message: 'The tag to?',\n",
    "        validate: function(text) {\n",
    "            if (text != \"u\" && text != \"x\") {\n",
    "                return 'Must be either u for UPOSTAG or x for XPOSTAG.';\n",
    "            }\n",
    "\n",
    "            return true;\n",
    "        }\n",
    "    },\n",
    "    {\n",
    "        name: 'checkf',\n",
    "        default: defaultanswers.checkf,\n",
    "        message: 'The from tag to investigate?',\n",
    "    },\n",
    "    {\n",
    "        name: 'checkt',\n",
    "        default: defaultanswers.checkt,\n",
    "        message: 'The to tag to investigate?',\n",
    "    }\n",
    "]\n",
    "var d = function(){\n",
    "\tinquirer.prompt(x).then(answers => {\n",
    "\t    console.error(answers)\n",
    "\t    defaultanswers = answers\n",
    "\t    var res = conllu.getTagsCompatibility(s, answers.from, answers.to, answers.checkf, answers.checkt)\n",
    "\t    fs.writeFileSync(\"./\" + process.argv[2], JSON.stringify(res, null, 4), { encoding: \"utf-8\" });\n",
    "\t    console.error(\"Results are written to \",\"./\" + process.argv[2])\n",
    "        var table = {}\n",
    "        if(answers.checkt===false){\n",
    "            res[2].map(x=>x.split(\"\\t\")).forEach(x=>table[x[3]]= table[x[3]]+1 || 1)\n",
    "            var total = Object.keys(table).map(k=>table[k]).reduce((total, num) => total + num)\n",
    "            Object.keys(table).forEach(k=>table[k]=table[k]/total)\n",
    "            console.error(table);\n",
    "        }\n",
    "\t    yy(res[2],0,d)\n",
    "\t})\n",
    "}\n",
    "d()\n",
    "\n",
    "function yy(arr,from,ondone){\n",
    "\tconsole.error(arr.slice(from,from+10))\n",
    "    inquirer.prompt([{\n",
    "    \tname: \"continue\",\n",
    "    \ttype: \"confirm\",\n",
    "    \tmessage: 'Continue?',\n",
    "    }]).then(ans=>{\n",
    "    \tif(ans.continue)\n",
    "    \t\tyy(arr,from+10,ondone)\n",
    "    \telse\n",
    "    \t\tondone()\n",
    "    })\n",
    "\n",
    "}"
   ]
  }
 ],
 "metadata": {
  "kernelspec": {
   "display_name": "Javascript (Node.js)",
   "language": "javascript",
   "name": "javascript"
  },
  "language_info": {
   "file_extension": ".js",
   "mimetype": "application/javascript",
   "name": "javascript",
   "version": "10.0.0"
  },
  "toc": {
   "base_numbering": 1,
   "nav_menu": {},
   "number_sections": true,
   "sideBar": true,
   "skip_h1_title": false,
   "title_cell": "Table of Contents",
   "title_sidebar": "Contents",
   "toc_cell": false,
   "toc_position": {},
   "toc_section_display": true,
   "toc_window_display": true
  }
 },
 "nbformat": 4,
 "nbformat_minor": 2
}
