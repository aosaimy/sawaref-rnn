{
 "cells": [
  {
   "cell_type": "markdown",
   "metadata": {
    "toc": true
   },
   "source": [
    "<h1>Table of Contents<span class=\"tocSkip\"></span></h1>\n",
    "<div class=\"toc\"><ul class=\"toc-item\"><li><span><a href=\"#Errors-Analysis\" data-toc-modified-id=\"Errors-Analysis-1\"><span class=\"toc-item-num\">1&nbsp;&nbsp;</span>Errors Analysis</a></span><ul class=\"toc-item\"><li><span><a href=\"#1.-Kappa\" data-toc-modified-id=\"1.-Kappa-1.1\"><span class=\"toc-item-num\">1.1&nbsp;&nbsp;</span>1. Kappa</a></span></li><li><span><a href=\"#2.-Most-common-erros-in-POS\" data-toc-modified-id=\"2.-Most-common-erros-in-POS-1.2\"><span class=\"toc-item-num\">1.2&nbsp;&nbsp;</span>2. Most common erros in POS</a></span></li><li><span><a href=\"#2.-Differences-in-errors-between-1-tagger\" data-toc-modified-id=\"2.-Differences-in-errors-between-1-tagger-1.3\"><span class=\"toc-item-num\">1.3&nbsp;&nbsp;</span>2. Differences in errors between 1-tagger</a></span><ul class=\"toc-item\"><li><span><a href=\"#2.1.-Correlation-and-Confustion-Matrix\" data-toc-modified-id=\"2.1.-Correlation-and-Confustion-Matrix-1.3.1\"><span class=\"toc-item-num\">1.3.1&nbsp;&nbsp;</span>2.1. Correlation and Confustion Matrix</a></span></li></ul></li></ul></li><li><span><a href=\"#Convert-To-Conllu\" data-toc-modified-id=\"Convert-To-Conllu-2\"><span class=\"toc-item-num\">2&nbsp;&nbsp;</span>Convert To Conllu</a></span></li></ul></div>"
   ]
  },
  {
   "cell_type": "code",
   "execution_count": null,
   "metadata": {
    "collapsed": true,
    "deletable": true,
    "editable": true
   },
   "outputs": [],
   "source": [
    "import pandas as pd\n",
    "from sklearn.metrics import cohen_kappa_score\n",
    "import itertools"
   ]
  },
  {
   "cell_type": "code",
   "execution_count": null,
   "metadata": {
    "collapsed": true
   },
   "outputs": [],
   "source": [
    "from os import listdir\n",
    "from os.path import join, isdir, exists, isfile, getmtime\n",
    "listoffiles = [f[:-5] for f in listdir(\".\") if f.endswith(\".xlsx\") and f.startswith(\"results_\")]\n",
    "listoffiles"
   ]
  },
  {
   "cell_type": "code",
   "execution_count": null,
   "metadata": {
    "collapsed": false,
    "deletable": true,
    "editable": true
   },
   "outputs": [],
   "source": [
    "listofdates = {i: getmtime(i+\".xlsx\") for i in listoffiles}"
   ]
  },
  {
   "cell_type": "code",
   "execution_count": null,
   "metadata": {
    "collapsed": false,
    "deletable": true,
    "editable": true
   },
   "outputs": [],
   "source": [
    "dfs= {x: pd.read_excel(x+'.xlsx', header=[0,1]) for x in listoffiles}"
   ]
  },
  {
   "cell_type": "code",
   "execution_count": null,
   "metadata": {
    "collapsed": false,
    "deletable": true,
    "editable": true
   },
   "outputs": [],
   "source": [
    "try:\n",
    "    accuracies\n",
    "except NameError:\n",
    "    accuracies = pd.DataFrame([],\n",
    "                 columns=list(map(list, zip(*[\n",
    "        ('miscs', 'date'),\n",
    "        ('QAaspect', 'acc'),\n",
    "        ('QAcase', 'acc'),\n",
    "        ('QAgender', 'acc'),\n",
    "        ('QAmood', 'acc'),\n",
    "        ('QAnumber', 'acc'),\n",
    "        ('QAperson', 'acc'),\n",
    "        ('QApos', 'acc'),\n",
    "        ('QAstate', 'acc'),\n",
    "        ('QAvoice', 'acc'),\n",
    "        ('QAutf8', 'acc'),\n",
    "        ('out_diac', 'acc'),\n",
    "        ('out_letter', 'acc'),\n",
    "        ('seg', 'acc'),\n",
    "        ('QAupos', 'acc'),\n",
    "        ('agg', 'all'),\n",
    "        ('agg', 'mf'),\n",
    "        ('agg', 'utf8')]))))"
   ]
  },
  {
   "cell_type": "code",
   "execution_count": null,
   "metadata": {
    "collapsed": false,
    "deletable": true,
    "editable": true
   },
   "outputs": [],
   "source": [
    "import numpy as np\n",
    "import time\n",
    "for f in listoffiles:\n",
    "    for x in list(accuracies.columns):\n",
    "        if x in dfs[f].columns:\n",
    "            accuracies.loc[f+\"_test\", x] = np.average(dfs[f][x].values.astype(int),axis=0)\n",
    "    accuracies.loc[f+\"_test\", (\"miscs\",\"date\")] = time.ctime(listofdates[f])\n"
   ]
  },
  {
   "cell_type": "code",
   "execution_count": null,
   "metadata": {
    "collapsed": false,
    "deletable": true,
    "editable": true
   },
   "outputs": [],
   "source": [
    "dfs[\"results_comp_end_baseline_1\"]"
   ]
  },
  {
   "cell_type": "code",
   "execution_count": null,
   "metadata": {
    "collapsed": true,
    "deletable": true,
    "editable": true
   },
   "outputs": [],
   "source": [
    "writer_all = pd.ExcelWriter('kappa.xlsx')"
   ]
  },
  {
   "cell_type": "markdown",
   "metadata": {
    "deletable": true,
    "editable": true
   },
   "source": [
    "# Errors Analysis"
   ]
  },
  {
   "cell_type": "markdown",
   "metadata": {
    "deletable": true,
    "editable": true
   },
   "source": [
    "## 1. Kappa "
   ]
  },
  {
   "cell_type": "code",
   "execution_count": null,
   "metadata": {
    "collapsed": false,
    "deletable": true,
    "editable": true
   },
   "outputs": [],
   "source": [
    "tools = [\"baseline\",\"MX\", \"FA\", \"AM\", \"ST\"]\n",
    "outputs = ['QAaspect', 'QAcase', 'QAgender', 'QAmood', 'QAnumber', 'QAperson', 'QApos', 'QAstate', 'QAutf8', 'QAvoice']\n",
    "for L in range(2, 3): #len(tools)+1):\n",
    "    for o in outputs:\n",
    "        table = pd.DataFrame(1, columns=tools, index=tools)\n",
    "        for subset in itertools.combinations(tools, L):\n",
    "            table.loc[subset[0],subset[1]]= cohen_kappa_score(dfs[\"results_comp_end_\"+subset[0]+\"_1\"][(o,\"pred\")].astype(str), dfs[\"results_comp_end_\"+subset[1]+\"_1\"][(o,\"pred\")].astype(str))\n",
    "            table.loc[subset[1],subset[0]] = table.loc[subset[0],subset[1]]\n",
    "#             print(subset, o, cohen_kappa_score(dfs[\"results_comp_end_\"+subset[0]+\"_1\"][(o,\"pred\")].astype(str), dfs[\"results_comp_end_\"+subset[1]+\"_1\"][(o,\"pred\")].astype(str)))\n",
    "        table.to_excel(writer_all,o)\n",
    "        print(o)\n",
    "        print(table)\n",
    "writer_all.save()"
   ]
  },
  {
   "cell_type": "markdown",
   "metadata": {
    "ExecuteTime": {
     "end_time": "2018-08-17T16:06:32.110757Z",
     "start_time": "2018-08-17T16:06:32.107849Z"
    },
    "deletable": true,
    "editable": true
   },
   "source": [
    "## 2. Most common erros in POS"
   ]
  },
  {
   "cell_type": "code",
   "execution_count": null,
   "metadata": {
    "collapsed": false,
    "deletable": true,
    "editable": true
   },
   "outputs": [],
   "source": [
    "res = dfs[\"results_comp_end_decoder_for_each\"]\n",
    "\n",
    "from difflib import SequenceMatcher\n",
    "\n",
    "def findDiffs(string1,string2,i):\n",
    "    match = SequenceMatcher(None, string1, string2).find_longest_match(0, len(string1), 0, len(string2))\n",
    "\n",
    "    return (string1.replace(string1[match.a: match.a + match.size],\"\"), \n",
    "            string2.replace(string2[match.b: match.b + match.size],\"\"),i)\n",
    "\n",
    "\n",
    "res[res[\"QApos\",\"acc\"]==False][[\"QApos\",\"QAutf8\"]]\n",
    "\n",
    "res[res[\"QApos\",\"acc\"]==False].iloc[112]\n",
    "\n",
    "from collections import Counter\n",
    "def printDifferencesBetweenColumns(res,col1,col2):\n",
    "    return [findDiffs(res.iloc[i][col1],res.iloc[i][col2],0) for i in range(len(res))]\n",
    "Counter(printDifferencesBetweenColumns(res[res[\"QApos\",\"acc\"]==False],(\"QApos\",\"pred\"),(\"QApos\",\"actu\"))).most_common()"
   ]
  },
  {
   "cell_type": "markdown",
   "metadata": {
    "ExecuteTime": {
     "end_time": "2018-08-17T16:17:30.667437Z",
     "start_time": "2018-08-17T16:17:30.664325Z"
    },
    "deletable": true,
    "editable": true
   },
   "source": [
    "## 2. Differences in errors between 1-tagger"
   ]
  },
  {
   "cell_type": "markdown",
   "metadata": {
    "deletable": true,
    "editable": true
   },
   "source": [
    "### 2.1. Correlation and Confustion Matrix"
   ]
  },
  {
   "cell_type": "code",
   "execution_count": null,
   "metadata": {
    "collapsed": false,
    "deletable": true,
    "editable": true
   },
   "outputs": [],
   "source": [
    "from sklearn.metrics import confusion_matrix\n",
    "for t in dfs.keys():\n",
    "    for t2 in dfs.keys():\n",
    "        if t == t2:\n",
    "            continue\n",
    "        merged = pd.merge(dfs[t],dfs[t2], left_index=True, right_index=True) #suffixes=[\"_all\",\"_\"+t])\n",
    "\n",
    "        # merged[merged[(\"QApos_x\",\"pred\")] != merged[(\"QApos_y\",\"pred\")]].filter(regex=\"QApos\")\n",
    "    #     print(merged)\n",
    "        print(t, t2)\n",
    "        print(\"Correlation\",merged[[(\"QApos_x\",\"acc\"),(\"QApos_y\",\"acc\")]].corr().iloc[0,1])\n",
    "        print( pd.DataFrame(confusion_matrix(merged[(\"QApos_x\",\"acc\")], merged[(\"QApos_y\",\"acc\")], labels=[True,False]), [True,False],[True,False]))"
   ]
  },
  {
   "cell_type": "markdown",
   "metadata": {
    "collapsed": true,
    "deletable": true,
    "editable": true
   },
   "source": [
    "# Convert To Conllu"
   ]
  },
  {
   "cell_type": "code",
   "execution_count": 3,
   "metadata": {
    "ExecuteTime": {
     "end_time": "2018-09-30T21:24:14.796647Z",
     "start_time": "2018-09-30T21:24:13.057892Z"
    },
    "collapsed": false
   },
   "outputs": [],
   "source": [
    "import pandas as pd\n",
    "df = pd.read_excel('results_comp_ench_4d_nonsoftmaxed_final_corrected.xlsx', header=[0,1])"
   ]
  },
  {
   "cell_type": "code",
   "execution_count": 101,
   "metadata": {
    "ExecuteTime": {
     "end_time": "2018-10-01T14:06:16.754343Z",
     "start_time": "2018-10-01T14:06:16.731101Z"
    },
    "collapsed": false
   },
   "outputs": [],
   "source": [
    "df2 = df[(\"inputs\",\"index\")].str.split(\"-\", expand=True)\n",
    "df2.set_axis(axis=1, labels=[[\"myindex\"]*4,[\"sid\",\"aid\",\"wid\",\"mid\"]], inplace=True)\n",
    "df = df.join(df2)"
   ]
  },
  {
   "cell_type": "code",
   "execution_count": 234,
   "metadata": {
    "ExecuteTime": {
     "end_time": "2018-10-01T19:45:34.151994Z",
     "start_time": "2018-10-01T19:45:34.125497Z"
    },
    "collapsed": false
   },
   "outputs": [
    {
     "data": {
      "text/html": [
       "<div>\n",
       "<style scoped>\n",
       "    .dataframe tbody tr th:only-of-type {\n",
       "        vertical-align: middle;\n",
       "    }\n",
       "\n",
       "    .dataframe tbody tr th {\n",
       "        vertical-align: top;\n",
       "    }\n",
       "\n",
       "    .dataframe thead th {\n",
       "        text-align: right;\n",
       "    }\n",
       "</style>\n",
       "<table border=\"1\" class=\"dataframe\">\n",
       "  <thead>\n",
       "    <tr style=\"text-align: right;\">\n",
       "      <th></th>\n",
       "      <th>OOV</th>\n",
       "      <th>in_diac</th>\n",
       "      <th>in_letter</th>\n",
       "      <th>index</th>\n",
       "      <th>ar</th>\n",
       "    </tr>\n",
       "  </thead>\n",
       "  <tbody>\n",
       "    <tr>\n",
       "      <th>0</th>\n",
       "      <td>0.0</td>\n",
       "      <td>aao</td>\n",
       "      <td>wEn</td>\n",
       "      <td>fourty-1103-1-1</td>\n",
       "      <td>وعن</td>\n",
       "    </tr>\n",
       "    <tr>\n",
       "      <th>5</th>\n",
       "      <td>0.0</td>\n",
       "      <td>a</td>\n",
       "      <td>&gt;by</td>\n",
       "      <td>fourty-1103-2-1</td>\n",
       "      <td>أبي</td>\n",
       "    </tr>\n",
       "    <tr>\n",
       "      <th>10</th>\n",
       "      <td>NaN</td>\n",
       "      <td>aoaaa</td>\n",
       "      <td>vElbp</td>\n",
       "      <td>fourty-1103-3-1</td>\n",
       "      <td>ثعلبة</td>\n",
       "    </tr>\n",
       "    <tr>\n",
       "      <th>15</th>\n",
       "      <td>NaN</td>\n",
       "      <td>uai~i</td>\n",
       "      <td>Alx$ny</td>\n",
       "      <td>fourty-1103-4-1</td>\n",
       "      <td>الخشني</td>\n",
       "    </tr>\n",
       "    <tr>\n",
       "      <th>20</th>\n",
       "      <td>NaN</td>\n",
       "      <td>uoui</td>\n",
       "      <td>jrvwm</td>\n",
       "      <td>fourty-1103-5-1</td>\n",
       "      <td>جرثوم</td>\n",
       "    </tr>\n",
       "    <tr>\n",
       "      <th>25</th>\n",
       "      <td>0.0</td>\n",
       "      <td>i</td>\n",
       "      <td>bn</td>\n",
       "      <td>fourty-1103-6-1</td>\n",
       "      <td>بن</td>\n",
       "    </tr>\n",
       "    <tr>\n",
       "      <th>30</th>\n",
       "      <td>NaN</td>\n",
       "      <td>aoiK</td>\n",
       "      <td>nA$r</td>\n",
       "      <td>fourty-1103-7-1</td>\n",
       "      <td>ناشر</td>\n",
       "    </tr>\n",
       "    <tr>\n",
       "      <th>35</th>\n",
       "      <td>0.0</td>\n",
       "      <td>NaN</td>\n",
       "      <td>-</td>\n",
       "      <td>fourty-1103-8-1</td>\n",
       "      <td>۪</td>\n",
       "    </tr>\n",
       "    <tr>\n",
       "      <th>40</th>\n",
       "      <td>0.0</td>\n",
       "      <td>NaN</td>\n",
       "      <td>rDy</td>\n",
       "      <td>fourty-1103-9-1</td>\n",
       "      <td>رضي</td>\n",
       "    </tr>\n",
       "    <tr>\n",
       "      <th>45</th>\n",
       "      <td>0.0</td>\n",
       "      <td>~au</td>\n",
       "      <td>Allh</td>\n",
       "      <td>fourty-1103-10-1</td>\n",
       "      <td>الله</td>\n",
       "    </tr>\n",
       "    <tr>\n",
       "      <th>50</th>\n",
       "      <td>0.0</td>\n",
       "      <td>aou</td>\n",
       "      <td>Enh</td>\n",
       "      <td>fourty-1103-11-1</td>\n",
       "      <td>عنه</td>\n",
       "    </tr>\n",
       "    <tr>\n",
       "      <th>55</th>\n",
       "      <td>0.0</td>\n",
       "      <td>NaN</td>\n",
       "      <td>-</td>\n",
       "      <td>fourty-1103-12-1</td>\n",
       "      <td>۪</td>\n",
       "    </tr>\n",
       "    <tr>\n",
       "      <th>60</th>\n",
       "      <td>0.0</td>\n",
       "      <td>ao</td>\n",
       "      <td>En</td>\n",
       "      <td>fourty-1103-13-1</td>\n",
       "      <td>عن</td>\n",
       "    </tr>\n",
       "    <tr>\n",
       "      <th>65</th>\n",
       "      <td>0.0</td>\n",
       "      <td>aui</td>\n",
       "      <td>rswl</td>\n",
       "      <td>fourty-1103-14-1</td>\n",
       "      <td>رسول</td>\n",
       "    </tr>\n",
       "    <tr>\n",
       "      <th>70</th>\n",
       "      <td>0.0</td>\n",
       "      <td>~ai</td>\n",
       "      <td>Allh</td>\n",
       "      <td>fourty-1103-15-1</td>\n",
       "      <td>الله</td>\n",
       "    </tr>\n",
       "    <tr>\n",
       "      <th>75</th>\n",
       "      <td>0.0</td>\n",
       "      <td>NaN</td>\n",
       "      <td>-</td>\n",
       "      <td>fourty-1103-16-1</td>\n",
       "      <td>۪</td>\n",
       "    </tr>\n",
       "    <tr>\n",
       "      <th>80</th>\n",
       "      <td>0.0</td>\n",
       "      <td>a~a</td>\n",
       "      <td>SlY</td>\n",
       "      <td>fourty-1103-17-1</td>\n",
       "      <td>صلى</td>\n",
       "    </tr>\n",
       "    <tr>\n",
       "      <th>85</th>\n",
       "      <td>0.0</td>\n",
       "      <td>~au</td>\n",
       "      <td>Allh</td>\n",
       "      <td>fourty-1103-18-1</td>\n",
       "      <td>الله</td>\n",
       "    </tr>\n",
       "    <tr>\n",
       "      <th>90</th>\n",
       "      <td>0.0</td>\n",
       "      <td>aai</td>\n",
       "      <td>ElYh</td>\n",
       "      <td>fourty-1103-19-1</td>\n",
       "      <td>علىه</td>\n",
       "    </tr>\n",
       "    <tr>\n",
       "      <th>95</th>\n",
       "      <td>0.0</td>\n",
       "      <td>aa~aa</td>\n",
       "      <td>wslm</td>\n",
       "      <td>fourty-1103-20-1</td>\n",
       "      <td>وسلم</td>\n",
       "    </tr>\n",
       "    <tr>\n",
       "      <th>100</th>\n",
       "      <td>0.0</td>\n",
       "      <td>u~a</td>\n",
       "      <td>vm</td>\n",
       "      <td>fourty-1104-1-1</td>\n",
       "      <td>ثم</td>\n",
       "    </tr>\n",
       "    <tr>\n",
       "      <th>105</th>\n",
       "      <td>0.0</td>\n",
       "      <td>aoa</td>\n",
       "      <td>kAn</td>\n",
       "      <td>fourty-1104-2-1</td>\n",
       "      <td>كان</td>\n",
       "    </tr>\n",
       "    <tr>\n",
       "      <th>110</th>\n",
       "      <td>0.0</td>\n",
       "      <td>ia</td>\n",
       "      <td>mn</td>\n",
       "      <td>fourty-1104-3-1</td>\n",
       "      <td>من</td>\n",
       "    </tr>\n",
       "    <tr>\n",
       "      <th>115</th>\n",
       "      <td>0.0</td>\n",
       "      <td>~aia</td>\n",
       "      <td>Al*yn</td>\n",
       "      <td>fourty-1104-4-1</td>\n",
       "      <td>الذين</td>\n",
       "    </tr>\n",
       "    <tr>\n",
       "      <th>120</th>\n",
       "      <td>0.0</td>\n",
       "      <td>au</td>\n",
       "      <td>|mnwA</td>\n",
       "      <td>fourty-1104-5-1</td>\n",
       "      <td>آمنوا</td>\n",
       "    </tr>\n",
       "    <tr>\n",
       "      <th>125</th>\n",
       "      <td>NaN</td>\n",
       "      <td>aaaoao</td>\n",
       "      <td>wtwASwA</td>\n",
       "      <td>fourty-1104-6-1</td>\n",
       "      <td>وتواصوا</td>\n",
       "    </tr>\n",
       "    <tr>\n",
       "      <th>130</th>\n",
       "      <td>0.0</td>\n",
       "      <td>i~aoi</td>\n",
       "      <td>bAlSbr</td>\n",
       "      <td>fourty-1104-7-1</td>\n",
       "      <td>بالصبر</td>\n",
       "    </tr>\n",
       "    <tr>\n",
       "      <th>135</th>\n",
       "      <td>NaN</td>\n",
       "      <td>aaaoao</td>\n",
       "      <td>wtwASwA</td>\n",
       "      <td>fourty-1104-8-1</td>\n",
       "      <td>وتواصوا</td>\n",
       "    </tr>\n",
       "    <tr>\n",
       "      <th>140</th>\n",
       "      <td>NaN</td>\n",
       "      <td>ioaoaai</td>\n",
       "      <td>bAlmrHmp</td>\n",
       "      <td>fourty-1104-9-1</td>\n",
       "      <td>بالمرحمة</td>\n",
       "    </tr>\n",
       "    <tr>\n",
       "      <th>145</th>\n",
       "      <td>0.0</td>\n",
       "      <td>NaN</td>\n",
       "      <td>$</td>\n",
       "      <td>fourty-1104-10-1</td>\n",
       "      <td>ش</td>\n",
       "    </tr>\n",
       "    <tr>\n",
       "      <th>...</th>\n",
       "      <td>...</td>\n",
       "      <td>...</td>\n",
       "      <td>...</td>\n",
       "      <td>...</td>\n",
       "      <td>...</td>\n",
       "    </tr>\n",
       "    <tr>\n",
       "      <th>16615</th>\n",
       "      <td>0.0</td>\n",
       "      <td>io</td>\n",
       "      <td>mn</td>\n",
       "      <td>q75-1900-4-1</td>\n",
       "      <td>من</td>\n",
       "    </tr>\n",
       "    <tr>\n",
       "      <th>16620</th>\n",
       "      <td>0.0</td>\n",
       "      <td>iaoiuo</td>\n",
       "      <td>nsA}km</td>\n",
       "      <td>q75-1900-5-1</td>\n",
       "      <td>نسائكم</td>\n",
       "    </tr>\n",
       "    <tr>\n",
       "      <th>16625</th>\n",
       "      <td>NaN</td>\n",
       "      <td>aooaoiu</td>\n",
       "      <td>fAst$hdwA</td>\n",
       "      <td>q75-1900-6-1</td>\n",
       "      <td>فاستشهدوا</td>\n",
       "    </tr>\n",
       "    <tr>\n",
       "      <th>16630</th>\n",
       "      <td>0.0</td>\n",
       "      <td>aaoi~a</td>\n",
       "      <td>Elyhn</td>\n",
       "      <td>q75-1900-7-1</td>\n",
       "      <td>عليهن</td>\n",
       "    </tr>\n",
       "    <tr>\n",
       "      <th>16635</th>\n",
       "      <td>0.0</td>\n",
       "      <td>aoaaF</td>\n",
       "      <td>&gt;rbEp</td>\n",
       "      <td>q75-1900-8-1</td>\n",
       "      <td>أربعة</td>\n",
       "    </tr>\n",
       "    <tr>\n",
       "      <th>16640</th>\n",
       "      <td>0.0</td>\n",
       "      <td>iouo</td>\n",
       "      <td>mnkm</td>\n",
       "      <td>q75-1900-9-1</td>\n",
       "      <td>منكم</td>\n",
       "    </tr>\n",
       "    <tr>\n",
       "      <th>16645</th>\n",
       "      <td>0.0</td>\n",
       "      <td>aio</td>\n",
       "      <td>f&lt;n</td>\n",
       "      <td>q75-1900-10-1</td>\n",
       "      <td>فإن</td>\n",
       "    </tr>\n",
       "    <tr>\n",
       "      <th>16650</th>\n",
       "      <td>NaN</td>\n",
       "      <td>aiu</td>\n",
       "      <td>$hdwA</td>\n",
       "      <td>q75-1900-11-1</td>\n",
       "      <td>شهدوا</td>\n",
       "    </tr>\n",
       "    <tr>\n",
       "      <th>16655</th>\n",
       "      <td>0.0</td>\n",
       "      <td>aaoiuu~a</td>\n",
       "      <td>f&gt;mskwhn</td>\n",
       "      <td>q75-1900-12-1</td>\n",
       "      <td>فأمسكوهن</td>\n",
       "    </tr>\n",
       "    <tr>\n",
       "      <th>16660</th>\n",
       "      <td>0.0</td>\n",
       "      <td>i</td>\n",
       "      <td>fy</td>\n",
       "      <td>q75-1900-13-1</td>\n",
       "      <td>في</td>\n",
       "    </tr>\n",
       "    <tr>\n",
       "      <th>16665</th>\n",
       "      <td>0.0</td>\n",
       "      <td>ouui</td>\n",
       "      <td>Albywt</td>\n",
       "      <td>q75-1900-14-1</td>\n",
       "      <td>البيوت</td>\n",
       "    </tr>\n",
       "    <tr>\n",
       "      <th>16670</th>\n",
       "      <td>0.0</td>\n",
       "      <td>a~a</td>\n",
       "      <td>HtY</td>\n",
       "      <td>q75-1900-15-1</td>\n",
       "      <td>حتى</td>\n",
       "    </tr>\n",
       "    <tr>\n",
       "      <th>16675</th>\n",
       "      <td>NaN</td>\n",
       "      <td>aaa~aou~a</td>\n",
       "      <td>ytwfAhn</td>\n",
       "      <td>q75-1900-16-1</td>\n",
       "      <td>يتوفاهن</td>\n",
       "    </tr>\n",
       "    <tr>\n",
       "      <th>16680</th>\n",
       "      <td>0.0</td>\n",
       "      <td>oaou</td>\n",
       "      <td>Almwt</td>\n",
       "      <td>q75-1900-17-1</td>\n",
       "      <td>الموت</td>\n",
       "    </tr>\n",
       "    <tr>\n",
       "      <th>16685</th>\n",
       "      <td>0.0</td>\n",
       "      <td>ao</td>\n",
       "      <td>&gt;w</td>\n",
       "      <td>q75-1900-18-1</td>\n",
       "      <td>أو</td>\n",
       "    </tr>\n",
       "    <tr>\n",
       "      <th>16690</th>\n",
       "      <td>0.0</td>\n",
       "      <td>aoaa</td>\n",
       "      <td>yjEl</td>\n",
       "      <td>q75-1900-19-1</td>\n",
       "      <td>يجعل</td>\n",
       "    </tr>\n",
       "    <tr>\n",
       "      <th>16695</th>\n",
       "      <td>0.0</td>\n",
       "      <td>~au</td>\n",
       "      <td>Allh</td>\n",
       "      <td>q75-1900-20-1</td>\n",
       "      <td>الله</td>\n",
       "    </tr>\n",
       "    <tr>\n",
       "      <th>16700</th>\n",
       "      <td>0.0</td>\n",
       "      <td>aoaa</td>\n",
       "      <td>jA'k</td>\n",
       "      <td>q90-1700-1-1</td>\n",
       "      <td>جاءك</td>\n",
       "    </tr>\n",
       "    <tr>\n",
       "      <th>16705</th>\n",
       "      <td>0.0</td>\n",
       "      <td>ia</td>\n",
       "      <td>mn</td>\n",
       "      <td>q90-1700-2-1</td>\n",
       "      <td>من</td>\n",
       "    </tr>\n",
       "    <tr>\n",
       "      <th>16710</th>\n",
       "      <td>0.0</td>\n",
       "      <td>oioi</td>\n",
       "      <td>AlElm</td>\n",
       "      <td>q90-1700-3-1</td>\n",
       "      <td>العلم</td>\n",
       "    </tr>\n",
       "    <tr>\n",
       "      <th>16715</th>\n",
       "      <td>0.0</td>\n",
       "      <td>ao</td>\n",
       "      <td>mA</td>\n",
       "      <td>q90-1700-4-1</td>\n",
       "      <td>ما</td>\n",
       "    </tr>\n",
       "    <tr>\n",
       "      <th>16720</th>\n",
       "      <td>0.0</td>\n",
       "      <td>aa</td>\n",
       "      <td>lk</td>\n",
       "      <td>q90-1700-5-1</td>\n",
       "      <td>لك</td>\n",
       "    </tr>\n",
       "    <tr>\n",
       "      <th>16725</th>\n",
       "      <td>0.0</td>\n",
       "      <td>ia</td>\n",
       "      <td>mn</td>\n",
       "      <td>q90-1700-6-1</td>\n",
       "      <td>من</td>\n",
       "    </tr>\n",
       "    <tr>\n",
       "      <th>16730</th>\n",
       "      <td>0.0</td>\n",
       "      <td>~ai</td>\n",
       "      <td>Allh</td>\n",
       "      <td>q90-1700-7-1</td>\n",
       "      <td>الله</td>\n",
       "    </tr>\n",
       "    <tr>\n",
       "      <th>16735</th>\n",
       "      <td>0.0</td>\n",
       "      <td>io</td>\n",
       "      <td>mn</td>\n",
       "      <td>q90-1700-8-1</td>\n",
       "      <td>من</td>\n",
       "    </tr>\n",
       "    <tr>\n",
       "      <th>16740</th>\n",
       "      <td>0.0</td>\n",
       "      <td>ai~K</td>\n",
       "      <td>wly</td>\n",
       "      <td>q90-1700-9-1</td>\n",
       "      <td>ولي</td>\n",
       "    </tr>\n",
       "    <tr>\n",
       "      <th>16745</th>\n",
       "      <td>0.0</td>\n",
       "      <td>aao</td>\n",
       "      <td>wlA</td>\n",
       "      <td>q90-1700-10-1</td>\n",
       "      <td>ولا</td>\n",
       "    </tr>\n",
       "    <tr>\n",
       "      <th>16750</th>\n",
       "      <td>0.0</td>\n",
       "      <td>aiK</td>\n",
       "      <td>nSyr</td>\n",
       "      <td>q90-1700-11-1</td>\n",
       "      <td>نصير</td>\n",
       "    </tr>\n",
       "    <tr>\n",
       "      <th>16755</th>\n",
       "      <td>0.0</td>\n",
       "      <td>NaN</td>\n",
       "      <td>$</td>\n",
       "      <td>q90-1700-12-1</td>\n",
       "      <td>ش</td>\n",
       "    </tr>\n",
       "    <tr>\n",
       "      <th>16800</th>\n",
       "      <td>0.0</td>\n",
       "      <td>NaN</td>\n",
       "      <td>$</td>\n",
       "      <td>q90-1800-1-1</td>\n",
       "      <td>ش</td>\n",
       "    </tr>\n",
       "  </tbody>\n",
       "</table>\n",
       "<p>2488 rows × 5 columns</p>\n",
       "</div>"
      ],
      "text/plain": [
       "       OOV    in_diac  in_letter             index         ar\n",
       "0      0.0        aao        wEn   fourty-1103-1-1        وعن\n",
       "5      0.0          a        >by   fourty-1103-2-1        أبي\n",
       "10     NaN      aoaaa      vElbp   fourty-1103-3-1      ثعلبة\n",
       "15     NaN      uai~i     Alx$ny   fourty-1103-4-1     الخشني\n",
       "20     NaN       uoui      jrvwm   fourty-1103-5-1      جرثوم\n",
       "25     0.0          i         bn   fourty-1103-6-1         بن\n",
       "30     NaN       aoiK       nA$r   fourty-1103-7-1       ناشر\n",
       "35     0.0        NaN          -   fourty-1103-8-1          ۪\n",
       "40     0.0        NaN        rDy   fourty-1103-9-1        رضي\n",
       "45     0.0        ~au       Allh  fourty-1103-10-1       الله\n",
       "50     0.0        aou        Enh  fourty-1103-11-1        عنه\n",
       "55     0.0        NaN          -  fourty-1103-12-1          ۪\n",
       "60     0.0         ao         En  fourty-1103-13-1         عن\n",
       "65     0.0        aui       rswl  fourty-1103-14-1       رسول\n",
       "70     0.0        ~ai       Allh  fourty-1103-15-1       الله\n",
       "75     0.0        NaN          -  fourty-1103-16-1          ۪\n",
       "80     0.0        a~a        SlY  fourty-1103-17-1        صلى\n",
       "85     0.0        ~au       Allh  fourty-1103-18-1       الله\n",
       "90     0.0        aai       ElYh  fourty-1103-19-1       علىه\n",
       "95     0.0      aa~aa       wslm  fourty-1103-20-1       وسلم\n",
       "100    0.0        u~a         vm   fourty-1104-1-1         ثم\n",
       "105    0.0        aoa        kAn   fourty-1104-2-1        كان\n",
       "110    0.0         ia         mn   fourty-1104-3-1         من\n",
       "115    0.0       ~aia      Al*yn   fourty-1104-4-1      الذين\n",
       "120    0.0         au      |mnwA   fourty-1104-5-1      آمنوا\n",
       "125    NaN     aaaoao    wtwASwA   fourty-1104-6-1    وتواصوا\n",
       "130    0.0      i~aoi     bAlSbr   fourty-1104-7-1     بالصبر\n",
       "135    NaN     aaaoao    wtwASwA   fourty-1104-8-1    وتواصوا\n",
       "140    NaN    ioaoaai   bAlmrHmp   fourty-1104-9-1   بالمرحمة\n",
       "145    0.0        NaN          $  fourty-1104-10-1          ش\n",
       "...    ...        ...        ...               ...        ...\n",
       "16615  0.0         io         mn      q75-1900-4-1         من\n",
       "16620  0.0     iaoiuo     nsA}km      q75-1900-5-1     نسائكم\n",
       "16625  NaN    aooaoiu  fAst$hdwA      q75-1900-6-1  فاستشهدوا\n",
       "16630  0.0     aaoi~a      Elyhn      q75-1900-7-1      عليهن\n",
       "16635  0.0      aoaaF      >rbEp      q75-1900-8-1      أربعة\n",
       "16640  0.0       iouo       mnkm      q75-1900-9-1       منكم\n",
       "16645  0.0        aio        f<n     q75-1900-10-1        فإن\n",
       "16650  NaN        aiu      $hdwA     q75-1900-11-1      شهدوا\n",
       "16655  0.0   aaoiuu~a   f>mskwhn     q75-1900-12-1   فأمسكوهن\n",
       "16660  0.0          i         fy     q75-1900-13-1         في\n",
       "16665  0.0       ouui     Albywt     q75-1900-14-1     البيوت\n",
       "16670  0.0        a~a        HtY     q75-1900-15-1        حتى\n",
       "16675  NaN  aaa~aou~a    ytwfAhn     q75-1900-16-1    يتوفاهن\n",
       "16680  0.0       oaou      Almwt     q75-1900-17-1      الموت\n",
       "16685  0.0         ao         >w     q75-1900-18-1         أو\n",
       "16690  0.0       aoaa       yjEl     q75-1900-19-1       يجعل\n",
       "16695  0.0        ~au       Allh     q75-1900-20-1       الله\n",
       "16700  0.0       aoaa       jA'k      q90-1700-1-1       جاءك\n",
       "16705  0.0         ia         mn      q90-1700-2-1         من\n",
       "16710  0.0       oioi      AlElm      q90-1700-3-1      العلم\n",
       "16715  0.0         ao         mA      q90-1700-4-1         ما\n",
       "16720  0.0         aa         lk      q90-1700-5-1         لك\n",
       "16725  0.0         ia         mn      q90-1700-6-1         من\n",
       "16730  0.0        ~ai       Allh      q90-1700-7-1       الله\n",
       "16735  0.0         io         mn      q90-1700-8-1         من\n",
       "16740  0.0       ai~K        wly      q90-1700-9-1        ولي\n",
       "16745  0.0        aao        wlA     q90-1700-10-1        ولا\n",
       "16750  0.0        aiK       nSyr     q90-1700-11-1       نصير\n",
       "16755  0.0        NaN          $     q90-1700-12-1          ش\n",
       "16800  0.0        NaN          $      q90-1800-1-1          ش\n",
       "\n",
       "[2488 rows x 5 columns]"
      ]
     },
     "execution_count": 234,
     "metadata": {},
     "output_type": "execute_result"
    }
   ],
   "source": [
    "df.inputs"
   ]
  },
  {
   "cell_type": "code",
   "execution_count": 311,
   "metadata": {
    "ExecuteTime": {
     "end_time": "2018-10-01T20:09:14.849216Z",
     "start_time": "2018-10-01T20:09:14.829335Z"
    },
    "collapsed": false
   },
   "outputs": [
    {
     "name": "stdout",
     "output_type": "stream",
     "text": [
      "The autoreload extension is already loaded. To reload it, use:\n",
      "  %reload_ext autoreload\n"
     ]
    },
    {
     "data": {
      "text/plain": [
       "','"
      ]
     },
     "execution_count": 311,
     "metadata": {},
     "output_type": "execute_result"
    }
   ],
   "source": [
    "%load_ext autoreload\n",
    "%autoreload 2\n",
    "from buckwalter import bw2utf, utf2bw\n",
    "bw2utf(\",\")"
   ]
  },
  {
   "cell_type": "code",
   "execution_count": 312,
   "metadata": {
    "ExecuteTime": {
     "end_time": "2018-10-01T20:09:27.167856Z",
     "start_time": "2018-10-01T20:09:15.919764Z"
    },
    "collapsed": true
   },
   "outputs": [],
   "source": [
    "def getFeats(results, mid):\n",
    "    feats = [x.replace(\"QA\",\"\").capitalize()+\n",
    "             \"=\"+\n",
    "             results[x][mid].capitalize() \n",
    "             for x in results \n",
    "             if x != \"QApos\" and\n",
    "             mid < len(results[x]) and \n",
    "             x != \"QAupos\" and \n",
    "             results[x][mid]!='0']\n",
    "    return \"|\".join(feats) or \"_\"\n",
    "\n",
    "\n",
    "def getConllU(df):\n",
    "    lines = []\n",
    "    sentences = []\n",
    "    sentences_chars = []\n",
    "    words = []\n",
    "    id = 1\n",
    "    prev = [df.iloc[0].myindex.sid,df.iloc[0].myindex.aid]\n",
    "    lines.append(\"# \" +str(prev))\n",
    "    for x in range(df.shape[0]):\n",
    "        row = df.iloc[x]\n",
    "        if [row.myindex.sid,row.myindex.aid] != prev:\n",
    "            sentences.append(lines)\n",
    "            sentences_chars.append(words)\n",
    "            words = []\n",
    "            lines = []\n",
    "            id =1\n",
    "            prev = [row.myindex.sid,row.myindex.aid]\n",
    "            lines.append(\"# \" +str(prev))\n",
    "\n",
    "        ## segmentation\n",
    "        segs = row.seg.pred.split(\"+\")\n",
    "        diacs = row.out_diac.pred.split(\"+\")\n",
    "        letter = row.out_letter.pred.split(\"+\")\n",
    "        chars = [int(s) for s in segs if s != '']\n",
    "        maxseg = max(chars)\n",
    "        forms = [[] for _ in range(maxseg+1)]\n",
    "        for s,d,l in zip(chars,diacs,letter):\n",
    "            if not s and s !=0:\n",
    "                break\n",
    "            forms[s].append(l)\n",
    "            forms[s].append(d)\n",
    "        forms = [\"\".join(f) for f in forms]\n",
    "\n",
    "        results = {x: row.loc[(x,\"pred\")].split(\"/\") for x in df.columns.levels[0] if x.startswith(\"QA\") and type(row.loc[(x,\"pred\")]) == str}\n",
    "\n",
    "        if len(forms) > 1:\n",
    "            lines.append(\"\\t\".join([str(id)+\"-\"+str(id+len(forms)-1),bw2utf(row.inputs.in_letter), \"_\", \"_\", \"_\", \"_\", \"_\", \"_\", \"_\", \"_\"]))\n",
    "        for mid, form in enumerate(forms):\n",
    "            if form != \"$\":\n",
    "                words.append(form)\n",
    "                lines.append(\"\\t\".join([str(id+mid), \n",
    "                                        bw2utf(form) or \"±\", \n",
    "                                        \"_\",\n",
    "                                        row.QAupos.pred.split(\"/\")[mid] if mid < len(row.QAupos.pred.split(\"/\")) else \"_\", \n",
    "                                        row.QApos.pred.split(\"/\")[mid] if mid < len(row.QApos.pred.split(\"/\")) else \"_\", \n",
    "                                        getFeats(results,mid), \"_\", \"0\", \"_\", \"_\", \"_\"]))\n",
    "        id += len(forms)\n",
    "    sentences.append(lines)\n",
    "    sentences_chars.append(words)\n",
    "    return sentences, sentences_chars\n",
    "\n",
    "sentences_chars,chars = getConllU(df)"
   ]
  },
  {
   "cell_type": "code",
   "execution_count": 313,
   "metadata": {
    "ExecuteTime": {
     "end_time": "2018-10-01T20:09:27.252360Z",
     "start_time": "2018-10-01T20:09:27.170169Z"
    },
    "collapsed": false
   },
   "outputs": [],
   "source": [
    "from conll18_ud_eval import load_conllu\n",
    "gold = load_conllu(open(\"goldstandard.test.conllu\"))"
   ]
  },
  {
   "cell_type": "code",
   "execution_count": 314,
   "metadata": {
    "ExecuteTime": {
     "end_time": "2018-10-01T20:09:27.276385Z",
     "start_time": "2018-10-01T20:09:27.254892Z"
    },
    "collapsed": true
   },
   "outputs": [],
   "source": [
    "import edit_distance\n",
    "import re"
   ]
  },
  {
   "cell_type": "code",
   "execution_count": 315,
   "metadata": {
    "ExecuteTime": {
     "end_time": "2018-10-01T20:09:27.301274Z",
     "start_time": "2018-10-01T20:09:27.279843Z"
    },
    "collapsed": true
   },
   "outputs": [],
   "source": [
    "def removeDiac(x):\n",
    "    return re.sub(\"[ًٌٍَُِّْ]\",\"\",x)"
   ]
  },
  {
   "cell_type": "code",
   "execution_count": 316,
   "metadata": {
    "ExecuteTime": {
     "end_time": "2018-10-01T20:09:27.327911Z",
     "start_time": "2018-10-01T20:09:27.304732Z"
    },
    "collapsed": false
   },
   "outputs": [],
   "source": [
    "g = [removeDiac(\"\".join(gold.characters[x.start:x.end])) for x in gold.sentences]"
   ]
  },
  {
   "cell_type": "code",
   "execution_count": 317,
   "metadata": {
    "ExecuteTime": {
     "end_time": "2018-10-01T20:09:27.357510Z",
     "start_time": "2018-10-01T20:09:27.330375Z"
    },
    "collapsed": false
   },
   "outputs": [],
   "source": [
    "p = [removeDiac(bw2utf(\"\".join(x))) for x in chars]"
   ]
  },
  {
   "cell_type": "code",
   "execution_count": 318,
   "metadata": {
    "ExecuteTime": {
     "end_time": "2018-10-01T20:10:01.498451Z",
     "start_time": "2018-10-01T20:09:28.022419Z"
    },
    "collapsed": false
   },
   "outputs": [],
   "source": [
    "indexes = []\n",
    "for x in g:\n",
    "    mini = 10000\n",
    "    for j,y in enumerate(p):\n",
    "        dist = edit_distance.SequenceMatcher(x[:30],y[:30]).distance()\n",
    "        if dist < mini:\n",
    "            mini = dist\n",
    "            best = j\n",
    "            besty = y\n",
    "    indexes.append(best)\n",
    "\n",
    "        "
   ]
  },
  {
   "cell_type": "code",
   "execution_count": 319,
   "metadata": {
    "ExecuteTime": {
     "end_time": "2018-10-01T20:10:01.520031Z",
     "start_time": "2018-10-01T20:10:01.501311Z"
    },
    "collapsed": false
   },
   "outputs": [
    {
     "data": {
      "text/plain": [
       "(166, 168, 169)"
      ]
     },
     "execution_count": 319,
     "metadata": {},
     "output_type": "execute_result"
    }
   ],
   "source": [
    "len(set(indexes)), len(g), len(p)"
   ]
  },
  {
   "cell_type": "code",
   "execution_count": 320,
   "metadata": {
    "ExecuteTime": {
     "end_time": "2018-10-01T20:10:01.540475Z",
     "start_time": "2018-10-01T20:10:01.522033Z"
    },
    "collapsed": false
   },
   "outputs": [],
   "source": [
    "# [(p[x],g[i]) for i, x in enumerate(indexes)]"
   ]
  },
  {
   "cell_type": "code",
   "execution_count": 321,
   "metadata": {
    "ExecuteTime": {
     "end_time": "2018-10-01T20:10:01.560214Z",
     "start_time": "2018-10-01T20:10:01.542810Z"
    },
    "collapsed": false
   },
   "outputs": [],
   "source": [
    "# x = \"\\n\\n\".join([\"\\n\".join(x) for x in sentences_chars])\n",
    "# %store x > ensemble.test.conllu.original2"
   ]
  },
  {
   "cell_type": "code",
   "execution_count": 322,
   "metadata": {
    "ExecuteTime": {
     "end_time": "2018-10-01T20:10:01.585056Z",
     "start_time": "2018-10-01T20:10:01.562767Z"
    },
    "collapsed": true
   },
   "outputs": [],
   "source": [
    "x = removeDiac(\"\\n\\n\".join([\"\\n\".join(sentences_chars[x]) for i, x in enumerate(indexes)]))"
   ]
  },
  {
   "cell_type": "code",
   "execution_count": 323,
   "metadata": {
    "ExecuteTime": {
     "end_time": "2018-10-01T20:10:01.606179Z",
     "start_time": "2018-10-01T20:10:01.587057Z"
    },
    "collapsed": false
   },
   "outputs": [
    {
     "name": "stdout",
     "output_type": "stream",
     "text": [
      "Writing 'x' (str) to file 'ensemble.test.conllu'.\n"
     ]
    }
   ],
   "source": [
    "%store x > ensemble.test.conllu"
   ]
  },
  {
   "cell_type": "code",
   "execution_count": null,
   "metadata": {
    "collapsed": true
   },
   "outputs": [],
   "source": []
  }
 ],
 "metadata": {
  "kernelspec": {
   "display_name": "tf1.4py3.5",
   "language": "python",
   "name": "tf1.4py3.5"
  },
  "language_info": {
   "codemirror_mode": {
    "name": "ipython",
    "version": 3
   },
   "file_extension": ".py",
   "mimetype": "text/x-python",
   "name": "python",
   "nbconvert_exporter": "python",
   "pygments_lexer": "ipython3",
   "version": "3.5.1"
  },
  "toc": {
   "base_numbering": 1,
   "nav_menu": {},
   "number_sections": true,
   "sideBar": true,
   "skip_h1_title": false,
   "title_cell": "Table of Contents",
   "title_sidebar": "Contents",
   "toc_cell": true,
   "toc_position": {
    "height": "calc(100% - 180px)",
    "left": "10px",
    "top": "150px",
    "width": "306px"
   },
   "toc_section_display": true,
   "toc_window_display": true
  }
 },
 "nbformat": 4,
 "nbformat_minor": 2
}
