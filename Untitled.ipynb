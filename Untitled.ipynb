{
 "cells": [
  {
   "cell_type": "code",
   "execution_count": 5,
   "metadata": {
    "collapsed": true
   },
   "outputs": [],
   "source": [
    "import re\n"
   ]
  },
  {
   "cell_type": "code",
   "execution_count": 1,
   "metadata": {
    "collapsed": true
   },
   "outputs": [],
   "source": [
    "\n",
    "table = {\"'\": \"\\u0621\",  # hamza-on-the-line\n",
    "            \"|\": \"\\u0622\",  # madda\n",
    "            \">\": \"\\u0623\",  # hamza-on-'alif\n",
    "            \"&\": \"\\u0624\",  # hamza-on-waaw\n",
    "            \"<\": \"\\u0625\",  # hamza-under-'alif\n",
    "            \"}\": \"\\u0626\",  # hamza-on-yaa'\n",
    "            \"A\": \"\\u0627\",  # bare 'alif\n",
    "            \"b\": \"\\u0628\",  # baa'\n",
    "            \"p\": \"\\u0629\",  # taa' marbuuTa\n",
    "            \"t\": \"\\u062A\",  # taa'\n",
    "            \"v\": \"\\u062B\",  # thaa'\n",
    "            \"j\": \"\\u062C\",  # jiim\n",
    "            \"H\": \"\\u062D\",  # Haa'\n",
    "            \"x\": \"\\u062E\",  # khaa'\n",
    "            \"d\": \"\\u062F\",  # daal\n",
    "            \"*\": \"\\u0630\",  # dhaal\n",
    "            \"r\": \"\\u0631\",  # raa'\n",
    "            \"z\": \"\\u0632\",  # zaay\n",
    "            \"s\": \"\\u0633\",  # siin\n",
    "            \"$\": \"\\u0634\",  # shiin\n",
    "            \"S\": \"\\u0635\",  # Saad\n",
    "            \"D\": \"\\u0636\",  # Daad\n",
    "            \"T\": \"\\u0637\",  # Taa'\n",
    "            \"Z\": \"\\u0638\",  # Zaa' (DHaa')\n",
    "            \"E\": \"\\u0639\",  # cayn\n",
    "            \"g\": \"\\u063A\",  # ghayn\n",
    "            \"f\": \"\\u0641\",  # faa'\n",
    "            \"q\": \"\\u0642\",  # qaaf\n",
    "            \"k\": \"\\u0643\",  # kaaf\n",
    "            \"l\": \"\\u0644\",  # laam\n",
    "            \"m\": \"\\u0645\",  # miim\n",
    "            \"n\": \"\\u0646\",  # nuun\n",
    "            \"h\": \"\\u0647\",  # haa'\n",
    "            \"w\": \"\\u0648\",  # waaw\n",
    "            \"Y\": \"\\u0649\",  # 'alif maqSuura\n",
    "            \"y\": \"\\u064A\",  # yaa'\n",
    "            \"F\": \"\\u064B\",  # fatHatayn\n",
    "            \"N\": \"\\u064C\",  # Dammatayn\n",
    "            \"K\": \"\\u064D\",  # kasratayn\n",
    "            \"a\": \"\\u064E\",  # fatHa\n",
    "            \"u\": \"\\u064F\",  # Damma\n",
    "            \"i\": \"\\u0650\",  # kasra\n",
    "            \"~\": \"\\u0651\",  # shaddah\n",
    "            \"o\": \"\\u0652\",  # sukuun\n",
    "            \"`\": \"\\u0670\",  # dagger 'alif\n",
    "            \"{\": \"\\u0671\",  # waSla\n",
    "\n",
    "            \"^\": \"\\u0653\",  # Maddah\n",
    "            \"#\": \"\\u0654\",  # HamzaAbove\n",
    "            \":\": \"\\u06Dc\",  # smAllhighSeen\n",
    "            \"@\": \"\\u06Df\",  # smAllhighRoundedZero\n",
    "            \"\\\"\": \"\\u06E0\",  # smAllhighUprightrectAngularZero\n",
    "            \"[\": \"\\u06E2\",  # smAllhIghmeemiSolatedForm\n",
    "            \";\": \"\\u06E3\",  # sMallLowSeen\n",
    "            \",\": \"\\u06E5\",  # smallWaw\n",
    "            \".\": \"\\u06E6\",  # SmallYa\n",
    "            \"!\": \"\\u06E8\",  # smAllhighNoon\n",
    "            \"-\": \"\\u06Ea\",  # emptYceNtreLowStop\n",
    "            \"+\": \"\\u06Eb\",  # emptYcenTrehighStop\n",
    "            \"%\": \"\\u06Ec\",  # RounDedhIghsTopwitHfilledCentre\n",
    "            \"]\": \"\\u06Ed\",  # sMallLowMeem\n",
    "      }"
   ]
  },
  {
   "cell_type": "code",
   "execution_count": 8,
   "metadata": {
    "collapsed": true
   },
   "outputs": [],
   "source": [
    "t1 = { ord(table[k]):k for k in table }"
   ]
  },
  {
   "cell_type": "code",
   "execution_count": 3,
   "metadata": {
    "collapsed": true
   },
   "outputs": [],
   "source": [
    "\n",
    "def subst(word):\n",
    "    return word.translate(t1)\n",
    "\n",
    "\n",
    "def utf2bw(stri):\n",
    "    return re.sub('(\\\\S+)', lambda m: subst(m.group(1)), stri)\n",
    "\n"
   ]
  },
  {
   "cell_type": "code",
   "execution_count": 9,
   "metadata": {
    "collapsed": false
   },
   "outputs": [
    {
     "data": {
      "text/plain": [
       "{1569: \"'\",\n",
       " 1570: '|',\n",
       " 1571: '>',\n",
       " 1572: '&',\n",
       " 1573: '<',\n",
       " 1574: '}',\n",
       " 1575: 'A',\n",
       " 1576: 'b',\n",
       " 1577: 'p',\n",
       " 1578: 't',\n",
       " 1579: 'v',\n",
       " 1580: 'j',\n",
       " 1581: 'H',\n",
       " 1582: 'x',\n",
       " 1583: 'd',\n",
       " 1584: '*',\n",
       " 1585: 'r',\n",
       " 1586: 'z',\n",
       " 1587: 's',\n",
       " 1588: '$',\n",
       " 1589: 'S',\n",
       " 1590: 'D',\n",
       " 1591: 'T',\n",
       " 1592: 'Z',\n",
       " 1593: 'E',\n",
       " 1594: 'g',\n",
       " 1601: 'f',\n",
       " 1602: 'q',\n",
       " 1603: 'k',\n",
       " 1604: 'l',\n",
       " 1605: 'm',\n",
       " 1606: 'n',\n",
       " 1607: 'h',\n",
       " 1608: 'w',\n",
       " 1609: 'Y',\n",
       " 1610: 'y',\n",
       " 1611: 'F',\n",
       " 1612: 'N',\n",
       " 1613: 'K',\n",
       " 1614: 'a',\n",
       " 1615: 'u',\n",
       " 1616: 'i',\n",
       " 1617: '~',\n",
       " 1618: 'o',\n",
       " 1619: '^',\n",
       " 1620: '#',\n",
       " 1648: '`',\n",
       " 1649: '{',\n",
       " 1756: ':',\n",
       " 1759: '@',\n",
       " 1760: '\"',\n",
       " 1762: '[',\n",
       " 1763: ';',\n",
       " 1765: ',',\n",
       " 1766: '.',\n",
       " 1768: '!',\n",
       " 1770: '-',\n",
       " 1771: '+',\n",
       " 1772: '%',\n",
       " 1773: ']'}"
      ]
     },
     "execution_count": 9,
     "metadata": {},
     "output_type": "execute_result"
    }
   ],
   "source": [
    "t1"
   ]
  },
  {
   "cell_type": "code",
   "execution_count": 6,
   "metadata": {
    "collapsed": false
   },
   "outputs": [
    {
     "data": {
      "text/plain": [
       "'بسم'"
      ]
     },
     "execution_count": 6,
     "metadata": {},
     "output_type": "execute_result"
    }
   ],
   "source": [
    "utf2bw(\"بسم\")"
   ]
  }
 ],
 "metadata": {
  "kernelspec": {
   "display_name": "tf1.4py3.5",
   "language": "python",
   "name": "tf1.4py3.5"
  },
  "language_info": {
   "codemirror_mode": {
    "name": "ipython",
    "version": 3
   },
   "file_extension": ".py",
   "mimetype": "text/x-python",
   "name": "python",
   "nbconvert_exporter": "python",
   "pygments_lexer": "ipython3",
   "version": "3.5.1"
  }
 },
 "nbformat": 4,
 "nbformat_minor": 2
}
