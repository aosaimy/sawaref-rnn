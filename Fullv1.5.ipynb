{
 "cells": [
  {
   "cell_type": "markdown",
   "metadata": {},
   "source": [
    "# Change Log (v.1.5)\n",
    "- Embedding using FastText is now a parameterized variable\n",
    "- It supports now Sawaref files from e.g. `ru-ALIGNED.json`"
   ]
  },
  {
   "cell_type": "markdown",
   "metadata": {
    "deletable": false,
    "editable": false,
    "run_control": {
     "frozen": true
    },
    "slideshow": {
     "slide_type": "slide"
    }
   },
   "source": [
    "# 1. Import"
   ]
  },
  {
   "cell_type": "code",
   "execution_count": 1,
   "metadata": {
    "ExecuteTime": {
     "end_time": "2018-07-22T12:31:04.832051Z",
     "start_time": "2018-07-22T12:31:01.557385Z"
    },
    "cell_style": "center",
    "collapsed": false,
    "deletable": true,
    "editable": true,
    "format": "column",
    "scrolled": true,
    "slideshow": {
     "slide_type": "skip"
    }
   },
   "outputs": [
    {
     "name": "stderr",
     "output_type": "stream",
     "text": [
      "/Users/abbander/dev/py_env/tf1.4py3.5/lib/python3.5/site-packages/h5py/__init__.py:36: FutureWarning: Conversion of the second argument of issubdtype from `float` to `np.floating` is deprecated. In future, it will be treated as `np.float64 == np.dtype(float).type`.\n",
      "  from ._conv import register_converters as _register_converters\n",
      "Using TensorFlow backend.\n"
     ]
    }
   ],
   "source": [
    "# -*- coding: utf-8 -*-\n",
    "'''\n",
    "    An implementation of sequence to sequence learning\n",
    "    for performing ensemble morphosyntactic analyses\n",
    "'''\n",
    "from __future__ import print_function\n",
    "# from keras.preprocessing.sequence import pad_sequences\n",
    "import numpy as np\n",
    "from six.moves import range\n",
    "from prepare_data import SawarefData, padIndexes\n",
    "from character_table import colors, CharacterTable, eprint\n",
    "import pandas as pd\n",
    "import itertools\n",
    "import re\n",
    "import pickle\n",
    "import sys\n",
    "import datetime\n",
    "from keras.callbacks import TensorBoard\n",
    "from buckwalter import utf2bw, bw2utf\n",
    "from pprint import pprint\n",
    "\n",
    "# do not import in interactive mode\n",
    "# from vis import SawarefVis\n",
    "from keras.models import Sequential, Model, load_model\n",
    "from keras import layers\n",
    "from keras.callbacks import EarlyStopping, Callback\n",
    "from keras.utils import plot_model\n",
    "\n",
    "np.random.seed(0)\n",
    "\n",
    "%load_ext autoreload"
   ]
  },
  {
   "cell_type": "code",
   "execution_count": null,
   "metadata": {
    "collapsed": false,
    "deletable": false,
    "editable": false,
    "run_control": {
     "frozen": true
    }
   },
   "outputs": [],
   "source": [
    "# emb.wv.most_similar(\"النار\", topn=100)\n",
    "emb.vector_size\n",
    "print(\"asd\",flush=T)"
   ]
  },
  {
   "cell_type": "code",
   "execution_count": null,
   "metadata": {
    "cell_style": "center",
    "collapsed": false,
    "deletable": false,
    "editable": false,
    "format": "column",
    "run_control": {
     "frozen": true
    }
   },
   "outputs": [],
   "source": [
    "import sys\n",
    "sys.executable"
   ]
  },
  {
   "cell_type": "markdown",
   "metadata": {
    "deletable": true,
    "editable": true
   },
   "source": [
    "# 2. Constants"
   ]
  },
  {
   "cell_type": "code",
   "execution_count": 34,
   "metadata": {
    "ExecuteTime": {
     "end_time": "2018-07-22T12:36:53.417219Z",
     "start_time": "2018-07-22T12:36:53.409984Z"
    },
    "collapsed": false,
    "deletable": true,
    "editable": true
   },
   "outputs": [],
   "source": [
    "MYPATH = \"/morpho/output/\"\n",
    "# Parameters for the model and dataset.\n",
    "TRAINING_SIZE = 50000\n",
    "EPOCHS = 40\n",
    "EMBEDDINGS = 0\n",
    "# DIGITS = 3\n",
    "# REVERSE = True\n",
    "# Try replacing GRU, or SimpleRNN.\n",
    "HIDDEN_SIZE = 128\n",
    "BATCH_SIZE = 64\n",
    "LAYERS = 1\n",
    "ITERATIONS = 10\n",
    "REVERSE = False\n",
    "MODEL_NAME = \"main-seq-multiinput-multioutput-segmentation.keras\"\n",
    "DATA_PICKLE = \"main-seq-multiinput-multioutput-segmentation.pickle\"\n",
    "RNN = layers.LSTM\n",
    "CATS_EMBEDDING = 5\n",
    "TEST_SPLIT = 1  #  means 0.1 of data is for test\n",
    "VAL_SPLIT = 1  #  means 0.1 of data is for test\n",
    "LOAD_FASTTEXT = False"
   ]
  },
  {
   "cell_type": "code",
   "execution_count": 35,
   "metadata": {
    "ExecuteTime": {
     "end_time": "2018-07-22T12:36:54.144341Z",
     "start_time": "2018-07-22T12:36:54.140932Z"
    },
    "collapsed": false,
    "deletable": true,
    "editable": true
   },
   "outputs": [],
   "source": [
    "if LOAD_FASTTEXT:\n",
    "    from gensim.models import FastText\n",
    "    emb = FastText.load_fasttext_format(\"/Users/abbander/Leeds/OpenArabic/data/classical.bin\")"
   ]
  },
  {
   "cell_type": "markdown",
   "metadata": {
    "deletable": true,
    "editable": true
   },
   "source": [
    "# 3. Config"
   ]
  },
  {
   "cell_type": "markdown",
   "metadata": {
    "deletable": true,
    "editable": true
   },
   "source": [
    "`feat_x` is the input categorical features\n",
    "\n",
    "`feat_y` is the output categorical features\n",
    "\n",
    "`strings_x` is the input character-based strings features\n",
    "\n",
    "`strings_y` is the output character-based strings features"
   ]
  },
  {
   "cell_type": "code",
   "execution_count": 3,
   "metadata": {
    "ExecuteTime": {
     "end_time": "2018-07-22T12:31:22.059604Z",
     "start_time": "2018-07-22T12:31:22.053034Z"
    },
    "collapsed": false,
    "deletable": true,
    "editable": true
   },
   "outputs": [
    {
     "name": "stdout",
     "output_type": "stream",
     "text": [
      "('MX',)\n",
      "('FA',)\n",
      "('AM',)\n",
      "('ST',)\n",
      "('MX', 'FA')\n",
      "('MX', 'AM')\n",
      "('MX', 'ST')\n",
      "('FA', 'AM')\n",
      "('FA', 'ST')\n",
      "('AM', 'ST')\n",
      "('MX', 'FA', 'AM')\n",
      "('MX', 'FA', 'ST')\n",
      "('MX', 'AM', 'ST')\n",
      "('FA', 'AM', 'ST')\n"
     ]
    }
   ],
   "source": [
    "tools = [\"MX\", \"FA\", \"AM\", \"ST\"]\n",
    "import itertools\n",
    "\n",
    "for L in range(1, len(tools)):\n",
    "    for subset in itertools.combinations(tools, L):\n",
    "        print(subset)\n"
   ]
  },
  {
   "cell_type": "code",
   "execution_count": 4,
   "metadata": {
    "ExecuteTime": {
     "end_time": "2018-07-22T12:31:27.415830Z",
     "start_time": "2018-07-22T12:31:27.409672Z"
    },
    "collapsed": false,
    "deletable": true,
    "editable": true
   },
   "outputs": [],
   "source": [
    "feat_x = [\n",
    "    \"MXpos\", \"STpos\", \"AMpos\", \"FApos\", \"STaspect\", \"AMaspect\", \"MXaspect\",\n",
    "    \"FAaspect\", \"STperson\", \"AMperson\", \"MXperson\", \"FAperson\", \"STgender\",\n",
    "    \"AMgender\", \"MXgender\", \"FAgender\", \"STnumber\", \"AMnumber\", \"MXnumber\",\n",
    "    \"FAnumber\", \"STcase\", \"AMcase\", \"MXcase\", \"FAcase\", \"STvoice\", \"AMvoice\",\n",
    "    \"MXvoice\", \"FAvoice\", \"STmood\", \"AMmood\", \"MXmood\", \"FAmood\", \"STstate\",\n",
    "    \"AMstate\", \"MXstate\", \"FAstate\"\n",
    "]\n",
    "feat_y = [\n",
    "    \"QApos\", \"QAaspect\", \"QAperson\", \"QAgender\", \"QAnumber\", \"QAcase\",\n",
    "    \"QAvoice\", \"QAmood\", \"QAstate\"\n",
    "]\n",
    "strings_x = [\"QAwutf8\"]\n",
    "strings_y = [\"QAutf8\"]"
   ]
  },
  {
   "cell_type": "code",
   "execution_count": 5,
   "metadata": {
    "ExecuteTime": {
     "end_time": "2018-07-22T12:31:29.540997Z",
     "start_time": "2018-07-22T12:31:29.488933Z"
    },
    "collapsed": false,
    "deletable": true,
    "editable": true
   },
   "outputs": [],
   "source": [
    "def pretty_join(arr):\n",
    "    if isinstance(arr, pd.Series):\n",
    "        arr = arr.to_frame().T\n",
    "    if isinstance(arr.columns, pd.core.index.MultiIndex):\n",
    "        return \"/\".join([\n",
    "            '+'.join([\n",
    "                x[1] for x in arr.columns[row == 1]\n",
    "                if x[1][-2:] != \"na\" and x[1][-2:] != \"_0\"\n",
    "            ]) for index, row in arr.iterrows()\n",
    "        ])\n",
    "    else:\n",
    "        return \"/\".join([\n",
    "            '+'.join([\n",
    "                x for x in arr.columns[row == 1]\n",
    "                if x[-2:] != \"na\" and x[-2:] != \"_0\"\n",
    "            ]) for index, row in arr.iterrows()\n",
    "        ])\n",
    "\n",
    "\n",
    "def pretty_value(colum_value):\n",
    "    return re.sub(\".*_\", \"\", colum_value)\n",
    "\n",
    "\n",
    "def getValuesAndReshape(df, middle_dim):\n",
    "    return df.values.reshape((df.shape[0] // middle_dim, middle_dim, -1))\n",
    "\n",
    "\n",
    "#     return df.values.reshape((df.shape[0]//middle_dim, middle_dim, df.shape[1]))\n",
    "\n",
    "\n",
    "def flattencolumns(df1, cols):\n",
    "    df = pd.concat(\n",
    "        [pd.DataFrame(df1[x].values.tolist()).add_prefix(x) for x in cols],\n",
    "        axis=1)\n",
    "    return pd.concat([df, df1.drop(cols, axis=1)], axis=1)\n",
    "\n",
    "\n",
    "def truncate(x):\n",
    "    return x[:EMBEDDINGS]\n",
    "\n",
    "\n",
    "def removeDiac(x):\n",
    "    return re.sub('[ًٌٍَُِّْ]', '', x.replace(\"ٱ\",\"ا\"))\n",
    "\n",
    "\n",
    "def padStringWithSpaces(x):\n",
    "    return x + ' ' * (STRING_LENGTH - len(x))\n",
    "\n",
    "\n",
    "def joinMorphemesStrings(arr):\n",
    "    return \"+\".join([\n",
    "        x for x in arr if isinstance(x, float) == False and len(x) != 0\n",
    "        and x != \"-----\" and x != \"-\"\n",
    "    ])\n",
    "\n",
    "\n",
    "def fullprint(*args, **kwargs):\n",
    "    opt = np.get_printoptions()\n",
    "    np.set_printoptions(threshold='nan')\n",
    "    pprint(*args, **kwargs)\n",
    "    np.set_printoptions(**opt)"
   ]
  },
  {
   "cell_type": "markdown",
   "metadata": {
    "deletable": true,
    "editable": true
   },
   "source": [
    "# 4. Loading data from sawaref"
   ]
  },
  {
   "cell_type": "code",
   "execution_count": 7,
   "metadata": {
    "ExecuteTime": {
     "end_time": "2018-07-22T12:31:51.393159Z",
     "start_time": "2018-07-22T12:31:48.951982Z"
    },
    "collapsed": false,
    "deletable": true,
    "editable": true
   },
   "outputs": [
    {
     "name": "stdout",
     "output_type": "stream",
     "text": [
      "Reading from files\n",
      "845\n",
      "Vectorization...\n"
     ]
    }
   ],
   "source": [
    "sawarefData = SawarefData(\n",
    "    MYPATH,\n",
    "    EMBEDDINGS,\n",
    "    align_type=\"ru-\",\n",
    "    feat_x=feat_x,\n",
    "    strings_x=strings_x,\n",
    "    strings_y=strings_y,\n",
    "    feat_y=feat_y)"
   ]
  },
  {
   "cell_type": "code",
   "execution_count": 13,
   "metadata": {
    "ExecuteTime": {
     "end_time": "2018-07-22T12:34:09.104376Z",
     "start_time": "2018-07-22T12:34:08.756957Z"
    },
    "collapsed": false,
    "deletable": true,
    "editable": true
   },
   "outputs": [],
   "source": [
    "source = list(itertools.chain(*sawarefData.quran_sent))\n",
    "df = pd.DataFrame(\n",
    "    source,\n",
    "    columns=[\"sid\", \"aid\", \"wid\", \"mid\"] + feat_x + strings_x + strings_y +\n",
    "    [\"embeddings\"] + feat_y)\n",
    "if EMBEDDINGS > 0:\n",
    "    df[\"embeddings\"] = df[\"embeddings\"].apply(truncate)\n",
    "    df = flattencolumns(df, [\"embeddings\"])\n",
    "df.set_index([\"sid\", \"aid\", \"wid\", \"mid\"], inplace=True)\n",
    "df.sort_index(inplace=True)"
   ]
  },
  {
   "cell_type": "code",
   "execution_count": 14,
   "metadata": {
    "ExecuteTime": {
     "end_time": "2018-07-22T12:34:13.815635Z",
     "start_time": "2018-07-22T12:34:13.176921Z"
    },
    "collapsed": true,
    "deletable": true,
    "editable": true
   },
   "outputs": [],
   "source": [
    "## 2. Pad the rows according to the longest word (in # of morphemes)\n",
    "SENTLEN = max(df.index.get_level_values(\"mid\"))\n",
    "df = df.reindex(\n",
    "    padIndexes(df, max(df.index.get_level_values(\"mid\"))),\n",
    "    fill_value=0).sort_index()"
   ]
  },
  {
   "cell_type": "code",
   "execution_count": 15,
   "metadata": {
    "ExecuteTime": {
     "end_time": "2018-07-22T12:34:15.521743Z",
     "start_time": "2018-07-22T12:34:15.280214Z"
    },
    "collapsed": true,
    "deletable": true,
    "editable": true
   },
   "outputs": [],
   "source": [
    "## 3. Get the hot encoding of all caterogirical data (see columns attr)\n",
    "dumm = pd.get_dummies(df, columns=feat_x + feat_y)"
   ]
  },
  {
   "cell_type": "code",
   "execution_count": 17,
   "metadata": {
    "ExecuteTime": {
     "end_time": "2018-07-22T12:34:25.966381Z",
     "start_time": "2018-07-22T12:34:25.820249Z"
    },
    "collapsed": true,
    "deletable": true,
    "editable": true
   },
   "outputs": [],
   "source": [
    "## 4. Add two-level columns for easy indexing later (wid, mid)\n",
    "EXAMPLES_LEN = df.shape[0] // SENTLEN\n",
    "new_columns = []\n",
    "for x in dumm.columns:\n",
    "    new_columns.append(re.sub('(_.*|[0-9]*)', '', x))\n",
    "dumm.columns = [new_columns, dumm.columns]\n",
    "dumm.index = [[x for x in range(EXAMPLES_LEN) for _ in range(SENTLEN)],\n",
    "              [x for _ in range(EXAMPLES_LEN) for x in range(SENTLEN)]]\n",
    "dumm.sort_index(axis=1, inplace=True)"
   ]
  },
  {
   "cell_type": "code",
   "execution_count": 18,
   "metadata": {
    "ExecuteTime": {
     "end_time": "2018-07-22T12:34:28.128024Z",
     "start_time": "2018-07-22T12:34:27.791212Z"
    },
    "cell_style": "center",
    "collapsed": true,
    "deletable": true,
    "editable": true
   },
   "outputs": [],
   "source": [
    "## 5. Find possible values of each cat\n",
    "def getSet(df):\n",
    "    results = set()\n",
    "    df.apply(results.add)\n",
    "    return results\n",
    "\n",
    "\n",
    "embeddingInputSets = {i: getSet(df[i]) for i in feat_x}"
   ]
  },
  {
   "cell_type": "code",
   "execution_count": null,
   "metadata": {
    "cell_style": "center",
    "collapsed": false,
    "deletable": false,
    "editable": false,
    "run_control": {
     "frozen": true
    }
   },
   "outputs": [],
   "source": [
    "embeddingInputSets"
   ]
  },
  {
   "cell_type": "code",
   "execution_count": 19,
   "metadata": {
    "ExecuteTime": {
     "end_time": "2018-07-22T12:34:29.605669Z",
     "start_time": "2018-07-22T12:34:29.602070Z"
    },
    "collapsed": false,
    "deletable": true,
    "editable": true
   },
   "outputs": [],
   "source": [
    "feat_x = list(set(feat_x) - set([x for x in feat_x if len( embeddingInputSets[x])<=1]))"
   ]
  },
  {
   "cell_type": "code",
   "execution_count": 21,
   "metadata": {
    "ExecuteTime": {
     "end_time": "2018-07-22T12:34:48.643643Z",
     "start_time": "2018-07-22T12:34:48.222713Z"
    },
    "collapsed": false,
    "deletable": true,
    "editable": true
   },
   "outputs": [],
   "source": [
    "df2 = pd.concat([df.reset_index(), dumm.reset_index()], axis=1)\n",
    "# df2.set_index([\"sid\", \"aid\", \"wid\", \"mid\"], inplace=True)\n",
    "df2.index = [[x for x in range(EXAMPLES_LEN) for _ in range(SENTLEN)],\n",
    "             [x for _ in range(EXAMPLES_LEN) for x in range(SENTLEN)]]\n",
    "\n",
    "df2.drop(['embeddings' + str(x) for x in range(EMBEDDINGS)], inplace=True, axis=1)\n",
    "# df2.columns = [(x,\"val\") if isinstance(x,str) else x  for x in df2.columns]"
   ]
  },
  {
   "cell_type": "code",
   "execution_count": 22,
   "metadata": {
    "ExecuteTime": {
     "end_time": "2018-07-22T12:34:53.667163Z",
     "start_time": "2018-07-22T12:34:53.585825Z"
    },
    "collapsed": true,
    "deletable": true,
    "editable": true
   },
   "outputs": [],
   "source": [
    "df2.index = [[x for x in range(EXAMPLES_LEN) for _ in range(SENTLEN)],\n",
    "             [x for _ in range(EXAMPLES_LEN) for x in range(SENTLEN)]]"
   ]
  },
  {
   "cell_type": "code",
   "execution_count": 23,
   "metadata": {
    "ExecuteTime": {
     "end_time": "2018-07-22T12:34:55.392986Z",
     "start_time": "2018-07-22T12:34:55.330022Z"
    },
    "collapsed": false,
    "deletable": true,
    "editable": true
   },
   "outputs": [],
   "source": [
    "df2.columns = [[\"vals\" if isinstance(x, str) else x[0] for x in df2.columns],\n",
    "               [x if isinstance(x, str) else x[1] for x in df2.columns]]\n",
    "\n",
    "df2.sort_index(axis=1, inplace=True)"
   ]
  },
  {
   "cell_type": "code",
   "execution_count": 24,
   "metadata": {
    "ExecuteTime": {
     "end_time": "2018-07-22T12:34:57.473790Z",
     "start_time": "2018-07-22T12:34:57.457585Z"
    },
    "cell_style": "center",
    "collapsed": false,
    "deletable": true,
    "editable": true
   },
   "outputs": [],
   "source": [
    "del df\n",
    "del dumm"
   ]
  },
  {
   "cell_type": "code",
   "execution_count": 25,
   "metadata": {
    "ExecuteTime": {
     "end_time": "2018-07-22T12:34:59.134062Z",
     "start_time": "2018-07-22T12:34:58.817522Z"
    },
    "collapsed": false,
    "deletable": true,
    "editable": true
   },
   "outputs": [],
   "source": [
    "## 5. Prepare string columns:\n",
    "# a. clean all padded rows\n",
    "strings = strings_x + strings_y\n",
    "for s in strings:\n",
    "    #         print(df2[s])\n",
    "    df2.loc[df2[(\"vals\", s)] == 0, (\"vals\", s)] = \"\"\n",
    "    df2.loc[pd.isna(df2[(\"vals\", s)]), (\"vals\", s)] = \"\"\n",
    "for x in strings:\n",
    "    df2[(x, \"undiac\")] = df2[(\"vals\", x)].apply(removeDiac)"
   ]
  },
  {
   "cell_type": "code",
   "execution_count": null,
   "metadata": {
    "collapsed": true,
    "deletable": false,
    "editable": false,
    "run_control": {
     "frozen": true
    }
   },
   "outputs": [],
   "source": [
    "df2[\"vals\", \"QAutf8\"].groupby(level=[0]).apply(joinMorphemesStrings).head()"
   ]
  },
  {
   "cell_type": "code",
   "execution_count": 26,
   "metadata": {
    "ExecuteTime": {
     "end_time": "2018-07-22T12:35:06.019856Z",
     "start_time": "2018-07-22T12:35:02.316598Z"
    },
    "collapsed": false,
    "deletable": true,
    "editable": true
   },
   "outputs": [],
   "source": [
    "# b. group them by morpheme and join with \"+\"\"\n",
    "df_strings = pd.DataFrame({\n",
    "    x: df2[\"vals\", x].groupby(level=[0]).apply(joinMorphemesStrings)\n",
    "    for x in strings\n",
    "})"
   ]
  },
  {
   "cell_type": "code",
   "execution_count": null,
   "metadata": {
    "collapsed": false,
    "deletable": false,
    "editable": false,
    "run_control": {
     "frozen": true
    }
   },
   "outputs": [],
   "source": [
    "df_strings"
   ]
  },
  {
   "cell_type": "code",
   "execution_count": 27,
   "metadata": {
    "ExecuteTime": {
     "end_time": "2018-07-22T12:35:06.051918Z",
     "start_time": "2018-07-22T12:35:06.022630Z"
    },
    "collapsed": false,
    "deletable": true,
    "editable": true
   },
   "outputs": [],
   "source": [
    "# c. pad joined morphemes\n",
    "STRING_LENGTH = max([len(x) for k in strings for x in df_strings[k]])\n",
    "for s in strings:\n",
    "    df_strings[s] = df_strings[s].apply(padStringWithSpaces)"
   ]
  },
  {
   "cell_type": "code",
   "execution_count": 28,
   "metadata": {
    "ExecuteTime": {
     "end_time": "2018-07-22T12:35:07.389234Z",
     "start_time": "2018-07-22T12:35:06.929889Z"
    },
    "collapsed": false,
    "deletable": true,
    "editable": true
   },
   "outputs": [],
   "source": [
    "# d. encode them in one hot encoding\n",
    "charset = set(\"+\").union(\n",
    "    *[list(set(\"\".join(df_strings[x] + \"-\"))) for x in strings])\n",
    "ctable = CharacterTable(charset, STRING_LENGTH)\n",
    "### Now we have one shape for all strings: (STRING_LENGTH, len(charset))\n",
    "for x in strings:\n",
    "    df_strings[x + \"_onehot\"] = df_strings[x].apply(ctable.encode)\n",
    "df_strings['num'] = [x for x in range(len(df_strings))]\n",
    "df_strings.set_index('num', append=True, inplace=True)"
   ]
  },
  {
   "cell_type": "code",
   "execution_count": 29,
   "metadata": {
    "ExecuteTime": {
     "end_time": "2018-07-22T12:35:07.997131Z",
     "start_time": "2018-07-22T12:35:07.907757Z"
    },
    "collapsed": true,
    "deletable": true,
    "editable": true
   },
   "outputs": [],
   "source": [
    "# e. remove diac\n",
    "for x in strings:\n",
    "    df_strings[x+ \"_undiac\"] = df_strings[x].apply(removeDiac)"
   ]
  },
  {
   "cell_type": "code",
   "execution_count": 36,
   "metadata": {
    "ExecuteTime": {
     "end_time": "2018-07-22T12:37:09.615850Z",
     "start_time": "2018-07-22T12:37:09.611189Z"
    },
    "collapsed": false,
    "deletable": true,
    "editable": true
   },
   "outputs": [],
   "source": [
    "# f. encode them as dense vector using fastText\n",
    "def emb_encode(x):\n",
    "    return np.zeros(emb.vector_size) if x.strip()==\"\" else emb[x]\n",
    "for x in strings:\n",
    "    if LOAD_FASTTEXT:\n",
    "        df_strings[x + \"_emb\"] = df_strings[x+\"_undiac\"].apply(emb_encode)"
   ]
  },
  {
   "cell_type": "code",
   "execution_count": 39,
   "metadata": {
    "ExecuteTime": {
     "end_time": "2018-07-22T12:37:30.257796Z",
     "start_time": "2018-07-22T12:37:30.254634Z"
    },
    "collapsed": false,
    "deletable": true,
    "editable": true
   },
   "outputs": [],
   "source": [
    "if LOAD_FASTTEXT:\n",
    "    df_strings[\"QAutf8_emb\"][1]\n",
    "    df_strings[1:5]"
   ]
  },
  {
   "cell_type": "markdown",
   "metadata": {
    "deletable": true,
    "editable": true
   },
   "source": [
    "# 5. Save (or load) the data"
   ]
  },
  {
   "cell_type": "code",
   "execution_count": null,
   "metadata": {
    "collapsed": false,
    "deletable": false,
    "editable": false,
    "run_control": {
     "frozen": true
    }
   },
   "outputs": [],
   "source": [
    "pickle.dump([df2, df_strings], open(DATA_PICKLE, mode=\"wb\"))"
   ]
  },
  {
   "cell_type": "code",
   "execution_count": null,
   "metadata": {
    "collapsed": true,
    "deletable": false,
    "editable": false,
    "run_control": {
     "frozen": true
    }
   },
   "outputs": [],
   "source": [
    "arr = pickle.load(open(DATA_PICKLE, mode=\"rb\"), encoding=\"UTF8\")\n",
    "(dumm, df_strings) = arr[0], arr[1]\n",
    "SENTLEN = max(dumm.index.get_level_values(1)) + 1\n",
    "EXAMPLES_LEN = dumm.shape[0] // SENTLEN"
   ]
  },
  {
   "cell_type": "markdown",
   "metadata": {
    "deletable": true,
    "editable": true
   },
   "source": [
    "# 6. Prepare splits"
   ]
  },
  {
   "cell_type": "code",
   "execution_count": 42,
   "metadata": {
    "ExecuteTime": {
     "end_time": "2018-07-22T12:39:00.575213Z",
     "start_time": "2018-07-22T12:39:00.569605Z"
    },
    "collapsed": true,
    "deletable": true,
    "editable": true
   },
   "outputs": [],
   "source": [
    "# 6. Shuffle (x, y) in unison\n",
    "indices = list(range(EXAMPLES_LEN))\n",
    "np.random.shuffle(indices)"
   ]
  },
  {
   "cell_type": "code",
   "execution_count": null,
   "metadata": {
    "collapsed": false,
    "deletable": false,
    "editable": false,
    "run_control": {
     "frozen": true
    }
   },
   "outputs": [],
   "source": [
    "indices"
   ]
  },
  {
   "cell_type": "code",
   "execution_count": 43,
   "metadata": {
    "ExecuteTime": {
     "end_time": "2018-07-22T12:39:01.393768Z",
     "start_time": "2018-07-22T12:39:01.390190Z"
    },
    "cell_style": "center",
    "collapsed": false,
    "deletable": true,
    "editable": true
   },
   "outputs": [],
   "source": [
    "# 7. Explicitly set apart 10% for validation data that we never train over.\n",
    "test_split_at = int(EXAMPLES_LEN * TEST_SPLIT / 10)\n",
    "val_split_at = int(EXAMPLES_LEN * TEST_SPLIT / 10 +\n",
    "                   EXAMPLES_LEN * VAL_SPLIT / 10)\n"
   ]
  },
  {
   "cell_type": "code",
   "execution_count": null,
   "metadata": {
    "collapsed": false,
    "deletable": false,
    "editable": false,
    "run_control": {
     "frozen": true
    }
   },
   "outputs": [],
   "source": [
    "print(EXAMPLES_LEN, val_split_at, test_split_at)"
   ]
  },
  {
   "cell_type": "code",
   "execution_count": 44,
   "metadata": {
    "ExecuteTime": {
     "end_time": "2018-07-22T12:39:01.870034Z",
     "start_time": "2018-07-22T12:39:01.866619Z"
    },
    "collapsed": false,
    "deletable": true,
    "editable": true
   },
   "outputs": [],
   "source": [
    "def getMorphemeBasedIndeicies(arr):\n",
    "    return np.array([list(range(x*5,x*5+5)) for x in arr]).flatten()"
   ]
  },
  {
   "cell_type": "code",
   "execution_count": null,
   "metadata": {
    "collapsed": false,
    "deletable": false,
    "editable": false,
    "run_control": {
     "frozen": true
    }
   },
   "outputs": [],
   "source": [
    "getMorphemeBasedIndeicies(indices[:test_split_at])"
   ]
  },
  {
   "cell_type": "code",
   "execution_count": 45,
   "metadata": {
    "ExecuteTime": {
     "end_time": "2018-07-22T12:39:03.349636Z",
     "start_time": "2018-07-22T12:39:03.122944Z"
    },
    "collapsed": false,
    "deletable": true,
    "editable": true
   },
   "outputs": [],
   "source": [
    "values_test = df_strings.iloc[indices[:test_split_at]]\n",
    "values_val = df_strings.iloc[indices[test_split_at:val_split_at]]\n",
    "values_train = df_strings.iloc[indices[val_split_at:]]\n",
    "\n",
    "test = df2.iloc[getMorphemeBasedIndeicies(indices[:test_split_at])]\n",
    "val = df2.iloc[getMorphemeBasedIndeicies(indices[test_split_at:val_split_at])]\n",
    "train = df2.iloc[getMorphemeBasedIndeicies(indices[val_split_at:])]"
   ]
  },
  {
   "cell_type": "code",
   "execution_count": null,
   "metadata": {
    "collapsed": true,
    "deletable": false,
    "editable": false,
    "run_control": {
     "frozen": true
    }
   },
   "outputs": [],
   "source": [
    "train[\"embeddings\"]"
   ]
  },
  {
   "cell_type": "code",
   "execution_count": null,
   "metadata": {
    "collapsed": false,
    "deletable": false,
    "editable": false,
    "run_control": {
     "frozen": true
    }
   },
   "outputs": [],
   "source": [
    "rand=np.random.randint(0,len(values_val))\n",
    "print(rand, values_test.iloc[rand])\n",
    "test[\"QApos\"].iloc[rand*5:rand*5+5].idxmax(axis=1)\n"
   ]
  },
  {
   "cell_type": "code",
   "execution_count": null,
   "metadata": {
    "collapsed": false,
    "deletable": false,
    "editable": false,
    "run_control": {
     "frozen": true
    }
   },
   "outputs": [],
   "source": [
    "print(values_test.shape, values_val.shape, values_train.shape)\n",
    "print(test.shape, val.shape, train.shape)\n",
    "print(test.shape[0]//5)"
   ]
  },
  {
   "cell_type": "code",
   "execution_count": null,
   "metadata": {
    "collapsed": false,
    "deletable": false,
    "editable": false,
    "run_control": {
     "frozen": true
    }
   },
   "outputs": [],
   "source": [
    "TEST = np.random.randint(0, len(values_train.index))\n",
    "print(TEST)\n",
    "print(values_train.loc[values_train.index[TEST], [\"QAutf8\"]])\n",
    "print(train.loc[train.index[TEST], \"QAutf8\"])\n",
    "\n",
    "# TEST = np.random.randint(0, len(train.index))\n",
    "# TEST = train.index[TEST]\n",
    "# print(values_train.loc[TEST,[\"QAutf8\"]])\n",
    "\n",
    "# train.loc[TEST,:]\n",
    "\n",
    "# arr = train.loc[TEST,:]\n",
    "# arr.to_frame().T\n",
    "# arr.index[arr == 1]\n",
    "pretty_join(train.loc[train.index[TEST], :])"
   ]
  },
  {
   "cell_type": "code",
   "execution_count": null,
   "metadata": {
    "collapsed": false,
    "deletable": false,
    "editable": false,
    "run_control": {
     "frozen": true
    }
   },
   "outputs": [],
   "source": [
    "len(values_train) * 5, len(train)"
   ]
  },
  {
   "cell_type": "code",
   "execution_count": 46,
   "metadata": {
    "ExecuteTime": {
     "end_time": "2018-07-22T12:39:06.141030Z",
     "start_time": "2018-07-22T12:39:06.137716Z"
    },
    "collapsed": false,
    "deletable": true,
    "editable": true
   },
   "outputs": [],
   "source": [
    "embeddingInputLists = {\n",
    "    i: [i + \"_\" + str(x) for x in embeddingInputSets[i]]\n",
    "    for i in feat_x\n",
    "}"
   ]
  },
  {
   "cell_type": "code",
   "execution_count": 49,
   "metadata": {
    "ExecuteTime": {
     "end_time": "2018-07-22T12:39:52.185498Z",
     "start_time": "2018-07-22T12:39:51.297193Z"
    },
    "collapsed": false,
    "deletable": true,
    "editable": true
   },
   "outputs": [],
   "source": [
    "def getData(cat_source, str_source, cats_feats=[], strs_feats=[], embeddings=False):\n",
    "    data = {\n",
    "        **{i:\n",
    "           getValuesAndReshape(cat_source[i].idxmax(axis=1).apply(lambda x: embeddingInputLists[i].index(x)),SENTLEN)\n",
    "#            getValuesAndReshape(cat_source.loc[:, (\"vals\", i)], SENTLEN)\n",
    "               if i in embeddingInputSets and len(embeddingInputSets[i]) > CATS_EMBEDDING \n",
    "               else getValuesAndReshape(cat_source[i], SENTLEN) \n",
    "           for i in cats_feats},\n",
    "        **{i:np.stack(str_source[i+\"_onehot\"].values) for i in strs_feats},\n",
    "    }\n",
    "    if embeddings:\n",
    "        for i in strs_feats:\n",
    "            data[i+\"_emb\"] = np.stack(str_source[i+\"_emb\"].values)\n",
    "    return data\n",
    "\n",
    "data = {\n",
    "    'input': getData(train, values_train, cats_feats=feat_x, strs_feats=strings_x, embeddings=LOAD_FASTTEXT),\n",
    "    'output': getData(train, values_train, cats_feats=feat_y, strs_feats=strings_y),\n",
    "    'val': (\n",
    "        getData(val, values_val, cats_feats=feat_x, strs_feats=strings_x, embeddings=LOAD_FASTTEXT),\n",
    "        getData(val, values_val, cats_feats=feat_y, strs_feats=strings_y)\n",
    "    ),\n",
    "    'test': (\n",
    "        getData(test, values_test, cats_feats=feat_x, strs_feats=strings_x, embeddings=LOAD_FASTTEXT),\n",
    "        getData(test, values_test, cats_feats=feat_y, strs_feats=strings_y)\n",
    "    )\n",
    "\n",
    "}"
   ]
  },
  {
   "cell_type": "code",
   "execution_count": null,
   "metadata": {
    "collapsed": false,
    "deletable": false,
    "editable": false,
    "run_control": {
     "frozen": true
    }
   },
   "outputs": [],
   "source": [
    "data[\"input\"][\"QAwutf8_emb\"].shape"
   ]
  },
  {
   "cell_type": "code",
   "execution_count": null,
   "metadata": {
    "collapsed": true,
    "deletable": false,
    "editable": false,
    "run_control": {
     "frozen": true
    }
   },
   "outputs": [],
   "source": [
    "# 8. Some info about shapes\n",
    "print('\\nTraining Data:')\n",
    "print(\"\\n\".join([\"X: \"+i+str(data[\"input\"][i].shape) for i in feat_x]))\n",
    "print(\"\\n\".join([\"Y: \"+i+str(data[\"output\"][i].shape) for i in feat_y]))\n",
    "print('\\nValidation Data:')\n",
    "print(\"\\n\".join([\"X: \"+i+str(data[\"val\"][0][i].shape) for i in feat_x]))\n",
    "print(\"\\n\".join([\"Y: \"+i+str(data[\"val\"][1][i].shape) for i in feat_y]))\n",
    "print('\\nTest Data:')\n",
    "print(\"\\n\".join([\"X: \"+i+str(data[\"test\"][0][i].shape) for i in feat_x]))\n",
    "print(\"\\n\".join([\"Y: \"+i+str(data[\"test\"][1][i].shape) for i in feat_y]))\n",
    "\n",
    "\n"
   ]
  },
  {
   "cell_type": "markdown",
   "metadata": {
    "deletable": true,
    "editable": true
   },
   "source": [
    "# 7. Load Previous model"
   ]
  },
  {
   "cell_type": "code",
   "execution_count": null,
   "metadata": {
    "collapsed": true,
    "deletable": false,
    "editable": false,
    "run_control": {
     "frozen": true
    }
   },
   "outputs": [],
   "source": [
    "model = load_model(MODEL_NAME)\n"
   ]
  },
  {
   "cell_type": "markdown",
   "metadata": {
    "deletable": true,
    "editable": true
   },
   "source": [
    "# 8. Build Model"
   ]
  },
  {
   "cell_type": "code",
   "execution_count": 52,
   "metadata": {
    "ExecuteTime": {
     "end_time": "2018-07-22T12:42:01.745090Z",
     "start_time": "2018-07-22T12:41:59.713182Z"
    },
    "collapsed": false,
    "deletable": true,
    "editable": true
   },
   "outputs": [],
   "source": [
    "# print('Build model...')\n",
    "outputs = []\n",
    "inputs = []\n",
    "# For strings\n",
    "# strings_input = layers.Input(shape=(STRING_LENGTH, len(charset)), name=strings_x[0])\n",
    "# lstm_strings_encoder = layers.Bidirectional(RNN(HIDDEN_SIZE,name=\"lstm_strings_encoder\"))(strings_input)\n",
    "\n",
    "# For categoricals\n",
    "for i in feat_x:\n",
    "    inputs.append(layers.Input(shape=(SENTLEN, data[\"input\"][i].shape[2]), name=i))\n",
    "\n",
    "def getEmbedding(input):\n",
    "    name = input.name.split(\"_\")[0]\n",
    "    if name in feat_x and len(embeddingInputSets[name]) > CATS_EMBEDDING:\n",
    "        return layers.Reshape((SENTLEN, -1))(layers.Embedding(len(embeddingInputSets[name]),2, input_length=SENTLEN)(input))\n",
    "#         return layers.Dropout(0.1)(layers.Embedding(len(embeddingInputSets[name]),2)(input))\n",
    "    else:\n",
    "        return layers.Dropout(0.1)(input)\n",
    "    \n",
    "# main_input = layers.Concatenate()([layers.Dropout(0.1)(input) for input in inputs])\n",
    "main_input = layers.Concatenate()([getEmbedding(input) for input in inputs])\n",
    "# inputs.append(strings_input)\n",
    "\n",
    "lstm_out = layers.Bidirectional(RNN(HIDDEN_SIZE))(main_input)\n",
    "# input_shape=(None, len(ctable_x.chars) + EMBEDDINGS)))\n",
    "# As the decoder RNN's input, repeatedly provide with the last hidden state of\n",
    "# RNN for each time step. Repeat 'DIGITS + 1' times as that's the maximum\n",
    "# length of output, e.g., when DIGITS=3, max output is 999+999=1998.\n",
    "if LOAD_FASTTEXT:\n",
    "    emb_input = layers.Input(shape=(emb.vector_size,), name=strings_x[0]+\"_emb\")\n",
    "    inputs.append(emb_input)\n",
    "    concatenated = layers.Concatenate()([lstm_out,emb_input])\n",
    "else:\n",
    "    concatenated = lstm_out\n",
    "# concatenated = layers.Concatenate()([lstm_strings_encoder,lstm_out,emb_input])\n",
    "\n",
    "# For strings again\n",
    "repeat_strings_out = layers.RepeatVector(STRING_LENGTH)(concatenated)\n",
    "rnn_out = RNN(HIDDEN_SIZE, return_sequences=True)(repeat_strings_out)\n",
    "strings_output = layers.TimeDistributed(\n",
    "      layers.Dense(\n",
    "        len(charset), \n",
    "        activation=\"softmax\"), name=strings_y[0])(rnn_out)\n",
    "outputs.append(strings_output)\n",
    "\n",
    "dropout_out = layers.Dropout(0.5)(concatenated)\n",
    "repeat_out = layers.RepeatVector(SENTLEN)(dropout_out)\n",
    "# The decoder RNN could be multiple layers stacked or a single layer.\n",
    "rnn_out = RNN(HIDDEN_SIZE, return_sequences=True)(repeat_out)\n",
    "for _ in range(LAYERS-1):\n",
    "    # By setting return_sequences to True, return not only the last output but\n",
    "    # all the outputs so far in the form of (num_samples, timesteps,\n",
    "    # output_dim). This is necessary as TimeDistributed in the below expects\n",
    "    # the first dimension to be the timesteps.\n",
    "    rnn_out = RNN(HIDDEN_SIZE, return_sequences=True)(rnn_out)\n",
    "\n",
    "    \n",
    "\n",
    "# Apply a dense layer to the every temporal slice of an input. For each of step\n",
    "# of the output sequence, decide which character should be chosen.\n",
    "\n",
    "for i in feat_y:\n",
    "    outputs.append(\n",
    "      layers.TimeDistributed(\n",
    "      layers.Dense(\n",
    "        data[\"output\"][i].shape[2], \n",
    "        activation=\"softmax\"), name=i)(rnn_out))"
   ]
  },
  {
   "cell_type": "code",
   "execution_count": 53,
   "metadata": {
    "ExecuteTime": {
     "end_time": "2018-07-22T12:42:04.030600Z",
     "start_time": "2018-07-22T12:42:03.675064Z"
    },
    "collapsed": false,
    "deletable": true,
    "editable": true
   },
   "outputs": [],
   "source": [
    "model = Model(inputs=inputs, outputs=outputs)\n",
    "\n",
    "model.compile(loss='categorical_crossentropy',\n",
    "              optimizer='adam',\n",
    "              metrics=['accuracy'])"
   ]
  },
  {
   "cell_type": "code",
   "execution_count": null,
   "metadata": {
    "collapsed": false,
    "deletable": false,
    "editable": false,
    "run_control": {
     "frozen": true
    }
   },
   "outputs": [],
   "source": [
    "print(inputs,outputs)"
   ]
  },
  {
   "cell_type": "markdown",
   "metadata": {
    "deletable": true,
    "editable": true
   },
   "source": [
    "# 9. Summary"
   ]
  },
  {
   "cell_type": "code",
   "execution_count": 54,
   "metadata": {
    "ExecuteTime": {
     "end_time": "2018-07-22T12:42:08.453313Z",
     "start_time": "2018-07-22T12:42:08.443365Z"
    },
    "cell_style": "center",
    "collapsed": false,
    "deletable": true,
    "editable": true,
    "format": "column"
   },
   "outputs": [
    {
     "name": "stdout",
     "output_type": "stream",
     "text": [
      "__________________________________________________________________________________________________\n",
      "Layer (type)                    Output Shape         Param #     Connected to                     \n",
      "==================================================================================================\n",
      "STpos (InputLayer)              (None, 5, 1)         0                                            \n",
      "__________________________________________________________________________________________________\n",
      "FApos (InputLayer)              (None, 5, 1)         0                                            \n",
      "__________________________________________________________________________________________________\n",
      "MXpos (InputLayer)              (None, 5, 1)         0                                            \n",
      "__________________________________________________________________________________________________\n",
      "AMpos (InputLayer)              (None, 5, 1)         0                                            \n",
      "__________________________________________________________________________________________________\n",
      "FAperson (InputLayer)           (None, 5, 2)         0                                            \n",
      "__________________________________________________________________________________________________\n",
      "STnumber (InputLayer)           (None, 5, 3)         0                                            \n",
      "__________________________________________________________________________________________________\n",
      "AMperson (InputLayer)           (None, 5, 3)         0                                            \n",
      "__________________________________________________________________________________________________\n",
      "MXgender (InputLayer)           (None, 5, 4)         0                                            \n",
      "__________________________________________________________________________________________________\n",
      "MXstate (InputLayer)            (None, 5, 4)         0                                            \n",
      "__________________________________________________________________________________________________\n",
      "AMvoice (InputLayer)            (None, 5, 3)         0                                            \n",
      "__________________________________________________________________________________________________\n",
      "MXcase (InputLayer)             (None, 5, 5)         0                                            \n",
      "__________________________________________________________________________________________________\n",
      "MXnumber (InputLayer)           (None, 5, 5)         0                                            \n",
      "__________________________________________________________________________________________________\n",
      "MXaspect (InputLayer)           (None, 5, 5)         0                                            \n",
      "__________________________________________________________________________________________________\n",
      "STaspect (InputLayer)           (None, 5, 4)         0                                            \n",
      "__________________________________________________________________________________________________\n",
      "embedding_1 (Embedding)         (None, 5, 2)         58          STpos[0][0]                      \n",
      "__________________________________________________________________________________________________\n",
      "embedding_2 (Embedding)         (None, 5, 2)         34          FApos[0][0]                      \n",
      "__________________________________________________________________________________________________\n",
      "STvoice (InputLayer)            (None, 5, 3)         0                                            \n",
      "__________________________________________________________________________________________________\n",
      "embedding_3 (Embedding)         (None, 5, 2)         76          MXpos[0][0]                      \n",
      "__________________________________________________________________________________________________\n",
      "embedding_4 (Embedding)         (None, 5, 2)         54          AMpos[0][0]                      \n",
      "__________________________________________________________________________________________________\n",
      "MXvoice (InputLayer)            (None, 5, 4)         0                                            \n",
      "__________________________________________________________________________________________________\n",
      "MXperson (InputLayer)           (None, 5, 5)         0                                            \n",
      "__________________________________________________________________________________________________\n",
      "MXmood (InputLayer)             (None, 5, 4)         0                                            \n",
      "__________________________________________________________________________________________________\n",
      "AMaspect (InputLayer)           (None, 5, 4)         0                                            \n",
      "__________________________________________________________________________________________________\n",
      "dropout_20 (Dropout)            (None, 5, 2)         0           FAperson[0][0]                   \n",
      "__________________________________________________________________________________________________\n",
      "dropout_21 (Dropout)            (None, 5, 3)         0           STnumber[0][0]                   \n",
      "__________________________________________________________________________________________________\n",
      "dropout_22 (Dropout)            (None, 5, 3)         0           AMperson[0][0]                   \n",
      "__________________________________________________________________________________________________\n",
      "dropout_23 (Dropout)            (None, 5, 4)         0           MXgender[0][0]                   \n",
      "__________________________________________________________________________________________________\n",
      "dropout_24 (Dropout)            (None, 5, 4)         0           MXstate[0][0]                    \n",
      "__________________________________________________________________________________________________\n",
      "dropout_25 (Dropout)            (None, 5, 3)         0           AMvoice[0][0]                    \n",
      "__________________________________________________________________________________________________\n",
      "dropout_26 (Dropout)            (None, 5, 5)         0           MXcase[0][0]                     \n",
      "__________________________________________________________________________________________________\n",
      "dropout_27 (Dropout)            (None, 5, 5)         0           MXnumber[0][0]                   \n",
      "__________________________________________________________________________________________________\n",
      "dropout_28 (Dropout)            (None, 5, 5)         0           MXaspect[0][0]                   \n",
      "__________________________________________________________________________________________________\n",
      "dropout_29 (Dropout)            (None, 5, 4)         0           STaspect[0][0]                   \n",
      "__________________________________________________________________________________________________\n",
      "reshape_1 (Reshape)             (None, 5, 2)         0           embedding_1[0][0]                \n",
      "__________________________________________________________________________________________________\n",
      "reshape_2 (Reshape)             (None, 5, 2)         0           embedding_2[0][0]                \n",
      "__________________________________________________________________________________________________\n",
      "dropout_30 (Dropout)            (None, 5, 3)         0           STvoice[0][0]                    \n",
      "__________________________________________________________________________________________________\n",
      "reshape_3 (Reshape)             (None, 5, 2)         0           embedding_3[0][0]                \n",
      "__________________________________________________________________________________________________\n",
      "reshape_4 (Reshape)             (None, 5, 2)         0           embedding_4[0][0]                \n",
      "__________________________________________________________________________________________________\n",
      "dropout_31 (Dropout)            (None, 5, 4)         0           MXvoice[0][0]                    \n",
      "__________________________________________________________________________________________________\n",
      "dropout_32 (Dropout)            (None, 5, 5)         0           MXperson[0][0]                   \n",
      "__________________________________________________________________________________________________\n",
      "dropout_33 (Dropout)            (None, 5, 4)         0           MXmood[0][0]                     \n",
      "__________________________________________________________________________________________________\n",
      "dropout_34 (Dropout)            (None, 5, 4)         0           AMaspect[0][0]                   \n",
      "__________________________________________________________________________________________________\n",
      "concatenate_2 (Concatenate)     (None, 5, 66)        0           dropout_20[0][0]                 \n",
      "                                                                 dropout_21[0][0]                 \n",
      "                                                                 dropout_22[0][0]                 \n",
      "                                                                 dropout_23[0][0]                 \n",
      "                                                                 dropout_24[0][0]                 \n",
      "                                                                 dropout_25[0][0]                 \n",
      "                                                                 dropout_26[0][0]                 \n",
      "                                                                 dropout_27[0][0]                 \n",
      "                                                                 dropout_28[0][0]                 \n",
      "                                                                 dropout_29[0][0]                 \n",
      "                                                                 reshape_1[0][0]                  \n",
      "                                                                 reshape_2[0][0]                  \n",
      "                                                                 dropout_30[0][0]                 \n",
      "                                                                 reshape_3[0][0]                  \n",
      "                                                                 reshape_4[0][0]                  \n",
      "                                                                 dropout_31[0][0]                 \n",
      "                                                                 dropout_32[0][0]                 \n",
      "                                                                 dropout_33[0][0]                 \n",
      "                                                                 dropout_34[0][0]                 \n",
      "__________________________________________________________________________________________________\n",
      "bidirectional_2 (Bidirectional) (None, 256)          199680      concatenate_2[0][0]              \n",
      "__________________________________________________________________________________________________\n",
      "dropout_35 (Dropout)            (None, 256)          0           bidirectional_2[0][0]            \n",
      "__________________________________________________________________________________________________\n",
      "repeat_vector_1 (RepeatVector)  (None, 25, 256)      0           bidirectional_2[0][0]            \n",
      "__________________________________________________________________________________________________\n",
      "repeat_vector_2 (RepeatVector)  (None, 5, 256)       0           dropout_35[0][0]                 \n",
      "__________________________________________________________________________________________________\n",
      "lstm_3 (LSTM)                   (None, 25, 128)      197120      repeat_vector_1[0][0]            \n",
      "__________________________________________________________________________________________________\n",
      "lstm_4 (LSTM)                   (None, 5, 128)       197120      repeat_vector_2[0][0]            \n",
      "__________________________________________________________________________________________________\n",
      "QAutf8 (TimeDistributed)        (None, 25, 59)       7611        lstm_3[0][0]                     \n",
      "__________________________________________________________________________________________________\n",
      "QApos (TimeDistributed)         (None, 5, 45)        5805        lstm_4[0][0]                     \n",
      "__________________________________________________________________________________________________\n",
      "QAaspect (TimeDistributed)      (None, 5, 4)         516         lstm_4[0][0]                     \n",
      "__________________________________________________________________________________________________\n",
      "QAperson (TimeDistributed)      (None, 5, 4)         516         lstm_4[0][0]                     \n",
      "__________________________________________________________________________________________________\n",
      "QAgender (TimeDistributed)      (None, 5, 3)         387         lstm_4[0][0]                     \n",
      "__________________________________________________________________________________________________\n",
      "QAnumber (TimeDistributed)      (None, 5, 4)         516         lstm_4[0][0]                     \n",
      "__________________________________________________________________________________________________\n",
      "QAcase (TimeDistributed)        (None, 5, 4)         516         lstm_4[0][0]                     \n",
      "__________________________________________________________________________________________________\n",
      "QAvoice (TimeDistributed)       (None, 5, 3)         387         lstm_4[0][0]                     \n",
      "__________________________________________________________________________________________________\n",
      "QAmood (TimeDistributed)        (None, 5, 4)         516         lstm_4[0][0]                     \n",
      "__________________________________________________________________________________________________\n",
      "QAstate (TimeDistributed)       (None, 5, 3)         387         lstm_4[0][0]                     \n",
      "==================================================================================================\n",
      "Total params: 611,299\n",
      "Trainable params: 611,299\n",
      "Non-trainable params: 0\n",
      "__________________________________________________________________________________________________\n"
     ]
    }
   ],
   "source": [
    "model.summary()"
   ]
  },
  {
   "cell_type": "code",
   "execution_count": 55,
   "metadata": {
    "ExecuteTime": {
     "end_time": "2018-07-22T12:42:10.211532Z",
     "start_time": "2018-07-22T12:42:09.388245Z"
    },
    "collapsed": false,
    "deletable": true,
    "editable": true
   },
   "outputs": [
    {
     "data": {
      "image/svg+xml": [
       "<svg height=\"701pt\" viewBox=\"0.00 0.00 5744.95 701.00\" width=\"5745pt\" xmlns=\"http://www.w3.org/2000/svg\" xmlns:xlink=\"http://www.w3.org/1999/xlink\">\n",
       "<g class=\"graph\" id=\"graph0\" transform=\"scale(1 1) rotate(0) translate(4 697)\">\n",
       "<title>G</title>\n",
       "<polygon fill=\"#ffffff\" points=\"-4,4 -4,-697 5740.9487,-697 5740.9487,4 -4,4\" stroke=\"transparent\"/>\n",
       "<!-- 4805326328 -->\n",
       "<g class=\"node\" id=\"node1\">\n",
       "<title>4805326328</title>\n",
       "<polygon fill=\"none\" points=\"21.3862,-648.5 21.3862,-692.5 282.0728,-692.5 282.0728,-648.5 21.3862,-648.5\" stroke=\"#000000\"/>\n",
       "<text fill=\"#000000\" font-family=\"Times,serif\" font-size=\"14.00\" text-anchor=\"middle\" x=\"82.0708\" y=\"-666.3\">STpos: InputLayer</text>\n",
       "<polyline fill=\"none\" points=\"142.7554,-648.5 142.7554,-692.5 \" stroke=\"#000000\"/>\n",
       "<text fill=\"#000000\" font-family=\"Times,serif\" font-size=\"14.00\" text-anchor=\"middle\" x=\"170.5898\" y=\"-677.3\">input:</text>\n",
       "<polyline fill=\"none\" points=\"142.7554,-670.5 198.4243,-670.5 \" stroke=\"#000000\"/>\n",
       "<text fill=\"#000000\" font-family=\"Times,serif\" font-size=\"14.00\" text-anchor=\"middle\" x=\"170.5898\" y=\"-655.3\">output:</text>\n",
       "<polyline fill=\"none\" points=\"198.4243,-648.5 198.4243,-692.5 \" stroke=\"#000000\"/>\n",
       "<text fill=\"#000000\" font-family=\"Times,serif\" font-size=\"14.00\" text-anchor=\"middle\" x=\"240.2485\" y=\"-677.3\">(None, 5, 1)</text>\n",
       "<polyline fill=\"none\" points=\"198.4243,-670.5 282.0728,-670.5 \" stroke=\"#000000\"/>\n",
       "<text fill=\"#000000\" font-family=\"Times,serif\" font-size=\"14.00\" text-anchor=\"middle\" x=\"240.2485\" y=\"-655.3\">(None, 5, 1)</text>\n",
       "</g>\n",
       "<!-- 4805301192 -->\n",
       "<g class=\"node\" id=\"node15\">\n",
       "<title>4805301192</title>\n",
       "<polygon fill=\"none\" points=\"0,-567.5 0,-611.5 303.459,-611.5 303.459,-567.5 0,-567.5\" stroke=\"#000000\"/>\n",
       "<text fill=\"#000000\" font-family=\"Times,serif\" font-size=\"14.00\" text-anchor=\"middle\" x=\"82.0708\" y=\"-585.3\">embedding_1: Embedding</text>\n",
       "<polyline fill=\"none\" points=\"164.1416,-567.5 164.1416,-611.5 \" stroke=\"#000000\"/>\n",
       "<text fill=\"#000000\" font-family=\"Times,serif\" font-size=\"14.00\" text-anchor=\"middle\" x=\"191.9761\" y=\"-596.3\">input:</text>\n",
       "<polyline fill=\"none\" points=\"164.1416,-589.5 219.8105,-589.5 \" stroke=\"#000000\"/>\n",
       "<text fill=\"#000000\" font-family=\"Times,serif\" font-size=\"14.00\" text-anchor=\"middle\" x=\"191.9761\" y=\"-574.3\">output:</text>\n",
       "<polyline fill=\"none\" points=\"219.8105,-567.5 219.8105,-611.5 \" stroke=\"#000000\"/>\n",
       "<text fill=\"#000000\" font-family=\"Times,serif\" font-size=\"14.00\" text-anchor=\"middle\" x=\"261.6348\" y=\"-596.3\">(None, 5, 1)</text>\n",
       "<polyline fill=\"none\" points=\"219.8105,-589.5 303.459,-589.5 \" stroke=\"#000000\"/>\n",
       "<text fill=\"#000000\" font-family=\"Times,serif\" font-size=\"14.00\" text-anchor=\"middle\" x=\"261.6348\" y=\"-574.3\">(None, 5, 2)</text>\n",
       "</g>\n",
       "<!-- 4805326328&#45;&gt;4805301192 -->\n",
       "<g class=\"edge\" id=\"edge1\">\n",
       "<title>4805326328-&gt;4805301192</title>\n",
       "<path d=\"M151.7295,-648.3664C151.7295,-640.1516 151.7295,-630.6579 151.7295,-621.7252\" fill=\"none\" stroke=\"#000000\"/>\n",
       "<polygon fill=\"#000000\" points=\"155.2296,-621.6068 151.7295,-611.6068 148.2296,-621.6069 155.2296,-621.6068\" stroke=\"#000000\"/>\n",
       "</g>\n",
       "<!-- 4805324928 -->\n",
       "<g class=\"node\" id=\"node2\">\n",
       "<title>4805324928</title>\n",
       "<polygon fill=\"none\" points=\"3325.123,-648.5 3325.123,-692.5 3586.3359,-692.5 3586.3359,-648.5 3325.123,-648.5\" stroke=\"#000000\"/>\n",
       "<text fill=\"#000000\" font-family=\"Times,serif\" font-size=\"14.00\" text-anchor=\"middle\" x=\"3386.0708\" y=\"-666.3\">FApos: InputLayer</text>\n",
       "<polyline fill=\"none\" points=\"3447.0186,-648.5 3447.0186,-692.5 \" stroke=\"#000000\"/>\n",
       "<text fill=\"#000000\" font-family=\"Times,serif\" font-size=\"14.00\" text-anchor=\"middle\" x=\"3474.853\" y=\"-677.3\">input:</text>\n",
       "<polyline fill=\"none\" points=\"3447.0186,-670.5 3502.6875,-670.5 \" stroke=\"#000000\"/>\n",
       "<text fill=\"#000000\" font-family=\"Times,serif\" font-size=\"14.00\" text-anchor=\"middle\" x=\"3474.853\" y=\"-655.3\">output:</text>\n",
       "<polyline fill=\"none\" points=\"3502.6875,-648.5 3502.6875,-692.5 \" stroke=\"#000000\"/>\n",
       "<text fill=\"#000000\" font-family=\"Times,serif\" font-size=\"14.00\" text-anchor=\"middle\" x=\"3544.5117\" y=\"-677.3\">(None, 5, 1)</text>\n",
       "<polyline fill=\"none\" points=\"3502.6875,-670.5 3586.3359,-670.5 \" stroke=\"#000000\"/>\n",
       "<text fill=\"#000000\" font-family=\"Times,serif\" font-size=\"14.00\" text-anchor=\"middle\" x=\"3544.5117\" y=\"-655.3\">(None, 5, 1)</text>\n",
       "</g>\n",
       "<!-- 4804822632 -->\n",
       "<g class=\"node\" id=\"node16\">\n",
       "<title>4804822632</title>\n",
       "<polygon fill=\"none\" points=\"3304,-567.5 3304,-611.5 3607.459,-611.5 3607.459,-567.5 3304,-567.5\" stroke=\"#000000\"/>\n",
       "<text fill=\"#000000\" font-family=\"Times,serif\" font-size=\"14.00\" text-anchor=\"middle\" x=\"3386.0708\" y=\"-585.3\">embedding_2: Embedding</text>\n",
       "<polyline fill=\"none\" points=\"3468.1416,-567.5 3468.1416,-611.5 \" stroke=\"#000000\"/>\n",
       "<text fill=\"#000000\" font-family=\"Times,serif\" font-size=\"14.00\" text-anchor=\"middle\" x=\"3495.9761\" y=\"-596.3\">input:</text>\n",
       "<polyline fill=\"none\" points=\"3468.1416,-589.5 3523.8105,-589.5 \" stroke=\"#000000\"/>\n",
       "<text fill=\"#000000\" font-family=\"Times,serif\" font-size=\"14.00\" text-anchor=\"middle\" x=\"3495.9761\" y=\"-574.3\">output:</text>\n",
       "<polyline fill=\"none\" points=\"3523.8105,-567.5 3523.8105,-611.5 \" stroke=\"#000000\"/>\n",
       "<text fill=\"#000000\" font-family=\"Times,serif\" font-size=\"14.00\" text-anchor=\"middle\" x=\"3565.6348\" y=\"-596.3\">(None, 5, 1)</text>\n",
       "<polyline fill=\"none\" points=\"3523.8105,-589.5 3607.459,-589.5 \" stroke=\"#000000\"/>\n",
       "<text fill=\"#000000\" font-family=\"Times,serif\" font-size=\"14.00\" text-anchor=\"middle\" x=\"3565.6348\" y=\"-574.3\">(None, 5, 2)</text>\n",
       "</g>\n",
       "<!-- 4805324928&#45;&gt;4804822632 -->\n",
       "<g class=\"edge\" id=\"edge2\">\n",
       "<title>4805324928-&gt;4804822632</title>\n",
       "<path d=\"M3455.7295,-648.3664C3455.7295,-640.1516 3455.7295,-630.6579 3455.7295,-621.7252\" fill=\"none\" stroke=\"#000000\"/>\n",
       "<polygon fill=\"#000000\" points=\"3459.2296,-621.6068 3455.7295,-611.6068 3452.2296,-621.6069 3459.2296,-621.6068\" stroke=\"#000000\"/>\n",
       "</g>\n",
       "<!-- 4805831312 -->\n",
       "<g class=\"node\" id=\"node3\">\n",
       "<title>4805831312</title>\n",
       "<polygon fill=\"none\" points=\"3934.2759,-648.5 3934.2759,-692.5 4201.1831,-692.5 4201.1831,-648.5 3934.2759,-648.5\" stroke=\"#000000\"/>\n",
       "<text fill=\"#000000\" font-family=\"Times,serif\" font-size=\"14.00\" text-anchor=\"middle\" x=\"3998.0708\" y=\"-666.3\">MXpos: InputLayer</text>\n",
       "<polyline fill=\"none\" points=\"4061.8657,-648.5 4061.8657,-692.5 \" stroke=\"#000000\"/>\n",
       "<text fill=\"#000000\" font-family=\"Times,serif\" font-size=\"14.00\" text-anchor=\"middle\" x=\"4089.7002\" y=\"-677.3\">input:</text>\n",
       "<polyline fill=\"none\" points=\"4061.8657,-670.5 4117.5347,-670.5 \" stroke=\"#000000\"/>\n",
       "<text fill=\"#000000\" font-family=\"Times,serif\" font-size=\"14.00\" text-anchor=\"middle\" x=\"4089.7002\" y=\"-655.3\">output:</text>\n",
       "<polyline fill=\"none\" points=\"4117.5347,-648.5 4117.5347,-692.5 \" stroke=\"#000000\"/>\n",
       "<text fill=\"#000000\" font-family=\"Times,serif\" font-size=\"14.00\" text-anchor=\"middle\" x=\"4159.3589\" y=\"-677.3\">(None, 5, 1)</text>\n",
       "<polyline fill=\"none\" points=\"4117.5347,-670.5 4201.1831,-670.5 \" stroke=\"#000000\"/>\n",
       "<text fill=\"#000000\" font-family=\"Times,serif\" font-size=\"14.00\" text-anchor=\"middle\" x=\"4159.3589\" y=\"-655.3\">(None, 5, 1)</text>\n",
       "</g>\n",
       "<!-- 4804580296 -->\n",
       "<g class=\"node\" id=\"node18\">\n",
       "<title>4804580296</title>\n",
       "<polygon fill=\"none\" points=\"3916,-567.5 3916,-611.5 4219.459,-611.5 4219.459,-567.5 3916,-567.5\" stroke=\"#000000\"/>\n",
       "<text fill=\"#000000\" font-family=\"Times,serif\" font-size=\"14.00\" text-anchor=\"middle\" x=\"3998.0708\" y=\"-585.3\">embedding_3: Embedding</text>\n",
       "<polyline fill=\"none\" points=\"4080.1416,-567.5 4080.1416,-611.5 \" stroke=\"#000000\"/>\n",
       "<text fill=\"#000000\" font-family=\"Times,serif\" font-size=\"14.00\" text-anchor=\"middle\" x=\"4107.9761\" y=\"-596.3\">input:</text>\n",
       "<polyline fill=\"none\" points=\"4080.1416,-589.5 4135.8105,-589.5 \" stroke=\"#000000\"/>\n",
       "<text fill=\"#000000\" font-family=\"Times,serif\" font-size=\"14.00\" text-anchor=\"middle\" x=\"4107.9761\" y=\"-574.3\">output:</text>\n",
       "<polyline fill=\"none\" points=\"4135.8105,-567.5 4135.8105,-611.5 \" stroke=\"#000000\"/>\n",
       "<text fill=\"#000000\" font-family=\"Times,serif\" font-size=\"14.00\" text-anchor=\"middle\" x=\"4177.6348\" y=\"-596.3\">(None, 5, 1)</text>\n",
       "<polyline fill=\"none\" points=\"4135.8105,-589.5 4219.459,-589.5 \" stroke=\"#000000\"/>\n",
       "<text fill=\"#000000\" font-family=\"Times,serif\" font-size=\"14.00\" text-anchor=\"middle\" x=\"4177.6348\" y=\"-574.3\">(None, 5, 2)</text>\n",
       "</g>\n",
       "<!-- 4805831312&#45;&gt;4804580296 -->\n",
       "<g class=\"edge\" id=\"edge3\">\n",
       "<title>4805831312-&gt;4804580296</title>\n",
       "<path d=\"M4067.7295,-648.3664C4067.7295,-640.1516 4067.7295,-630.6579 4067.7295,-621.7252\" fill=\"none\" stroke=\"#000000\"/>\n",
       "<polygon fill=\"#000000\" points=\"4071.2296,-621.6068 4067.7295,-611.6068 4064.2296,-621.6069 4071.2296,-621.6068\" stroke=\"#000000\"/>\n",
       "</g>\n",
       "<!-- 4805328568 -->\n",
       "<g class=\"node\" id=\"node4\">\n",
       "<title>4805328568</title>\n",
       "<polygon fill=\"none\" points=\"4255.2759,-648.5 4255.2759,-692.5 4522.1831,-692.5 4522.1831,-648.5 4255.2759,-648.5\" stroke=\"#000000\"/>\n",
       "<text fill=\"#000000\" font-family=\"Times,serif\" font-size=\"14.00\" text-anchor=\"middle\" x=\"4319.0708\" y=\"-666.3\">AMpos: InputLayer</text>\n",
       "<polyline fill=\"none\" points=\"4382.8657,-648.5 4382.8657,-692.5 \" stroke=\"#000000\"/>\n",
       "<text fill=\"#000000\" font-family=\"Times,serif\" font-size=\"14.00\" text-anchor=\"middle\" x=\"4410.7002\" y=\"-677.3\">input:</text>\n",
       "<polyline fill=\"none\" points=\"4382.8657,-670.5 4438.5347,-670.5 \" stroke=\"#000000\"/>\n",
       "<text fill=\"#000000\" font-family=\"Times,serif\" font-size=\"14.00\" text-anchor=\"middle\" x=\"4410.7002\" y=\"-655.3\">output:</text>\n",
       "<polyline fill=\"none\" points=\"4438.5347,-648.5 4438.5347,-692.5 \" stroke=\"#000000\"/>\n",
       "<text fill=\"#000000\" font-family=\"Times,serif\" font-size=\"14.00\" text-anchor=\"middle\" x=\"4480.3589\" y=\"-677.3\">(None, 5, 1)</text>\n",
       "<polyline fill=\"none\" points=\"4438.5347,-670.5 4522.1831,-670.5 \" stroke=\"#000000\"/>\n",
       "<text fill=\"#000000\" font-family=\"Times,serif\" font-size=\"14.00\" text-anchor=\"middle\" x=\"4480.3589\" y=\"-655.3\">(None, 5, 1)</text>\n",
       "</g>\n",
       "<!-- 4804753336 -->\n",
       "<g class=\"node\" id=\"node19\">\n",
       "<title>4804753336</title>\n",
       "<polygon fill=\"none\" points=\"4237,-567.5 4237,-611.5 4540.459,-611.5 4540.459,-567.5 4237,-567.5\" stroke=\"#000000\"/>\n",
       "<text fill=\"#000000\" font-family=\"Times,serif\" font-size=\"14.00\" text-anchor=\"middle\" x=\"4319.0708\" y=\"-585.3\">embedding_4: Embedding</text>\n",
       "<polyline fill=\"none\" points=\"4401.1416,-567.5 4401.1416,-611.5 \" stroke=\"#000000\"/>\n",
       "<text fill=\"#000000\" font-family=\"Times,serif\" font-size=\"14.00\" text-anchor=\"middle\" x=\"4428.9761\" y=\"-596.3\">input:</text>\n",
       "<polyline fill=\"none\" points=\"4401.1416,-589.5 4456.8105,-589.5 \" stroke=\"#000000\"/>\n",
       "<text fill=\"#000000\" font-family=\"Times,serif\" font-size=\"14.00\" text-anchor=\"middle\" x=\"4428.9761\" y=\"-574.3\">output:</text>\n",
       "<polyline fill=\"none\" points=\"4456.8105,-567.5 4456.8105,-611.5 \" stroke=\"#000000\"/>\n",
       "<text fill=\"#000000\" font-family=\"Times,serif\" font-size=\"14.00\" text-anchor=\"middle\" x=\"4498.6348\" y=\"-596.3\">(None, 5, 1)</text>\n",
       "<polyline fill=\"none\" points=\"4456.8105,-589.5 4540.459,-589.5 \" stroke=\"#000000\"/>\n",
       "<text fill=\"#000000\" font-family=\"Times,serif\" font-size=\"14.00\" text-anchor=\"middle\" x=\"4498.6348\" y=\"-574.3\">(None, 5, 2)</text>\n",
       "</g>\n",
       "<!-- 4805328568&#45;&gt;4804753336 -->\n",
       "<g class=\"edge\" id=\"edge4\">\n",
       "<title>4805328568-&gt;4804753336</title>\n",
       "<path d=\"M4388.7295,-648.3664C4388.7295,-640.1516 4388.7295,-630.6579 4388.7295,-621.7252\" fill=\"none\" stroke=\"#000000\"/>\n",
       "<polygon fill=\"#000000\" points=\"4392.2296,-621.6068 4388.7295,-611.6068 4385.2296,-621.6069 4392.2296,-621.6068\" stroke=\"#000000\"/>\n",
       "</g>\n",
       "<!-- 4805368072 -->\n",
       "<g class=\"node\" id=\"node5\">\n",
       "<title>4805368072</title>\n",
       "<polygon fill=\"none\" points=\"321.1851,-567.5 321.1851,-611.5 600.2739,-611.5 600.2739,-567.5 321.1851,-567.5\" stroke=\"#000000\"/>\n",
       "<text fill=\"#000000\" font-family=\"Times,serif\" font-size=\"14.00\" text-anchor=\"middle\" x=\"391.0708\" y=\"-585.3\">FAperson: InputLayer</text>\n",
       "<polyline fill=\"none\" points=\"460.9565,-567.5 460.9565,-611.5 \" stroke=\"#000000\"/>\n",
       "<text fill=\"#000000\" font-family=\"Times,serif\" font-size=\"14.00\" text-anchor=\"middle\" x=\"488.791\" y=\"-596.3\">input:</text>\n",
       "<polyline fill=\"none\" points=\"460.9565,-589.5 516.6255,-589.5 \" stroke=\"#000000\"/>\n",
       "<text fill=\"#000000\" font-family=\"Times,serif\" font-size=\"14.00\" text-anchor=\"middle\" x=\"488.791\" y=\"-574.3\">output:</text>\n",
       "<polyline fill=\"none\" points=\"516.6255,-567.5 516.6255,-611.5 \" stroke=\"#000000\"/>\n",
       "<text fill=\"#000000\" font-family=\"Times,serif\" font-size=\"14.00\" text-anchor=\"middle\" x=\"558.4497\" y=\"-596.3\">(None, 5, 2)</text>\n",
       "<polyline fill=\"none\" points=\"516.6255,-589.5 600.2739,-589.5 \" stroke=\"#000000\"/>\n",
       "<text fill=\"#000000\" font-family=\"Times,serif\" font-size=\"14.00\" text-anchor=\"middle\" x=\"558.4497\" y=\"-574.3\">(None, 5, 2)</text>\n",
       "</g>\n",
       "<!-- 4805801856 -->\n",
       "<g class=\"node\" id=\"node24\">\n",
       "<title>4805801856</title>\n",
       "<polygon fill=\"none\" points=\"327.769,-486.5 327.769,-530.5 601.6899,-530.5 601.6899,-486.5 327.769,-486.5\" stroke=\"#000000\"/>\n",
       "<text fill=\"#000000\" font-family=\"Times,serif\" font-size=\"14.00\" text-anchor=\"middle\" x=\"395.0708\" y=\"-504.3\">dropout_20: Dropout</text>\n",
       "<polyline fill=\"none\" points=\"462.3726,-486.5 462.3726,-530.5 \" stroke=\"#000000\"/>\n",
       "<text fill=\"#000000\" font-family=\"Times,serif\" font-size=\"14.00\" text-anchor=\"middle\" x=\"490.207\" y=\"-515.3\">input:</text>\n",
       "<polyline fill=\"none\" points=\"462.3726,-508.5 518.0415,-508.5 \" stroke=\"#000000\"/>\n",
       "<text fill=\"#000000\" font-family=\"Times,serif\" font-size=\"14.00\" text-anchor=\"middle\" x=\"490.207\" y=\"-493.3\">output:</text>\n",
       "<polyline fill=\"none\" points=\"518.0415,-486.5 518.0415,-530.5 \" stroke=\"#000000\"/>\n",
       "<text fill=\"#000000\" font-family=\"Times,serif\" font-size=\"14.00\" text-anchor=\"middle\" x=\"559.8657\" y=\"-515.3\">(None, 5, 2)</text>\n",
       "<polyline fill=\"none\" points=\"518.0415,-508.5 601.6899,-508.5 \" stroke=\"#000000\"/>\n",
       "<text fill=\"#000000\" font-family=\"Times,serif\" font-size=\"14.00\" text-anchor=\"middle\" x=\"559.8657\" y=\"-493.3\">(None, 5, 2)</text>\n",
       "</g>\n",
       "<!-- 4805368072&#45;&gt;4805801856 -->\n",
       "<g class=\"edge\" id=\"edge5\">\n",
       "<title>4805368072-&gt;4805801856</title>\n",
       "<path d=\"M461.8225,-567.3664C462.2282,-559.1516 462.697,-549.6579 463.1381,-540.7252\" fill=\"none\" stroke=\"#000000\"/>\n",
       "<polygon fill=\"#000000\" points=\"466.6402,-540.7673 463.6378,-530.6068 459.6487,-540.422 466.6402,-540.7673\" stroke=\"#000000\"/>\n",
       "</g>\n",
       "<!-- 4805367344 -->\n",
       "<g class=\"node\" id=\"node6\">\n",
       "<title>4805367344</title>\n",
       "<polygon fill=\"none\" points=\"618.7275,-567.5 618.7275,-611.5 902.7314,-611.5 902.7314,-567.5 618.7275,-567.5\" stroke=\"#000000\"/>\n",
       "<text fill=\"#000000\" font-family=\"Times,serif\" font-size=\"14.00\" text-anchor=\"middle\" x=\"691.0708\" y=\"-585.3\">STnumber: InputLayer</text>\n",
       "<polyline fill=\"none\" points=\"763.4141,-567.5 763.4141,-611.5 \" stroke=\"#000000\"/>\n",
       "<text fill=\"#000000\" font-family=\"Times,serif\" font-size=\"14.00\" text-anchor=\"middle\" x=\"791.2485\" y=\"-596.3\">input:</text>\n",
       "<polyline fill=\"none\" points=\"763.4141,-589.5 819.083,-589.5 \" stroke=\"#000000\"/>\n",
       "<text fill=\"#000000\" font-family=\"Times,serif\" font-size=\"14.00\" text-anchor=\"middle\" x=\"791.2485\" y=\"-574.3\">output:</text>\n",
       "<polyline fill=\"none\" points=\"819.083,-567.5 819.083,-611.5 \" stroke=\"#000000\"/>\n",
       "<text fill=\"#000000\" font-family=\"Times,serif\" font-size=\"14.00\" text-anchor=\"middle\" x=\"860.9072\" y=\"-596.3\">(None, 5, 3)</text>\n",
       "<polyline fill=\"none\" points=\"819.083,-589.5 902.7314,-589.5 \" stroke=\"#000000\"/>\n",
       "<text fill=\"#000000\" font-family=\"Times,serif\" font-size=\"14.00\" text-anchor=\"middle\" x=\"860.9072\" y=\"-574.3\">(None, 5, 3)</text>\n",
       "</g>\n",
       "<!-- 4805810384 -->\n",
       "<g class=\"node\" id=\"node25\">\n",
       "<title>4805810384</title>\n",
       "<polygon fill=\"none\" points=\"628.769,-486.5 628.769,-530.5 902.6899,-530.5 902.6899,-486.5 628.769,-486.5\" stroke=\"#000000\"/>\n",
       "<text fill=\"#000000\" font-family=\"Times,serif\" font-size=\"14.00\" text-anchor=\"middle\" x=\"696.0708\" y=\"-504.3\">dropout_21: Dropout</text>\n",
       "<polyline fill=\"none\" points=\"763.3726,-486.5 763.3726,-530.5 \" stroke=\"#000000\"/>\n",
       "<text fill=\"#000000\" font-family=\"Times,serif\" font-size=\"14.00\" text-anchor=\"middle\" x=\"791.207\" y=\"-515.3\">input:</text>\n",
       "<polyline fill=\"none\" points=\"763.3726,-508.5 819.0415,-508.5 \" stroke=\"#000000\"/>\n",
       "<text fill=\"#000000\" font-family=\"Times,serif\" font-size=\"14.00\" text-anchor=\"middle\" x=\"791.207\" y=\"-493.3\">output:</text>\n",
       "<polyline fill=\"none\" points=\"819.0415,-486.5 819.0415,-530.5 \" stroke=\"#000000\"/>\n",
       "<text fill=\"#000000\" font-family=\"Times,serif\" font-size=\"14.00\" text-anchor=\"middle\" x=\"860.8657\" y=\"-515.3\">(None, 5, 3)</text>\n",
       "<polyline fill=\"none\" points=\"819.0415,-508.5 902.6899,-508.5 \" stroke=\"#000000\"/>\n",
       "<text fill=\"#000000\" font-family=\"Times,serif\" font-size=\"14.00\" text-anchor=\"middle\" x=\"860.8657\" y=\"-493.3\">(None, 5, 3)</text>\n",
       "</g>\n",
       "<!-- 4805367344&#45;&gt;4805810384 -->\n",
       "<g class=\"edge\" id=\"edge6\">\n",
       "<title>4805367344-&gt;4805810384</title>\n",
       "<path d=\"M762.0958,-567.3664C762.6028,-559.1516 763.1889,-549.6579 763.7403,-540.7252\" fill=\"none\" stroke=\"#000000\"/>\n",
       "<polygon fill=\"#000000\" points=\"767.242,-540.8035 764.3649,-530.6068 760.2553,-540.3722 767.242,-540.8035\" stroke=\"#000000\"/>\n",
       "</g>\n",
       "<!-- 4805350176 -->\n",
       "<g class=\"node\" id=\"node7\">\n",
       "<title>4805350176</title>\n",
       "<polygon fill=\"none\" points=\"920.3379,-567.5 920.3379,-611.5 1205.1211,-611.5 1205.1211,-567.5 920.3379,-567.5\" stroke=\"#000000\"/>\n",
       "<text fill=\"#000000\" font-family=\"Times,serif\" font-size=\"14.00\" text-anchor=\"middle\" x=\"993.0708\" y=\"-585.3\">AMperson: InputLayer</text>\n",
       "<polyline fill=\"none\" points=\"1065.8037,-567.5 1065.8037,-611.5 \" stroke=\"#000000\"/>\n",
       "<text fill=\"#000000\" font-family=\"Times,serif\" font-size=\"14.00\" text-anchor=\"middle\" x=\"1093.6382\" y=\"-596.3\">input:</text>\n",
       "<polyline fill=\"none\" points=\"1065.8037,-589.5 1121.4727,-589.5 \" stroke=\"#000000\"/>\n",
       "<text fill=\"#000000\" font-family=\"Times,serif\" font-size=\"14.00\" text-anchor=\"middle\" x=\"1093.6382\" y=\"-574.3\">output:</text>\n",
       "<polyline fill=\"none\" points=\"1121.4727,-567.5 1121.4727,-611.5 \" stroke=\"#000000\"/>\n",
       "<text fill=\"#000000\" font-family=\"Times,serif\" font-size=\"14.00\" text-anchor=\"middle\" x=\"1163.2969\" y=\"-596.3\">(None, 5, 3)</text>\n",
       "<polyline fill=\"none\" points=\"1121.4727,-589.5 1205.1211,-589.5 \" stroke=\"#000000\"/>\n",
       "<text fill=\"#000000\" font-family=\"Times,serif\" font-size=\"14.00\" text-anchor=\"middle\" x=\"1163.2969\" y=\"-574.3\">(None, 5, 3)</text>\n",
       "</g>\n",
       "<!-- 4805810552 -->\n",
       "<g class=\"node\" id=\"node26\">\n",
       "<title>4805810552</title>\n",
       "<polygon fill=\"none\" points=\"930.769,-486.5 930.769,-530.5 1204.6899,-530.5 1204.6899,-486.5 930.769,-486.5\" stroke=\"#000000\"/>\n",
       "<text fill=\"#000000\" font-family=\"Times,serif\" font-size=\"14.00\" text-anchor=\"middle\" x=\"998.0708\" y=\"-504.3\">dropout_22: Dropout</text>\n",
       "<polyline fill=\"none\" points=\"1065.3726,-486.5 1065.3726,-530.5 \" stroke=\"#000000\"/>\n",
       "<text fill=\"#000000\" font-family=\"Times,serif\" font-size=\"14.00\" text-anchor=\"middle\" x=\"1093.207\" y=\"-515.3\">input:</text>\n",
       "<polyline fill=\"none\" points=\"1065.3726,-508.5 1121.0415,-508.5 \" stroke=\"#000000\"/>\n",
       "<text fill=\"#000000\" font-family=\"Times,serif\" font-size=\"14.00\" text-anchor=\"middle\" x=\"1093.207\" y=\"-493.3\">output:</text>\n",
       "<polyline fill=\"none\" points=\"1121.0415,-486.5 1121.0415,-530.5 \" stroke=\"#000000\"/>\n",
       "<text fill=\"#000000\" font-family=\"Times,serif\" font-size=\"14.00\" text-anchor=\"middle\" x=\"1162.8657\" y=\"-515.3\">(None, 5, 3)</text>\n",
       "<polyline fill=\"none\" points=\"1121.0415,-508.5 1204.6899,-508.5 \" stroke=\"#000000\"/>\n",
       "<text fill=\"#000000\" font-family=\"Times,serif\" font-size=\"14.00\" text-anchor=\"middle\" x=\"1162.8657\" y=\"-493.3\">(None, 5, 3)</text>\n",
       "</g>\n",
       "<!-- 4805350176&#45;&gt;4805810552 -->\n",
       "<g class=\"edge\" id=\"edge7\">\n",
       "<title>4805350176-&gt;4805810552</title>\n",
       "<path d=\"M1064.0958,-567.3664C1064.6028,-559.1516 1065.1889,-549.6579 1065.7403,-540.7252\" fill=\"none\" stroke=\"#000000\"/>\n",
       "<polygon fill=\"#000000\" points=\"1069.242,-540.8035 1066.3649,-530.6068 1062.2553,-540.3722 1069.242,-540.8035\" stroke=\"#000000\"/>\n",
       "</g>\n",
       "<!-- 4805506328 -->\n",
       "<g class=\"node\" id=\"node8\">\n",
       "<title>4805506328</title>\n",
       "<polygon fill=\"none\" points=\"1222.9551,-567.5 1222.9551,-611.5 1508.5039,-611.5 1508.5039,-567.5 1222.9551,-567.5\" stroke=\"#000000\"/>\n",
       "<text fill=\"#000000\" font-family=\"Times,serif\" font-size=\"14.00\" text-anchor=\"middle\" x=\"1296.0708\" y=\"-585.3\">MXgender: InputLayer</text>\n",
       "<polyline fill=\"none\" points=\"1369.1865,-567.5 1369.1865,-611.5 \" stroke=\"#000000\"/>\n",
       "<text fill=\"#000000\" font-family=\"Times,serif\" font-size=\"14.00\" text-anchor=\"middle\" x=\"1397.021\" y=\"-596.3\">input:</text>\n",
       "<polyline fill=\"none\" points=\"1369.1865,-589.5 1424.8555,-589.5 \" stroke=\"#000000\"/>\n",
       "<text fill=\"#000000\" font-family=\"Times,serif\" font-size=\"14.00\" text-anchor=\"middle\" x=\"1397.021\" y=\"-574.3\">output:</text>\n",
       "<polyline fill=\"none\" points=\"1424.8555,-567.5 1424.8555,-611.5 \" stroke=\"#000000\"/>\n",
       "<text fill=\"#000000\" font-family=\"Times,serif\" font-size=\"14.00\" text-anchor=\"middle\" x=\"1466.6797\" y=\"-596.3\">(None, 5, 4)</text>\n",
       "<polyline fill=\"none\" points=\"1424.8555,-589.5 1508.5039,-589.5 \" stroke=\"#000000\"/>\n",
       "<text fill=\"#000000\" font-family=\"Times,serif\" font-size=\"14.00\" text-anchor=\"middle\" x=\"1466.6797\" y=\"-574.3\">(None, 5, 4)</text>\n",
       "</g>\n",
       "<!-- 4805789848 -->\n",
       "<g class=\"node\" id=\"node27\">\n",
       "<title>4805789848</title>\n",
       "<polygon fill=\"none\" points=\"1230.769,-486.5 1230.769,-530.5 1504.6899,-530.5 1504.6899,-486.5 1230.769,-486.5\" stroke=\"#000000\"/>\n",
       "<text fill=\"#000000\" font-family=\"Times,serif\" font-size=\"14.00\" text-anchor=\"middle\" x=\"1298.0708\" y=\"-504.3\">dropout_23: Dropout</text>\n",
       "<polyline fill=\"none\" points=\"1365.3726,-486.5 1365.3726,-530.5 \" stroke=\"#000000\"/>\n",
       "<text fill=\"#000000\" font-family=\"Times,serif\" font-size=\"14.00\" text-anchor=\"middle\" x=\"1393.207\" y=\"-515.3\">input:</text>\n",
       "<polyline fill=\"none\" points=\"1365.3726,-508.5 1421.0415,-508.5 \" stroke=\"#000000\"/>\n",
       "<text fill=\"#000000\" font-family=\"Times,serif\" font-size=\"14.00\" text-anchor=\"middle\" x=\"1393.207\" y=\"-493.3\">output:</text>\n",
       "<polyline fill=\"none\" points=\"1421.0415,-486.5 1421.0415,-530.5 \" stroke=\"#000000\"/>\n",
       "<text fill=\"#000000\" font-family=\"Times,serif\" font-size=\"14.00\" text-anchor=\"middle\" x=\"1462.8657\" y=\"-515.3\">(None, 5, 4)</text>\n",
       "<polyline fill=\"none\" points=\"1421.0415,-508.5 1504.6899,-508.5 \" stroke=\"#000000\"/>\n",
       "<text fill=\"#000000\" font-family=\"Times,serif\" font-size=\"14.00\" text-anchor=\"middle\" x=\"1462.8657\" y=\"-493.3\">(None, 5, 4)</text>\n",
       "</g>\n",
       "<!-- 4805506328&#45;&gt;4805789848 -->\n",
       "<g class=\"edge\" id=\"edge8\">\n",
       "<title>4805506328-&gt;4805789848</title>\n",
       "<path d=\"M1366.276,-567.3664C1366.4788,-559.1516 1366.7132,-549.6579 1366.9338,-540.7252\" fill=\"none\" stroke=\"#000000\"/>\n",
       "<polygon fill=\"#000000\" points=\"1370.4356,-540.6902 1367.1836,-530.6068 1363.4378,-540.5174 1370.4356,-540.6902\" stroke=\"#000000\"/>\n",
       "</g>\n",
       "<!-- 4805366896 -->\n",
       "<g class=\"node\" id=\"node9\">\n",
       "<title>4805366896</title>\n",
       "<polygon fill=\"none\" points=\"1526.1724,-567.5 1526.1724,-611.5 1799.2866,-611.5 1799.2866,-567.5 1526.1724,-567.5\" stroke=\"#000000\"/>\n",
       "<text fill=\"#000000\" font-family=\"Times,serif\" font-size=\"14.00\" text-anchor=\"middle\" x=\"1593.0708\" y=\"-585.3\">MXstate: InputLayer</text>\n",
       "<polyline fill=\"none\" points=\"1659.9692,-567.5 1659.9692,-611.5 \" stroke=\"#000000\"/>\n",
       "<text fill=\"#000000\" font-family=\"Times,serif\" font-size=\"14.00\" text-anchor=\"middle\" x=\"1687.8037\" y=\"-596.3\">input:</text>\n",
       "<polyline fill=\"none\" points=\"1659.9692,-589.5 1715.6382,-589.5 \" stroke=\"#000000\"/>\n",
       "<text fill=\"#000000\" font-family=\"Times,serif\" font-size=\"14.00\" text-anchor=\"middle\" x=\"1687.8037\" y=\"-574.3\">output:</text>\n",
       "<polyline fill=\"none\" points=\"1715.6382,-567.5 1715.6382,-611.5 \" stroke=\"#000000\"/>\n",
       "<text fill=\"#000000\" font-family=\"Times,serif\" font-size=\"14.00\" text-anchor=\"middle\" x=\"1757.4624\" y=\"-596.3\">(None, 5, 4)</text>\n",
       "<polyline fill=\"none\" points=\"1715.6382,-589.5 1799.2866,-589.5 \" stroke=\"#000000\"/>\n",
       "<text fill=\"#000000\" font-family=\"Times,serif\" font-size=\"14.00\" text-anchor=\"middle\" x=\"1757.4624\" y=\"-574.3\">(None, 5, 4)</text>\n",
       "</g>\n",
       "<!-- 4805810328 -->\n",
       "<g class=\"node\" id=\"node28\">\n",
       "<title>4805810328</title>\n",
       "<polygon fill=\"none\" points=\"1525.769,-486.5 1525.769,-530.5 1799.6899,-530.5 1799.6899,-486.5 1525.769,-486.5\" stroke=\"#000000\"/>\n",
       "<text fill=\"#000000\" font-family=\"Times,serif\" font-size=\"14.00\" text-anchor=\"middle\" x=\"1593.0708\" y=\"-504.3\">dropout_24: Dropout</text>\n",
       "<polyline fill=\"none\" points=\"1660.3726,-486.5 1660.3726,-530.5 \" stroke=\"#000000\"/>\n",
       "<text fill=\"#000000\" font-family=\"Times,serif\" font-size=\"14.00\" text-anchor=\"middle\" x=\"1688.207\" y=\"-515.3\">input:</text>\n",
       "<polyline fill=\"none\" points=\"1660.3726,-508.5 1716.0415,-508.5 \" stroke=\"#000000\"/>\n",
       "<text fill=\"#000000\" font-family=\"Times,serif\" font-size=\"14.00\" text-anchor=\"middle\" x=\"1688.207\" y=\"-493.3\">output:</text>\n",
       "<polyline fill=\"none\" points=\"1716.0415,-486.5 1716.0415,-530.5 \" stroke=\"#000000\"/>\n",
       "<text fill=\"#000000\" font-family=\"Times,serif\" font-size=\"14.00\" text-anchor=\"middle\" x=\"1757.8657\" y=\"-515.3\">(None, 5, 4)</text>\n",
       "<polyline fill=\"none\" points=\"1716.0415,-508.5 1799.6899,-508.5 \" stroke=\"#000000\"/>\n",
       "<text fill=\"#000000\" font-family=\"Times,serif\" font-size=\"14.00\" text-anchor=\"middle\" x=\"1757.8657\" y=\"-493.3\">(None, 5, 4)</text>\n",
       "</g>\n",
       "<!-- 4805366896&#45;&gt;4805810328 -->\n",
       "<g class=\"edge\" id=\"edge9\">\n",
       "<title>4805366896-&gt;4805810328</title>\n",
       "<path d=\"M1662.7295,-567.3664C1662.7295,-559.1516 1662.7295,-549.6579 1662.7295,-540.7252\" fill=\"none\" stroke=\"#000000\"/>\n",
       "<polygon fill=\"#000000\" points=\"1666.2296,-540.6068 1662.7295,-530.6068 1659.2296,-540.6069 1666.2296,-540.6068\" stroke=\"#000000\"/>\n",
       "</g>\n",
       "<!-- 4805368016 -->\n",
       "<g class=\"node\" id=\"node10\">\n",
       "<title>4805368016</title>\n",
       "<polygon fill=\"none\" points=\"1816.8413,-567.5 1816.8413,-611.5 2094.6177,-611.5 2094.6177,-567.5 1816.8413,-567.5\" stroke=\"#000000\"/>\n",
       "<text fill=\"#000000\" font-family=\"Times,serif\" font-size=\"14.00\" text-anchor=\"middle\" x=\"1886.0708\" y=\"-585.3\">AMvoice: InputLayer</text>\n",
       "<polyline fill=\"none\" points=\"1955.3003,-567.5 1955.3003,-611.5 \" stroke=\"#000000\"/>\n",
       "<text fill=\"#000000\" font-family=\"Times,serif\" font-size=\"14.00\" text-anchor=\"middle\" x=\"1983.1348\" y=\"-596.3\">input:</text>\n",
       "<polyline fill=\"none\" points=\"1955.3003,-589.5 2010.9692,-589.5 \" stroke=\"#000000\"/>\n",
       "<text fill=\"#000000\" font-family=\"Times,serif\" font-size=\"14.00\" text-anchor=\"middle\" x=\"1983.1348\" y=\"-574.3\">output:</text>\n",
       "<polyline fill=\"none\" points=\"2010.9692,-567.5 2010.9692,-611.5 \" stroke=\"#000000\"/>\n",
       "<text fill=\"#000000\" font-family=\"Times,serif\" font-size=\"14.00\" text-anchor=\"middle\" x=\"2052.7935\" y=\"-596.3\">(None, 5, 3)</text>\n",
       "<polyline fill=\"none\" points=\"2010.9692,-589.5 2094.6177,-589.5 \" stroke=\"#000000\"/>\n",
       "<text fill=\"#000000\" font-family=\"Times,serif\" font-size=\"14.00\" text-anchor=\"middle\" x=\"2052.7935\" y=\"-574.3\">(None, 5, 3)</text>\n",
       "</g>\n",
       "<!-- 4805812064 -->\n",
       "<g class=\"node\" id=\"node29\">\n",
       "<title>4805812064</title>\n",
       "<polygon fill=\"none\" points=\"1818.769,-486.5 1818.769,-530.5 2092.6899,-530.5 2092.6899,-486.5 1818.769,-486.5\" stroke=\"#000000\"/>\n",
       "<text fill=\"#000000\" font-family=\"Times,serif\" font-size=\"14.00\" text-anchor=\"middle\" x=\"1886.0708\" y=\"-504.3\">dropout_25: Dropout</text>\n",
       "<polyline fill=\"none\" points=\"1953.3726,-486.5 1953.3726,-530.5 \" stroke=\"#000000\"/>\n",
       "<text fill=\"#000000\" font-family=\"Times,serif\" font-size=\"14.00\" text-anchor=\"middle\" x=\"1981.207\" y=\"-515.3\">input:</text>\n",
       "<polyline fill=\"none\" points=\"1953.3726,-508.5 2009.0415,-508.5 \" stroke=\"#000000\"/>\n",
       "<text fill=\"#000000\" font-family=\"Times,serif\" font-size=\"14.00\" text-anchor=\"middle\" x=\"1981.207\" y=\"-493.3\">output:</text>\n",
       "<polyline fill=\"none\" points=\"2009.0415,-486.5 2009.0415,-530.5 \" stroke=\"#000000\"/>\n",
       "<text fill=\"#000000\" font-family=\"Times,serif\" font-size=\"14.00\" text-anchor=\"middle\" x=\"2050.8657\" y=\"-515.3\">(None, 5, 3)</text>\n",
       "<polyline fill=\"none\" points=\"2009.0415,-508.5 2092.6899,-508.5 \" stroke=\"#000000\"/>\n",
       "<text fill=\"#000000\" font-family=\"Times,serif\" font-size=\"14.00\" text-anchor=\"middle\" x=\"2050.8657\" y=\"-493.3\">(None, 5, 3)</text>\n",
       "</g>\n",
       "<!-- 4805368016&#45;&gt;4805812064 -->\n",
       "<g class=\"edge\" id=\"edge10\">\n",
       "<title>4805368016-&gt;4805812064</title>\n",
       "<path d=\"M1955.7295,-567.3664C1955.7295,-559.1516 1955.7295,-549.6579 1955.7295,-540.7252\" fill=\"none\" stroke=\"#000000\"/>\n",
       "<polygon fill=\"#000000\" points=\"1959.2296,-540.6068 1955.7295,-530.6068 1952.2296,-540.6069 1959.2296,-540.6068\" stroke=\"#000000\"/>\n",
       "</g>\n",
       "<!-- 4805336424 -->\n",
       "<g class=\"node\" id=\"node11\">\n",
       "<title>4805336424</title>\n",
       "<polygon fill=\"none\" points=\"2112.9551,-567.5 2112.9551,-611.5 2384.5039,-611.5 2384.5039,-567.5 2112.9551,-567.5\" stroke=\"#000000\"/>\n",
       "<text fill=\"#000000\" font-family=\"Times,serif\" font-size=\"14.00\" text-anchor=\"middle\" x=\"2179.0708\" y=\"-585.3\">MXcase: InputLayer</text>\n",
       "<polyline fill=\"none\" points=\"2245.1865,-567.5 2245.1865,-611.5 \" stroke=\"#000000\"/>\n",
       "<text fill=\"#000000\" font-family=\"Times,serif\" font-size=\"14.00\" text-anchor=\"middle\" x=\"2273.021\" y=\"-596.3\">input:</text>\n",
       "<polyline fill=\"none\" points=\"2245.1865,-589.5 2300.8555,-589.5 \" stroke=\"#000000\"/>\n",
       "<text fill=\"#000000\" font-family=\"Times,serif\" font-size=\"14.00\" text-anchor=\"middle\" x=\"2273.021\" y=\"-574.3\">output:</text>\n",
       "<polyline fill=\"none\" points=\"2300.8555,-567.5 2300.8555,-611.5 \" stroke=\"#000000\"/>\n",
       "<text fill=\"#000000\" font-family=\"Times,serif\" font-size=\"14.00\" text-anchor=\"middle\" x=\"2342.6797\" y=\"-596.3\">(None, 5, 5)</text>\n",
       "<polyline fill=\"none\" points=\"2300.8555,-589.5 2384.5039,-589.5 \" stroke=\"#000000\"/>\n",
       "<text fill=\"#000000\" font-family=\"Times,serif\" font-size=\"14.00\" text-anchor=\"middle\" x=\"2342.6797\" y=\"-574.3\">(None, 5, 5)</text>\n",
       "</g>\n",
       "<!-- 4811185848 -->\n",
       "<g class=\"node\" id=\"node30\">\n",
       "<title>4811185848</title>\n",
       "<polygon fill=\"none\" points=\"2114.769,-486.5 2114.769,-530.5 2388.6899,-530.5 2388.6899,-486.5 2114.769,-486.5\" stroke=\"#000000\"/>\n",
       "<text fill=\"#000000\" font-family=\"Times,serif\" font-size=\"14.00\" text-anchor=\"middle\" x=\"2182.0708\" y=\"-504.3\">dropout_26: Dropout</text>\n",
       "<polyline fill=\"none\" points=\"2249.3726,-486.5 2249.3726,-530.5 \" stroke=\"#000000\"/>\n",
       "<text fill=\"#000000\" font-family=\"Times,serif\" font-size=\"14.00\" text-anchor=\"middle\" x=\"2277.207\" y=\"-515.3\">input:</text>\n",
       "<polyline fill=\"none\" points=\"2249.3726,-508.5 2305.0415,-508.5 \" stroke=\"#000000\"/>\n",
       "<text fill=\"#000000\" font-family=\"Times,serif\" font-size=\"14.00\" text-anchor=\"middle\" x=\"2277.207\" y=\"-493.3\">output:</text>\n",
       "<polyline fill=\"none\" points=\"2305.0415,-486.5 2305.0415,-530.5 \" stroke=\"#000000\"/>\n",
       "<text fill=\"#000000\" font-family=\"Times,serif\" font-size=\"14.00\" text-anchor=\"middle\" x=\"2346.8657\" y=\"-515.3\">(None, 5, 5)</text>\n",
       "<polyline fill=\"none\" points=\"2305.0415,-508.5 2388.6899,-508.5 \" stroke=\"#000000\"/>\n",
       "<text fill=\"#000000\" font-family=\"Times,serif\" font-size=\"14.00\" text-anchor=\"middle\" x=\"2346.8657\" y=\"-493.3\">(None, 5, 5)</text>\n",
       "</g>\n",
       "<!-- 4805336424&#45;&gt;4811185848 -->\n",
       "<g class=\"edge\" id=\"edge11\">\n",
       "<title>4805336424-&gt;4811185848</title>\n",
       "<path d=\"M2249.5493,-567.3664C2249.8535,-559.1516 2250.2051,-549.6579 2250.536,-540.7252\" fill=\"none\" stroke=\"#000000\"/>\n",
       "<polygon fill=\"#000000\" points=\"2254.0381,-540.7296 2250.9107,-530.6068 2247.0429,-540.4704 2254.0381,-540.7296\" stroke=\"#000000\"/>\n",
       "</g>\n",
       "<!-- 4805368296 -->\n",
       "<g class=\"node\" id=\"node12\">\n",
       "<title>4805368296</title>\n",
       "<polygon fill=\"none\" points=\"2402.6172,-567.5 2402.6172,-611.5 2692.8418,-611.5 2692.8418,-567.5 2402.6172,-567.5\" stroke=\"#000000\"/>\n",
       "<text fill=\"#000000\" font-family=\"Times,serif\" font-size=\"14.00\" text-anchor=\"middle\" x=\"2478.0708\" y=\"-585.3\">MXnumber: InputLayer</text>\n",
       "<polyline fill=\"none\" points=\"2553.5244,-567.5 2553.5244,-611.5 \" stroke=\"#000000\"/>\n",
       "<text fill=\"#000000\" font-family=\"Times,serif\" font-size=\"14.00\" text-anchor=\"middle\" x=\"2581.3589\" y=\"-596.3\">input:</text>\n",
       "<polyline fill=\"none\" points=\"2553.5244,-589.5 2609.1934,-589.5 \" stroke=\"#000000\"/>\n",
       "<text fill=\"#000000\" font-family=\"Times,serif\" font-size=\"14.00\" text-anchor=\"middle\" x=\"2581.3589\" y=\"-574.3\">output:</text>\n",
       "<polyline fill=\"none\" points=\"2609.1934,-567.5 2609.1934,-611.5 \" stroke=\"#000000\"/>\n",
       "<text fill=\"#000000\" font-family=\"Times,serif\" font-size=\"14.00\" text-anchor=\"middle\" x=\"2651.0176\" y=\"-596.3\">(None, 5, 5)</text>\n",
       "<polyline fill=\"none\" points=\"2609.1934,-589.5 2692.8418,-589.5 \" stroke=\"#000000\"/>\n",
       "<text fill=\"#000000\" font-family=\"Times,serif\" font-size=\"14.00\" text-anchor=\"middle\" x=\"2651.0176\" y=\"-574.3\">(None, 5, 5)</text>\n",
       "</g>\n",
       "<!-- 4806687656 -->\n",
       "<g class=\"node\" id=\"node31\">\n",
       "<title>4806687656</title>\n",
       "<polygon fill=\"none\" points=\"2416.769,-486.5 2416.769,-530.5 2690.6899,-530.5 2690.6899,-486.5 2416.769,-486.5\" stroke=\"#000000\"/>\n",
       "<text fill=\"#000000\" font-family=\"Times,serif\" font-size=\"14.00\" text-anchor=\"middle\" x=\"2484.0708\" y=\"-504.3\">dropout_27: Dropout</text>\n",
       "<polyline fill=\"none\" points=\"2551.3726,-486.5 2551.3726,-530.5 \" stroke=\"#000000\"/>\n",
       "<text fill=\"#000000\" font-family=\"Times,serif\" font-size=\"14.00\" text-anchor=\"middle\" x=\"2579.207\" y=\"-515.3\">input:</text>\n",
       "<polyline fill=\"none\" points=\"2551.3726,-508.5 2607.0415,-508.5 \" stroke=\"#000000\"/>\n",
       "<text fill=\"#000000\" font-family=\"Times,serif\" font-size=\"14.00\" text-anchor=\"middle\" x=\"2579.207\" y=\"-493.3\">output:</text>\n",
       "<polyline fill=\"none\" points=\"2607.0415,-486.5 2607.0415,-530.5 \" stroke=\"#000000\"/>\n",
       "<text fill=\"#000000\" font-family=\"Times,serif\" font-size=\"14.00\" text-anchor=\"middle\" x=\"2648.8657\" y=\"-515.3\">(None, 5, 5)</text>\n",
       "<polyline fill=\"none\" points=\"2607.0415,-508.5 2690.6899,-508.5 \" stroke=\"#000000\"/>\n",
       "<text fill=\"#000000\" font-family=\"Times,serif\" font-size=\"14.00\" text-anchor=\"middle\" x=\"2648.8657\" y=\"-493.3\">(None, 5, 5)</text>\n",
       "</g>\n",
       "<!-- 4805368296&#45;&gt;4806687656 -->\n",
       "<g class=\"edge\" id=\"edge12\">\n",
       "<title>4805368296-&gt;4806687656</title>\n",
       "<path d=\"M2549.369,-567.3664C2549.9775,-559.1516 2550.6808,-549.6579 2551.3424,-540.7252\" fill=\"none\" stroke=\"#000000\"/>\n",
       "<polygon fill=\"#000000\" points=\"2554.8436,-540.8381 2552.0919,-530.6068 2547.8627,-540.3209 2554.8436,-540.8381\" stroke=\"#000000\"/>\n",
       "</g>\n",
       "<!-- 4805331712 -->\n",
       "<g class=\"node\" id=\"node13\">\n",
       "<title>4805331712</title>\n",
       "<polygon fill=\"none\" points=\"2710.5103,-567.5 2710.5103,-611.5 2992.9487,-611.5 2992.9487,-567.5 2710.5103,-567.5\" stroke=\"#000000\"/>\n",
       "<text fill=\"#000000\" font-family=\"Times,serif\" font-size=\"14.00\" text-anchor=\"middle\" x=\"2782.0708\" y=\"-585.3\">MXaspect: InputLayer</text>\n",
       "<polyline fill=\"none\" points=\"2853.6313,-567.5 2853.6313,-611.5 \" stroke=\"#000000\"/>\n",
       "<text fill=\"#000000\" font-family=\"Times,serif\" font-size=\"14.00\" text-anchor=\"middle\" x=\"2881.4658\" y=\"-596.3\">input:</text>\n",
       "<polyline fill=\"none\" points=\"2853.6313,-589.5 2909.3003,-589.5 \" stroke=\"#000000\"/>\n",
       "<text fill=\"#000000\" font-family=\"Times,serif\" font-size=\"14.00\" text-anchor=\"middle\" x=\"2881.4658\" y=\"-574.3\">output:</text>\n",
       "<polyline fill=\"none\" points=\"2909.3003,-567.5 2909.3003,-611.5 \" stroke=\"#000000\"/>\n",
       "<text fill=\"#000000\" font-family=\"Times,serif\" font-size=\"14.00\" text-anchor=\"middle\" x=\"2951.1245\" y=\"-596.3\">(None, 5, 5)</text>\n",
       "<polyline fill=\"none\" points=\"2909.3003,-589.5 2992.9487,-589.5 \" stroke=\"#000000\"/>\n",
       "<text fill=\"#000000\" font-family=\"Times,serif\" font-size=\"14.00\" text-anchor=\"middle\" x=\"2951.1245\" y=\"-574.3\">(None, 5, 5)</text>\n",
       "</g>\n",
       "<!-- 4805689128 -->\n",
       "<g class=\"node\" id=\"node32\">\n",
       "<title>4805689128</title>\n",
       "<polygon fill=\"none\" points=\"2714.769,-486.5 2714.769,-530.5 2988.6899,-530.5 2988.6899,-486.5 2714.769,-486.5\" stroke=\"#000000\"/>\n",
       "<text fill=\"#000000\" font-family=\"Times,serif\" font-size=\"14.00\" text-anchor=\"middle\" x=\"2782.0708\" y=\"-504.3\">dropout_28: Dropout</text>\n",
       "<polyline fill=\"none\" points=\"2849.3726,-486.5 2849.3726,-530.5 \" stroke=\"#000000\"/>\n",
       "<text fill=\"#000000\" font-family=\"Times,serif\" font-size=\"14.00\" text-anchor=\"middle\" x=\"2877.207\" y=\"-515.3\">input:</text>\n",
       "<polyline fill=\"none\" points=\"2849.3726,-508.5 2905.0415,-508.5 \" stroke=\"#000000\"/>\n",
       "<text fill=\"#000000\" font-family=\"Times,serif\" font-size=\"14.00\" text-anchor=\"middle\" x=\"2877.207\" y=\"-493.3\">output:</text>\n",
       "<polyline fill=\"none\" points=\"2905.0415,-486.5 2905.0415,-530.5 \" stroke=\"#000000\"/>\n",
       "<text fill=\"#000000\" font-family=\"Times,serif\" font-size=\"14.00\" text-anchor=\"middle\" x=\"2946.8657\" y=\"-515.3\">(None, 5, 5)</text>\n",
       "<polyline fill=\"none\" points=\"2905.0415,-508.5 2988.6899,-508.5 \" stroke=\"#000000\"/>\n",
       "<text fill=\"#000000\" font-family=\"Times,serif\" font-size=\"14.00\" text-anchor=\"middle\" x=\"2946.8657\" y=\"-493.3\">(None, 5, 5)</text>\n",
       "</g>\n",
       "<!-- 4805331712&#45;&gt;4805689128 -->\n",
       "<g class=\"edge\" id=\"edge13\">\n",
       "<title>4805331712-&gt;4805689128</title>\n",
       "<path d=\"M2851.7295,-567.3664C2851.7295,-559.1516 2851.7295,-549.6579 2851.7295,-540.7252\" fill=\"none\" stroke=\"#000000\"/>\n",
       "<polygon fill=\"#000000\" points=\"2855.2296,-540.6068 2851.7295,-530.6068 2848.2296,-540.6069 2855.2296,-540.6068\" stroke=\"#000000\"/>\n",
       "</g>\n",
       "<!-- 4805329528 -->\n",
       "<g class=\"node\" id=\"node14\">\n",
       "<title>4805329528</title>\n",
       "<polygon fill=\"none\" points=\"3011.1094,-567.5 3011.1094,-611.5 3286.3496,-611.5 3286.3496,-567.5 3011.1094,-567.5\" stroke=\"#000000\"/>\n",
       "<text fill=\"#000000\" font-family=\"Times,serif\" font-size=\"14.00\" text-anchor=\"middle\" x=\"3079.0708\" y=\"-585.3\">STaspect: InputLayer</text>\n",
       "<polyline fill=\"none\" points=\"3147.0322,-567.5 3147.0322,-611.5 \" stroke=\"#000000\"/>\n",
       "<text fill=\"#000000\" font-family=\"Times,serif\" font-size=\"14.00\" text-anchor=\"middle\" x=\"3174.8667\" y=\"-596.3\">input:</text>\n",
       "<polyline fill=\"none\" points=\"3147.0322,-589.5 3202.7012,-589.5 \" stroke=\"#000000\"/>\n",
       "<text fill=\"#000000\" font-family=\"Times,serif\" font-size=\"14.00\" text-anchor=\"middle\" x=\"3174.8667\" y=\"-574.3\">output:</text>\n",
       "<polyline fill=\"none\" points=\"3202.7012,-567.5 3202.7012,-611.5 \" stroke=\"#000000\"/>\n",
       "<text fill=\"#000000\" font-family=\"Times,serif\" font-size=\"14.00\" text-anchor=\"middle\" x=\"3244.5254\" y=\"-596.3\">(None, 5, 4)</text>\n",
       "<polyline fill=\"none\" points=\"3202.7012,-589.5 3286.3496,-589.5 \" stroke=\"#000000\"/>\n",
       "<text fill=\"#000000\" font-family=\"Times,serif\" font-size=\"14.00\" text-anchor=\"middle\" x=\"3244.5254\" y=\"-574.3\">(None, 5, 4)</text>\n",
       "</g>\n",
       "<!-- 4811386160 -->\n",
       "<g class=\"node\" id=\"node33\">\n",
       "<title>4811386160</title>\n",
       "<polygon fill=\"none\" points=\"3008.769,-486.5 3008.769,-530.5 3282.6899,-530.5 3282.6899,-486.5 3008.769,-486.5\" stroke=\"#000000\"/>\n",
       "<text fill=\"#000000\" font-family=\"Times,serif\" font-size=\"14.00\" text-anchor=\"middle\" x=\"3076.0708\" y=\"-504.3\">dropout_29: Dropout</text>\n",
       "<polyline fill=\"none\" points=\"3143.3726,-486.5 3143.3726,-530.5 \" stroke=\"#000000\"/>\n",
       "<text fill=\"#000000\" font-family=\"Times,serif\" font-size=\"14.00\" text-anchor=\"middle\" x=\"3171.207\" y=\"-515.3\">input:</text>\n",
       "<polyline fill=\"none\" points=\"3143.3726,-508.5 3199.0415,-508.5 \" stroke=\"#000000\"/>\n",
       "<text fill=\"#000000\" font-family=\"Times,serif\" font-size=\"14.00\" text-anchor=\"middle\" x=\"3171.207\" y=\"-493.3\">output:</text>\n",
       "<polyline fill=\"none\" points=\"3199.0415,-486.5 3199.0415,-530.5 \" stroke=\"#000000\"/>\n",
       "<text fill=\"#000000\" font-family=\"Times,serif\" font-size=\"14.00\" text-anchor=\"middle\" x=\"3240.8657\" y=\"-515.3\">(None, 5, 4)</text>\n",
       "<polyline fill=\"none\" points=\"3199.0415,-508.5 3282.6899,-508.5 \" stroke=\"#000000\"/>\n",
       "<text fill=\"#000000\" font-family=\"Times,serif\" font-size=\"14.00\" text-anchor=\"middle\" x=\"3240.8657\" y=\"-493.3\">(None, 5, 4)</text>\n",
       "</g>\n",
       "<!-- 4805329528&#45;&gt;4811386160 -->\n",
       "<g class=\"edge\" id=\"edge14\">\n",
       "<title>4805329528-&gt;4811386160</title>\n",
       "<path d=\"M3147.9097,-567.3664C3147.6055,-559.1516 3147.2539,-549.6579 3146.923,-540.7252\" fill=\"none\" stroke=\"#000000\"/>\n",
       "<polygon fill=\"#000000\" points=\"3150.4161,-540.4704 3146.5483,-530.6068 3143.4209,-540.7296 3150.4161,-540.4704\" stroke=\"#000000\"/>\n",
       "</g>\n",
       "<!-- 4804988152 -->\n",
       "<g class=\"node\" id=\"node34\">\n",
       "<title>4804988152</title>\n",
       "<polygon fill=\"none\" points=\"33.2861,-486.5 33.2861,-530.5 300.1729,-530.5 300.1729,-486.5 33.2861,-486.5\" stroke=\"#000000\"/>\n",
       "<text fill=\"#000000\" font-family=\"Times,serif\" font-size=\"14.00\" text-anchor=\"middle\" x=\"97.0708\" y=\"-504.3\">reshape_1: Reshape</text>\n",
       "<polyline fill=\"none\" points=\"160.8555,-486.5 160.8555,-530.5 \" stroke=\"#000000\"/>\n",
       "<text fill=\"#000000\" font-family=\"Times,serif\" font-size=\"14.00\" text-anchor=\"middle\" x=\"188.6899\" y=\"-515.3\">input:</text>\n",
       "<polyline fill=\"none\" points=\"160.8555,-508.5 216.5244,-508.5 \" stroke=\"#000000\"/>\n",
       "<text fill=\"#000000\" font-family=\"Times,serif\" font-size=\"14.00\" text-anchor=\"middle\" x=\"188.6899\" y=\"-493.3\">output:</text>\n",
       "<polyline fill=\"none\" points=\"216.5244,-486.5 216.5244,-530.5 \" stroke=\"#000000\"/>\n",
       "<text fill=\"#000000\" font-family=\"Times,serif\" font-size=\"14.00\" text-anchor=\"middle\" x=\"258.3486\" y=\"-515.3\">(None, 5, 2)</text>\n",
       "<polyline fill=\"none\" points=\"216.5244,-508.5 300.1729,-508.5 \" stroke=\"#000000\"/>\n",
       "<text fill=\"#000000\" font-family=\"Times,serif\" font-size=\"14.00\" text-anchor=\"middle\" x=\"258.3486\" y=\"-493.3\">(None, 5, 2)</text>\n",
       "</g>\n",
       "<!-- 4805301192&#45;&gt;4804988152 -->\n",
       "<g class=\"edge\" id=\"edge15\">\n",
       "<title>4805301192-&gt;4804988152</title>\n",
       "<path d=\"M155.8283,-567.3664C157.3496,-559.1516 159.1077,-549.6579 160.7619,-540.7252\" fill=\"none\" stroke=\"#000000\"/>\n",
       "<polygon fill=\"#000000\" points=\"164.2561,-541.077 162.6356,-530.6068 157.3732,-539.8023 164.2561,-541.077\" stroke=\"#000000\"/>\n",
       "</g>\n",
       "<!-- 4804870096 -->\n",
       "<g class=\"node\" id=\"node35\">\n",
       "<title>4804870096</title>\n",
       "<polygon fill=\"none\" points=\"3311.2861,-486.5 3311.2861,-530.5 3578.1729,-530.5 3578.1729,-486.5 3311.2861,-486.5\" stroke=\"#000000\"/>\n",
       "<text fill=\"#000000\" font-family=\"Times,serif\" font-size=\"14.00\" text-anchor=\"middle\" x=\"3375.0708\" y=\"-504.3\">reshape_2: Reshape</text>\n",
       "<polyline fill=\"none\" points=\"3438.8555,-486.5 3438.8555,-530.5 \" stroke=\"#000000\"/>\n",
       "<text fill=\"#000000\" font-family=\"Times,serif\" font-size=\"14.00\" text-anchor=\"middle\" x=\"3466.6899\" y=\"-515.3\">input:</text>\n",
       "<polyline fill=\"none\" points=\"3438.8555,-508.5 3494.5244,-508.5 \" stroke=\"#000000\"/>\n",
       "<text fill=\"#000000\" font-family=\"Times,serif\" font-size=\"14.00\" text-anchor=\"middle\" x=\"3466.6899\" y=\"-493.3\">output:</text>\n",
       "<polyline fill=\"none\" points=\"3494.5244,-486.5 3494.5244,-530.5 \" stroke=\"#000000\"/>\n",
       "<text fill=\"#000000\" font-family=\"Times,serif\" font-size=\"14.00\" text-anchor=\"middle\" x=\"3536.3486\" y=\"-515.3\">(None, 5, 2)</text>\n",
       "<polyline fill=\"none\" points=\"3494.5244,-508.5 3578.1729,-508.5 \" stroke=\"#000000\"/>\n",
       "<text fill=\"#000000\" font-family=\"Times,serif\" font-size=\"14.00\" text-anchor=\"middle\" x=\"3536.3486\" y=\"-493.3\">(None, 5, 2)</text>\n",
       "</g>\n",
       "<!-- 4804822632&#45;&gt;4804870096 -->\n",
       "<g class=\"edge\" id=\"edge16\">\n",
       "<title>4804822632-&gt;4804870096</title>\n",
       "<path d=\"M3452.7237,-567.3664C3451.6081,-559.1516 3450.3188,-549.6579 3449.1057,-540.7252\" fill=\"none\" stroke=\"#000000\"/>\n",
       "<polygon fill=\"#000000\" points=\"3452.5456,-540.0449 3447.7317,-530.6068 3445.6092,-540.9869 3452.5456,-540.0449\" stroke=\"#000000\"/>\n",
       "</g>\n",
       "<!-- 4805821160 -->\n",
       "<g class=\"node\" id=\"node17\">\n",
       "<title>4805821160</title>\n",
       "<polygon fill=\"none\" points=\"3625.9517,-567.5 3625.9517,-611.5 3897.5073,-611.5 3897.5073,-567.5 3625.9517,-567.5\" stroke=\"#000000\"/>\n",
       "<text fill=\"#000000\" font-family=\"Times,serif\" font-size=\"14.00\" text-anchor=\"middle\" x=\"3692.0708\" y=\"-585.3\">STvoice: InputLayer</text>\n",
       "<polyline fill=\"none\" points=\"3758.1899,-567.5 3758.1899,-611.5 \" stroke=\"#000000\"/>\n",
       "<text fill=\"#000000\" font-family=\"Times,serif\" font-size=\"14.00\" text-anchor=\"middle\" x=\"3786.0244\" y=\"-596.3\">input:</text>\n",
       "<polyline fill=\"none\" points=\"3758.1899,-589.5 3813.8589,-589.5 \" stroke=\"#000000\"/>\n",
       "<text fill=\"#000000\" font-family=\"Times,serif\" font-size=\"14.00\" text-anchor=\"middle\" x=\"3786.0244\" y=\"-574.3\">output:</text>\n",
       "<polyline fill=\"none\" points=\"3813.8589,-567.5 3813.8589,-611.5 \" stroke=\"#000000\"/>\n",
       "<text fill=\"#000000\" font-family=\"Times,serif\" font-size=\"14.00\" text-anchor=\"middle\" x=\"3855.6831\" y=\"-596.3\">(None, 5, 3)</text>\n",
       "<polyline fill=\"none\" points=\"3813.8589,-589.5 3897.5073,-589.5 \" stroke=\"#000000\"/>\n",
       "<text fill=\"#000000\" font-family=\"Times,serif\" font-size=\"14.00\" text-anchor=\"middle\" x=\"3855.6831\" y=\"-574.3\">(None, 5, 3)</text>\n",
       "</g>\n",
       "<!-- 4804729880 -->\n",
       "<g class=\"node\" id=\"node36\">\n",
       "<title>4804729880</title>\n",
       "<polygon fill=\"none\" points=\"3609.769,-486.5 3609.769,-530.5 3883.6899,-530.5 3883.6899,-486.5 3609.769,-486.5\" stroke=\"#000000\"/>\n",
       "<text fill=\"#000000\" font-family=\"Times,serif\" font-size=\"14.00\" text-anchor=\"middle\" x=\"3677.0708\" y=\"-504.3\">dropout_30: Dropout</text>\n",
       "<polyline fill=\"none\" points=\"3744.3726,-486.5 3744.3726,-530.5 \" stroke=\"#000000\"/>\n",
       "<text fill=\"#000000\" font-family=\"Times,serif\" font-size=\"14.00\" text-anchor=\"middle\" x=\"3772.207\" y=\"-515.3\">input:</text>\n",
       "<polyline fill=\"none\" points=\"3744.3726,-508.5 3800.0415,-508.5 \" stroke=\"#000000\"/>\n",
       "<text fill=\"#000000\" font-family=\"Times,serif\" font-size=\"14.00\" text-anchor=\"middle\" x=\"3772.207\" y=\"-493.3\">output:</text>\n",
       "<polyline fill=\"none\" points=\"3800.0415,-486.5 3800.0415,-530.5 \" stroke=\"#000000\"/>\n",
       "<text fill=\"#000000\" font-family=\"Times,serif\" font-size=\"14.00\" text-anchor=\"middle\" x=\"3841.8657\" y=\"-515.3\">(None, 5, 3)</text>\n",
       "<polyline fill=\"none\" points=\"3800.0415,-508.5 3883.6899,-508.5 \" stroke=\"#000000\"/>\n",
       "<text fill=\"#000000\" font-family=\"Times,serif\" font-size=\"14.00\" text-anchor=\"middle\" x=\"3841.8657\" y=\"-493.3\">(None, 5, 3)</text>\n",
       "</g>\n",
       "<!-- 4805821160&#45;&gt;4804729880 -->\n",
       "<g class=\"edge\" id=\"edge17\">\n",
       "<title>4805821160-&gt;4804729880</title>\n",
       "<path d=\"M3757.6307,-567.3664C3756.1094,-559.1516 3754.3513,-549.6579 3752.6971,-540.7252\" fill=\"none\" stroke=\"#000000\"/>\n",
       "<polygon fill=\"#000000\" points=\"3756.0858,-539.8023 3750.8234,-530.6068 3749.2028,-541.077 3756.0858,-539.8023\" stroke=\"#000000\"/>\n",
       "</g>\n",
       "<!-- 4804650432 -->\n",
       "<g class=\"node\" id=\"node37\">\n",
       "<title>4804650432</title>\n",
       "<polygon fill=\"none\" points=\"3917.2861,-486.5 3917.2861,-530.5 4184.1729,-530.5 4184.1729,-486.5 3917.2861,-486.5\" stroke=\"#000000\"/>\n",
       "<text fill=\"#000000\" font-family=\"Times,serif\" font-size=\"14.00\" text-anchor=\"middle\" x=\"3981.0708\" y=\"-504.3\">reshape_3: Reshape</text>\n",
       "<polyline fill=\"none\" points=\"4044.8555,-486.5 4044.8555,-530.5 \" stroke=\"#000000\"/>\n",
       "<text fill=\"#000000\" font-family=\"Times,serif\" font-size=\"14.00\" text-anchor=\"middle\" x=\"4072.6899\" y=\"-515.3\">input:</text>\n",
       "<polyline fill=\"none\" points=\"4044.8555,-508.5 4100.5244,-508.5 \" stroke=\"#000000\"/>\n",
       "<text fill=\"#000000\" font-family=\"Times,serif\" font-size=\"14.00\" text-anchor=\"middle\" x=\"4072.6899\" y=\"-493.3\">output:</text>\n",
       "<polyline fill=\"none\" points=\"4100.5244,-486.5 4100.5244,-530.5 \" stroke=\"#000000\"/>\n",
       "<text fill=\"#000000\" font-family=\"Times,serif\" font-size=\"14.00\" text-anchor=\"middle\" x=\"4142.3486\" y=\"-515.3\">(None, 5, 2)</text>\n",
       "<polyline fill=\"none\" points=\"4100.5244,-508.5 4184.1729,-508.5 \" stroke=\"#000000\"/>\n",
       "<text fill=\"#000000\" font-family=\"Times,serif\" font-size=\"14.00\" text-anchor=\"middle\" x=\"4142.3486\" y=\"-493.3\">(None, 5, 2)</text>\n",
       "</g>\n",
       "<!-- 4804580296&#45;&gt;4804650432 -->\n",
       "<g class=\"edge\" id=\"edge18\">\n",
       "<title>4804580296-&gt;4804650432</title>\n",
       "<path d=\"M4063.0842,-567.3664C4061.3413,-559.0624 4059.3242,-549.4514 4057.4317,-540.4341\" fill=\"none\" stroke=\"#000000\"/>\n",
       "<polygon fill=\"#000000\" points=\"4060.8487,-539.6747 4055.3692,-530.6068 4053.9979,-541.1126 4060.8487,-539.6747\" stroke=\"#000000\"/>\n",
       "</g>\n",
       "<!-- 4804640720 -->\n",
       "<g class=\"node\" id=\"node38\">\n",
       "<title>4804640720</title>\n",
       "<polygon fill=\"none\" points=\"4228.2861,-486.5 4228.2861,-530.5 4495.1729,-530.5 4495.1729,-486.5 4228.2861,-486.5\" stroke=\"#000000\"/>\n",
       "<text fill=\"#000000\" font-family=\"Times,serif\" font-size=\"14.00\" text-anchor=\"middle\" x=\"4292.0708\" y=\"-504.3\">reshape_4: Reshape</text>\n",
       "<polyline fill=\"none\" points=\"4355.8555,-486.5 4355.8555,-530.5 \" stroke=\"#000000\"/>\n",
       "<text fill=\"#000000\" font-family=\"Times,serif\" font-size=\"14.00\" text-anchor=\"middle\" x=\"4383.6899\" y=\"-515.3\">input:</text>\n",
       "<polyline fill=\"none\" points=\"4355.8555,-508.5 4411.5244,-508.5 \" stroke=\"#000000\"/>\n",
       "<text fill=\"#000000\" font-family=\"Times,serif\" font-size=\"14.00\" text-anchor=\"middle\" x=\"4383.6899\" y=\"-493.3\">output:</text>\n",
       "<polyline fill=\"none\" points=\"4411.5244,-486.5 4411.5244,-530.5 \" stroke=\"#000000\"/>\n",
       "<text fill=\"#000000\" font-family=\"Times,serif\" font-size=\"14.00\" text-anchor=\"middle\" x=\"4453.3486\" y=\"-515.3\">(None, 5, 2)</text>\n",
       "<polyline fill=\"none\" points=\"4411.5244,-508.5 4495.1729,-508.5 \" stroke=\"#000000\"/>\n",
       "<text fill=\"#000000\" font-family=\"Times,serif\" font-size=\"14.00\" text-anchor=\"middle\" x=\"4453.3486\" y=\"-493.3\">(None, 5, 2)</text>\n",
       "</g>\n",
       "<!-- 4804753336&#45;&gt;4804640720 -->\n",
       "<g class=\"edge\" id=\"edge19\">\n",
       "<title>4804753336-&gt;4804640720</title>\n",
       "<path d=\"M4381.3516,-567.3664C4378.5538,-558.9731 4375.311,-549.2445 4372.2773,-540.1434\" fill=\"none\" stroke=\"#000000\"/>\n",
       "<polygon fill=\"#000000\" points=\"4375.5812,-538.9869 4369.0984,-530.6068 4368.9404,-541.2005 4375.5812,-538.9869\" stroke=\"#000000\"/>\n",
       "</g>\n",
       "<!-- 4805838552 -->\n",
       "<g class=\"node\" id=\"node20\">\n",
       "<title>4805838552</title>\n",
       "<polygon fill=\"none\" points=\"4558.8413,-567.5 4558.8413,-611.5 4836.6177,-611.5 4836.6177,-567.5 4558.8413,-567.5\" stroke=\"#000000\"/>\n",
       "<text fill=\"#000000\" font-family=\"Times,serif\" font-size=\"14.00\" text-anchor=\"middle\" x=\"4628.0708\" y=\"-585.3\">MXvoice: InputLayer</text>\n",
       "<polyline fill=\"none\" points=\"4697.3003,-567.5 4697.3003,-611.5 \" stroke=\"#000000\"/>\n",
       "<text fill=\"#000000\" font-family=\"Times,serif\" font-size=\"14.00\" text-anchor=\"middle\" x=\"4725.1348\" y=\"-596.3\">input:</text>\n",
       "<polyline fill=\"none\" points=\"4697.3003,-589.5 4752.9692,-589.5 \" stroke=\"#000000\"/>\n",
       "<text fill=\"#000000\" font-family=\"Times,serif\" font-size=\"14.00\" text-anchor=\"middle\" x=\"4725.1348\" y=\"-574.3\">output:</text>\n",
       "<polyline fill=\"none\" points=\"4752.9692,-567.5 4752.9692,-611.5 \" stroke=\"#000000\"/>\n",
       "<text fill=\"#000000\" font-family=\"Times,serif\" font-size=\"14.00\" text-anchor=\"middle\" x=\"4794.7935\" y=\"-596.3\">(None, 5, 4)</text>\n",
       "<polyline fill=\"none\" points=\"4752.9692,-589.5 4836.6177,-589.5 \" stroke=\"#000000\"/>\n",
       "<text fill=\"#000000\" font-family=\"Times,serif\" font-size=\"14.00\" text-anchor=\"middle\" x=\"4794.7935\" y=\"-574.3\">(None, 5, 4)</text>\n",
       "</g>\n",
       "<!-- 4804389128 -->\n",
       "<g class=\"node\" id=\"node39\">\n",
       "<title>4804389128</title>\n",
       "<polygon fill=\"none\" points=\"4536.769,-486.5 4536.769,-530.5 4810.6899,-530.5 4810.6899,-486.5 4536.769,-486.5\" stroke=\"#000000\"/>\n",
       "<text fill=\"#000000\" font-family=\"Times,serif\" font-size=\"14.00\" text-anchor=\"middle\" x=\"4604.0708\" y=\"-504.3\">dropout_31: Dropout</text>\n",
       "<polyline fill=\"none\" points=\"4671.3726,-486.5 4671.3726,-530.5 \" stroke=\"#000000\"/>\n",
       "<text fill=\"#000000\" font-family=\"Times,serif\" font-size=\"14.00\" text-anchor=\"middle\" x=\"4699.207\" y=\"-515.3\">input:</text>\n",
       "<polyline fill=\"none\" points=\"4671.3726,-508.5 4727.0415,-508.5 \" stroke=\"#000000\"/>\n",
       "<text fill=\"#000000\" font-family=\"Times,serif\" font-size=\"14.00\" text-anchor=\"middle\" x=\"4699.207\" y=\"-493.3\">output:</text>\n",
       "<polyline fill=\"none\" points=\"4727.0415,-486.5 4727.0415,-530.5 \" stroke=\"#000000\"/>\n",
       "<text fill=\"#000000\" font-family=\"Times,serif\" font-size=\"14.00\" text-anchor=\"middle\" x=\"4768.8657\" y=\"-515.3\">(None, 5, 4)</text>\n",
       "<polyline fill=\"none\" points=\"4727.0415,-508.5 4810.6899,-508.5 \" stroke=\"#000000\"/>\n",
       "<text fill=\"#000000\" font-family=\"Times,serif\" font-size=\"14.00\" text-anchor=\"middle\" x=\"4768.8657\" y=\"-493.3\">(None, 5, 4)</text>\n",
       "</g>\n",
       "<!-- 4805838552&#45;&gt;4804389128 -->\n",
       "<g class=\"edge\" id=\"edge20\">\n",
       "<title>4805838552-&gt;4804389128</title>\n",
       "<path d=\"M4691.1714,-567.3664C4688.7109,-559.0624 4685.8632,-549.4514 4683.1914,-540.4341\" fill=\"none\" stroke=\"#000000\"/>\n",
       "<polygon fill=\"#000000\" points=\"4686.4764,-539.2005 4680.2797,-530.6068 4679.7648,-541.1892 4686.4764,-539.2005\" stroke=\"#000000\"/>\n",
       "</g>\n",
       "<!-- 4805347144 -->\n",
       "<g class=\"node\" id=\"node21\">\n",
       "<title>4805347144</title>\n",
       "<polygon fill=\"none\" points=\"4854.3379,-567.5 4854.3379,-611.5 5139.1211,-611.5 5139.1211,-567.5 4854.3379,-567.5\" stroke=\"#000000\"/>\n",
       "<text fill=\"#000000\" font-family=\"Times,serif\" font-size=\"14.00\" text-anchor=\"middle\" x=\"4927.0708\" y=\"-585.3\">MXperson: InputLayer</text>\n",
       "<polyline fill=\"none\" points=\"4999.8037,-567.5 4999.8037,-611.5 \" stroke=\"#000000\"/>\n",
       "<text fill=\"#000000\" font-family=\"Times,serif\" font-size=\"14.00\" text-anchor=\"middle\" x=\"5027.6382\" y=\"-596.3\">input:</text>\n",
       "<polyline fill=\"none\" points=\"4999.8037,-589.5 5055.4727,-589.5 \" stroke=\"#000000\"/>\n",
       "<text fill=\"#000000\" font-family=\"Times,serif\" font-size=\"14.00\" text-anchor=\"middle\" x=\"5027.6382\" y=\"-574.3\">output:</text>\n",
       "<polyline fill=\"none\" points=\"5055.4727,-567.5 5055.4727,-611.5 \" stroke=\"#000000\"/>\n",
       "<text fill=\"#000000\" font-family=\"Times,serif\" font-size=\"14.00\" text-anchor=\"middle\" x=\"5097.2969\" y=\"-596.3\">(None, 5, 5)</text>\n",
       "<polyline fill=\"none\" points=\"5055.4727,-589.5 5139.1211,-589.5 \" stroke=\"#000000\"/>\n",
       "<text fill=\"#000000\" font-family=\"Times,serif\" font-size=\"14.00\" text-anchor=\"middle\" x=\"5097.2969\" y=\"-574.3\">(None, 5, 5)</text>\n",
       "</g>\n",
       "<!-- 4805291704 -->\n",
       "<g class=\"node\" id=\"node40\">\n",
       "<title>4805291704</title>\n",
       "<polygon fill=\"none\" points=\"4843.769,-486.5 4843.769,-530.5 5117.6899,-530.5 5117.6899,-486.5 4843.769,-486.5\" stroke=\"#000000\"/>\n",
       "<text fill=\"#000000\" font-family=\"Times,serif\" font-size=\"14.00\" text-anchor=\"middle\" x=\"4911.0708\" y=\"-504.3\">dropout_32: Dropout</text>\n",
       "<polyline fill=\"none\" points=\"4978.3726,-486.5 4978.3726,-530.5 \" stroke=\"#000000\"/>\n",
       "<text fill=\"#000000\" font-family=\"Times,serif\" font-size=\"14.00\" text-anchor=\"middle\" x=\"5006.207\" y=\"-515.3\">input:</text>\n",
       "<polyline fill=\"none\" points=\"4978.3726,-508.5 5034.0415,-508.5 \" stroke=\"#000000\"/>\n",
       "<text fill=\"#000000\" font-family=\"Times,serif\" font-size=\"14.00\" text-anchor=\"middle\" x=\"5006.207\" y=\"-493.3\">output:</text>\n",
       "<polyline fill=\"none\" points=\"5034.0415,-486.5 5034.0415,-530.5 \" stroke=\"#000000\"/>\n",
       "<text fill=\"#000000\" font-family=\"Times,serif\" font-size=\"14.00\" text-anchor=\"middle\" x=\"5075.8657\" y=\"-515.3\">(None, 5, 5)</text>\n",
       "<polyline fill=\"none\" points=\"5034.0415,-508.5 5117.6899,-508.5 \" stroke=\"#000000\"/>\n",
       "<text fill=\"#000000\" font-family=\"Times,serif\" font-size=\"14.00\" text-anchor=\"middle\" x=\"5075.8657\" y=\"-493.3\">(None, 5, 5)</text>\n",
       "</g>\n",
       "<!-- 4805347144&#45;&gt;4805291704 -->\n",
       "<g class=\"edge\" id=\"edge21\">\n",
       "<title>4805347144-&gt;4805291704</title>\n",
       "<path d=\"M4992.3574,-567.3664C4990.7171,-559.0624 4988.8187,-549.4514 4987.0375,-540.4341\" fill=\"none\" stroke=\"#000000\"/>\n",
       "<polygon fill=\"#000000\" points=\"4990.4679,-539.739 4985.0963,-530.6068 4983.6006,-541.0956 4990.4679,-539.739\" stroke=\"#000000\"/>\n",
       "</g>\n",
       "<!-- 4805346472 -->\n",
       "<g class=\"node\" id=\"node22\">\n",
       "<title>4805346472</title>\n",
       "<polygon fill=\"none\" points=\"5157.0552,-567.5 5157.0552,-611.5 5436.4038,-611.5 5436.4038,-567.5 5157.0552,-567.5\" stroke=\"#000000\"/>\n",
       "<text fill=\"#000000\" font-family=\"Times,serif\" font-size=\"14.00\" text-anchor=\"middle\" x=\"5227.0708\" y=\"-585.3\">MXmood: InputLayer</text>\n",
       "<polyline fill=\"none\" points=\"5297.0864,-567.5 5297.0864,-611.5 \" stroke=\"#000000\"/>\n",
       "<text fill=\"#000000\" font-family=\"Times,serif\" font-size=\"14.00\" text-anchor=\"middle\" x=\"5324.9209\" y=\"-596.3\">input:</text>\n",
       "<polyline fill=\"none\" points=\"5297.0864,-589.5 5352.7554,-589.5 \" stroke=\"#000000\"/>\n",
       "<text fill=\"#000000\" font-family=\"Times,serif\" font-size=\"14.00\" text-anchor=\"middle\" x=\"5324.9209\" y=\"-574.3\">output:</text>\n",
       "<polyline fill=\"none\" points=\"5352.7554,-567.5 5352.7554,-611.5 \" stroke=\"#000000\"/>\n",
       "<text fill=\"#000000\" font-family=\"Times,serif\" font-size=\"14.00\" text-anchor=\"middle\" x=\"5394.5796\" y=\"-596.3\">(None, 5, 4)</text>\n",
       "<polyline fill=\"none\" points=\"5352.7554,-589.5 5436.4038,-589.5 \" stroke=\"#000000\"/>\n",
       "<text fill=\"#000000\" font-family=\"Times,serif\" font-size=\"14.00\" text-anchor=\"middle\" x=\"5394.5796\" y=\"-574.3\">(None, 5, 4)</text>\n",
       "</g>\n",
       "<!-- 4804369992 -->\n",
       "<g class=\"node\" id=\"node41\">\n",
       "<title>4804369992</title>\n",
       "<polygon fill=\"none\" points=\"5147.769,-486.5 5147.769,-530.5 5421.6899,-530.5 5421.6899,-486.5 5147.769,-486.5\" stroke=\"#000000\"/>\n",
       "<text fill=\"#000000\" font-family=\"Times,serif\" font-size=\"14.00\" text-anchor=\"middle\" x=\"5215.0708\" y=\"-504.3\">dropout_33: Dropout</text>\n",
       "<polyline fill=\"none\" points=\"5282.3726,-486.5 5282.3726,-530.5 \" stroke=\"#000000\"/>\n",
       "<text fill=\"#000000\" font-family=\"Times,serif\" font-size=\"14.00\" text-anchor=\"middle\" x=\"5310.207\" y=\"-515.3\">input:</text>\n",
       "<polyline fill=\"none\" points=\"5282.3726,-508.5 5338.0415,-508.5 \" stroke=\"#000000\"/>\n",
       "<text fill=\"#000000\" font-family=\"Times,serif\" font-size=\"14.00\" text-anchor=\"middle\" x=\"5310.207\" y=\"-493.3\">output:</text>\n",
       "<polyline fill=\"none\" points=\"5338.0415,-486.5 5338.0415,-530.5 \" stroke=\"#000000\"/>\n",
       "<text fill=\"#000000\" font-family=\"Times,serif\" font-size=\"14.00\" text-anchor=\"middle\" x=\"5379.8657\" y=\"-515.3\">(None, 5, 4)</text>\n",
       "<polyline fill=\"none\" points=\"5338.0415,-508.5 5421.6899,-508.5 \" stroke=\"#000000\"/>\n",
       "<text fill=\"#000000\" font-family=\"Times,serif\" font-size=\"14.00\" text-anchor=\"middle\" x=\"5379.8657\" y=\"-493.3\">(None, 5, 4)</text>\n",
       "</g>\n",
       "<!-- 4805346472&#45;&gt;4804369992 -->\n",
       "<g class=\"edge\" id=\"edge22\">\n",
       "<title>4805346472-&gt;4804369992</title>\n",
       "<path d=\"M5293.4504,-567.3664C5292.2334,-559.1516 5290.827,-549.6579 5289.5036,-540.7252\" fill=\"none\" stroke=\"#000000\"/>\n",
       "<polygon fill=\"#000000\" points=\"5292.9324,-539.9859 5288.0046,-530.6068 5286.0079,-541.0118 5292.9324,-539.9859\" stroke=\"#000000\"/>\n",
       "</g>\n",
       "<!-- 4805346976 -->\n",
       "<g class=\"node\" id=\"node23\">\n",
       "<title>4805346976</title>\n",
       "<polygon fill=\"none\" points=\"5454.5103,-567.5 5454.5103,-611.5 5736.9487,-611.5 5736.9487,-567.5 5454.5103,-567.5\" stroke=\"#000000\"/>\n",
       "<text fill=\"#000000\" font-family=\"Times,serif\" font-size=\"14.00\" text-anchor=\"middle\" x=\"5526.0708\" y=\"-585.3\">AMaspect: InputLayer</text>\n",
       "<polyline fill=\"none\" points=\"5597.6313,-567.5 5597.6313,-611.5 \" stroke=\"#000000\"/>\n",
       "<text fill=\"#000000\" font-family=\"Times,serif\" font-size=\"14.00\" text-anchor=\"middle\" x=\"5625.4658\" y=\"-596.3\">input:</text>\n",
       "<polyline fill=\"none\" points=\"5597.6313,-589.5 5653.3003,-589.5 \" stroke=\"#000000\"/>\n",
       "<text fill=\"#000000\" font-family=\"Times,serif\" font-size=\"14.00\" text-anchor=\"middle\" x=\"5625.4658\" y=\"-574.3\">output:</text>\n",
       "<polyline fill=\"none\" points=\"5653.3003,-567.5 5653.3003,-611.5 \" stroke=\"#000000\"/>\n",
       "<text fill=\"#000000\" font-family=\"Times,serif\" font-size=\"14.00\" text-anchor=\"middle\" x=\"5695.1245\" y=\"-596.3\">(None, 5, 4)</text>\n",
       "<polyline fill=\"none\" points=\"5653.3003,-589.5 5736.9487,-589.5 \" stroke=\"#000000\"/>\n",
       "<text fill=\"#000000\" font-family=\"Times,serif\" font-size=\"14.00\" text-anchor=\"middle\" x=\"5695.1245\" y=\"-574.3\">(None, 5, 4)</text>\n",
       "</g>\n",
       "<!-- 4804201328 -->\n",
       "<g class=\"node\" id=\"node42\">\n",
       "<title>4804201328</title>\n",
       "<polygon fill=\"none\" points=\"5448.769,-486.5 5448.769,-530.5 5722.6899,-530.5 5722.6899,-486.5 5448.769,-486.5\" stroke=\"#000000\"/>\n",
       "<text fill=\"#000000\" font-family=\"Times,serif\" font-size=\"14.00\" text-anchor=\"middle\" x=\"5516.0708\" y=\"-504.3\">dropout_34: Dropout</text>\n",
       "<polyline fill=\"none\" points=\"5583.3726,-486.5 5583.3726,-530.5 \" stroke=\"#000000\"/>\n",
       "<text fill=\"#000000\" font-family=\"Times,serif\" font-size=\"14.00\" text-anchor=\"middle\" x=\"5611.207\" y=\"-515.3\">input:</text>\n",
       "<polyline fill=\"none\" points=\"5583.3726,-508.5 5639.0415,-508.5 \" stroke=\"#000000\"/>\n",
       "<text fill=\"#000000\" font-family=\"Times,serif\" font-size=\"14.00\" text-anchor=\"middle\" x=\"5611.207\" y=\"-493.3\">output:</text>\n",
       "<polyline fill=\"none\" points=\"5639.0415,-486.5 5639.0415,-530.5 \" stroke=\"#000000\"/>\n",
       "<text fill=\"#000000\" font-family=\"Times,serif\" font-size=\"14.00\" text-anchor=\"middle\" x=\"5680.8657\" y=\"-515.3\">(None, 5, 4)</text>\n",
       "<polyline fill=\"none\" points=\"5639.0415,-508.5 5722.6899,-508.5 \" stroke=\"#000000\"/>\n",
       "<text fill=\"#000000\" font-family=\"Times,serif\" font-size=\"14.00\" text-anchor=\"middle\" x=\"5680.8657\" y=\"-493.3\">(None, 5, 4)</text>\n",
       "</g>\n",
       "<!-- 4805346976&#45;&gt;4804201328 -->\n",
       "<g class=\"edge\" id=\"edge23\">\n",
       "<title>4805346976-&gt;4804201328</title>\n",
       "<path d=\"M5592.9969,-567.3664C5591.9828,-559.1516 5590.8107,-549.6579 5589.7079,-540.7252\" fill=\"none\" stroke=\"#000000\"/>\n",
       "<polygon fill=\"#000000\" points=\"5593.1577,-540.1026 5588.4587,-530.6068 5586.2105,-540.9604 5593.1577,-540.1026\" stroke=\"#000000\"/>\n",
       "</g>\n",
       "<!-- 4805368128 -->\n",
       "<g class=\"node\" id=\"node43\">\n",
       "<title>4805368128</title>\n",
       "<polygon fill=\"none\" points=\"2019.2534,-405.5 2019.2534,-449.5 3684.2056,-449.5 3684.2056,-405.5 2019.2534,-405.5\" stroke=\"#000000\"/>\n",
       "<text fill=\"#000000\" font-family=\"Times,serif\" font-size=\"14.00\" text-anchor=\"middle\" x=\"2105.5728\" y=\"-423.3\">concatenate_2: Concatenate</text>\n",
       "<polyline fill=\"none\" points=\"2191.8921,-405.5 2191.8921,-449.5 \" stroke=\"#000000\"/>\n",
       "<text fill=\"#000000\" font-family=\"Times,serif\" font-size=\"14.00\" text-anchor=\"middle\" x=\"2219.7266\" y=\"-434.3\">input:</text>\n",
       "<polyline fill=\"none\" points=\"2191.8921,-427.5 2247.561,-427.5 \" stroke=\"#000000\"/>\n",
       "<text fill=\"#000000\" font-family=\"Times,serif\" font-size=\"14.00\" text-anchor=\"middle\" x=\"2219.7266\" y=\"-412.3\">output:</text>\n",
       "<polyline fill=\"none\" points=\"2247.561,-405.5 2247.561,-449.5 \" stroke=\"#000000\"/>\n",
       "<text fill=\"#000000\" font-family=\"Times,serif\" font-size=\"14.00\" text-anchor=\"middle\" x=\"2965.8833\" y=\"-434.3\">[(None, 5, 2), (None, 5, 3), (None, 5, 3), (None, 5, 4), (None, 5, 4), (None, 5, 3), (None, 5, 5), (None, 5, 5), (None, 5, 5), (None, 5, 4), (None, 5, 2), (None, 5, 2), (None, 5, 3), (None, 5, 2), (None, 5, 2), (None, 5, 4), (None, 5, 5), (None, 5, 4), (None, 5, 4)]</text>\n",
       "<polyline fill=\"none\" points=\"2247.561,-427.5 3684.2056,-427.5 \" stroke=\"#000000\"/>\n",
       "<text fill=\"#000000\" font-family=\"Times,serif\" font-size=\"14.00\" text-anchor=\"middle\" x=\"2965.3853\" y=\"-412.3\">(None, 5, 66)</text>\n",
       "</g>\n",
       "<!-- 4805801856&#45;&gt;4805368128 -->\n",
       "<g class=\"edge\" id=\"edge24\">\n",
       "<title>4805801856-&gt;4805368128</title>\n",
       "<path d=\"M601.9702,-487.7015C607.9646,-487.0699 613.9045,-486.4974 619.7295,-486 881.5923,-463.6407 1492.2754,-448.555 2008.776,-439.3107\" fill=\"none\" stroke=\"#000000\"/>\n",
       "<polygon fill=\"#000000\" points=\"2009.1093,-442.8054 2019.0452,-439.1275 2008.9843,-435.8065 2009.1093,-442.8054\" stroke=\"#000000\"/>\n",
       "</g>\n",
       "<!-- 4805810384&#45;&gt;4805368128 -->\n",
       "<g class=\"edge\" id=\"edge25\">\n",
       "<title>4805810384-&gt;4805368128</title>\n",
       "<path d=\"M903.0176,-487.8226C909.3353,-487.1472 915.5958,-486.5336 921.7295,-486 1129.1365,-467.9575 1589.6271,-453.6515 2008.7851,-443.7037\" fill=\"none\" stroke=\"#000000\"/>\n",
       "<polygon fill=\"#000000\" points=\"2009.0757,-447.1979 2018.99,-443.4621 2008.91,-440.1998 2009.0757,-447.1979\" stroke=\"#000000\"/>\n",
       "</g>\n",
       "<!-- 4805810552&#45;&gt;4805368128 -->\n",
       "<g class=\"edge\" id=\"edge26\">\n",
       "<title>4805810552-&gt;4805368128</title>\n",
       "<path d=\"M1204.9201,-487.6803C1210.5926,-487.0651 1216.2131,-486.5005 1221.7295,-486 1375.474,-472.0518 1693.9444,-459.3729 2008.9314,-449.4124\" fill=\"none\" stroke=\"#000000\"/>\n",
       "<polygon fill=\"#000000\" points=\"2009.3065,-452.9024 2019.1912,-449.0889 2009.0858,-445.9059 2009.3065,-452.9024\" stroke=\"#000000\"/>\n",
       "</g>\n",
       "<!-- 4805789848&#45;&gt;4805368128 -->\n",
       "<g class=\"edge\" id=\"edge27\">\n",
       "<title>4805789848-&gt;4805368128</title>\n",
       "<path d=\"M1504.8702,-487.2314C1508.864,-486.7916 1512.8237,-486.3794 1516.7295,-486 1680.867,-470.0562 1856.7825,-458.4562 2025.2798,-450.017\" fill=\"none\" stroke=\"#000000\"/>\n",
       "<polygon fill=\"#000000\" points=\"2025.5267,-453.5092 2035.3404,-449.5165 2025.1788,-446.5178 2025.5267,-453.5092\" stroke=\"#000000\"/>\n",
       "</g>\n",
       "<!-- 4805810328&#45;&gt;4805368128 -->\n",
       "<g class=\"edge\" id=\"edge28\">\n",
       "<title>4805810328-&gt;4805368128</title>\n",
       "<path d=\"M1800.0002,-487.0649C1803.2728,-486.6909 1806.5197,-486.335 1809.7295,-486 1959.5767,-470.3621 2122.0136,-458.711 2273.0523,-450.1067\" fill=\"none\" stroke=\"#000000\"/>\n",
       "<polygon fill=\"#000000\" points=\"2273.659,-453.578 2283.4452,-449.5184 2273.2634,-446.5892 2273.659,-453.578\" stroke=\"#000000\"/>\n",
       "</g>\n",
       "<!-- 4805812064&#45;&gt;4805368128 -->\n",
       "<g class=\"edge\" id=\"edge29\">\n",
       "<title>4805812064-&gt;4805368128</title>\n",
       "<path d=\"M2093.0073,-487.5117C2097.2945,-486.9832 2101.5434,-486.4775 2105.7295,-486 2232.6574,-471.522 2372.1479,-459.5349 2495.8208,-450.2613\" fill=\"none\" stroke=\"#000000\"/>\n",
       "<polygon fill=\"#000000\" points=\"2496.1215,-453.7487 2505.8331,-449.5138 2495.6003,-446.7681 2496.1215,-453.7487\" stroke=\"#000000\"/>\n",
       "</g>\n",
       "<!-- 4811185848&#45;&gt;4805368128 -->\n",
       "<g class=\"edge\" id=\"edge30\">\n",
       "<title>4811185848-&gt;4805368128</title>\n",
       "<path d=\"M2389.104,-488.5913C2395.3985,-487.7091 2401.6305,-486.8416 2407.7295,-486 2494.1465,-474.0754 2590.1028,-461.3661 2670.6362,-450.8505\" fill=\"none\" stroke=\"#000000\"/>\n",
       "<polygon fill=\"#000000\" points=\"2671.4198,-454.278 2680.8828,-449.5135 2670.514,-447.3369 2671.4198,-454.278\" stroke=\"#000000\"/>\n",
       "</g>\n",
       "<!-- 4806687656&#45;&gt;4805368128 -->\n",
       "<g class=\"edge\" id=\"edge31\">\n",
       "<title>4806687656-&gt;4805368128</title>\n",
       "<path d=\"M2634.7657,-486.4734C2673.7752,-475.8701 2720.6948,-463.1168 2760.9075,-452.1865\" fill=\"none\" stroke=\"#000000\"/>\n",
       "<polygon fill=\"#000000\" points=\"2761.9776,-455.5227 2770.7094,-449.5222 2760.1415,-448.7678 2761.9776,-455.5227\" stroke=\"#000000\"/>\n",
       "</g>\n",
       "<!-- 4805689128&#45;&gt;4805368128 -->\n",
       "<g class=\"edge\" id=\"edge32\">\n",
       "<title>4805689128-&gt;4805368128</title>\n",
       "<path d=\"M2851.7295,-486.3664C2851.7295,-478.1516 2851.7295,-468.6579 2851.7295,-459.7252\" fill=\"none\" stroke=\"#000000\"/>\n",
       "<polygon fill=\"#000000\" points=\"2855.2296,-459.6068 2851.7295,-449.6068 2848.2296,-459.6069 2855.2296,-459.6068\" stroke=\"#000000\"/>\n",
       "</g>\n",
       "<!-- 4811386160&#45;&gt;4805368128 -->\n",
       "<g class=\"edge\" id=\"edge33\">\n",
       "<title>4811386160-&gt;4805368128</title>\n",
       "<path d=\"M3065.781,-486.4734C3027.2951,-475.8701 2981.0053,-463.1168 2941.3324,-452.1865\" fill=\"none\" stroke=\"#000000\"/>\n",
       "<polygon fill=\"#000000\" points=\"2942.2325,-448.8042 2931.662,-449.5222 2940.3731,-455.5527 2942.2325,-448.8042\" stroke=\"#000000\"/>\n",
       "</g>\n",
       "<!-- 4804988152&#45;&gt;4805368128 -->\n",
       "<g class=\"edge\" id=\"edge34\">\n",
       "<title>4804988152-&gt;4805368128</title>\n",
       "<path d=\"M300.487,-487.7631C306.6456,-487.1037 312.749,-486.5097 318.7295,-486 635.3829,-459.0114 1401.5666,-443.8521 2008.9319,-435.7665\" fill=\"none\" stroke=\"#000000\"/>\n",
       "<polygon fill=\"#000000\" points=\"2009.2532,-439.2626 2019.2058,-435.6302 2009.1602,-432.2633 2009.2532,-439.2626\" stroke=\"#000000\"/>\n",
       "</g>\n",
       "<!-- 4804870096&#45;&gt;4805368128 -->\n",
       "<g class=\"edge\" id=\"edge35\">\n",
       "<title>4804870096-&gt;4805368128</title>\n",
       "<path d=\"M3311.2343,-488.7574C3304.6404,-487.817 3298.1108,-486.8934 3291.7295,-486 3206.2841,-474.0377 3111.4169,-461.3492 3031.7127,-450.8579\" fill=\"none\" stroke=\"#000000\"/>\n",
       "<polygon fill=\"#000000\" points=\"3031.9421,-447.358 3021.571,-449.524 3031.0292,-454.2982 3031.9421,-447.358\" stroke=\"#000000\"/>\n",
       "</g>\n",
       "<!-- 4804729880&#45;&gt;4805368128 -->\n",
       "<g class=\"edge\" id=\"edge36\">\n",
       "<title>4804729880-&gt;4805368128</title>\n",
       "<path d=\"M3609.7657,-488.6861C3601.978,-487.7319 3594.2579,-486.8282 3586.7295,-486 3458.0438,-471.8436 3316.3211,-459.7422 3191.9468,-450.2815\" fill=\"none\" stroke=\"#000000\"/>\n",
       "<polygon fill=\"#000000\" points=\"3192.1169,-446.7845 3181.8809,-449.5187 3191.5879,-453.7645 3192.1169,-446.7845\" stroke=\"#000000\"/>\n",
       "</g>\n",
       "<!-- 4804650432&#45;&gt;4805368128 -->\n",
       "<g class=\"edge\" id=\"edge37\">\n",
       "<title>4804650432-&gt;4805368128</title>\n",
       "<path d=\"M3917.2137,-488.6702C3908.9373,-487.6943 3900.7254,-486.7925 3892.7295,-486 3736.4075,-470.5057 3566.4419,-458.7937 3410.0469,-450.0802\" fill=\"none\" stroke=\"#000000\"/>\n",
       "<polygon fill=\"#000000\" points=\"3409.9436,-446.5692 3399.7653,-449.5106 3409.5564,-453.5585 3409.9436,-446.5692\" stroke=\"#000000\"/>\n",
       "</g>\n",
       "<!-- 4804640720&#45;&gt;4805368128 -->\n",
       "<g class=\"edge\" id=\"edge38\">\n",
       "<title>4804640720-&gt;4805368128</title>\n",
       "<path d=\"M4228.0881,-489.5938C4216.1462,-488.2417 4204.2285,-487.0143 4192.7295,-486 4012.5153,-470.1042 3818.2782,-458.4695 3635.0967,-449.9734\" fill=\"none\" stroke=\"#000000\"/>\n",
       "<polygon fill=\"#000000\" points=\"3635.1478,-446.4721 3624.9971,-449.5076 3634.8253,-453.4646 3635.1478,-446.4721\" stroke=\"#000000\"/>\n",
       "</g>\n",
       "<!-- 4804389128&#45;&gt;4805368128 -->\n",
       "<g class=\"edge\" id=\"edge39\">\n",
       "<title>4804389128-&gt;4805368128</title>\n",
       "<path d=\"M4536.5325,-489.19C4525.4481,-487.9812 4514.4098,-486.8938 4503.7295,-486 4345.3082,-472.7422 4014.6014,-460.003 3690.401,-449.8167\" fill=\"none\" stroke=\"#000000\"/>\n",
       "<polygon fill=\"#000000\" points=\"3690.4318,-446.316 3680.327,-449.5009 3690.2124,-453.3126 3690.4318,-446.316\" stroke=\"#000000\"/>\n",
       "</g>\n",
       "<!-- 4805291704&#45;&gt;4805368128 -->\n",
       "<g class=\"edge\" id=\"edge40\">\n",
       "<title>4805291704-&gt;4805368128</title>\n",
       "<path d=\"M4843.3883,-488.2848C4835.3933,-487.426 4827.4633,-486.6534 4819.7295,-486 4605.4524,-467.8969 4126.4085,-453.4573 3694.6207,-443.4532\" fill=\"none\" stroke=\"#000000\"/>\n",
       "<polygon fill=\"#000000\" points=\"3694.5081,-439.9497 3684.4299,-443.2177 3694.3463,-446.9479 3694.5081,-439.9497\" stroke=\"#000000\"/>\n",
       "</g>\n",
       "<!-- 4804369992&#45;&gt;4805368128 -->\n",
       "<g class=\"edge\" id=\"edge41\">\n",
       "<title>4804369992-&gt;4805368128</title>\n",
       "<path d=\"M5147.3892,-487.9691C5140.411,-487.231 5133.4941,-486.5667 5126.7295,-486 4857.034,-463.4059 4224.456,-448.2406 3694.6312,-439.0237\" fill=\"none\" stroke=\"#000000\"/>\n",
       "<polygon fill=\"#000000\" points=\"3694.5492,-435.5219 3684.49,-438.8478 3694.4278,-442.5208 3694.5492,-435.5219\" stroke=\"#000000\"/>\n",
       "</g>\n",
       "<!-- 4804201328&#45;&gt;4805368128 -->\n",
       "<g class=\"edge\" id=\"edge42\">\n",
       "<title>4804201328-&gt;4805368128</title>\n",
       "<path d=\"M5448.4909,-487.6756C5442.496,-487.0511 5436.5554,-486.4871 5430.7295,-486 5105.6393,-458.8189 4315.361,-443.629 3694.6219,-435.585\" fill=\"none\" stroke=\"#000000\"/>\n",
       "<polygon fill=\"#000000\" points=\"3694.6251,-432.0849 3684.5807,-435.4553 3694.5346,-439.0843 3694.6251,-432.0849\" stroke=\"#000000\"/>\n",
       "</g>\n",
       "<!-- 4803921008 -->\n",
       "<g class=\"node\" id=\"node44\">\n",
       "<title>4803921008</title>\n",
       "<polygon fill=\"none\" points=\"2640.9033,-324.5 2640.9033,-368.5 3062.5557,-368.5 3062.5557,-324.5 2640.9033,-324.5\" stroke=\"#000000\"/>\n",
       "<text fill=\"#000000\" font-family=\"Times,serif\" font-size=\"14.00\" text-anchor=\"middle\" x=\"2778.5708\" y=\"-342.3\">bidirectional_2(lstm_2): Bidirectional(LSTM)</text>\n",
       "<polyline fill=\"none\" points=\"2916.2383,-324.5 2916.2383,-368.5 \" stroke=\"#000000\"/>\n",
       "<text fill=\"#000000\" font-family=\"Times,serif\" font-size=\"14.00\" text-anchor=\"middle\" x=\"2944.0728\" y=\"-353.3\">input:</text>\n",
       "<polyline fill=\"none\" points=\"2916.2383,-346.5 2971.9072,-346.5 \" stroke=\"#000000\"/>\n",
       "<text fill=\"#000000\" font-family=\"Times,serif\" font-size=\"14.00\" text-anchor=\"middle\" x=\"2944.0728\" y=\"-331.3\">output:</text>\n",
       "<polyline fill=\"none\" points=\"2971.9072,-324.5 2971.9072,-368.5 \" stroke=\"#000000\"/>\n",
       "<text fill=\"#000000\" font-family=\"Times,serif\" font-size=\"14.00\" text-anchor=\"middle\" x=\"3017.2314\" y=\"-353.3\">(None, 5, 66)</text>\n",
       "<polyline fill=\"none\" points=\"2971.9072,-346.5 3062.5557,-346.5 \" stroke=\"#000000\"/>\n",
       "<text fill=\"#000000\" font-family=\"Times,serif\" font-size=\"14.00\" text-anchor=\"middle\" x=\"3017.2314\" y=\"-331.3\">(None, 256)</text>\n",
       "</g>\n",
       "<!-- 4805368128&#45;&gt;4803921008 -->\n",
       "<g class=\"edge\" id=\"edge43\">\n",
       "<title>4805368128-&gt;4803921008</title>\n",
       "<path d=\"M2851.7295,-405.3664C2851.7295,-397.1516 2851.7295,-387.6579 2851.7295,-378.7252\" fill=\"none\" stroke=\"#000000\"/>\n",
       "<polygon fill=\"#000000\" points=\"2855.2296,-378.6068 2851.7295,-368.6068 2848.2296,-378.6069 2855.2296,-378.6068\" stroke=\"#000000\"/>\n",
       "</g>\n",
       "<!-- 4800918640 -->\n",
       "<g class=\"node\" id=\"node45\">\n",
       "<title>4800918640</title>\n",
       "<polygon fill=\"none\" points=\"2549.769,-243.5 2549.769,-287.5 2823.6899,-287.5 2823.6899,-243.5 2549.769,-243.5\" stroke=\"#000000\"/>\n",
       "<text fill=\"#000000\" font-family=\"Times,serif\" font-size=\"14.00\" text-anchor=\"middle\" x=\"2617.0708\" y=\"-261.3\">dropout_35: Dropout</text>\n",
       "<polyline fill=\"none\" points=\"2684.3726,-243.5 2684.3726,-287.5 \" stroke=\"#000000\"/>\n",
       "<text fill=\"#000000\" font-family=\"Times,serif\" font-size=\"14.00\" text-anchor=\"middle\" x=\"2712.207\" y=\"-272.3\">input:</text>\n",
       "<polyline fill=\"none\" points=\"2684.3726,-265.5 2740.0415,-265.5 \" stroke=\"#000000\"/>\n",
       "<text fill=\"#000000\" font-family=\"Times,serif\" font-size=\"14.00\" text-anchor=\"middle\" x=\"2712.207\" y=\"-250.3\">output:</text>\n",
       "<polyline fill=\"none\" points=\"2740.0415,-243.5 2740.0415,-287.5 \" stroke=\"#000000\"/>\n",
       "<text fill=\"#000000\" font-family=\"Times,serif\" font-size=\"14.00\" text-anchor=\"middle\" x=\"2781.8657\" y=\"-272.3\">(None, 256)</text>\n",
       "<polyline fill=\"none\" points=\"2740.0415,-265.5 2823.6899,-265.5 \" stroke=\"#000000\"/>\n",
       "<text fill=\"#000000\" font-family=\"Times,serif\" font-size=\"14.00\" text-anchor=\"middle\" x=\"2781.8657\" y=\"-250.3\">(None, 256)</text>\n",
       "</g>\n",
       "<!-- 4803921008&#45;&gt;4800918640 -->\n",
       "<g class=\"edge\" id=\"edge44\">\n",
       "<title>4803921008-&gt;4800918640</title>\n",
       "<path d=\"M2806.6425,-324.3664C2786.362,-314.4105 2762.2545,-302.5759 2740.9926,-292.1382\" fill=\"none\" stroke=\"#000000\"/>\n",
       "<polygon fill=\"#000000\" points=\"2742.281,-288.8718 2731.762,-287.6068 2739.1963,-295.1555 2742.281,-288.8718\" stroke=\"#000000\"/>\n",
       "</g>\n",
       "<!-- 4803675976 -->\n",
       "<g class=\"node\" id=\"node46\">\n",
       "<title>4803675976</title>\n",
       "<polygon fill=\"none\" points=\"2845.0859,-243.5 2845.0859,-287.5 3194.373,-287.5 3194.373,-243.5 2845.0859,-243.5\" stroke=\"#000000\"/>\n",
       "<text fill=\"#000000\" font-family=\"Times,serif\" font-size=\"14.00\" text-anchor=\"middle\" x=\"2939.5708\" y=\"-261.3\">repeat_vector_1: RepeatVector</text>\n",
       "<polyline fill=\"none\" points=\"3034.0557,-243.5 3034.0557,-287.5 \" stroke=\"#000000\"/>\n",
       "<text fill=\"#000000\" font-family=\"Times,serif\" font-size=\"14.00\" text-anchor=\"middle\" x=\"3061.8901\" y=\"-272.3\">input:</text>\n",
       "<polyline fill=\"none\" points=\"3034.0557,-265.5 3089.7246,-265.5 \" stroke=\"#000000\"/>\n",
       "<text fill=\"#000000\" font-family=\"Times,serif\" font-size=\"14.00\" text-anchor=\"middle\" x=\"3061.8901\" y=\"-250.3\">output:</text>\n",
       "<polyline fill=\"none\" points=\"3089.7246,-243.5 3089.7246,-287.5 \" stroke=\"#000000\"/>\n",
       "<text fill=\"#000000\" font-family=\"Times,serif\" font-size=\"14.00\" text-anchor=\"middle\" x=\"3142.0488\" y=\"-272.3\">(None, 256)</text>\n",
       "<polyline fill=\"none\" points=\"3089.7246,-265.5 3194.373,-265.5 \" stroke=\"#000000\"/>\n",
       "<text fill=\"#000000\" font-family=\"Times,serif\" font-size=\"14.00\" text-anchor=\"middle\" x=\"3142.0488\" y=\"-250.3\">(None, 25, 256)</text>\n",
       "</g>\n",
       "<!-- 4803921008&#45;&gt;4803675976 -->\n",
       "<g class=\"edge\" id=\"edge45\">\n",
       "<title>4803921008-&gt;4803675976</title>\n",
       "<path d=\"M2897.6362,-324.3664C2918.3781,-314.3658 2943.0515,-302.4698 2964.7709,-291.9979\" fill=\"none\" stroke=\"#000000\"/>\n",
       "<polygon fill=\"#000000\" points=\"2966.3906,-295.1026 2973.8783,-287.6068 2963.3505,-288.7972 2966.3906,-295.1026\" stroke=\"#000000\"/>\n",
       "</g>\n",
       "<!-- 4802652088 -->\n",
       "<g class=\"node\" id=\"node47\">\n",
       "<title>4802652088</title>\n",
       "<polygon fill=\"none\" points=\"2504.5859,-162.5 2504.5859,-206.5 2846.873,-206.5 2846.873,-162.5 2504.5859,-162.5\" stroke=\"#000000\"/>\n",
       "<text fill=\"#000000\" font-family=\"Times,serif\" font-size=\"14.00\" text-anchor=\"middle\" x=\"2599.0708\" y=\"-180.3\">repeat_vector_2: RepeatVector</text>\n",
       "<polyline fill=\"none\" points=\"2693.5557,-162.5 2693.5557,-206.5 \" stroke=\"#000000\"/>\n",
       "<text fill=\"#000000\" font-family=\"Times,serif\" font-size=\"14.00\" text-anchor=\"middle\" x=\"2721.3901\" y=\"-191.3\">input:</text>\n",
       "<polyline fill=\"none\" points=\"2693.5557,-184.5 2749.2246,-184.5 \" stroke=\"#000000\"/>\n",
       "<text fill=\"#000000\" font-family=\"Times,serif\" font-size=\"14.00\" text-anchor=\"middle\" x=\"2721.3901\" y=\"-169.3\">output:</text>\n",
       "<polyline fill=\"none\" points=\"2749.2246,-162.5 2749.2246,-206.5 \" stroke=\"#000000\"/>\n",
       "<text fill=\"#000000\" font-family=\"Times,serif\" font-size=\"14.00\" text-anchor=\"middle\" x=\"2798.0488\" y=\"-191.3\">(None, 256)</text>\n",
       "<polyline fill=\"none\" points=\"2749.2246,-184.5 2846.873,-184.5 \" stroke=\"#000000\"/>\n",
       "<text fill=\"#000000\" font-family=\"Times,serif\" font-size=\"14.00\" text-anchor=\"middle\" x=\"2798.0488\" y=\"-169.3\">(None, 5, 256)</text>\n",
       "</g>\n",
       "<!-- 4800918640&#45;&gt;4802652088 -->\n",
       "<g class=\"edge\" id=\"edge46\">\n",
       "<title>4800918640-&gt;4802652088</title>\n",
       "<path d=\"M2683.7237,-243.3664C2682.6081,-235.1516 2681.3188,-225.6579 2680.1057,-216.7252\" fill=\"none\" stroke=\"#000000\"/>\n",
       "<polygon fill=\"#000000\" points=\"2683.5456,-216.0449 2678.7317,-206.6068 2676.6092,-216.9869 2683.5456,-216.0449\" stroke=\"#000000\"/>\n",
       "</g>\n",
       "<!-- 4805801128 -->\n",
       "<g class=\"node\" id=\"node48\">\n",
       "<title>4805801128</title>\n",
       "<polygon fill=\"none\" points=\"2891.1484,-162.5 2891.1484,-206.5 3150.3105,-206.5 3150.3105,-162.5 2891.1484,-162.5\" stroke=\"#000000\"/>\n",
       "<text fill=\"#000000\" font-family=\"Times,serif\" font-size=\"14.00\" text-anchor=\"middle\" x=\"2940.5708\" y=\"-180.3\">lstm_3: LSTM</text>\n",
       "<polyline fill=\"none\" points=\"2989.9932,-162.5 2989.9932,-206.5 \" stroke=\"#000000\"/>\n",
       "<text fill=\"#000000\" font-family=\"Times,serif\" font-size=\"14.00\" text-anchor=\"middle\" x=\"3017.8276\" y=\"-191.3\">input:</text>\n",
       "<polyline fill=\"none\" points=\"2989.9932,-184.5 3045.6621,-184.5 \" stroke=\"#000000\"/>\n",
       "<text fill=\"#000000\" font-family=\"Times,serif\" font-size=\"14.00\" text-anchor=\"middle\" x=\"3017.8276\" y=\"-169.3\">output:</text>\n",
       "<polyline fill=\"none\" points=\"3045.6621,-162.5 3045.6621,-206.5 \" stroke=\"#000000\"/>\n",
       "<text fill=\"#000000\" font-family=\"Times,serif\" font-size=\"14.00\" text-anchor=\"middle\" x=\"3097.9863\" y=\"-191.3\">(None, 25, 256)</text>\n",
       "<polyline fill=\"none\" points=\"3045.6621,-184.5 3150.3105,-184.5 \" stroke=\"#000000\"/>\n",
       "<text fill=\"#000000\" font-family=\"Times,serif\" font-size=\"14.00\" text-anchor=\"middle\" x=\"3097.9863\" y=\"-169.3\">(None, 25, 128)</text>\n",
       "</g>\n",
       "<!-- 4803675976&#45;&gt;4805801128 -->\n",
       "<g class=\"edge\" id=\"edge47\">\n",
       "<title>4803675976-&gt;4805801128</title>\n",
       "<path d=\"M3020.0027,-243.3664C3020.1042,-235.1516 3020.2214,-225.6579 3020.3317,-216.7252\" fill=\"none\" stroke=\"#000000\"/>\n",
       "<polygon fill=\"#000000\" points=\"3023.8328,-216.6493 3020.4566,-206.6068 3016.8333,-216.5628 3023.8328,-216.6493\" stroke=\"#000000\"/>\n",
       "</g>\n",
       "<!-- 4799888856 -->\n",
       "<g class=\"node\" id=\"node49\">\n",
       "<title>4799888856</title>\n",
       "<polygon fill=\"none\" points=\"2543.6484,-81.5 2543.6484,-125.5 2795.8105,-125.5 2795.8105,-81.5 2543.6484,-81.5\" stroke=\"#000000\"/>\n",
       "<text fill=\"#000000\" font-family=\"Times,serif\" font-size=\"14.00\" text-anchor=\"middle\" x=\"2593.0708\" y=\"-99.3\">lstm_4: LSTM</text>\n",
       "<polyline fill=\"none\" points=\"2642.4932,-81.5 2642.4932,-125.5 \" stroke=\"#000000\"/>\n",
       "<text fill=\"#000000\" font-family=\"Times,serif\" font-size=\"14.00\" text-anchor=\"middle\" x=\"2670.3276\" y=\"-110.3\">input:</text>\n",
       "<polyline fill=\"none\" points=\"2642.4932,-103.5 2698.1621,-103.5 \" stroke=\"#000000\"/>\n",
       "<text fill=\"#000000\" font-family=\"Times,serif\" font-size=\"14.00\" text-anchor=\"middle\" x=\"2670.3276\" y=\"-88.3\">output:</text>\n",
       "<polyline fill=\"none\" points=\"2698.1621,-81.5 2698.1621,-125.5 \" stroke=\"#000000\"/>\n",
       "<text fill=\"#000000\" font-family=\"Times,serif\" font-size=\"14.00\" text-anchor=\"middle\" x=\"2746.9863\" y=\"-110.3\">(None, 5, 256)</text>\n",
       "<polyline fill=\"none\" points=\"2698.1621,-103.5 2795.8105,-103.5 \" stroke=\"#000000\"/>\n",
       "<text fill=\"#000000\" font-family=\"Times,serif\" font-size=\"14.00\" text-anchor=\"middle\" x=\"2746.9863\" y=\"-88.3\">(None, 5, 128)</text>\n",
       "</g>\n",
       "<!-- 4802652088&#45;&gt;4799888856 -->\n",
       "<g class=\"edge\" id=\"edge48\">\n",
       "<title>4802652088-&gt;4799888856</title>\n",
       "<path d=\"M2674.09,-162.3664C2673.4815,-154.1516 2672.7782,-144.6579 2672.1165,-135.7252\" fill=\"none\" stroke=\"#000000\"/>\n",
       "<polygon fill=\"#000000\" points=\"2675.5963,-135.3209 2671.367,-125.6068 2668.6154,-135.8381 2675.5963,-135.3209\" stroke=\"#000000\"/>\n",
       "</g>\n",
       "<!-- 4805506216 -->\n",
       "<g class=\"node\" id=\"node50\">\n",
       "<title>4805506216</title>\n",
       "<polygon fill=\"none\" points=\"2813.8311,-81.5 2813.8311,-125.5 3231.6279,-125.5 3231.6279,-81.5 2813.8311,-81.5\" stroke=\"#000000\"/>\n",
       "<text fill=\"#000000\" font-family=\"Times,serif\" font-size=\"14.00\" text-anchor=\"middle\" x=\"2942.5708\" y=\"-99.3\">QAutf8(dense_1): TimeDistributed(Dense)</text>\n",
       "<polyline fill=\"none\" points=\"3071.3105,-81.5 3071.3105,-125.5 \" stroke=\"#000000\"/>\n",
       "<text fill=\"#000000\" font-family=\"Times,serif\" font-size=\"14.00\" text-anchor=\"middle\" x=\"3099.145\" y=\"-110.3\">input:</text>\n",
       "<polyline fill=\"none\" points=\"3071.3105,-103.5 3126.9795,-103.5 \" stroke=\"#000000\"/>\n",
       "<text fill=\"#000000\" font-family=\"Times,serif\" font-size=\"14.00\" text-anchor=\"middle\" x=\"3099.145\" y=\"-88.3\">output:</text>\n",
       "<polyline fill=\"none\" points=\"3126.9795,-81.5 3126.9795,-125.5 \" stroke=\"#000000\"/>\n",
       "<text fill=\"#000000\" font-family=\"Times,serif\" font-size=\"14.00\" text-anchor=\"middle\" x=\"3179.3037\" y=\"-110.3\">(None, 25, 128)</text>\n",
       "<polyline fill=\"none\" points=\"3126.9795,-103.5 3231.6279,-103.5 \" stroke=\"#000000\"/>\n",
       "<text fill=\"#000000\" font-family=\"Times,serif\" font-size=\"14.00\" text-anchor=\"middle\" x=\"3179.3037\" y=\"-88.3\">(None, 25, 59)</text>\n",
       "</g>\n",
       "<!-- 4805801128&#45;&gt;4805506216 -->\n",
       "<g class=\"edge\" id=\"edge49\">\n",
       "<title>4805801128-&gt;4805506216</title>\n",
       "<path d=\"M3021.276,-162.3664C3021.4788,-154.1516 3021.7132,-144.6579 3021.9338,-135.7252\" fill=\"none\" stroke=\"#000000\"/>\n",
       "<polygon fill=\"#000000\" points=\"3025.4356,-135.6902 3022.1836,-125.6068 3018.4378,-135.5174 3025.4356,-135.6902\" stroke=\"#000000\"/>\n",
       "</g>\n",
       "<!-- 4798530112 -->\n",
       "<g class=\"node\" id=\"node51\">\n",
       "<title>4798530112</title>\n",
       "<polygon fill=\"none\" points=\"699.8828,-.5 699.8828,-44.5 1107.5762,-44.5 1107.5762,-.5 699.8828,-.5\" stroke=\"#000000\"/>\n",
       "<text fill=\"#000000\" font-family=\"Times,serif\" font-size=\"14.00\" text-anchor=\"middle\" x=\"827.0708\" y=\"-18.3\">QApos(dense_2): TimeDistributed(Dense)</text>\n",
       "<polyline fill=\"none\" points=\"954.2588,-.5 954.2588,-44.5 \" stroke=\"#000000\"/>\n",
       "<text fill=\"#000000\" font-family=\"Times,serif\" font-size=\"14.00\" text-anchor=\"middle\" x=\"982.0933\" y=\"-29.3\">input:</text>\n",
       "<polyline fill=\"none\" points=\"954.2588,-22.5 1009.9277,-22.5 \" stroke=\"#000000\"/>\n",
       "<text fill=\"#000000\" font-family=\"Times,serif\" font-size=\"14.00\" text-anchor=\"middle\" x=\"982.0933\" y=\"-7.3\">output:</text>\n",
       "<polyline fill=\"none\" points=\"1009.9277,-.5 1009.9277,-44.5 \" stroke=\"#000000\"/>\n",
       "<text fill=\"#000000\" font-family=\"Times,serif\" font-size=\"14.00\" text-anchor=\"middle\" x=\"1058.752\" y=\"-29.3\">(None, 5, 128)</text>\n",
       "<polyline fill=\"none\" points=\"1009.9277,-22.5 1107.5762,-22.5 \" stroke=\"#000000\"/>\n",
       "<text fill=\"#000000\" font-family=\"Times,serif\" font-size=\"14.00\" text-anchor=\"middle\" x=\"1058.752\" y=\"-7.3\">(None, 5, 45)</text>\n",
       "</g>\n",
       "<!-- 4799888856&#45;&gt;4798530112 -->\n",
       "<g class=\"edge\" id=\"edge50\">\n",
       "<title>4799888856-&gt;4798530112</title>\n",
       "<path d=\"M2543.424,-101.659C2280.1718,-97.1844 1653.4108,-83.2109 1117.8995,-45.1352\" fill=\"none\" stroke=\"#000000\"/>\n",
       "<polygon fill=\"#000000\" points=\"1117.872,-41.6244 1107.6479,-44.4025 1117.3729,-48.6066 1117.872,-41.6244\" stroke=\"#000000\"/>\n",
       "</g>\n",
       "<!-- 4798521752 -->\n",
       "<g class=\"node\" id=\"node52\">\n",
       "<title>4798521752</title>\n",
       "<polygon fill=\"none\" points=\"1125.1172,-.5 1125.1172,-44.5 1548.3418,-44.5 1548.3418,-.5 1125.1172,-.5\" stroke=\"#000000\"/>\n",
       "<text fill=\"#000000\" font-family=\"Times,serif\" font-size=\"14.00\" text-anchor=\"middle\" x=\"1260.0708\" y=\"-18.3\">QAaspect(dense_3): TimeDistributed(Dense)</text>\n",
       "<polyline fill=\"none\" points=\"1395.0244,-.5 1395.0244,-44.5 \" stroke=\"#000000\"/>\n",
       "<text fill=\"#000000\" font-family=\"Times,serif\" font-size=\"14.00\" text-anchor=\"middle\" x=\"1422.8589\" y=\"-29.3\">input:</text>\n",
       "<polyline fill=\"none\" points=\"1395.0244,-22.5 1450.6934,-22.5 \" stroke=\"#000000\"/>\n",
       "<text fill=\"#000000\" font-family=\"Times,serif\" font-size=\"14.00\" text-anchor=\"middle\" x=\"1422.8589\" y=\"-7.3\">output:</text>\n",
       "<polyline fill=\"none\" points=\"1450.6934,-.5 1450.6934,-44.5 \" stroke=\"#000000\"/>\n",
       "<text fill=\"#000000\" font-family=\"Times,serif\" font-size=\"14.00\" text-anchor=\"middle\" x=\"1499.5176\" y=\"-29.3\">(None, 5, 128)</text>\n",
       "<polyline fill=\"none\" points=\"1450.6934,-22.5 1548.3418,-22.5 \" stroke=\"#000000\"/>\n",
       "<text fill=\"#000000\" font-family=\"Times,serif\" font-size=\"14.00\" text-anchor=\"middle\" x=\"1499.5176\" y=\"-7.3\">(None, 5, 4)</text>\n",
       "</g>\n",
       "<!-- 4799888856&#45;&gt;4798521752 -->\n",
       "<g class=\"edge\" id=\"edge51\">\n",
       "<title>4799888856-&gt;4798521752</title>\n",
       "<path d=\"M2543.5778,-98.9009C2338.9994,-90.9906 1921.942,-72.9885 1558.5438,-45.1241\" fill=\"none\" stroke=\"#000000\"/>\n",
       "<polygon fill=\"#000000\" points=\"1558.5886,-41.6172 1548.3493,-44.3387 1558.0509,-48.5966 1558.5886,-41.6172\" stroke=\"#000000\"/>\n",
       "</g>\n",
       "<!-- 4798359256 -->\n",
       "<g class=\"node\" id=\"node53\">\n",
       "<title>4798359256</title>\n",
       "<polygon fill=\"none\" points=\"1565.9448,-.5 1565.9448,-44.5 1991.5142,-44.5 1991.5142,-.5 1565.9448,-.5\" stroke=\"#000000\"/>\n",
       "<text fill=\"#000000\" font-family=\"Times,serif\" font-size=\"14.00\" text-anchor=\"middle\" x=\"1702.0708\" y=\"-18.3\">QAperson(dense_4): TimeDistributed(Dense)</text>\n",
       "<polyline fill=\"none\" points=\"1838.1968,-.5 1838.1968,-44.5 \" stroke=\"#000000\"/>\n",
       "<text fill=\"#000000\" font-family=\"Times,serif\" font-size=\"14.00\" text-anchor=\"middle\" x=\"1866.0313\" y=\"-29.3\">input:</text>\n",
       "<polyline fill=\"none\" points=\"1838.1968,-22.5 1893.8657,-22.5 \" stroke=\"#000000\"/>\n",
       "<text fill=\"#000000\" font-family=\"Times,serif\" font-size=\"14.00\" text-anchor=\"middle\" x=\"1866.0313\" y=\"-7.3\">output:</text>\n",
       "<polyline fill=\"none\" points=\"1893.8657,-.5 1893.8657,-44.5 \" stroke=\"#000000\"/>\n",
       "<text fill=\"#000000\" font-family=\"Times,serif\" font-size=\"14.00\" text-anchor=\"middle\" x=\"1942.6899\" y=\"-29.3\">(None, 5, 128)</text>\n",
       "<polyline fill=\"none\" points=\"1893.8657,-22.5 1991.5142,-22.5 \" stroke=\"#000000\"/>\n",
       "<text fill=\"#000000\" font-family=\"Times,serif\" font-size=\"14.00\" text-anchor=\"middle\" x=\"1942.6899\" y=\"-7.3\">(None, 5, 4)</text>\n",
       "</g>\n",
       "<!-- 4799888856&#45;&gt;4798359256 -->\n",
       "<g class=\"edge\" id=\"edge52\">\n",
       "<title>4799888856-&gt;4798359256</title>\n",
       "<path d=\"M2543.6055,-92.9928C2411.3767,-81.857 2197.2542,-63.4864 2001.8729,-45.1023\" fill=\"none\" stroke=\"#000000\"/>\n",
       "<polygon fill=\"#000000\" points=\"2001.9835,-41.5973 1991.6992,-44.1434 2001.3266,-48.5665 2001.9835,-41.5973\" stroke=\"#000000\"/>\n",
       "</g>\n",
       "<!-- 4797940120 -->\n",
       "<g class=\"node\" id=\"node54\">\n",
       "<title>4797940120</title>\n",
       "<polygon fill=\"none\" points=\"2009.562,-.5 2009.562,-44.5 2435.897,-44.5 2435.897,-.5 2009.562,-.5\" stroke=\"#000000\"/>\n",
       "<text fill=\"#000000\" font-family=\"Times,serif\" font-size=\"14.00\" text-anchor=\"middle\" x=\"2146.0708\" y=\"-18.3\">QAgender(dense_5): TimeDistributed(Dense)</text>\n",
       "<polyline fill=\"none\" points=\"2282.5796,-.5 2282.5796,-44.5 \" stroke=\"#000000\"/>\n",
       "<text fill=\"#000000\" font-family=\"Times,serif\" font-size=\"14.00\" text-anchor=\"middle\" x=\"2310.4141\" y=\"-29.3\">input:</text>\n",
       "<polyline fill=\"none\" points=\"2282.5796,-22.5 2338.2485,-22.5 \" stroke=\"#000000\"/>\n",
       "<text fill=\"#000000\" font-family=\"Times,serif\" font-size=\"14.00\" text-anchor=\"middle\" x=\"2310.4141\" y=\"-7.3\">output:</text>\n",
       "<polyline fill=\"none\" points=\"2338.2485,-.5 2338.2485,-44.5 \" stroke=\"#000000\"/>\n",
       "<text fill=\"#000000\" font-family=\"Times,serif\" font-size=\"14.00\" text-anchor=\"middle\" x=\"2387.0728\" y=\"-29.3\">(None, 5, 128)</text>\n",
       "<polyline fill=\"none\" points=\"2338.2485,-22.5 2435.897,-22.5 \" stroke=\"#000000\"/>\n",
       "<text fill=\"#000000\" font-family=\"Times,serif\" font-size=\"14.00\" text-anchor=\"middle\" x=\"2387.0728\" y=\"-7.3\">(None, 5, 3)</text>\n",
       "</g>\n",
       "<!-- 4799888856&#45;&gt;4797940120 -->\n",
       "<g class=\"edge\" id=\"edge53\">\n",
       "<title>4799888856-&gt;4797940120</title>\n",
       "<path d=\"M2548.1752,-81.4734C2488.1764,-70.6011 2415.7029,-57.4683 2354.3914,-46.3582\" fill=\"none\" stroke=\"#000000\"/>\n",
       "<polygon fill=\"#000000\" points=\"2354.7234,-42.8614 2344.2596,-44.5222 2353.4752,-49.7493 2354.7234,-42.8614\" stroke=\"#000000\"/>\n",
       "</g>\n",
       "<!-- 4797772912 -->\n",
       "<g class=\"node\" id=\"node55\">\n",
       "<title>4797772912</title>\n",
       "<polygon fill=\"none\" points=\"2454.2241,-.5 2454.2241,-44.5 2885.2349,-44.5 2885.2349,-.5 2454.2241,-.5\" stroke=\"#000000\"/>\n",
       "<text fill=\"#000000\" font-family=\"Times,serif\" font-size=\"14.00\" text-anchor=\"middle\" x=\"2593.0708\" y=\"-18.3\">QAnumber(dense_6): TimeDistributed(Dense)</text>\n",
       "<polyline fill=\"none\" points=\"2731.9175,-.5 2731.9175,-44.5 \" stroke=\"#000000\"/>\n",
       "<text fill=\"#000000\" font-family=\"Times,serif\" font-size=\"14.00\" text-anchor=\"middle\" x=\"2759.752\" y=\"-29.3\">input:</text>\n",
       "<polyline fill=\"none\" points=\"2731.9175,-22.5 2787.5864,-22.5 \" stroke=\"#000000\"/>\n",
       "<text fill=\"#000000\" font-family=\"Times,serif\" font-size=\"14.00\" text-anchor=\"middle\" x=\"2759.752\" y=\"-7.3\">output:</text>\n",
       "<polyline fill=\"none\" points=\"2787.5864,-.5 2787.5864,-44.5 \" stroke=\"#000000\"/>\n",
       "<text fill=\"#000000\" font-family=\"Times,serif\" font-size=\"14.00\" text-anchor=\"middle\" x=\"2836.4106\" y=\"-29.3\">(None, 5, 128)</text>\n",
       "<polyline fill=\"none\" points=\"2787.5864,-22.5 2885.2349,-22.5 \" stroke=\"#000000\"/>\n",
       "<text fill=\"#000000\" font-family=\"Times,serif\" font-size=\"14.00\" text-anchor=\"middle\" x=\"2836.4106\" y=\"-7.3\">(None, 5, 4)</text>\n",
       "</g>\n",
       "<!-- 4799888856&#45;&gt;4797772912 -->\n",
       "<g class=\"edge\" id=\"edge54\">\n",
       "<title>4799888856-&gt;4797772912</title>\n",
       "<path d=\"M2669.7295,-81.3664C2669.7295,-73.1516 2669.7295,-63.6579 2669.7295,-54.7252\" fill=\"none\" stroke=\"#000000\"/>\n",
       "<polygon fill=\"#000000\" points=\"2673.2296,-54.6068 2669.7295,-44.6068 2666.2296,-54.6069 2673.2296,-54.6068\" stroke=\"#000000\"/>\n",
       "</g>\n",
       "<!-- 4797747040 -->\n",
       "<g class=\"node\" id=\"node56\">\n",
       "<title>4797747040</title>\n",
       "<polygon fill=\"none\" points=\"2903.562,-.5 2903.562,-44.5 3315.897,-44.5 3315.897,-.5 2903.562,-.5\" stroke=\"#000000\"/>\n",
       "<text fill=\"#000000\" font-family=\"Times,serif\" font-size=\"14.00\" text-anchor=\"middle\" x=\"3033.0708\" y=\"-18.3\">QAcase(dense_7): TimeDistributed(Dense)</text>\n",
       "<polyline fill=\"none\" points=\"3162.5796,-.5 3162.5796,-44.5 \" stroke=\"#000000\"/>\n",
       "<text fill=\"#000000\" font-family=\"Times,serif\" font-size=\"14.00\" text-anchor=\"middle\" x=\"3190.4141\" y=\"-29.3\">input:</text>\n",
       "<polyline fill=\"none\" points=\"3162.5796,-22.5 3218.2485,-22.5 \" stroke=\"#000000\"/>\n",
       "<text fill=\"#000000\" font-family=\"Times,serif\" font-size=\"14.00\" text-anchor=\"middle\" x=\"3190.4141\" y=\"-7.3\">output:</text>\n",
       "<polyline fill=\"none\" points=\"3218.2485,-.5 3218.2485,-44.5 \" stroke=\"#000000\"/>\n",
       "<text fill=\"#000000\" font-family=\"Times,serif\" font-size=\"14.00\" text-anchor=\"middle\" x=\"3267.0728\" y=\"-29.3\">(None, 5, 128)</text>\n",
       "<polyline fill=\"none\" points=\"3218.2485,-22.5 3315.897,-22.5 \" stroke=\"#000000\"/>\n",
       "<text fill=\"#000000\" font-family=\"Times,serif\" font-size=\"14.00\" text-anchor=\"middle\" x=\"3267.0728\" y=\"-7.3\">(None, 5, 4)</text>\n",
       "</g>\n",
       "<!-- 4799888856&#45;&gt;4797747040 -->\n",
       "<g class=\"edge\" id=\"edge55\">\n",
       "<title>4799888856-&gt;4797747040</title>\n",
       "<path d=\"M2789.3802,-81.4734C2848.4395,-70.6011 2919.7781,-57.4683 2980.1294,-46.3582\" fill=\"none\" stroke=\"#000000\"/>\n",
       "<polygon fill=\"#000000\" points=\"2980.9015,-49.775 2990.1026,-44.5222 2979.6341,-42.8906 2980.9015,-49.775\" stroke=\"#000000\"/>\n",
       "</g>\n",
       "<!-- 4798058848 -->\n",
       "<g class=\"node\" id=\"node57\">\n",
       "<title>4798058848</title>\n",
       "<polygon fill=\"none\" points=\"3333.9644,-.5 3333.9644,-44.5 3751.4946,-44.5 3751.4946,-.5 3333.9644,-.5\" stroke=\"#000000\"/>\n",
       "<text fill=\"#000000\" font-family=\"Times,serif\" font-size=\"14.00\" text-anchor=\"middle\" x=\"3466.0708\" y=\"-18.3\">QAvoice(dense_8): TimeDistributed(Dense)</text>\n",
       "<polyline fill=\"none\" points=\"3598.1772,-.5 3598.1772,-44.5 \" stroke=\"#000000\"/>\n",
       "<text fill=\"#000000\" font-family=\"Times,serif\" font-size=\"14.00\" text-anchor=\"middle\" x=\"3626.0117\" y=\"-29.3\">input:</text>\n",
       "<polyline fill=\"none\" points=\"3598.1772,-22.5 3653.8462,-22.5 \" stroke=\"#000000\"/>\n",
       "<text fill=\"#000000\" font-family=\"Times,serif\" font-size=\"14.00\" text-anchor=\"middle\" x=\"3626.0117\" y=\"-7.3\">output:</text>\n",
       "<polyline fill=\"none\" points=\"3653.8462,-.5 3653.8462,-44.5 \" stroke=\"#000000\"/>\n",
       "<text fill=\"#000000\" font-family=\"Times,serif\" font-size=\"14.00\" text-anchor=\"middle\" x=\"3702.6704\" y=\"-29.3\">(None, 5, 128)</text>\n",
       "<polyline fill=\"none\" points=\"3653.8462,-22.5 3751.4946,-22.5 \" stroke=\"#000000\"/>\n",
       "<text fill=\"#000000\" font-family=\"Times,serif\" font-size=\"14.00\" text-anchor=\"middle\" x=\"3702.6704\" y=\"-7.3\">(None, 5, 3)</text>\n",
       "</g>\n",
       "<!-- 4799888856&#45;&gt;4798058848 -->\n",
       "<g class=\"edge\" id=\"edge56\">\n",
       "<title>4799888856-&gt;4798058848</title>\n",
       "<path d=\"M2796.1499,-82.0518C2799.0348,-81.6846 2801.8977,-81.3332 2804.7295,-81 3031.5484,-54.3095 3092.2126,-64.5918 3323.8066,-45.0598\" fill=\"none\" stroke=\"#000000\"/>\n",
       "<polygon fill=\"#000000\" points=\"3324.2266,-48.5368 3333.893,-44.1995 3323.6317,-41.5621 3324.2266,-48.5368\" stroke=\"#000000\"/>\n",
       "</g>\n",
       "<!-- 4797336096 -->\n",
       "<g class=\"node\" id=\"node58\">\n",
       "<title>4797336096</title>\n",
       "<polygon fill=\"none\" points=\"3769.6621,-.5 3769.6621,-44.5 4189.7969,-44.5 4189.7969,-.5 3769.6621,-.5\" stroke=\"#000000\"/>\n",
       "<text fill=\"#000000\" font-family=\"Times,serif\" font-size=\"14.00\" text-anchor=\"middle\" x=\"3903.0708\" y=\"-18.3\">QAmood(dense_9): TimeDistributed(Dense)</text>\n",
       "<polyline fill=\"none\" points=\"4036.4795,-.5 4036.4795,-44.5 \" stroke=\"#000000\"/>\n",
       "<text fill=\"#000000\" font-family=\"Times,serif\" font-size=\"14.00\" text-anchor=\"middle\" x=\"4064.314\" y=\"-29.3\">input:</text>\n",
       "<polyline fill=\"none\" points=\"4036.4795,-22.5 4092.1484,-22.5 \" stroke=\"#000000\"/>\n",
       "<text fill=\"#000000\" font-family=\"Times,serif\" font-size=\"14.00\" text-anchor=\"middle\" x=\"4064.314\" y=\"-7.3\">output:</text>\n",
       "<polyline fill=\"none\" points=\"4092.1484,-.5 4092.1484,-44.5 \" stroke=\"#000000\"/>\n",
       "<text fill=\"#000000\" font-family=\"Times,serif\" font-size=\"14.00\" text-anchor=\"middle\" x=\"4140.9727\" y=\"-29.3\">(None, 5, 128)</text>\n",
       "<polyline fill=\"none\" points=\"4092.1484,-22.5 4189.7969,-22.5 \" stroke=\"#000000\"/>\n",
       "<text fill=\"#000000\" font-family=\"Times,serif\" font-size=\"14.00\" text-anchor=\"middle\" x=\"4140.9727\" y=\"-7.3\">(None, 5, 4)</text>\n",
       "</g>\n",
       "<!-- 4799888856&#45;&gt;4797336096 -->\n",
       "<g class=\"edge\" id=\"edge57\">\n",
       "<title>4799888856-&gt;4797336096</title>\n",
       "<path d=\"M2796.1366,-81.9302C2799.0255,-81.5996 2801.8928,-81.2886 2804.7295,-81 3224.431,-38.2984 3334.8612,-74.1733 3759.5644,-45.0548\" fill=\"none\" stroke=\"#000000\"/>\n",
       "<polygon fill=\"#000000\" points=\"3759.9217,-48.5385 3769.6555,-44.3548 3759.4372,-41.5553 3759.9217,-48.5385\" stroke=\"#000000\"/>\n",
       "</g>\n",
       "<!-- 4798074496 -->\n",
       "<g class=\"node\" id=\"node59\">\n",
       "<title>4798074496</title>\n",
       "<polygon fill=\"none\" points=\"4208.2793,-.5 4208.2793,-44.5 4629.1797,-44.5 4629.1797,-.5 4208.2793,-.5\" stroke=\"#000000\"/>\n",
       "<text fill=\"#000000\" font-family=\"Times,serif\" font-size=\"14.00\" text-anchor=\"middle\" x=\"4342.0708\" y=\"-18.3\">QAstate(dense_10): TimeDistributed(Dense)</text>\n",
       "<polyline fill=\"none\" points=\"4475.8623,-.5 4475.8623,-44.5 \" stroke=\"#000000\"/>\n",
       "<text fill=\"#000000\" font-family=\"Times,serif\" font-size=\"14.00\" text-anchor=\"middle\" x=\"4503.6968\" y=\"-29.3\">input:</text>\n",
       "<polyline fill=\"none\" points=\"4475.8623,-22.5 4531.5313,-22.5 \" stroke=\"#000000\"/>\n",
       "<text fill=\"#000000\" font-family=\"Times,serif\" font-size=\"14.00\" text-anchor=\"middle\" x=\"4503.6968\" y=\"-7.3\">output:</text>\n",
       "<polyline fill=\"none\" points=\"4531.5313,-.5 4531.5313,-44.5 \" stroke=\"#000000\"/>\n",
       "<text fill=\"#000000\" font-family=\"Times,serif\" font-size=\"14.00\" text-anchor=\"middle\" x=\"4580.3555\" y=\"-29.3\">(None, 5, 128)</text>\n",
       "<polyline fill=\"none\" points=\"4531.5313,-22.5 4629.1797,-22.5 \" stroke=\"#000000\"/>\n",
       "<text fill=\"#000000\" font-family=\"Times,serif\" font-size=\"14.00\" text-anchor=\"middle\" x=\"4580.3555\" y=\"-7.3\">(None, 5, 3)</text>\n",
       "</g>\n",
       "<!-- 4799888856&#45;&gt;4798074496 -->\n",
       "<g class=\"edge\" id=\"edge58\">\n",
       "<title>4799888856-&gt;4798074496</title>\n",
       "<path d=\"M2796.1321,-81.8845C2799.0223,-81.5676 2801.8912,-81.2718 2804.7295,-81 3418.3549,-22.2299 3578.5145,-83.8871 4197.9157,-45.022\" fill=\"none\" stroke=\"#000000\"/>\n",
       "<polygon fill=\"#000000\" points=\"4198.2319,-48.5091 4207.9905,-44.3835 4197.7892,-41.5231 4198.2319,-48.5091\" stroke=\"#000000\"/>\n",
       "</g>\n",
       "</g>\n",
       "</svg>"
      ],
      "text/plain": [
       "<IPython.core.display.SVG object>"
      ]
     },
     "execution_count": 55,
     "metadata": {},
     "output_type": "execute_result"
    }
   ],
   "source": [
    "from IPython.display import SVG\n",
    "from keras.utils.vis_utils import model_to_dot\n",
    "plot_model(model, to_file='model_only_emb.png', show_shapes=True)\n",
    "SVG(model_to_dot(model, show_shapes=True, show_layer_names=True).create(prog='dot', format='svg'))"
   ]
  },
  {
   "cell_type": "markdown",
   "metadata": {
    "deletable": true,
    "editable": true
   },
   "source": [
    "# 10. Training"
   ]
  },
  {
   "cell_type": "code",
   "execution_count": null,
   "metadata": {
    "collapsed": true,
    "deletable": true,
    "editable": true
   },
   "outputs": [],
   "source": [
    "earlyStopping=EarlyStopping(monitor='val_loss', patience=5, verbose=0, mode='auto')\n",
    "\n",
    "tensorboard = TensorBoard(log_dir=\"logs/only_emb_+1_{}\".format(\n",
    "    datetime.datetime.now().strftime(\"%Y.%m.%d.%H.%M\")))"
   ]
  },
  {
   "cell_type": "code",
   "execution_count": null,
   "metadata": {
    "collapsed": false,
    "deletable": false,
    "editable": false,
    "run_control": {
     "frozen": true
    }
   },
   "outputs": [],
   "source": [
    "[x for x in model.metrics_names if x[-4:]=='_acc']"
   ]
  },
  {
   "cell_type": "code",
   "execution_count": null,
   "metadata": {
    "collapsed": true,
    "deletable": true,
    "editable": true
   },
   "outputs": [],
   "source": [
    "class TestCallback(Callback):\n",
    "    def __init__(self, test_data):\n",
    "        self.test_data = test_data\n",
    "\n",
    "    def on_epoch_end(self, epoch, logs={}):\n",
    "        x, y = self.test_data\n",
    "        metrics = self.model.evaluate(x, y, verbose=0)\n",
    "        for i,x in enumerate(self.model.metrics_names):\n",
    "            logs[\"test_\"+x]= metrics[i]\n",
    "        logs['test_acc']= np.mean([logs[\"test_\"+x] for x in self.model.metrics_names if x[-4:]=='_acc'])\n",
    "        logs['val_acc']= np.mean([logs[\"val_\"+x] for x in self.model.metrics_names if x[-4:]=='_acc'])\n",
    "        logs['train_acc']= np.mean([logs[x] for x in self.model.metrics_names if x[-4:]=='_acc'])\n",
    "        return logs\n",
    "\n",
    "        "
   ]
  },
  {
   "cell_type": "code",
   "execution_count": null,
   "metadata": {
    "collapsed": false,
    "deletable": false,
    "editable": false,
    "run_control": {
     "frozen": true
    }
   },
   "outputs": [],
   "source": [
    "\"Not Working!!!!\"\n",
    "\n",
    "from sklearn.metrics import precision_score, recall_score\n",
    "class PrecRecMetrics(Callback):\n",
    "    def __init__(self, test_data=None):\n",
    "        self.test_data = test_data\n",
    "\n",
    "    def on_epoch_end(self, batch, logs={}):\n",
    "\n",
    "#         self.compute((self.validation_data[0],self.validation_data[1]), \"val_\")\n",
    "        if self.test_data is not None:\n",
    "            self.compute(self.test_data, \"test_\", logs)            \n",
    "\n",
    "        return logs\n",
    "\n",
    "    def compute(self, data, prefix=\"na_\", logs={}):\n",
    "        global _\n",
    "        x, y = data\n",
    "        \n",
    "        outputs = self.model.predict(x)\n",
    "        _ = (data,outputs)\n",
    "        for i, o in enumerate(self.model.output_names):\n",
    "            y_predict = np.argmax(outputs[i], axis=-1)\n",
    "            yy = np.argmax(y[o], axis=-1)\n",
    "            logs[prefix+'recall'] = recall_score(y, y_predict)\n",
    "            logs[prefix+'precision'] =  precision_score(y, y_predict)\n",
    "\n"
   ]
  },
  {
   "cell_type": "code",
   "execution_count": null,
   "metadata": {
    "collapsed": false,
    "deletable": true,
    "editable": true,
    "scrolled": true
   },
   "outputs": [],
   "source": [
    "history = model.fit(data['input'], data['output'],\n",
    "                    batch_size=BATCH_SIZE,\n",
    "                    callbacks=[earlyStopping, TestCallback(data['test']), tensorboard],\n",
    "                    epochs=100,\n",
    "                    verbose=2,\n",
    "                    validation_data=data['val'])"
   ]
  },
  {
   "cell_type": "code",
   "execution_count": null,
   "metadata": {
    "collapsed": true,
    "deletable": false,
    "editable": false,
    "run_control": {
     "frozen": true
    }
   },
   "outputs": [],
   "source": [
    "model.metrics_names\n",
    "model.output_names\n",
    "model.metrics\n",
    "history.history"
   ]
  },
  {
   "cell_type": "code",
   "execution_count": null,
   "metadata": {
    "collapsed": false,
    "deletable": true,
    "editable": true
   },
   "outputs": [],
   "source": [
    "fig = plt.figure()\n",
    "plt.plot(history.history[\"loss\"])\n",
    "plt.plot(history.history['val_loss'])\n",
    "plt.plot(history.history['test_loss'])\n",
    "plt.title('model overall loss')\n",
    "plt.ylabel('loss')\n",
    "plt.xlabel('epoch')\n",
    "plt.legend(['train', 'val', 'test'], loc='upper right')\n",
    "plt.savefig('plots/model_overall_loss' +\n",
    "            datetime.datetime.now().strftime(\".%Y.%m.%d.%H.%M\") + '.png')\n",
    "plt.close(fig)\n",
    "\n",
    "# plt.show()\n",
    "\n",
    "\n",
    "# In[471]:\n",
    "\n",
    "# summarize history for loss\n",
    "plt.plot(history.history[\"train_acc\"])\n",
    "plt.plot(history.history['val_acc'])\n",
    "plt.plot(history.history['test_acc'])\n",
    "plt.title('model average accuracy')\n",
    "plt.ylabel('accuracy')\n",
    "plt.xlabel('epoch')\n",
    "plt.legend([x +\" = \"+ str(round(history.history[x+'_acc'][-1]*100,2)) for x in ['train', 'val', 'test']], loc='lower right')\n",
    "# for i, x in enumerate(['train', 'val', 'test']):\n",
    "#     plt.annotate(str(round(history.history[x+'_acc'][-1]*100,2)),\n",
    "#                  xy=(len(history.history[x+'_acc']), history.history[x+'_acc'][-1]), \n",
    "#                  textcoords='figure pixels', \n",
    "#                  xytext=(-20,-10))\n",
    "plt.savefig('plots/model_average_accuracy' +\n",
    "            datetime.datetime.now().strftime(\".%Y.%m.%d.%H.%M\") + '.png')\n"
   ]
  },
  {
   "cell_type": "code",
   "execution_count": null,
   "metadata": {
    "collapsed": false,
    "deletable": true,
    "editable": true
   },
   "outputs": [],
   "source": [
    "%matplotlib inline\n",
    "import matplotlib.pyplot as plt\n",
    "\n",
    "# summarize history for loss\n",
    "plt.plot(history.history[\"loss\"])\n",
    "plt.plot(history.history['val_loss'])\n",
    "plt.plot(history.history['test_loss'])\n",
    "plt.title('model overall loss')\n",
    "plt.ylabel('loss')\n",
    "plt.xlabel('epoch')\n",
    "plt.legend(['train', 'val', 'test'], loc='upper right')\n",
    "plt.savefig('plots/model_overall_loss' +\n",
    "            datetime.datetime.now().strftime(\".%Y.%m.%d.%H.%M\") + '.png')\n",
    "\n",
    "# plt.show()"
   ]
  },
  {
   "cell_type": "code",
   "execution_count": null,
   "metadata": {
    "collapsed": false,
    "deletable": true,
    "editable": true
   },
   "outputs": [],
   "source": [
    "# summarize history for loss\n",
    "plt.plot(history.history[\"train_acc\"])\n",
    "plt.plot(history.history['val_acc'])\n",
    "plt.plot(history.history['test_acc'])\n",
    "plt.title('model average accuracy')\n",
    "plt.ylabel('accuracy')\n",
    "plt.xlabel('epoch')\n",
    "plt.legend([x +\" = \"+ str(round(history.history[x+'_acc'][-1]*100,2)) for x in ['train', 'val', 'test']], loc='lower right')\n",
    "# for i, x in enumerate(['train', 'val', 'test']):\n",
    "#     plt.annotate(str(round(history.history[x+'_acc'][-1]*100,2)),\n",
    "#                  xy=(len(history.history[x+'_acc']), history.history[x+'_acc'][-1]), \n",
    "#                  textcoords='figure pixels', \n",
    "#                  xytext=(-20,-10))\n",
    "plt.savefig('plots/model_average_accuracy' +\n",
    "            datetime.datetime.now().strftime(\".%Y.%m.%d.%H.%M\") + '.png')\n",
    "\n",
    "plt.show()"
   ]
  },
  {
   "cell_type": "code",
   "execution_count": null,
   "metadata": {
    "collapsed": false,
    "deletable": true,
    "editable": true
   },
   "outputs": [],
   "source": [
    "# VALIDATAION = True\n",
    "# prefix = \"val_\" if VALIDATAION else \"\"\n",
    "# del prefix\n",
    "legends = []\n",
    "for x in model.output_names:\n",
    "    # summarize history for accuracy\n",
    "    plt.plot(history.history[x+\"_acc\"])\n",
    "    legends.append(\"\"+x +\" = \"+ str(round(history.history[x+'_acc'][-1]*100,2)))\n",
    "#     plt.plot(history.history[x+\"_acc\"])\n",
    "#     legends.append(\"val_\"+x)\n",
    "#     plt.plot(history.history[\"val_\" + x+\"_acc\"])\n",
    "#     legends.append(\"train_\"+x)\n",
    "plt.title('model indiviual accuracy on test dataset')\n",
    "plt.ylabel('accuracy')\n",
    "plt.xlabel('epoch')\n",
    "plt.legend(legends, loc='lower right')\n",
    "plt.savefig('plots/accuracy_all' +\n",
    "            datetime.datetime.now().strftime(\".%Y.%m.%d.%H.%M\") + '.png')\n",
    "plt.show()"
   ]
  },
  {
   "cell_type": "code",
   "execution_count": null,
   "metadata": {
    "collapsed": false,
    "deletable": true,
    "editable": true
   },
   "outputs": [],
   "source": [
    "%matplotlib inline\n",
    "import matplotlib.pyplot as plt\n",
    "\n",
    "legends = []\n",
    "for x in model.output_names:\n",
    "    # summarize history for loss\n",
    "    plt.plot(history.history[\"test_\"+x+\"_loss\"])\n",
    "    legends.append(\"\"+x +\" = \"+ str(round(history.history[x+'_loss'][-1]*100,2)))\n",
    "plt.title('model individual loss on test dataset')\n",
    "plt.ylabel('loss')\n",
    "plt.xlabel('epoch')\n",
    "plt.legend(legends, loc='upper right')\n",
    "plt.savefig('plots/loss_all' +\n",
    "            datetime.datetime.now().strftime(\".%Y.%m.%d.%H.%M\") + '.png')\n",
    "plt.show()"
   ]
  },
  {
   "cell_type": "markdown",
   "metadata": {
    "deletable": true,
    "editable": true
   },
   "source": [
    "## 10.1 Inspect One"
   ]
  },
  {
   "cell_type": "code",
   "execution_count": null,
   "metadata": {
    "collapsed": true,
    "deletable": true,
    "editable": true
   },
   "outputs": [],
   "source": [
    "#%%capture --no-stderr cap\n",
    "%autoreload 2\n",
    "\n",
    "colors.ok = ''\n",
    "colors.fail = ''\n",
    "colors.close = ''\n",
    "\n",
    "\n",
    "def inspectOne(times=0, printCorrect=True):\n",
    "    isAllCorrect = True\n",
    "    if times > 10000: # to prevent infinite loops\n",
    "        return\n",
    "    ind = np.random.randint(0, len(val.index))\n",
    "    ind = (val.index[ind][0], slice(None))\n",
    "\n",
    "    string_input = values_test.loc[(slice(None), ind[0]), :]\n",
    "    preds = model.predict(\n",
    "        getData(val.loc[ind], string_input, feat_x, strings_x))\n",
    "    preds = [np.argmax(x, axis=-1) for x in preds]\n",
    "    #predicted string\n",
    "    print(\"Predicted String Q\", string_input[strings_x[0]][0], \"from\",\n",
    "          \"-\".join(str(x) for x in string_input.index.values[0]))\n",
    "\n",
    "    if (np.argmax(string_input[strings_y[0]][0], axis=-1) == preds[0]).all():\n",
    "        if printCorrect: print(colors.ok + '✅' + colors.close + \"Segmentation\")\n",
    "    else:\n",
    "        print(colors.fail + '❌' + colors.close + \"Segmentation\")\n",
    "        isAllCorrect = False\n",
    "        print(\"    T\", utf2bw(string_input[strings_y[0]][0]))\n",
    "        print(\"     \", utf2bw(ctable.decode(preds[0][0], calc_argmax=False)))\n",
    "\n",
    "\n",
    "#     print('Q', utf2bw(pretty_join(rowx)))\n",
    "\n",
    "    rowy = dict()\n",
    "    for i, v in enumerate(feat_y):\n",
    "        rowy[v] = {\"correct\": val[v].loc[ind]}\n",
    "        res = np.zeros((SENTLEN, rowy[v][\"correct\"].shape[1]))\n",
    "        for ii, c in enumerate(preds[i + 1][0]):\n",
    "            res[ii, c] = 1\n",
    "        rowy[v][\"pred\"] = pd.DataFrame(res, columns=val[v].columns)\n",
    "        results = []\n",
    "        if (rowy[v][\"correct\"].values == rowy[v][\"pred\"].values).all():\n",
    "            if printCorrect: print(colors.ok + '✅' + colors.close + v)\n",
    "        else:\n",
    "            isAllCorrect = False\n",
    "            print(colors.fail + '❌' + colors.close + v, end=' ')\n",
    "            #             results.append(colors.fail + '☒' + colors.close)\n",
    "            results.append('T ' + pretty_join(rowy[v][\"correct\"]))\n",
    "            results.append(pretty_join(rowy[v][\"pred\"]))\n",
    "            print(' '.join(results))\n",
    "    if isAllCorrect or times < 10:\n",
    "        print(\"\")\n",
    "        inspectOne(times + 1, printCorrect)\n",
    "\n",
    "inspectOne(printCorrect=False)\n",
    "\n",
    "with open(\n",
    "        'output' + datetime.datetime.now().strftime(\".%Y.%m.%d.%H.%M.%S\") +\n",
    "        '.txt', 'w') as f:\n",
    "    f.write(cap.stdout)"
   ]
  },
  {
   "cell_type": "markdown",
   "metadata": {
    "deletable": true,
    "editable": true
   },
   "source": [
    "## 10.2 Inspect All"
   ]
  },
  {
   "cell_type": "code",
   "execution_count": null,
   "metadata": {
    "collapsed": true,
    "deletable": true,
    "editable": true
   },
   "outputs": [],
   "source": [
    "mydata = data[\"test\"]\n",
    "preds = model.predict(mydata[0])\n",
    "preds = [np.argmax(x, axis=-1) for x in preds]"
   ]
  },
  {
   "cell_type": "code",
   "execution_count": null,
   "metadata": {
    "collapsed": false,
    "deletable": true,
    "editable": true
   },
   "outputs": [],
   "source": [
    "def pretty_join2(arr, columns, v):\n",
    "    return \"/\".join([columns[row].replace(v+\"_\",\"\") for row in arr]).rstrip(\"/0\")"
   ]
  },
  {
   "cell_type": "code",
   "execution_count": null,
   "metadata": {
    "collapsed": true,
    "deletable": true,
    "editable": true
   },
   "outputs": [],
   "source": [
    "# for ite in range(len(mydata[0][strings_x[0]])):\n",
    "for ite in range(100):\n",
    "    print(\"\\nPredicted String Q\", ctable.decode(mydata[0][strings_x[0]][ite], calc_argmax=True), \"from\",\n",
    "          \"-\".join(str(x) for x in values_test.index.values[ite]))\n",
    "    \n",
    "    for i, v in enumerate(model.output_names):\n",
    "        if v not in strings_y:\n",
    "            continue\n",
    "\n",
    "        if not (np.argmax(mydata[1][v][ite], axis=-1) == preds[i][ite]).all():\n",
    "            print(colors.fail + '❌' + colors.close + v)\n",
    "            isAllCorrect = False\n",
    "            print(\"    T\", utf2bw(ctable.decode(mydata[1][v][ite], calc_argmax=True)))\n",
    "            print(\"     \", utf2bw(ctable.decode(preds[i][ite], calc_argmax=False)))\n",
    "\n",
    "    rowy = dict()\n",
    "    for i, v in enumerate(model.output_names):\n",
    "        if v in strings_y:\n",
    "            continue\n",
    "        rowy[v] = {\"correct\": np.argmax(mydata[1][v][ite], axis=-1)}\n",
    "        rowy[v][\"pred\"] = preds[i][ite]\n",
    "        results = []\n",
    "#         print(val[v].columns)\n",
    "        if not (rowy[v][\"correct\"] == rowy[v][\"pred\"]).all():\n",
    "            isAllCorrect = False\n",
    "            print(colors.fail + '❌' + colors.close + v, end=' ')\n",
    "            #             results.append(colors.fail + '☒' + colors.close)\n",
    "            results.append('T ' + pretty_join2(rowy[v][\"correct\"],val[v].columns,v))\n",
    "            results.append(pretty_join2(rowy[v][\"pred\"],val[v].columns,v))\n",
    "            print(' '.join(results))\n",
    "#         elif v ==\"QApos\":\n",
    "        else:\n",
    "            results.append(colors.ok + '✅' + colors.close + 'T ' + pretty_join2(rowy[v][\"correct\"],val[v].columns,v))\n",
    "            results.append(pretty_join2(rowy[v][\"pred\"],val[v].columns,v))\n",
    "            print(v, ' '.join(results))\n"
   ]
  },
  {
   "cell_type": "code",
   "execution_count": null,
   "metadata": {
    "collapsed": false,
    "deletable": true,
    "editable": true
   },
   "outputs": [],
   "source": [
    "rowy"
   ]
  },
  {
   "cell_type": "code",
   "execution_count": null,
   "metadata": {
    "collapsed": true,
    "deletable": true,
    "editable": true
   },
   "outputs": [],
   "source": [
    "for _ in range(2):\n",
    "    inspectOne(print)"
   ]
  },
  {
   "cell_type": "markdown",
   "metadata": {
    "deletable": true,
    "editable": true
   },
   "source": [
    "# 11. Save Model?"
   ]
  },
  {
   "cell_type": "code",
   "execution_count": null,
   "metadata": {
    "collapsed": true,
    "deletable": true,
    "editable": true
   },
   "outputs": [],
   "source": [
    "model.save(\"stringsAndCats.keras\")"
   ]
  },
  {
   "cell_type": "code",
   "execution_count": null,
   "metadata": {
    "collapsed": false,
    "deletable": true,
    "editable": true
   },
   "outputs": [],
   "source": [
    "import importlib\n",
    "importlib.reload(character_table)"
   ]
  },
  {
   "cell_type": "code",
   "execution_count": null,
   "metadata": {
    "collapsed": false,
    "deletable": true,
    "editable": true
   },
   "outputs": [],
   "source": [
    "ctable.decode(ctable.encode(\"ب\"), calc_argmax=False)"
   ]
  },
  {
   "cell_type": "markdown",
   "metadata": {
    "deletable": true,
    "editable": true
   },
   "source": [
    "\n",
    "### After alignment. Accuracy is good. Can be treated as baseline. (name=baseline)\n",
    "`strings_cats_aligned_2018.06.25.15.14`\n",
    "### Comaprison between baseline and POS embeddings. (No drop, so it is the best) (name=baseline+pos_emb)\n",
    "`with_pos_embeddings_2018.06.25.17.37`\n",
    "### Comaprison between baseline with POS embeddings and subword embeddings. (name=baseline+pos_emb+subword_emb)\n",
    "`with_embeddings_2018.06.25.17.37` NOT DONE\n",
    "### Comaprison between baseline with subword embeddings. (name=baseline+pos_emb+subword_emb+word2vec)\n",
    "`with_word2vec_2018.06.25.17.37` NOT DONE\n",
    "\n",
    "### Different Sizes of Baseline or subword"
   ]
  }
 ],
 "metadata": {
  "kernelspec": {
   "display_name": "tf1.4py3.5",
   "language": "python",
   "name": "tf1.4py3.5"
  },
  "language_info": {
   "codemirror_mode": {
    "name": "ipython",
    "version": 3
   },
   "file_extension": ".py",
   "mimetype": "text/x-python",
   "name": "python",
   "nbconvert_exporter": "python",
   "pygments_lexer": "ipython3",
   "version": "3.5.1"
  },
  "notify_time": "10"
 },
 "nbformat": 4,
 "nbformat_minor": 2
}
