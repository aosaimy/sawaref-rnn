{
 "cells": [
  {
   "cell_type": "markdown",
   "metadata": {
    "deletable": false,
    "editable": false,
    "run_control": {
     "frozen": true
    },
    "slideshow": {
     "slide_type": "slide"
    }
   },
   "source": [
    "# 1. Import"
   ]
  },
  {
   "cell_type": "code",
   "execution_count": null,
   "metadata": {
    "collapsed": true,
    "deletable": true,
    "editable": true
   },
   "outputs": [],
   "source": [
    "import numpy as np\n",
    "import re\n",
    "from os import listdir\n",
    "from os.path import isdir, join, islink"
   ]
  },
  {
   "cell_type": "code",
   "execution_count": null,
   "metadata": {
    "collapsed": false,
    "deletable": true,
    "editable": true
   },
   "outputs": [],
   "source": [
    "mypath = 'logs/'\n",
    "startswith = input(\"startwith filter? \")\n",
    "logs = [f for f in listdir(mypath) if (isdir(join(mypath, f)) or islink(join(mypath, f))) and f.startswith(startswith)]"
   ]
  },
  {
   "cell_type": "code",
   "execution_count": null,
   "metadata": {
    "collapsed": false,
    "deletable": true,
    "editable": true
   },
   "outputs": [],
   "source": [
    "logs = [log for log in logs if input(log) == \"\"]\n",
    "print(logs)"
   ]
  },
  {
   "cell_type": "code",
   "execution_count": null,
   "metadata": {
    "collapsed": false,
    "deletable": true,
    "editable": true
   },
   "outputs": [],
   "source": [
    "logs"
   ]
  },
  {
   "cell_type": "code",
   "execution_count": null,
   "metadata": {
    "collapsed": true,
    "deletable": true,
    "editable": true
   },
   "outputs": [],
   "source": [
    "logs = [\n",
    "        'comp_end_final_.2018.07.26.14.31',\n",
    " 'comp_ru_final_.2018.07.26.14.17',\n",
    " 'comp_sp1_final_.2018.07.27.17.19',\n",
    "    'comp_ch_final_.2018.07.26.15.33',\n",
    "]\n"
   ]
  },
  {
   "cell_type": "code",
   "execution_count": null,
   "metadata": {
    "collapsed": false,
    "deletable": true,
    "editable": true
   },
   "outputs": [],
   "source": [
    "lognames = {\n",
    "    'comp_ch_final_.2018.07.26.15.33': \"ch_final\",\n",
    "    'comp_end_1_.2018.07.25.17.29': \"end_1\",\n",
    "    'comp_end_1_.2018.07.25.17.40': \"end_1\",\n",
    "    'comp_end_1_.2018.07.25.18.07': \"end_1\",\n",
    "    'comp_end_1_.2018.07.25.18.16': \"end_1\",\n",
    "    'comp_end_final_.2018.07.26.14.31': \"end_final\",\n",
    "    'comp_end_with_small_weights_.2018.07.25.22.14': \"end_with_small_weights\",\n",
    "    'comp_ru_final_.2018.07.26.14.17': \"ru_final\",\n",
    "    'comp_sp1__.2018.07.26.12.05': \"sp1\",\n",
    "    'comp_sp1__minusOneTozeros_.2018.07.26.13.06': \"sp1__minusOneTozeros\",\n",
    "    'comp_sp1_final_.2018.07.27.17.19': \"sp1_final\",\n",
    "    'comp_sp1_withoutMasking_.2018.07.26.13.25': \"sp1_withoutMasking\",\n",
    " }\n"
   ]
  },
  {
   "cell_type": "code",
   "execution_count": null,
   "metadata": {
    "collapsed": false,
    "deletable": true,
    "editable": true
   },
   "outputs": [],
   "source": [
    "from tensorboard.backend.event_processing.event_accumulator import EventAccumulator\n",
    "\n",
    "\n",
    "event_acc = {log: EventAccumulator('logs/'+log) for log in logs}\n",
    "for log in logs:\n",
    "    event_acc[log].Reload()\n",
    "# Show all tags in the log file\n",
    "# print(event_acc.Tags())\n",
    "\n",
    "# E. g. get wall clock, number of steps and value for a scalar 'Accuracy'\n",
    "# w_times, step_nums, vals = zip(*event_acc.Scalars('QAperson_acc'))\n",
    "# print(w_times)\n",
    "# print(step_nums)\n",
    "# print(vals)"
   ]
  },
  {
   "cell_type": "code",
   "execution_count": null,
   "metadata": {
    "collapsed": false,
    "deletable": true,
    "editable": true
   },
   "outputs": [],
   "source": [
    "histories = {log: {k:[x.value for x in event_acc[log].scalars.Items(k)]  for k in event_acc[log].scalars.Keys()} for log in logs}"
   ]
  },
  {
   "cell_type": "markdown",
   "metadata": {
    "deletable": true,
    "editable": true
   },
   "source": [
    "# 2. Plots"
   ]
  },
  {
   "cell_type": "markdown",
   "metadata": {
    "deletable": true,
    "editable": true
   },
   "source": [
    "### model overall loss"
   ]
  },
  {
   "cell_type": "code",
   "execution_count": null,
   "metadata": {
    "collapsed": false,
    "deletable": true,
    "editable": true
   },
   "outputs": [],
   "source": [
    "import matplotlib.pyplot as plt\n",
    "fig = plt.figure()\n",
    "plt.plot(history[\"loss\"])\n",
    "plt.plot(history['val_loss'])\n",
    "plt.plot(history['test_loss'])\n",
    "plt.title('model overall loss')\n",
    "plt.ylabel('loss')\n",
    "plt.xlabel('epoch')\n",
    "plt.legend(['train', 'val', 'test'], loc='upper right')\n",
    "# plt.savefig('plots/model_overall_loss' +\n",
    "#             datetime.datetime.now().strftime(\".%Y.%m.%d.%H.%M\") + '.png')\n",
    "# plt.close(fig)\n",
    "\n",
    "plt.show()\n",
    "\n",
    "\n",
    "# In[471]:"
   ]
  },
  {
   "cell_type": "markdown",
   "metadata": {
    "ExecuteTime": {
     "end_time": "2018-06-27T14:06:49.439031Z",
     "start_time": "2018-06-27T14:06:49.435549Z"
    },
    "deletable": true,
    "editable": true
   },
   "source": [
    "### model avaerage accuracy"
   ]
  },
  {
   "cell_type": "code",
   "execution_count": null,
   "metadata": {
    "collapsed": false,
    "deletable": true,
    "editable": true
   },
   "outputs": [],
   "source": [
    "%config InlineBackend.figure_format = 'retina'\n",
    "# summarize history for loss\n",
    "splits = ['train', 'val', 'test']\n",
    "# splits = ['train']\n",
    "\n",
    "# print(experminets[\"dts\"])\n",
    "for split in splits:\n",
    "    legends = []\n",
    "    fig = plt.figure()\n",
    "    for log in logs:\n",
    "        if log not in logs:\n",
    "            continue\n",
    "        logname = lognames[log] if log in lognames else log\n",
    "#         logname = re.sub('.*_','',log)\n",
    "#         logname = int(round(1-float(\".\"+re.sub('\\+.*','',logname)),2)*100)\n",
    "    #     logname = log\n",
    "        history = histories[log]\n",
    "        plt.plot(history[split+\"_acc\"])\n",
    "        legends.append(str(logname) + \"% = \"+ str(round(history[split + '_acc'][-1]*100,2)))\n",
    "    plt.title('model average accuracy of '+split+\" dataset\")\n",
    "    plt.ylabel('accuracy')\n",
    "    plt.xlabel('epoch')\n",
    "    plt.legend(legends, loc='lower right')\n",
    "    # plt.savefig('plots/model_average_accuracy' +\n",
    "    #             datetime.datetime.now().strftime(\".%Y.%m.%d.%H.%M\") + '.png')\n",
    "    plt.show()\n",
    "    plt.close(fig)"
   ]
  },
  {
   "cell_type": "code",
   "execution_count": null,
   "metadata": {
    "collapsed": false,
    "deletable": true,
    "editable": true
   },
   "outputs": [],
   "source": [
    "%config InlineBackend.figure_format = 'retina'\n",
    "# summarize history for loss\n",
    "starts_with = {\n",
    "    \"train\": \"QA\",\n",
    "    \"val\": \"val_\",\n",
    "    \"test\": \"test_\",\n",
    "}\n",
    "splits = ['train', 'val', 'test']\n",
    "\n",
    "experminets = {\n",
    "    \"dts\" : [log for log in logs if log.startswith(\"diff_train_sizes\")], #diff_train_sizes\n",
    "}\n",
    "\n",
    "# print(experminets[\"dts\"])\n",
    "for split in splits:\n",
    "    ind = None\n",
    "    legends = []\n",
    "    fig = plt.figure()\n",
    "    plts = {}\n",
    "    for log in logs:\n",
    "#         if log not in experminets[\"dts\"]:\n",
    "#             continue\n",
    "        logname = lognames[log] if log in lognames else log\n",
    "#         logname = re.sub('.*_','',log)\n",
    "#         logname = round(1-float(\".\"+re.sub('\\+.*','',logname)),2)\n",
    "        history = histories[log]\n",
    "        if ind is None:\n",
    "            selected = sorted([x for x in history \n",
    "                               if x.endswith(\"_acc\") and\n",
    "                               x.startswith(starts_with[split]) and\n",
    "                               not x.endswith(\"QAutf8_acc\") and\n",
    "                               x != starts_with[split]+\"acc\"],reverse=True)\n",
    "            ind = range(len(selected))\n",
    "        data = [history[x][-1] for x in selected]\n",
    "        legends.append(logname)\n",
    "        plts[log] = plt.bar(ind, data, 0.35)\n",
    "        \n",
    "#     print(selected)\n",
    "    plt.xticks(ind, [re.sub('.*_','',x.replace(\"_acc\",\"\")).replace(\"QA\",\"\") for x in selected],rotation=90)\n",
    "#     plt.yticks(np.arange(80, 100)/100)\n",
    "#     plt.legend((p1[0], p2[0]), ('Men', 'Women'))\n",
    "    plt.gca().set_ylim([0.93,1])\n",
    "    plt.title('sample-based model accuracy of the four approaches('+split+\")\")\n",
    "    plt.ylabel('accuracy')\n",
    "#     plt.xlabel('epoch')\n",
    "    plt.legend(legends, loc='lower right')\n",
    "    # plt.savefig('plots/model_average_accuracy' +\n",
    "    #             datetime.datetime.now().strftime(\".%Y.%m.%d.%H.%M\") + '.png')\n",
    "    plt.show()\n",
    "    plt.close(fig)"
   ]
  },
  {
   "cell_type": "code",
   "execution_count": null,
   "metadata": {
    "collapsed": false,
    "deletable": true,
    "editable": true
   },
   "outputs": [],
   "source": [
    "%config InlineBackend.figure_format = 'retina'\n",
    "# summarize history for loss\n",
    "splits = ['train', 'val', 'test']\n",
    "# splits = ['train']\n",
    "\n",
    "# print(experminets[\"dts\"])\n",
    "for split in splits:\n",
    "    legends = []\n",
    "    fig = plt.figure()\n",
    "    for log in logs:\n",
    "#         if log not in [log for log in logs \n",
    "#                        if log.startswith(\"emb_\") or \n",
    "#                        log.startswith(\"only_emb\") or \n",
    "#                        log.startswith(\"diff_train_sizes_1\") or \n",
    "#                        log.startswith(\"diff_train_sizes_8\")]:\n",
    "#             continue\n",
    "        logname = lognames[log] if log in lognames else log\n",
    "#         logname = re.sub('\\+.*','',log)\n",
    "#         logname = logname.replace(\"diff_train_sizes\",\"baseline\").replace(\"_1\",\"_large\").replace(\"_8\",\"_small\")\n",
    "#         logname = int(round(1-float(\".\"+re.sub('\\+.*','',logname)),2)*100)\n",
    "#         logname = log\n",
    "        history = histories[log]\n",
    "        if (split + '_acc') not in history:\n",
    "            print(history)\n",
    "            continue\n",
    "        plt.plot(history[split+\"_acc\"][:30])\n",
    "        legends.append(str(logname) + \" = \"+ str(round(history[split + '_acc'][-1]*100,2)))\n",
    "    plt.title('model average accuracy of '+split+\" dataset\")\n",
    "    plt.ylabel('accuracy')\n",
    "    plt.xlabel('epoch')\n",
    "    plt.legend(legends, loc='lower right')\n",
    "    # plt.savefig('plots/model_average_accuracy' +\n",
    "    #             datetime.datetime.now().strftime(\".%Y.%m.%d.%H.%M\") + '.png')\n",
    "    plt.show()\n",
    "    plt.close(fig)"
   ]
  },
  {
   "cell_type": "code",
   "execution_count": null,
   "metadata": {
    "collapsed": false,
    "deletable": true,
    "editable": true
   },
   "outputs": [],
   "source": [
    "%matplotlib inline\n",
    "import matplotlib.pyplot as plt\n",
    "\n",
    "# summarize history for loss\n",
    "plt.plot(history[\"loss\"])\n",
    "plt.plot(history['val_loss'])\n",
    "plt.plot(history['test_loss'])\n",
    "plt.title('model overall loss')\n",
    "plt.ylabel('loss')\n",
    "plt.xlabel('epoch')\n",
    "plt.legend(['train', 'val', 'test'], loc='upper right')\n",
    "plt.savefig('plots/model_overall_loss' +\n",
    "            datetime.datetime.now().strftime(\".%Y.%m.%d.%H.%M\") + '.png')\n",
    "\n",
    "# plt.show()"
   ]
  },
  {
   "cell_type": "code",
   "execution_count": null,
   "metadata": {
    "collapsed": false,
    "deletable": true,
    "editable": true
   },
   "outputs": [],
   "source": [
    "# summarize history for loss\n",
    "plt.plot(history[\"train_acc\"])\n",
    "plt.plot(history['val_acc'])\n",
    "plt.plot(history['test_acc'])\n",
    "plt.title('model average accuracy')\n",
    "plt.ylabel('accuracy')\n",
    "plt.xlabel('epoch')\n",
    "plt.legend([x +\" = \"+ str(round(history[x+'_acc'][-1]*100,2)) for x in ['train', 'val', 'test']], loc='lower right')\n",
    "# for i, x in enumerate(['train', 'val', 'test']):\n",
    "#     plt.annotate(str(round(history[x+'_acc'][-1]*100,2)),\n",
    "#                  xy=(len(history[x+'_acc']), history[x+'_acc'][-1]), \n",
    "#                  textcoords='figure pixels', \n",
    "#                  xytext=(-20,-10))\n",
    "plt.savefig('plots/model_average_accuracy' +\n",
    "            datetime.datetime.now().strftime(\".%Y.%m.%d.%H.%M\") + '.png')\n",
    "\n",
    "plt.show()"
   ]
  },
  {
   "cell_type": "code",
   "execution_count": null,
   "metadata": {
    "collapsed": false,
    "deletable": true,
    "editable": true
   },
   "outputs": [],
   "source": [
    "# VALIDATAION = True\n",
    "# prefix = \"val_\" if VALIDATAION else \"\"\n",
    "# del prefix\n",
    "legends = []\n",
    "for x in model.output_names:\n",
    "    # summarize history for accuracy\n",
    "    plt.plot(history[x+\"_acc\"])\n",
    "    legends.append(\"\"+x +\" = \"+ str(round(history[x+'_acc'][-1]*100,2)))\n",
    "#     plt.plot(history[x+\"_acc\"])\n",
    "#     legends.append(\"val_\"+x)\n",
    "#     plt.plot(history[\"val_\" + x+\"_acc\"])\n",
    "#     legends.append(\"train_\"+x)\n",
    "plt.title('model indiviual accuracy on test dataset')\n",
    "plt.ylabel('accuracy')\n",
    "plt.xlabel('epoch')\n",
    "plt.legend(legends, loc='lower right')\n",
    "plt.savefig('plots/accuracy_all' +\n",
    "            datetime.datetime.now().strftime(\".%Y.%m.%d.%H.%M\") + '.png')\n",
    "plt.show()"
   ]
  },
  {
   "cell_type": "code",
   "execution_count": null,
   "metadata": {
    "collapsed": false,
    "deletable": true,
    "editable": true
   },
   "outputs": [],
   "source": [
    "%matplotlib inline\n",
    "import matplotlib.pyplot as plt\n",
    "\n",
    "legends = []\n",
    "for x in model.output_names:\n",
    "    # summarize history for loss\n",
    "    plt.plot(history[\"test_\"+x+\"_loss\"])\n",
    "    legends.append(\"\"+x +\" = \"+ str(round(history[x+'_loss'][-1]*100,2)))\n",
    "plt.title('model individual loss on test dataset')\n",
    "plt.ylabel('loss')\n",
    "plt.xlabel('epoch')\n",
    "plt.legend(legends, loc='upper right')\n",
    "plt.savefig('plots/loss_all' +\n",
    "            datetime.datetime.now().strftime(\".%Y.%m.%d.%H.%M\") + '.png')\n",
    "plt.show()"
   ]
  },
  {
   "cell_type": "markdown",
   "metadata": {
    "deletable": true,
    "editable": true
   },
   "source": [
    "# 10.2 Pie"
   ]
  },
  {
   "cell_type": "code",
   "execution_count": null,
   "metadata": {
    "collapsed": false,
    "deletable": true,
    "editable": true
   },
   "outputs": [],
   "source": [
    "import numpy as np\n",
    "import matplotlib.pyplot as plt\n",
    "import re\n",
    "import math\n",
    "\n",
    "# Fixing random state for reproducibility\n",
    "np.random.seed(19680801)\n",
    "\n",
    "experiments = [log for log in logs if log.startswith(\"diff_taggers\")]\n",
    "# experiments.sort() # sorts normally by alphabetical order\n",
    "experiments.sort(key=len, reverse=True) # sorts by descending length\n",
    "# print(experiments)\n",
    "alltools = [\"\",\"MX\",\"ST\",\"FA\",\"AM\"]\n",
    "cmaps = ['Grey', 'Purple', 'Blue', 'Green', 'Orange', 'Red',]\n",
    "experiments\n",
    "widths = []\n",
    "thetas = []\n",
    "radii = []\n",
    "colors = []\n",
    "# print(experiments)\n",
    "for log in experiments:\n",
    "    logname = re.sub('.*_','',log)\n",
    "    logname = re.sub('\\+.*','',logname)\n",
    "    tools = logname.split(\",\")\n",
    "    logname = \"s_\"+logname if \"small\" in log else \"l_\"+logname\n",
    "    issmall = \"small\" in log\n",
    "    if not issmall:\n",
    "        continue\n",
    "    history = histories[log]\n",
    "    history = history[\"test_acc\"][-1]\n",
    "    width = np.pi * 8 / (math.pow(4,len(tools)))\n",
    "    theta = [alltools.index(t) for t in tools] + [0] * (len(alltools) - len(tools))\n",
    "    print(tools, width, theta, history)\n",
    "    theta = [90*(t-1)/math.pow(4,0 if i == 0 else i-1) for i, t in enumerate(theta)]\n",
    "#     print(len(tools), np.pi * 2 / (math.pow(4,len(tools))))\n",
    "    theta = sum(theta) + width /2\n",
    "    print(tools, theta)\n",
    "    widths.append(width)\n",
    "    thetas.append(theta)\n",
    "    radii.append(history)\n",
    "    colors.append(alltools.index(tools[-1]))\n",
    "#     print(issmall,tools, \"=\", history, theta)\n",
    "\n",
    "\n",
    "# radii = [(1 - r) * 100 for r in radii]\n",
    "radii = [r - min(radii)  for r in radii]\n",
    "# radii\n",
    "\n",
    "# Compute pie slices\n",
    "\n",
    "\n",
    "\n",
    "ax = plt.subplot(111, projection='polar')\n",
    "bars = ax.bar(thetas, radii, width=widths, bottom=0.0)\n",
    "\n",
    "# Use custom colors and opacity\n",
    "for r, bar in zip(colors, bars):\n",
    "    bar.set_facecolor(cmaps[r])\n",
    "    bar.set_alpha(1)\n",
    "\n",
    "plt.show()"
   ]
  },
  {
   "cell_type": "code",
   "execution_count": null,
   "metadata": {
    "collapsed": false,
    "deletable": true,
    "editable": true
   },
   "outputs": [],
   "source": [
    "import numpy as np\n",
    "import matplotlib.pyplot as plt\n",
    "import re\n",
    "import math\n",
    "\n",
    "# Fixing random state for reproducibility\n",
    "np.random.seed(19680801)\n",
    "\n",
    "experiments = [log for log in logs if log.startswith(\"diff_taggers\")]\n",
    "# experiments.sort() # sorts normally by alphabetical order\n",
    "experiments.sort(key=len, reverse=True) # sorts by descending length\n",
    "# print(experiments)\n",
    "alltools = [\"\",\"MX\",\"ST\",\"FA\",\"AM\"]\n",
    "cmaps = ['Grey', 'Purple', 'Blue', 'Green', 'Orange', 'Red',]\n",
    "# experiments"
   ]
  },
  {
   "cell_type": "code",
   "execution_count": null,
   "metadata": {
    "collapsed": false,
    "deletable": true,
    "editable": true
   },
   "outputs": [],
   "source": [
    "all = {}\n",
    "SMALL = True\n",
    "METRIC = \"test_acc\"#\"val_QAutf8_acc\"\n",
    "# print(experiments)\n",
    "for log in experiments:\n",
    "    logname = re.sub('.*_','',log)\n",
    "    logname = re.sub('\\+.*','',logname)\n",
    "    tools = logname.split(\",\")\n",
    "    issmall = \"small\" in log\n",
    "    if SMALL != issmall:\n",
    "        continue\n",
    "    logname = \"s_\"+logname if issmall else \"l_\"+logname\n",
    "    history = histories[log]\n",
    "    all[\",\".join(sorted(tools))] = history[METRIC][29]\n",
    "\n",
    "all"
   ]
  },
  {
   "cell_type": "code",
   "execution_count": null,
   "metadata": {
    "collapsed": false,
    "deletable": true,
    "editable": true
   },
   "outputs": [],
   "source": [
    "import itertools\n",
    "accuracies = {}\n",
    "# for L in range(0, len(tools)+1):\n",
    "L = len(tools) \n",
    "for subset in itertools.combinations(alltools[1:], L):\n",
    "    for p in itertools.permutations(subset):\n",
    "        accuracies[p]=[]\n",
    "        for e in range(L+1):\n",
    "            accuracies[p].append(all[\",\".join(sorted(p[:e]))])\n",
    "            \n",
    "accuracies"
   ]
  },
  {
   "cell_type": "code",
   "execution_count": null,
   "metadata": {
    "collapsed": false,
    "deletable": true,
    "editable": true
   },
   "outputs": [],
   "source": [
    "%config InlineBackend.figure_format = 'retina'\n",
    "plt.rcParams['figure.figsize'] = (10,10)\n",
    "\n",
    "print(\"range\", [min([all[x] for x in all]),max([all[x] for x in all])])\n",
    "ind = range(len(accuracies))\n",
    "for ii in reversed(range(L+1)):\n",
    "    if ii != 0: \n",
    "        colors = [cmaps[alltools.index(i[ii-1])] for i in accuracies] \n",
    "    else: \n",
    "        colors = [\"Grey\" for i in accuracies]\n",
    "    plt.bar(ind, [accuracies[i][ii] for i in accuracies], color=colors)\n",
    "#     print(selected)\n",
    "plt.xticks(ind, [\"-\".join(i) for i in accuracies],rotation=90)\n",
    "plt.gca().set_ylim([min([all[x] for x in all])-0.002,max([all[x] for x in all])+0.002])\n",
    "plt.title('model accuracy of multiple combinations of tools on '+ ('small' if SMALL else 'large' )+' dataset ('+METRIC+')')\n",
    "plt.ylabel('accuracy')\n",
    "plt.legend(list(reversed(alltools)), loc='lower right')\n",
    "plt.show()\n",
    "plt.close(fig)"
   ]
  },
  {
   "cell_type": "code",
   "execution_count": null,
   "metadata": {
    "collapsed": false,
    "deletable": true,
    "editable": true
   },
   "outputs": [],
   "source": [
    "import itertools\n",
    "tools = [\"MX\", \"FA\", \"AM\", \"ST\"]\n",
    "all = {}\n",
    "SMALL = False\n",
    "METRIC = \"test_acc\"#\"val_QAutf8_acc\"\n",
    "for SMALL in [False, True]:\n",
    "    for METRIC in [\"test_acc\",\"val_QAutf8_acc\", \"val_QApos_acc\"]:\n",
    "        # print(experiments)\n",
    "        for log in experiments:\n",
    "            logname = re.sub('.*_','',log)\n",
    "            logname = re.sub('\\+.*','',logname)\n",
    "            tools = logname.split(\",\")\n",
    "            issmall = \"small\" in log\n",
    "            if SMALL != issmall:\n",
    "                continue\n",
    "            logname = \"s_\"+logname if issmall else \"l_\"+logname\n",
    "            history = histories[log]\n",
    "            all[\",\".join(sorted(tools))] = history[METRIC][29]\n",
    "\n",
    "        accuracies = {}\n",
    "        # for L in range(0, len(tools)+1):\n",
    "        L = len(tools) \n",
    "        for subset in itertools.combinations(tools, L):\n",
    "            for p in itertools.permutations(subset):\n",
    "                accuracies[p]=[]\n",
    "                for e in range(L+1):\n",
    "                    accuracies[p].append(all[\",\".join(sorted(p[:e]))])\n",
    "\n",
    "        %config InlineBackend.figure_format = 'retina'\n",
    "        plt.rcParams['figure.figsize'] = (10,10)\n",
    "\n",
    "        ind = range(len(accuracies))\n",
    "        for ii in reversed(range(L+1)):\n",
    "            if ii != 0: \n",
    "                colors = [cmaps[alltools.index(i[ii-1])] for i in accuracies] \n",
    "            else: \n",
    "                colors = [\"Grey\" for i in accuracies]\n",
    "            plt.bar(ind, [accuracies[i][ii] for i in accuracies], color=colors)\n",
    "        #     print(selected)\n",
    "        plt.xticks(ind, [\"-\".join(i) for i in accuracies],rotation=90)\n",
    "        plt.gca().set_ylim([min([all[x] for x in all])-0.002,max([all[x] for x in all])+0.002])\n",
    "        plt.title('model accuracy of multiple combinations of tools on '+ ('small' if SMALL else 'large' )+' dataset ('+METRIC+')')\n",
    "        plt.ylabel('accuracy')\n",
    "        plt.legend(list(reversed(alltools)), loc='lower right')\n",
    "        plt.show()\n",
    "        plt.close(fig)"
   ]
  }
 ],
 "metadata": {
  "kernelspec": {
   "display_name": "tf1.4py3.5",
   "language": "python",
   "name": "tf1.4py3.5"
  },
  "language_info": {
   "codemirror_mode": {
    "name": "ipython",
    "version": 3
   },
   "file_extension": ".py",
   "mimetype": "text/x-python",
   "name": "python",
   "nbconvert_exporter": "python",
   "pygments_lexer": "ipython3",
   "version": "3.5.1"
  },
  "notify_time": "10"
 },
 "nbformat": 4,
 "nbformat_minor": 2
}
