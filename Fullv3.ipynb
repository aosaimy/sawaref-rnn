{
 "cells": [
  {
   "cell_type": "markdown",
   "metadata": {
    "deletable": true,
    "editable": true
   },
   "source": [
    "## Change Log (v.3)\n",
    "- Uses sample_weight to mask padded morphemes\n",
    "- sample_weight works for validation but not in loss function!\n",
    "- word_based accuracy. Done!\n",
    "- aggregated word-based accuracy.\n",
    "- Supports experiment-based options, data and models\n",
    "- "
   ]
  },
  {
   "cell_type": "markdown",
   "metadata": {
    "deletable": false,
    "editable": false,
    "run_control": {
     "frozen": true
    },
    "slideshow": {
     "slide_type": "slide"
    }
   },
   "source": [
    "# 1. Import"
   ]
  },
  {
   "cell_type": "code",
   "execution_count": 404,
   "metadata": {
    "ExecuteTime": {
     "end_time": "2018-08-02T13:29:49.842268Z",
     "start_time": "2018-08-02T13:29:48.743838Z"
    },
    "cell_style": "center",
    "collapsed": false,
    "deletable": true,
    "editable": true,
    "format": "column",
    "scrolled": true,
    "slideshow": {
     "slide_type": "skip"
    }
   },
   "outputs": [
    {
     "name": "stdout",
     "output_type": "stream",
     "text": [
      "The autoreload extension is already loaded. To reload it, use:\n",
      "  %reload_ext autoreload\n"
     ]
    }
   ],
   "source": [
    "%load_ext autoreload\n",
    "%autoreload\n",
    "# -*- coding: utf-8 -*-\n",
    "'''\n",
    "    An implementation of sequence to sequence learning\n",
    "    for performing ensemble morphosyntactic analyses\n",
    "'''\n",
    "from __future__ import print_function\n",
    "# from keras.preprocessing.sequence import pad_sequences\n",
    "import numpy as np\n",
    "from six.moves import range\n",
    "from prepare_data import SawarefData, padIndexes\n",
    "from character_table import colors, CharacterTable, eprint\n",
    "import pandas as pd\n",
    "import itertools\n",
    "import re\n",
    "from ws_client import WebSocketClient\n",
    "import pickle\n",
    "import sys\n",
    "import datetime\n",
    "from keras.callbacks import TensorBoard\n",
    "from buckwalter import utf2bw, bw2utf\n",
    "from pprint import pprint\n",
    "\n",
    "# do not import in interactive mode\n",
    "# from vis import SawarefVis\n",
    "from keras.models import Sequential, Model, load_model\n",
    "from keras import layers\n",
    "from keras.callbacks import EarlyStopping, Callback\n",
    "from keras.utils import plot_model\n"
   ]
  },
  {
   "cell_type": "markdown",
   "metadata": {
    "deletable": true,
    "editable": true
   },
   "source": [
    "# 2. Constants"
   ]
  },
  {
   "cell_type": "code",
   "execution_count": 405,
   "metadata": {
    "ExecuteTime": {
     "end_time": "2018-08-02T13:29:51.270272Z",
     "start_time": "2018-08-02T13:29:51.251111Z"
    },
    "collapsed": true,
    "deletable": true,
    "editable": true
   },
   "outputs": [],
   "source": [
    "try:\n",
    "    writer_all\n",
    "except NameError:\n",
    "    writer_all = pd.ExcelWriter('all_results.xlsx')"
   ]
  },
  {
   "cell_type": "code",
   "execution_count": 406,
   "metadata": {
    "ExecuteTime": {
     "end_time": "2018-08-02T13:29:51.993053Z",
     "start_time": "2018-08-02T13:29:51.778899Z"
    },
    "collapsed": false,
    "deletable": true,
    "editable": true
   },
   "outputs": [],
   "source": [
    "class Experiment:\n",
    "    feat_x = [\n",
    "        \"MXpos\", \"STpos\", #\"AMpos\", \"FApos\", \n",
    "        \"STaspect\", \"AMaspect\", #\"MXaspect\", \"FAaspect\", \n",
    "        \"STperson\", \"AMperson\", #\"MXperson\", \"FAperson\", \n",
    "#         \"STgender\", \"AMgender\", \"MXgender\", \"FAgender\", \n",
    "#         \"STnumber\", \"AMnumber\", \"MXnumber\", \"FAnumber\", \n",
    "#         \"STcase\", \"AMcase\", \"MXcase\", \"FAcase\", \n",
    "#         \"STvoice\", \"AMvoice\", \"MXvoice\", \"FAvoice\", \n",
    "#         \"STmood\", \"AMmood\", \"MXmood\", \"FAmood\", \n",
    "#         \"STstate\", \"AMstate\", \"MXstate\", \"FAstate\"\n",
    "    ]\n",
    "    feat_y = [\n",
    "        \"QApos\", \"QAaspect\", \"QAperson\", \"QAgender\", \"QAnumber\", \"QAcase\",\n",
    "        \"QAvoice\", \"QAmood\", \"QAstate\"\n",
    "    ]\n",
    "    strings_x = [\"QAwutf8\"]\n",
    "    strings_y = [\"QAutf8\"]\n",
    "    MYPATH = \"/morpho/output/\"\n",
    "    # Parameters for the model and dataset.\n",
    "    TRAINING_SIZE = 50000\n",
    "    EPOCHS = 100\n",
    "    EMBEDDINGS = 0\n",
    "    # DIGITS = 3\n",
    "    # REVERSE = True\n",
    "    # Try replacing GRU, or SimpleRNN.\n",
    "    HIDDEN_SIZE = 128\n",
    "    BATCH_SIZE = 64\n",
    "    LAYERS = 1\n",
    "    ITERATIONS = 10\n",
    "    REVERSE = False\n",
    "    MODEL_NAME = \"main-seq-multiinput-multioutput-segmentation.keras\"\n",
    "    DATA_PICKLE = \"main-seq-multiinput-multioutput-segmentation.pickle\"\n",
    "    RNN = layers.LSTM\n",
    "    CATS_EMBEDDING = 1000\n",
    "    TEST_SPLIT = 1  #  means 0.1 of data is for test\n",
    "    VAL_SPLIT = 1  #  means 0.1 of data is for test\n",
    "    LOAD_FASTTEXT = False\n",
    "    CHARACTER_BASED = False\n",
    "    MORPHEME_BASED = False\n",
    "    previous_names = set()\n",
    "    \n",
    "    def __init__(self, exp_type=\"e\"):\n",
    "        self.exp_type = exp_type\n",
    "        self.set_constants()\n",
    "        self.set_name()\n",
    "        self.load_emb()\n",
    "        self.writer = pd.ExcelWriter('results_'+self.NAME+'.xlsx')\n",
    "    \n",
    "    def load_emb(self):\n",
    "        if self.LOAD_FASTTEXT:\n",
    "            self.emb = WebSocketClient(\"ws://localhost:8765/\")\n",
    "    def set_name(self):\n",
    "        self.NAME = self.exp_type+\"_\"+input(\"What is the name of this experiment? \")\n",
    "        self.thedate = datetime.datetime.now().strftime(\".%Y.%m.%d.%H.%M\")\n",
    "        print(\"\\nNAME=\", self.NAME)\n",
    "        print(\"DATE=\", self.thedate)\n",
    "        self.previous_names.add(self.NAME+\"%\"+self.thedate)\n",
    "    \n",
    "    def set_constants(self):\n",
    "        self.MYPATH = \"/morpho/output/\"\n",
    "        # Parameters for the model and dataset.\n",
    "        self.TRAINING_SIZE = 50000\n",
    "        self.EPOCHS = 40\n",
    "        self.EMBEDDINGS = 0\n",
    "        # DIGITS = 3\n",
    "        # REVERSE = True\n",
    "        # Try replacing GRU, or SimpleRNN.\n",
    "        self.HIDDEN_SIZE = 128\n",
    "        self.BATCH_SIZE = 64\n",
    "        self.LAYERS = 1\n",
    "        self.ITERATIONS = 10\n",
    "        self.MODEL_NAME = \"main-seq-multiinput-multioutput-segmentation.keras\"\n",
    "        self.DATA_PICKLE = \"main-seq-multiinput-multioutput-segmentation.pickle\"\n",
    "        self.RNN = layers.LSTM\n",
    "        if self.exp_type == \"comp_ru\" or self.exp_type == \"comp_sp1\":\n",
    "            self.CATS_EMBEDDING = 1000\n",
    "            self.TEST_SPLIT = 1  #  means 0.1 of data is for test\n",
    "            self.VAL_SPLIT = 1  #  means 0.1 of data is for test\n",
    "            self.LOAD_FASTTEXT = True\n",
    "            self.CHARACTER_BASED = False\n",
    "            self.MORPHEME_BASED = True\n",
    "            self.ALIGN_TYPE = \"ru-\" if self.exp_type == \"comp_ru\" else \"sp1-\"\n",
    "        elif self.exp_type == \"comp_ch\":\n",
    "            self.CATS_EMBEDDING = 1000\n",
    "            self.TEST_SPLIT = 1  #  means 0.1 of data is for test\n",
    "            self.VAL_SPLIT = 1  #  means 0.1 of data is for test\n",
    "            self.LOAD_FASTTEXT = False\n",
    "            self.CHARACTER_BASED = True\n",
    "            self.MORPHEME_BASED = False\n",
    "            self.ALIGN_TYPE = \"ch-\"\n",
    "        elif self.exp_type.startswith(\"comp_end\"):\n",
    "            self.CATS_EMBEDDING = 1000\n",
    "            self.TEST_SPLIT = 1  #  means 0.1 of data is for test\n",
    "            self.VAL_SPLIT = 1  #  means 0.1 of data is for test\n",
    "            self.LOAD_FASTTEXT = True\n",
    "            self.CHARACTER_BASED = False\n",
    "            self.MORPHEME_BASED = False\n",
    "            self.ALIGN_TYPE = \"\"\n",
    "\n",
    "            stripped = self.exp_type.lstrip(\"comp_end_\")\n",
    "            print(stripped)\n",
    "            if stripped in [\"MX\", \"ST\", \"FA\", \"AM\"]:\n",
    "                self.feat_x = [x for x in self.feat_x if x[0:2] == stripped]\n",
    "            elif len(stripped.split(\"_\")) >= 2:\n",
    "                self.feat_x = [x for x in self.feat_x if x[0:2] in stripped.split(\"_\")]\n",
    "            elif stripped == \"baseline\":\n",
    "                self.feat_x = []\n",
    "        else:\n",
    "            print(\"ERROR: Not a valid config name\")\n",
    "            raise NameError(\"ERROR: Not a valid config name\")\n",
    "        \n",
    "        if self.CHARACTER_BASED:\n",
    "            self.strings_x = [\"bw\"]\n",
    "        elif self.MORPHEME_BASED:\n",
    "            self.strings_x = [\"word\"]"
   ]
  },
  {
   "cell_type": "code",
   "execution_count": 407,
   "metadata": {
    "ExecuteTime": {
     "end_time": "2018-08-02T13:30:02.646224Z",
     "start_time": "2018-08-02T13:29:59.566459Z"
    },
    "collapsed": false,
    "deletable": true,
    "editable": true
   },
   "outputs": [
    {
     "name": "stdout",
     "output_type": "stream",
     "text": [
      "What is the name of this experiment? test\n",
      "\n",
      "NAME= comp_ch_test\n",
      "DATE= .2018.08.02.14.30\n"
     ]
    }
   ],
   "source": [
    "e = Experiment(\"comp_ch\")"
   ]
  },
  {
   "cell_type": "code",
   "execution_count": 408,
   "metadata": {
    "ExecuteTime": {
     "end_time": "2018-08-02T13:30:08.192723Z",
     "start_time": "2018-08-02T13:30:07.597702Z"
    },
    "collapsed": false,
    "deletable": true,
    "editable": true
   },
   "outputs": [
    {
     "name": "stdout",
     "output_type": "stream",
     "text": [
      "Load Model? (y/N)\n",
      "Training a new model. Old one with same name will be overwritten.\n"
     ]
    }
   ],
   "source": [
    "e.LOAD_MODEL = True if input(\"Load Model? (y/N)\") == \"y\" else False\n",
    "print(\"Loading Model\") if e.LOAD_MODEL else print(\"Training a new model. Old one with same name will be overwritten.\")"
   ]
  },
  {
   "cell_type": "markdown",
   "metadata": {
    "ExecuteTime": {
     "end_time": "2018-07-23T15:55:05.579783Z",
     "start_time": "2018-07-23T15:55:05.576067Z"
    },
    "collapsed": false,
    "deletable": true,
    "editable": true
   },
   "source": [
    "## Experiemnts Names\n",
    "### Compartative: \n",
    "- Morpheme-based (ru, sp1,),  `comp_ru`, `comp_sp1`, \n",
    "- character-based, `comp_ch`\n",
    "- end-to-end `comp_end`, \n"
   ]
  },
  {
   "cell_type": "markdown",
   "metadata": {
    "deletable": true,
    "editable": true
   },
   "source": [
    "# 3. Config"
   ]
  },
  {
   "cell_type": "markdown",
   "metadata": {
    "deletable": true,
    "editable": true
   },
   "source": [
    "`e.feat_x` is the input categorical features\n",
    "\n",
    "`e.feat_y` is the output categorical features\n",
    "\n",
    "`e.strings_x` is the input character-based strings features\n",
    "\n",
    "`e.strings_y` is the output character-based strings features"
   ]
  },
  {
   "cell_type": "code",
   "execution_count": 346,
   "metadata": {
    "ExecuteTime": {
     "end_time": "2018-08-01T23:27:51.679168Z",
     "start_time": "2018-08-01T23:27:51.671691Z"
    },
    "collapsed": false,
    "deletable": true,
    "editable": true
   },
   "outputs": [],
   "source": [
    "try:\n",
    "    accuracies\n",
    "except NameError:\n",
    "    accuracies = pd.DataFrame([],\n",
    "                 columns=list(map(list, zip(*[\n",
    "        ('QAaspect', 'acc'),\n",
    "        ('QAcase', 'acc'),\n",
    "        ('QAgender', 'acc'),\n",
    "        ('QAmood', 'acc'),\n",
    "        ('QAnumber', 'acc'),\n",
    "        ('QAperson', 'acc'),\n",
    "        ('QApos', 'acc'),\n",
    "        ('QAstate', 'acc'),\n",
    "        ('QAvoice', 'acc'),\n",
    "        ('QAutf8', 'acc'),\n",
    "        ('agg', 'all'),\n",
    "        ('agg', 'mf'),\n",
    "        ('agg', 'utf8')]))))"
   ]
  },
  {
   "cell_type": "code",
   "execution_count": 347,
   "metadata": {
    "ExecuteTime": {
     "end_time": "2018-08-01T23:27:51.973385Z",
     "start_time": "2018-08-01T23:27:51.866751Z"
    },
    "collapsed": true,
    "deletable": true,
    "editable": true
   },
   "outputs": [],
   "source": [
    "def pretty_join(arr):\n",
    "    if isinstance(arr, pd.Series):\n",
    "        arr = arr.to_frame().T\n",
    "    if isinstance(arr.columns, pd.core.index.MultiIndex):\n",
    "        return \"/\".join([\n",
    "            '+'.join([\n",
    "                x[1] for x in arr.columns[row == 1]\n",
    "                if x[1][-2:] != \"na\" and x[1][-2:] != \"_0\"\n",
    "            ]) for index, row in arr.iterrows()\n",
    "        ])\n",
    "    else:\n",
    "        return \"/\".join([\n",
    "            '+'.join([\n",
    "                x for x in arr.columns[row == 1]\n",
    "                if x[-2:] != \"na\" and x[-2:] != \"_0\"\n",
    "            ]) for index, row in arr.iterrows()\n",
    "        ])\n",
    "\n",
    "\n",
    "def pretty_value(colum_value):\n",
    "    return re.sub(\".*_\", \"\", colum_value)\n",
    "\n",
    "\n",
    "def getValuesAndReshape(df, middle_dim):\n",
    "    return df.values.reshape((df.shape[0] // middle_dim, middle_dim, -1))\n",
    "\n",
    "\n",
    "#     return df.values.reshape((df.shape[0]//middle_dim, middle_dim, df.shape[1]))\n",
    "\n",
    "\n",
    "def flattencolumns(df1, cols):\n",
    "    df = pd.concat(\n",
    "        [pd.DataFrame(df1[x].values.tolist()).add_prefix(x) for x in cols],\n",
    "        axis=1)\n",
    "    return pd.concat([df, df1.drop(cols, axis=1)], axis=1)\n",
    "\n",
    "\n",
    "def truncate(x):\n",
    "    return x[:EMBEDDINGS]\n",
    "\n",
    "\n",
    "def removeDiac(x):\n",
    "    return re.sub('[ًٌٍَُِّْ��]', '', x.replace(\"ٱ\",\"ا\"))\n",
    "\n",
    "\n",
    "def padStringWithSpaces(x):\n",
    "    return x + ' ' * (e.STRING_LENGTH - len(x))\n",
    "\n",
    "\n",
    "def joinMorphemesStrings(arr):\n",
    "    return \"+\".join([\n",
    "        x for x in arr if isinstance(x, float) == False and x != -1\n",
    "        and x != \"-----\" and x != \"-\"\n",
    "    ])\n",
    "\n",
    "\n",
    "def fullprint(*args, **kwargs):\n",
    "    opt = np.get_printoptions()\n",
    "    np.set_printoptions(threshold='nan')\n",
    "    pprint(*args, **kwargs)\n",
    "    np.set_printoptions(**opt)\n",
    "    \n",
    "    \n",
    "def pretty_join2(arr, columns, v):\n",
    "    return \"/\".join([columns[row].replace(v+\"_\",\"\") for row in arr]).rstrip(\"/0\")    \n",
    "\n",
    "\n",
    "class TestCallback(Callback):\n",
    "    def __init__(self, test_data):\n",
    "        self.test_data = test_data\n",
    "\n",
    "    def on_epoch_end(self, epoch, logs={}):\n",
    "        x, y = self.test_data\n",
    "        metrics = self.model.evaluate(x, y, verbose=0)\n",
    "        for i,x in enumerate(self.model.metrics_names):\n",
    "            logs[\"test_\"+x]= metrics[i]\n",
    "        logs['test_acc']= np.mean([logs[\"test_\"+x] for x in self.model.metrics_names if x[-4:]=='_acc'])\n",
    "        logs['val_acc']= np.mean([logs[\"val_\"+x] for x in self.model.metrics_names if x[-4:]=='_acc'])\n",
    "        logs['train_acc']= np.mean([logs[x] for x in self.model.metrics_names if x[-4:]=='_acc'])\n",
    "        return logs"
   ]
  },
  {
   "cell_type": "markdown",
   "metadata": {
    "deletable": true,
    "editable": true
   },
   "source": [
    "# 4. Loading data from sawaref"
   ]
  },
  {
   "cell_type": "code",
   "execution_count": 410,
   "metadata": {
    "ExecuteTime": {
     "end_time": "2018-08-02T13:30:26.042954Z",
     "start_time": "2018-08-02T13:30:26.038456Z"
    },
    "collapsed": true,
    "deletable": true,
    "editable": true
   },
   "outputs": [],
   "source": [
    "try:\n",
    "    results_all\n",
    "except NameError:\n",
    "    results_all = {}\n",
    "if e.NAME in results_all:\n",
    "    print(\"Warning: same name exits. Results will be overwritten\")\n",
    "else:\n",
    "    results_all[e.NAME] = {}"
   ]
  },
  {
   "cell_type": "code",
   "execution_count": 411,
   "metadata": {
    "ExecuteTime": {
     "end_time": "2018-08-02T13:30:33.628278Z",
     "start_time": "2018-08-02T13:30:26.429914Z"
    },
    "collapsed": false,
    "deletable": true,
    "editable": true
   },
   "outputs": [
    {
     "name": "stdout",
     "output_type": "stream",
     "text": [
      "Reading from file: morpho.output.ch-.pickle\n",
      "1098\n",
      "Vectorization...\n"
     ]
    }
   ],
   "source": [
    "sawarefData = SawarefData(\n",
    "    e.MYPATH,\n",
    "    e.EMBEDDINGS,\n",
    "    align_type=e.ALIGN_TYPE,\n",
    "    feat_x=e.feat_x,\n",
    "    strings_x=e.strings_x,\n",
    "    strings_y=e.strings_y,\n",
    "    feat_y=e.feat_y)"
   ]
  },
  {
   "cell_type": "code",
   "execution_count": 412,
   "metadata": {
    "ExecuteTime": {
     "end_time": "2018-08-02T13:30:35.506372Z",
     "start_time": "2018-08-02T13:30:33.630870Z"
    },
    "collapsed": false,
    "deletable": true,
    "editable": true
   },
   "outputs": [],
   "source": [
    "source = list(itertools.chain(*sawarefData.quran_sent))\n",
    "df = pd.DataFrame(\n",
    "    source,\n",
    "    columns=[\"sid\", \"aid\", \"wid\", \"mid\"] + e.feat_x + e.strings_x + e.strings_y +\n",
    "    [\"embeddings\"] + e.feat_y)\n",
    "if e.EMBEDDINGS > 0:\n",
    "    df[\"embeddings\"] = df[\"embeddings\"].apply(truncate)\n",
    "    df = flattencolumns(df, [\"embeddings\"])\n",
    "df.set_index([\"sid\", \"aid\", \"wid\", \"mid\"], inplace=True)\n",
    "df.sort_index(inplace=True)"
   ]
  },
  {
   "cell_type": "code",
   "execution_count": 413,
   "metadata": {
    "ExecuteTime": {
     "end_time": "2018-08-02T13:30:36.290848Z",
     "start_time": "2018-08-02T13:30:35.508477Z"
    },
    "collapsed": false,
    "deletable": true,
    "editable": true
   },
   "outputs": [],
   "source": [
    "# should be df.replace but it is not working due to a bug\n",
    "for x in df.columns:\n",
    "    df.loc[df[x].astype(str) == \"0\", x] = 0"
   ]
  },
  {
   "cell_type": "code",
   "execution_count": 414,
   "metadata": {
    "ExecuteTime": {
     "end_time": "2018-08-02T13:30:36.770777Z",
     "start_time": "2018-08-02T13:30:36.293016Z"
    },
    "collapsed": false,
    "deletable": true,
    "editable": true
   },
   "outputs": [],
   "source": [
    "strings = e.strings_x + e.strings_y\n",
    "\n",
    "# a. clean all padded rows\n",
    "for s in strings:\n",
    "    #df.loc[df2[(\"vals\", s)] == -1, (\"vals\", s)] = -1\n",
    "    df.loc[pd.isna(df[s]), s] = \"\"\n",
    "\n",
    "for x in strings:\n",
    "    df[x+\"_undiac\"] = df[x].apply(removeDiac)"
   ]
  },
  {
   "cell_type": "code",
   "execution_count": 415,
   "metadata": {
    "ExecuteTime": {
     "end_time": "2018-08-02T13:30:38.168874Z",
     "start_time": "2018-08-02T13:30:36.772836Z"
    },
    "collapsed": false,
    "deletable": true,
    "editable": true
   },
   "outputs": [],
   "source": [
    "## 2. Pad the rows according to the longest word (in # of morphemes)\n",
    "e.SENTLEN = max(df.index.get_level_values(\"mid\"))\n",
    "df = df.reindex(\n",
    "    padIndexes(df, max(df.index.get_level_values(\"mid\"))),\n",
    "    fill_value=-1).sort_index()"
   ]
  },
  {
   "cell_type": "code",
   "execution_count": 416,
   "metadata": {
    "ExecuteTime": {
     "end_time": "2018-08-02T13:30:38.857822Z",
     "start_time": "2018-08-02T13:30:38.170971Z"
    },
    "collapsed": false,
    "deletable": true,
    "editable": true
   },
   "outputs": [],
   "source": [
    "## 3. Get the hot encoding of all caterogirical data (see columns attr)\n",
    "dumm = pd.get_dummies(df, columns=e.feat_x + e.feat_y)"
   ]
  },
  {
   "cell_type": "code",
   "execution_count": 417,
   "metadata": {
    "ExecuteTime": {
     "end_time": "2018-08-02T13:30:39.649169Z",
     "start_time": "2018-08-02T13:30:38.859856Z"
    },
    "collapsed": false,
    "deletable": true,
    "editable": true
   },
   "outputs": [],
   "source": [
    "for x in e.feat_x:\n",
    "    dumm.drop(x+\"_-1\",axis=1,inplace=True)"
   ]
  },
  {
   "cell_type": "code",
   "execution_count": 418,
   "metadata": {
    "ExecuteTime": {
     "end_time": "2018-08-02T13:30:39.750536Z",
     "start_time": "2018-08-02T13:30:39.651560Z"
    },
    "collapsed": false,
    "deletable": true,
    "editable": true
   },
   "outputs": [],
   "source": [
    "dumm.drop(\"embeddings\", axis=1, inplace=True)"
   ]
  },
  {
   "cell_type": "code",
   "execution_count": 419,
   "metadata": {
    "ExecuteTime": {
     "end_time": "2018-08-02T13:30:40.130465Z",
     "start_time": "2018-08-02T13:30:39.752460Z"
    },
    "collapsed": false,
    "deletable": true,
    "editable": true
   },
   "outputs": [],
   "source": [
    "## 4. Add two-level columns for easy indexing later (wid, mid)\n",
    "e.EXAMPLES_LEN = df.shape[0] // e.SENTLEN\n",
    "new_columns = []\n",
    "for x in dumm.columns:\n",
    "    new_columns.append(re.sub('(_.*|[0-9]*)', '', x))\n",
    "dumm.columns = [new_columns, dumm.columns]\n",
    "dumm.index = [[x for x in range(e.EXAMPLES_LEN) for _ in range(e.SENTLEN)],\n",
    "              [x for _ in range(e.EXAMPLES_LEN) for x in range(e.SENTLEN)]]\n",
    "dumm.sort_index(axis=1, inplace=True)"
   ]
  },
  {
   "cell_type": "code",
   "execution_count": 420,
   "metadata": {
    "ExecuteTime": {
     "end_time": "2018-08-02T13:30:40.377013Z",
     "start_time": "2018-08-02T13:30:40.133997Z"
    },
    "cell_style": "center",
    "collapsed": false,
    "deletable": true,
    "editable": true
   },
   "outputs": [],
   "source": [
    "## 5. Find possible values of each cat\n",
    "def getSet(df):\n",
    "    results = set()\n",
    "    df.apply(results.add)\n",
    "    return results\n",
    "\n",
    "\n",
    "embeddingInputSets = {i: getSet(df[i]) for i in e.feat_x}"
   ]
  },
  {
   "cell_type": "code",
   "execution_count": 421,
   "metadata": {
    "ExecuteTime": {
     "end_time": "2018-08-02T13:30:40.383725Z",
     "start_time": "2018-08-02T13:30:40.379610Z"
    },
    "collapsed": false,
    "deletable": true,
    "editable": true
   },
   "outputs": [],
   "source": [
    "e.feat_x = list(set(e.feat_x) - set([x for x in e.feat_x if len( embeddingInputSets[x])<=1]))"
   ]
  },
  {
   "cell_type": "code",
   "execution_count": 422,
   "metadata": {
    "ExecuteTime": {
     "end_time": "2018-08-02T13:30:41.424561Z",
     "start_time": "2018-08-02T13:30:40.388372Z"
    },
    "collapsed": false,
    "deletable": true,
    "editable": true
   },
   "outputs": [],
   "source": [
    "df2 = pd.concat([df.reset_index(), dumm.reset_index()], axis=1)\n",
    "# df2.set_index([\"sid\", \"aid\", \"wid\", \"mid\"], inplace=True)\n",
    "df2.index = [[x for x in range(e.EXAMPLES_LEN) for _ in range(e.SENTLEN)],\n",
    "             [x for _ in range(e.EXAMPLES_LEN) for x in range(e.SENTLEN)]]\n",
    "\n",
    "if len(['embeddings' + str(x) for x in range(e.EMBEDDINGS)]) > 0:\n",
    "    df2.drop(['embeddings' + str(x) for x in range(e.EMBEDDINGS)], inplace=True, axis=1)\n",
    "# df2.columns = [(x,\"val\") if isinstance(x,str) else x  for x in df2.columns]"
   ]
  },
  {
   "cell_type": "code",
   "execution_count": 423,
   "metadata": {
    "ExecuteTime": {
     "end_time": "2018-08-02T13:30:41.948305Z",
     "start_time": "2018-08-02T13:30:41.427088Z"
    },
    "collapsed": false,
    "deletable": true,
    "editable": true
   },
   "outputs": [],
   "source": [
    "df2.columns = [[\"vals\" if isinstance(x, str) else x[0] for x in df2.columns],\n",
    "               [x if isinstance(x, str) else x[1] for x in df2.columns]]\n",
    "\n",
    "df2.sort_index(axis=1, inplace=True)"
   ]
  },
  {
   "cell_type": "code",
   "execution_count": 424,
   "metadata": {
    "ExecuteTime": {
     "end_time": "2018-08-02T13:30:42.016500Z",
     "start_time": "2018-08-02T13:30:41.950396Z"
    },
    "cell_style": "center",
    "collapsed": false,
    "deletable": true,
    "editable": true
   },
   "outputs": [],
   "source": [
    "del df\n",
    "del dumm"
   ]
  },
  {
   "cell_type": "code",
   "execution_count": 425,
   "metadata": {
    "ExecuteTime": {
     "end_time": "2018-08-02T13:30:42.032006Z",
     "start_time": "2018-08-02T13:30:42.019357Z"
    },
    "collapsed": false,
    "deletable": true,
    "editable": true
   },
   "outputs": [],
   "source": [
    "def emb_encode(x):\n",
    "    return np.zeros(e.emb.vector_size) if re.sub(\"\\\\s*\",\"\",x)==\"\" or x == -1 else e.emb[x]\n",
    "\n",
    "def convertStringToFeatX(x):\n",
    "    df2[(x,\"emb\")] = df2[(x,x+\"_undiac\")].apply(emb_encode)\n",
    "    return df2.join(pd.DataFrame(np.stack(df2[(x,\"emb\")].values),\n",
    "                         index=df2.index, \n",
    "                         columns=[[x+\"_emb\" for i in range(emb.vector_size)],\n",
    "                                  [x+\"_emb_\"+str(i) for i in range(emb.vector_size)]]))\n",
    "\n",
    "# if not e.CHARACTER_BASED and e.MORPHEME_BASED:\n",
    "#     df2 = convertStringToFeatX(\"word\")\n",
    "#     e.feat_x.append(\"word_emb\")"
   ]
  },
  {
   "cell_type": "code",
   "execution_count": 426,
   "metadata": {
    "ExecuteTime": {
     "end_time": "2018-08-02T13:30:48.124607Z",
     "start_time": "2018-08-02T13:30:42.034252Z"
    },
    "collapsed": false,
    "deletable": true,
    "editable": true
   },
   "outputs": [],
   "source": [
    "# b. group them by morpheme and join with \"+\"\"\n",
    "df_strings = pd.DataFrame({\n",
    "    x: df2[\"vals\", x].groupby(level=[0]).apply(joinMorphemesStrings)\n",
    "    for x in strings\n",
    "})"
   ]
  },
  {
   "cell_type": "code",
   "execution_count": 427,
   "metadata": {
    "ExecuteTime": {
     "end_time": "2018-08-02T13:30:48.167479Z",
     "start_time": "2018-08-02T13:30:48.126767Z"
    },
    "collapsed": false,
    "deletable": true,
    "editable": true
   },
   "outputs": [],
   "source": [
    "# c. pad joined morphemes\n",
    "e.STRING_LENGTH = max([len(x) for k in strings for x in df_strings[k]])\n",
    "for s in strings:\n",
    "    df_strings[s] = df_strings[s].apply(padStringWithSpaces)"
   ]
  },
  {
   "cell_type": "code",
   "execution_count": 428,
   "metadata": {
    "ExecuteTime": {
     "end_time": "2018-08-02T13:30:54.938475Z",
     "start_time": "2018-08-02T13:30:48.170145Z"
    },
    "collapsed": false,
    "deletable": true,
    "editable": true
   },
   "outputs": [],
   "source": [
    "# d. encode them in one hot encoding\n",
    "charset = set(\"+\").union(\n",
    "    *[list(set(\"\".join(df_strings[x] + \"-\"))) for x in strings])\n",
    "ctable = CharacterTable(charset, e.STRING_LENGTH)\n",
    "### Now we have one shape for all strings: (STRING_LENGTH, len(charset))\n",
    "for x in strings:\n",
    "    df_strings[x + \"_onehot\"] = df_strings[x].apply(ctable.encode)\n",
    "df_strings['num'] = [x for x in range(len(df_strings))]\n",
    "df_strings.set_index('num', append=True, inplace=True)"
   ]
  },
  {
   "cell_type": "code",
   "execution_count": 429,
   "metadata": {
    "ExecuteTime": {
     "end_time": "2018-08-02T13:30:55.164233Z",
     "start_time": "2018-08-02T13:30:54.941667Z"
    },
    "collapsed": true,
    "deletable": true,
    "editable": true
   },
   "outputs": [],
   "source": [
    "# e. remove diac\n",
    "for x in strings:\n",
    "    df_strings[x+ \"_undiac\"] = df_strings[x].apply(removeDiac)"
   ]
  },
  {
   "cell_type": "code",
   "execution_count": 430,
   "metadata": {
    "ExecuteTime": {
     "end_time": "2018-08-02T13:30:55.172032Z",
     "start_time": "2018-08-02T13:30:55.167612Z"
    },
    "collapsed": false,
    "deletable": true,
    "editable": true
   },
   "outputs": [],
   "source": [
    "# f. encode them as dense vector using fastText\n",
    "for x in e.strings_x:\n",
    "    if e.LOAD_FASTTEXT:\n",
    "        df_strings[x + \"_emb\"] = df_strings[x+\"_undiac\"].apply(emb_encode)"
   ]
  },
  {
   "cell_type": "code",
   "execution_count": 431,
   "metadata": {
    "ExecuteTime": {
     "end_time": "2018-08-02T13:30:58.071580Z",
     "start_time": "2018-08-02T13:30:55.174757Z"
    },
    "collapsed": false,
    "deletable": true,
    "editable": true
   },
   "outputs": [],
   "source": [
    "def emb_encode_char(x):\n",
    "    return ctable.encode(x)[0].argmax()\n",
    "if e.CHARACTER_BASED:\n",
    "    df2[\"bw_onehot\"] = df2[(\"bw\",\"bw\")].astype(str).apply(emb_encode_char)\n",
    "    df2.filter(regex=\"bw\")"
   ]
  },
  {
   "cell_type": "markdown",
   "metadata": {
    "deletable": true,
    "editable": true
   },
   "source": [
    "# 6. Prepare splits"
   ]
  },
  {
   "cell_type": "code",
   "execution_count": 432,
   "metadata": {
    "ExecuteTime": {
     "end_time": "2018-08-02T13:30:58.188057Z",
     "start_time": "2018-08-02T13:30:58.074831Z"
    },
    "collapsed": true,
    "deletable": true,
    "editable": true
   },
   "outputs": [],
   "source": [
    "# 6. Shuffle (x, y) in unison\n",
    "np.random.seed(0)\n",
    "indices = list(range(e.EXAMPLES_LEN))\n",
    "np.random.shuffle(indices)"
   ]
  },
  {
   "cell_type": "code",
   "execution_count": 433,
   "metadata": {
    "ExecuteTime": {
     "end_time": "2018-08-02T13:30:58.195942Z",
     "start_time": "2018-08-02T13:30:58.190724Z"
    },
    "cell_style": "center",
    "collapsed": false,
    "deletable": true,
    "editable": true
   },
   "outputs": [],
   "source": [
    "# 7. Explicitly set apart 10% for validation data that we never train over.\n",
    "test_split_at = int(e.EXAMPLES_LEN * e.TEST_SPLIT / 10)\n",
    "val_split_at = int(e.EXAMPLES_LEN * e.TEST_SPLIT / 10 +\n",
    "                   e.EXAMPLES_LEN * e.VAL_SPLIT / 10)\n"
   ]
  },
  {
   "cell_type": "code",
   "execution_count": 434,
   "metadata": {
    "ExecuteTime": {
     "end_time": "2018-08-02T13:30:58.209355Z",
     "start_time": "2018-08-02T13:30:58.198622Z"
    },
    "collapsed": false,
    "deletable": true,
    "editable": true
   },
   "outputs": [],
   "source": [
    "def getMorphemeBasedIndeicies(arr):\n",
    "    return np.array([list(range(x*e.SENTLEN,x*e.SENTLEN+e.SENTLEN)) for x in arr]).flatten()"
   ]
  },
  {
   "cell_type": "code",
   "execution_count": 435,
   "metadata": {
    "ExecuteTime": {
     "end_time": "2018-08-02T13:31:01.575385Z",
     "start_time": "2018-08-02T13:30:58.212478Z"
    },
    "collapsed": false,
    "deletable": true,
    "editable": true
   },
   "outputs": [],
   "source": [
    "values_test = df_strings.iloc[indices[:test_split_at]]\n",
    "values_val = df_strings.iloc[indices[test_split_at:val_split_at]]\n",
    "values_train = df_strings.iloc[indices[val_split_at:]]\n",
    "\n",
    "test = df2.iloc[getMorphemeBasedIndeicies(indices[:test_split_at])]\n",
    "val = df2.iloc[getMorphemeBasedIndeicies(indices[test_split_at:val_split_at])]\n",
    "train = df2.iloc[getMorphemeBasedIndeicies(indices[val_split_at:])]"
   ]
  },
  {
   "cell_type": "code",
   "execution_count": 436,
   "metadata": {
    "ExecuteTime": {
     "end_time": "2018-08-02T13:31:01.583708Z",
     "start_time": "2018-08-02T13:31:01.577572Z"
    },
    "collapsed": false,
    "deletable": true,
    "editable": true
   },
   "outputs": [],
   "source": [
    "embeddingInputLists = {\n",
    "    i: [i + \"_\" + str(x) for x in embeddingInputSets[i]]\n",
    "    for i in embeddingInputSets\n",
    "}"
   ]
  },
  {
   "cell_type": "code",
   "execution_count": 437,
   "metadata": {
    "ExecuteTime": {
     "end_time": "2018-08-02T13:31:13.460610Z",
     "start_time": "2018-08-02T13:31:01.587017Z"
    },
    "collapsed": true,
    "deletable": true,
    "editable": true
   },
   "outputs": [],
   "source": [
    "def getValuesAndReshape(df, middle_dim, test=\"\"):\n",
    "    return df.values.reshape((df.shape[0] // middle_dim, middle_dim, -1))\n",
    "\n",
    "def setZero(df,zeros, from_val=-1, to_val=0.):\n",
    "#     dumm[(dumm.isin([0,-1])).all(axis=1)] = -1.\n",
    "    if zeros:\n",
    "        df[(df==from_val).all(axis=1)] = to_val\n",
    "    return df\n",
    "\n",
    "def getData(cat_source, str_source, cats_feats=[], strs_feats=[], embeddings=False, zeros= False):\n",
    "    data = {\n",
    "        **{i:\n",
    "           getValuesAndReshape(cat_source[i].idxmax(axis=1).apply(lambda x: embeddingInputLists[i].index(x)),e.SENTLEN)\n",
    "               if i in embeddingInputSets and len(embeddingInputSets[i]) > 10000+e.CATS_EMBEDDING #and i.replace(\"_emb\",\"\") not in e.strings_x\n",
    "               else getValuesAndReshape(cat_source[i], e.SENTLEN,i) \n",
    "           for i in cats_feats},\n",
    "        **{i:np.stack(str_source[i+\"_onehot\"].values) for i in strs_feats},\n",
    "    }\n",
    "    if embeddings:\n",
    "        for i in strs_feats:\n",
    "            if i+\"_emb\" not in data:\n",
    "                data[i+\"_emb\"] = np.stack(str_source[i+\"_emb\"].values)\n",
    "    if e.CHARACTER_BASED:\n",
    "        data[\"bw_onehot\"] = cat_source[\"bw_onehot\"].values.reshape((-1, e.SENTLEN))\n",
    "    if zeros:\n",
    "        for i in cats_feats:\n",
    "            data[i][np.where(data[i]==-1.)] = 0.\n",
    "    return data\n",
    "\n",
    "\n",
    "data = {\n",
    "    'input': getData(train, values_train, cats_feats=e.feat_x, strs_feats=e.strings_x, embeddings=e.LOAD_FASTTEXT),\n",
    "    'output': getData(train, values_train, cats_feats=e.feat_y, strs_feats=e.strings_y, zeros=True),\n",
    "    'val': (\n",
    "        getData(val, values_val, cats_feats=e.feat_x, strs_feats=e.strings_x, embeddings=e.LOAD_FASTTEXT),\n",
    "        getData(val, values_val, cats_feats=e.feat_y, strs_feats=e.strings_y, zeros=True)\n",
    "    ),\n",
    "    'test': (\n",
    "        getData(test, values_test, cats_feats=e.feat_x, strs_feats=e.strings_x, embeddings=e.LOAD_FASTTEXT),\n",
    "        getData(test, values_test, cats_feats=e.feat_y, strs_feats=e.strings_y, zeros=True)\n",
    "    )\n",
    "\n",
    "}"
   ]
  },
  {
   "cell_type": "code",
   "execution_count": 438,
   "metadata": {
    "ExecuteTime": {
     "end_time": "2018-08-02T13:31:13.561713Z",
     "start_time": "2018-08-02T13:31:13.466560Z"
    },
    "collapsed": false,
    "deletable": true,
    "editable": true
   },
   "outputs": [],
   "source": [
    "data[\"val\"] = tuple([data[\"val\"][0],data[\"val\"][1],\n",
    "                     {i: (data[\"val\"][1][i].argmax(axis=2) > 0).astype(int) for i in e.feat_y + e.strings_y if i in data[\"val\"][1]},]\n",
    "                   )"
   ]
  },
  {
   "cell_type": "markdown",
   "metadata": {
    "deletable": true,
    "editable": true
   },
   "source": [
    "# 8. Build Model"
   ]
  },
  {
   "cell_type": "markdown",
   "metadata": {
    "deletable": true,
    "editable": true
   },
   "source": [
    "## 8.1 End-To-End"
   ]
  },
  {
   "cell_type": "code",
   "execution_count": 439,
   "metadata": {
    "ExecuteTime": {
     "end_time": "2018-08-02T13:31:13.573175Z",
     "start_time": "2018-08-02T13:31:13.564175Z"
    },
    "collapsed": true,
    "deletable": true,
    "editable": true
   },
   "outputs": [],
   "source": [
    "def getEmbedding(input):\n",
    "    name = input.name.split(\"_\")[0]\n",
    "    if name in e.feat_x and len(embeddingInputSets[name]) > e.CATS_EMBEDDING:\n",
    "        return layers.Reshape((e.SENTLEN, -1))(layers.Embedding(len(embeddingInputSets[name]),2, input_length=e.SENTLEN)(input))\n",
    "    else:\n",
    "        return layers.Dropout(0.1)(input)\n"
   ]
  },
  {
   "cell_type": "code",
   "execution_count": 440,
   "metadata": {
    "ExecuteTime": {
     "end_time": "2018-08-02T13:31:13.642452Z",
     "start_time": "2018-08-02T13:31:13.575405Z"
    },
    "collapsed": false,
    "deletable": true,
    "editable": true
   },
   "outputs": [],
   "source": [
    "if not e.LOAD_MODEL and not e.MORPHEME_BASED and not e.CHARACTER_BASED:\n",
    "    # print('Build model...')\n",
    "    outputs = []\n",
    "    inputs = []\n",
    "    # For strings\n",
    "    strings_input = layers.Input(shape=(e.STRING_LENGTH, len(charset)), name=e.strings_x[0])\n",
    "    lstm_strings_encoder = layers.Bidirectional(e.RNN(e.HIDDEN_SIZE,name=\"lstm_strings_encoder\"))(strings_input)\n",
    "\n",
    "    # For categoricals\n",
    "    for i in e.feat_x:\n",
    "        inputs.append(layers.Input(shape=(e.SENTLEN, data[\"input\"][i].shape[2]), name=i))\n",
    "\n",
    "    # main_input = layers.Concatenate()([layers.Dropout(0.1)(input) for input in inputs])\n",
    "    input_list = [getEmbedding(input) for input in inputs]\n",
    "    \n",
    "    if e.LOAD_FASTTEXT:\n",
    "        emb_input = layers.Input(shape=(e.emb.vector_size,), name=e.strings_x[0]+\"_emb\")\n",
    "        inputs.append(emb_input)\n",
    "    if len(input_list) == 0:\n",
    "        inputs.append(strings_input)\n",
    "        concatenated = layers.Concatenate()([lstm_strings_encoder,emb_input])\n",
    "    else:\n",
    "        main_input = layers.Concatenate()(input_list)\n",
    "        inputs.append(strings_input)\n",
    "\n",
    "        lstm_out = layers.Bidirectional(e.RNN(e.HIDDEN_SIZE))(main_input)\n",
    "        # input_shape=(None, len(ctable_x.chars) + EMBEDDINGS)))\n",
    "        # As the decoder e.RNN's input, repeatedly provide with the last hidden state of\n",
    "        # e.RNN for each time step. Repeat 'DIGITS + 1' times as that's the maximum\n",
    "        # length of output, e.g., when DIGITS=3, max output is 999+999=1998.\n",
    "        if e.LOAD_FASTTEXT:\n",
    "            concatenated = layers.Concatenate()([lstm_strings_encoder,lstm_out,emb_input])\n",
    "        else:\n",
    "            concatenated = layers.Concatenate()([lstm_strings_encoder,lstm_out])\n",
    "\n",
    "    # For strings again\n",
    "    repeat_strings_out = layers.RepeatVector(e.STRING_LENGTH)(concatenated)\n",
    "    rnn_out = e.RNN(e.HIDDEN_SIZE, return_sequences=True)(repeat_strings_out)\n",
    "    strings_output = layers.TimeDistributed(\n",
    "          layers.Dense(\n",
    "            len(charset), \n",
    "            activation=\"softmax\"), name=e.strings_y[0])(rnn_out)\n",
    "    outputs.append(strings_output)\n",
    "\n",
    "    dropout_out = layers.Dropout(0.5)(concatenated)\n",
    "    repeat_out = layers.RepeatVector(e.SENTLEN)(dropout_out)\n",
    "    # The decoder e.RNN could be multiple layers stacked or a single layer.\n",
    "    rnn_out = e.RNN(e.HIDDEN_SIZE, return_sequences=True)(repeat_out)\n",
    "    for _ in range(e.LAYERS-1):\n",
    "        # By setting return_sequences to True, return not only the last output but\n",
    "        # all the outputs so far in the form of (num_samples, timesteps,\n",
    "        # output_dim). This is necessary as TimeDistributed in the below expects\n",
    "        # the first dimension to be the timesteps.\n",
    "        rnn_out = e.RNN(e.HIDDEN_SIZE, return_sequences=True)(rnn_out)\n",
    "\n",
    "\n",
    "\n",
    "    # Apply a dense layer to the every temporal slice of an input. For each of step\n",
    "    # of the output sequence, decide which character should be chosen.\n",
    "\n",
    "    for i in e.feat_y:\n",
    "        outputs.append(\n",
    "          layers.TimeDistributed(\n",
    "          layers.Dense(\n",
    "            data[\"output\"][i].shape[2], \n",
    "            activation=\"softmax\"), name=i)(rnn_out))"
   ]
  },
  {
   "cell_type": "markdown",
   "metadata": {
    "ExecuteTime": {
     "end_time": "2018-07-22T12:53:33.291031Z",
     "start_time": "2018-07-22T12:53:33.287984Z"
    },
    "deletable": true,
    "editable": true
   },
   "source": [
    "## 8.2 Morpheme-Based  or 8.3 Character-Based "
   ]
  },
  {
   "cell_type": "code",
   "execution_count": 441,
   "metadata": {
    "ExecuteTime": {
     "end_time": "2018-08-02T13:31:15.230604Z",
     "start_time": "2018-08-02T13:31:13.644703Z"
    },
    "collapsed": false,
    "deletable": true,
    "editable": true
   },
   "outputs": [],
   "source": [
    "if not e.LOAD_MODEL and e.MORPHEME_BASED or e.CHARACTER_BASED:\n",
    "    # print('Build model...')\n",
    "    outputs = []\n",
    "    inputs = []\n",
    "\n",
    "    # For categoricals\n",
    "    for i in e.feat_x:\n",
    "        inputs.append(layers.Input(shape=(e.SENTLEN, data[\"input\"][i].shape[2]), name=i))\n",
    "\n",
    "    def getEmbeddingWithMasking(input):\n",
    "        name = input.name.split(\"_\")[0]\n",
    "        if name in e.feat_x and len(embeddingInputSets[name]) > e.CATS_EMBEDDING:\n",
    "            return layers.Masking(mask_value=0.)(layers.Reshape((e.SENTLEN, -1))(layers.Embedding(len(embeddingInputSets[name]),2, input_length=SENTLEN)(input)))\n",
    "        else:\n",
    "            return layers.Dropout(0.1)(layers.Masking(mask_value=0.)(input))\n",
    "\n",
    "    main_input = layers.Concatenate()([getEmbedding(input) for input in inputs])\n",
    "\n",
    "    lstm_out = layers.Bidirectional(e.RNN(e.HIDDEN_SIZE, return_sequences=True))(main_input)\n",
    "    if e.LOAD_FASTTEXT and e.MORPHEME_BASED:\n",
    "        emb_input = layers.Input(shape=(e.emb.vector_size,), name=e.strings_x[0]+\"_emb\")\n",
    "        inputs.append(emb_input)\n",
    "        rnn_out = layers.Concatenate()([lstm_out,layers.RepeatVector(e.SENTLEN)(emb_input)])\n",
    "    elif e.CHARACTER_BASED:\n",
    "        emb_input = layers.Input(shape=(e.SENTLEN,), name=\"bw_onehot\")\n",
    "        inputs.append(emb_input)\n",
    "        rnn_out = layers.Concatenate()([lstm_out,layers.Embedding(len(ctable.chars),10)(emb_input)])\n",
    "    else:\n",
    "        rnn_out = lstm_out\n",
    "\n",
    "\n",
    "\n",
    "\n",
    "\n",
    "    # Apply a dense layer to the every temporal slice of an input. For each of step\n",
    "    # of the output sequence, decide which character should be chosen.\n",
    "\n",
    "    for i in e.feat_y:\n",
    "        outputs.append(\n",
    "          layers.TimeDistributed(\n",
    "          layers.Dense(\n",
    "            data[\"output\"][i].shape[2], \n",
    "            activation=\"softmax\"), name=i)(rnn_out))"
   ]
  },
  {
   "cell_type": "markdown",
   "metadata": {
    "deletable": true,
    "editable": true
   },
   "source": [
    "## Compile"
   ]
  },
  {
   "cell_type": "code",
   "execution_count": 442,
   "metadata": {
    "ExecuteTime": {
     "end_time": "2018-08-02T13:31:15.653157Z",
     "start_time": "2018-08-02T13:31:15.233564Z"
    },
    "collapsed": false,
    "deletable": true,
    "editable": true
   },
   "outputs": [],
   "source": [
    "if not e.LOAD_MODEL:\n",
    "    model = Model(inputs=inputs, outputs=outputs)\n",
    "\n",
    "    model.compile(sample_weight_mode=\"temporal\", #if not e.MORPHEME_BASED and not e.CHARACTER_BASED else None,\n",
    "              loss='categorical_crossentropy',\n",
    "              optimizer='adam',\n",
    "              metrics=['accuracy']\n",
    "            )\n",
    "else:\n",
    "    from os.path import exists\n",
    "    from os import listdir\n",
    "    print(\"models/\" + e.NAME + \"_{}.keras\".format(e.thedate))\n",
    "    if exists(\"models/\" + e.NAME + \"_{}.keras\".format(e.thedate)):\n",
    "        model = load_model(\"models/\" + e.NAME + \"_{}.keras\".format(e.thedate))\n",
    "    else:\n",
    "        print(\"possible models: (please change the date to reload model)\")\n",
    "        print([f for f in listdir(\"models/\") if f.startswith(e.NAME)])\n",
    "        d = input(\"the new date? (empty to keep the original one)\")\n",
    "        if d != \"\":\n",
    "            e.thedate = \".\"+d\n",
    "            print(\"date has been changed. Please re-run this code\")\n",
    "        else:\n",
    "            print(\"date has not been changed.\")"
   ]
  },
  {
   "cell_type": "markdown",
   "metadata": {
    "deletable": true,
    "editable": true
   },
   "source": [
    "# 9. Summary"
   ]
  },
  {
   "cell_type": "code",
   "execution_count": 443,
   "metadata": {
    "ExecuteTime": {
     "end_time": "2018-08-02T13:31:15.674676Z",
     "start_time": "2018-08-02T13:31:15.657863Z"
    },
    "cell_style": "center",
    "collapsed": false,
    "deletable": true,
    "editable": true,
    "format": "column"
   },
   "outputs": [
    {
     "name": "stdout",
     "output_type": "stream",
     "text": [
      "__________________________________________________________________________________________________\n",
      "Layer (type)                    Output Shape         Param #     Connected to                     \n",
      "==================================================================================================\n",
      "STpos (InputLayer)              (None, 12, 60)       0                                            \n",
      "__________________________________________________________________________________________________\n",
      "AMaspect (InputLayer)           (None, 12, 7)        0                                            \n",
      "__________________________________________________________________________________________________\n",
      "AMperson (InputLayer)           (None, 12, 5)        0                                            \n",
      "__________________________________________________________________________________________________\n",
      "STperson (InputLayer)           (None, 12, 1)        0                                            \n",
      "__________________________________________________________________________________________________\n",
      "MXpos (InputLayer)              (None, 12, 70)       0                                            \n",
      "__________________________________________________________________________________________________\n",
      "STaspect (InputLayer)           (None, 12, 7)        0                                            \n",
      "__________________________________________________________________________________________________\n",
      "dropout_70 (Dropout)            (None, 12, 60)       0           STpos[0][0]                      \n",
      "__________________________________________________________________________________________________\n",
      "dropout_71 (Dropout)            (None, 12, 7)        0           AMaspect[0][0]                   \n",
      "__________________________________________________________________________________________________\n",
      "dropout_72 (Dropout)            (None, 12, 5)        0           AMperson[0][0]                   \n",
      "__________________________________________________________________________________________________\n",
      "dropout_73 (Dropout)            (None, 12, 1)        0           STperson[0][0]                   \n",
      "__________________________________________________________________________________________________\n",
      "dropout_74 (Dropout)            (None, 12, 70)       0           MXpos[0][0]                      \n",
      "__________________________________________________________________________________________________\n",
      "dropout_75 (Dropout)            (None, 12, 7)        0           STaspect[0][0]                   \n",
      "__________________________________________________________________________________________________\n",
      "concatenate_12 (Concatenate)    (None, 12, 150)      0           dropout_70[0][0]                 \n",
      "                                                                 dropout_71[0][0]                 \n",
      "                                                                 dropout_72[0][0]                 \n",
      "                                                                 dropout_73[0][0]                 \n",
      "                                                                 dropout_74[0][0]                 \n",
      "                                                                 dropout_75[0][0]                 \n",
      "__________________________________________________________________________________________________\n",
      "bw_onehot (InputLayer)          (None, 12)           0                                            \n",
      "__________________________________________________________________________________________________\n",
      "bidirectional_12 (Bidirectional (None, 12, 256)      285696      concatenate_12[0][0]             \n",
      "__________________________________________________________________________________________________\n",
      "embedding_1 (Embedding)         (None, 12, 10)       1010        bw_onehot[0][0]                  \n",
      "__________________________________________________________________________________________________\n",
      "concatenate_13 (Concatenate)    (None, 12, 266)      0           bidirectional_12[0][0]           \n",
      "                                                                 embedding_1[0][0]                \n",
      "__________________________________________________________________________________________________\n",
      "QApos (TimeDistributed)         (None, 12, 87)       23229       concatenate_13[0][0]             \n",
      "__________________________________________________________________________________________________\n",
      "QAaspect (TimeDistributed)      (None, 12, 8)        2136        concatenate_13[0][0]             \n",
      "__________________________________________________________________________________________________\n",
      "QAperson (TimeDistributed)      (None, 12, 10)       2670        concatenate_13[0][0]             \n",
      "__________________________________________________________________________________________________\n",
      "QAgender (TimeDistributed)      (None, 12, 8)        2136        concatenate_13[0][0]             \n",
      "__________________________________________________________________________________________________\n",
      "QAnumber (TimeDistributed)      (None, 12, 12)       3204        concatenate_13[0][0]             \n",
      "__________________________________________________________________________________________________\n",
      "QAcase (TimeDistributed)        (None, 12, 10)       2670        concatenate_13[0][0]             \n",
      "__________________________________________________________________________________________________\n",
      "QAvoice (TimeDistributed)       (None, 12, 8)        2136        concatenate_13[0][0]             \n",
      "__________________________________________________________________________________________________\n",
      "QAmood (TimeDistributed)        (None, 12, 12)       3204        concatenate_13[0][0]             \n",
      "__________________________________________________________________________________________________\n",
      "QAstate (TimeDistributed)       (None, 12, 10)       2670        concatenate_13[0][0]             \n",
      "==================================================================================================\n",
      "Total params: 330,761\n",
      "Trainable params: 330,761\n",
      "Non-trainable params: 0\n",
      "__________________________________________________________________________________________________\n"
     ]
    }
   ],
   "source": [
    "model.summary()"
   ]
  },
  {
   "cell_type": "code",
   "execution_count": 445,
   "metadata": {
    "ExecuteTime": {
     "end_time": "2018-08-02T13:36:43.825387Z",
     "start_time": "2018-08-02T13:36:43.002099Z"
    },
    "collapsed": false,
    "deletable": true,
    "editable": true
   },
   "outputs": [
    {
     "data": {
      "image/svg+xml": [
       "<svg height=\"458pt\" viewBox=\"0.00 0.00 4055.80 458.00\" width=\"4056pt\" xmlns=\"http://www.w3.org/2000/svg\" xmlns:xlink=\"http://www.w3.org/1999/xlink\">\n",
       "<g class=\"graph\" id=\"graph0\" transform=\"scale(1 1) rotate(0) translate(4 454)\">\n",
       "<title>G</title>\n",
       "<polygon fill=\"#ffffff\" points=\"-4,4 -4,-454 4051.7969,-454 4051.7969,4 -4,4\" stroke=\"transparent\"/>\n",
       "<!-- 6178332176 -->\n",
       "<g class=\"node\" id=\"node1\">\n",
       "<title>6178332176</title>\n",
       "<polygon fill=\"none\" points=\"868.5034,-405.5 868.5034,-449.5 1143.1899,-449.5 1143.1899,-405.5 868.5034,-405.5\" stroke=\"#000000\"/>\n",
       "<text fill=\"#000000\" font-family=\"Times,serif\" font-size=\"14.00\" text-anchor=\"middle\" x=\"929.188\" y=\"-423.3\">STpos: InputLayer</text>\n",
       "<polyline fill=\"none\" points=\"989.8726,-405.5 989.8726,-449.5 \" stroke=\"#000000\"/>\n",
       "<text fill=\"#000000\" font-family=\"Times,serif\" font-size=\"14.00\" text-anchor=\"middle\" x=\"1017.707\" y=\"-434.3\">input:</text>\n",
       "<polyline fill=\"none\" points=\"989.8726,-427.5 1045.5415,-427.5 \" stroke=\"#000000\"/>\n",
       "<text fill=\"#000000\" font-family=\"Times,serif\" font-size=\"14.00\" text-anchor=\"middle\" x=\"1017.707\" y=\"-412.3\">output:</text>\n",
       "<polyline fill=\"none\" points=\"1045.5415,-405.5 1045.5415,-449.5 \" stroke=\"#000000\"/>\n",
       "<text fill=\"#000000\" font-family=\"Times,serif\" font-size=\"14.00\" text-anchor=\"middle\" x=\"1094.3657\" y=\"-434.3\">(None, 12, 60)</text>\n",
       "<polyline fill=\"none\" points=\"1045.5415,-427.5 1143.1899,-427.5 \" stroke=\"#000000\"/>\n",
       "<text fill=\"#000000\" font-family=\"Times,serif\" font-size=\"14.00\" text-anchor=\"middle\" x=\"1094.3657\" y=\"-412.3\">(None, 12, 60)</text>\n",
       "</g>\n",
       "<!-- 6178331336 -->\n",
       "<g class=\"node\" id=\"node7\">\n",
       "<title>6178331336</title>\n",
       "<polygon fill=\"none\" points=\"863.8862,-324.5 863.8862,-368.5 1151.8071,-368.5 1151.8071,-324.5 863.8862,-324.5\" stroke=\"#000000\"/>\n",
       "<text fill=\"#000000\" font-family=\"Times,serif\" font-size=\"14.00\" text-anchor=\"middle\" x=\"931.188\" y=\"-342.3\">dropout_70: Dropout</text>\n",
       "<polyline fill=\"none\" points=\"998.4897,-324.5 998.4897,-368.5 \" stroke=\"#000000\"/>\n",
       "<text fill=\"#000000\" font-family=\"Times,serif\" font-size=\"14.00\" text-anchor=\"middle\" x=\"1026.3242\" y=\"-353.3\">input:</text>\n",
       "<polyline fill=\"none\" points=\"998.4897,-346.5 1054.1587,-346.5 \" stroke=\"#000000\"/>\n",
       "<text fill=\"#000000\" font-family=\"Times,serif\" font-size=\"14.00\" text-anchor=\"middle\" x=\"1026.3242\" y=\"-331.3\">output:</text>\n",
       "<polyline fill=\"none\" points=\"1054.1587,-324.5 1054.1587,-368.5 \" stroke=\"#000000\"/>\n",
       "<text fill=\"#000000\" font-family=\"Times,serif\" font-size=\"14.00\" text-anchor=\"middle\" x=\"1102.9829\" y=\"-353.3\">(None, 12, 60)</text>\n",
       "<polyline fill=\"none\" points=\"1054.1587,-346.5 1151.8071,-346.5 \" stroke=\"#000000\"/>\n",
       "<text fill=\"#000000\" font-family=\"Times,serif\" font-size=\"14.00\" text-anchor=\"middle\" x=\"1102.9829\" y=\"-331.3\">(None, 12, 60)</text>\n",
       "</g>\n",
       "<!-- 6178332176&#45;&gt;6178331336 -->\n",
       "<g class=\"edge\" id=\"edge1\">\n",
       "<title>6178332176-&gt;6178331336</title>\n",
       "<path d=\"M1006.3932,-405.3664C1006.596,-397.1516 1006.8304,-387.6579 1007.051,-378.7252\" fill=\"none\" stroke=\"#000000\"/>\n",
       "<polygon fill=\"#000000\" points=\"1010.5528,-378.6902 1007.3008,-368.6068 1003.555,-378.5174 1010.5528,-378.6902\" stroke=\"#000000\"/>\n",
       "</g>\n",
       "<!-- 6178329040 -->\n",
       "<g class=\"node\" id=\"node2\">\n",
       "<title>6178329040</title>\n",
       "<polygon fill=\"none\" points=\"1161.1274,-405.5 1161.1274,-449.5 1450.5659,-449.5 1450.5659,-405.5 1161.1274,-405.5\" stroke=\"#000000\"/>\n",
       "<text fill=\"#000000\" font-family=\"Times,serif\" font-size=\"14.00\" text-anchor=\"middle\" x=\"1232.688\" y=\"-423.3\">AMaspect: InputLayer</text>\n",
       "<polyline fill=\"none\" points=\"1304.2485,-405.5 1304.2485,-449.5 \" stroke=\"#000000\"/>\n",
       "<text fill=\"#000000\" font-family=\"Times,serif\" font-size=\"14.00\" text-anchor=\"middle\" x=\"1332.083\" y=\"-434.3\">input:</text>\n",
       "<polyline fill=\"none\" points=\"1304.2485,-427.5 1359.9175,-427.5 \" stroke=\"#000000\"/>\n",
       "<text fill=\"#000000\" font-family=\"Times,serif\" font-size=\"14.00\" text-anchor=\"middle\" x=\"1332.083\" y=\"-412.3\">output:</text>\n",
       "<polyline fill=\"none\" points=\"1359.9175,-405.5 1359.9175,-449.5 \" stroke=\"#000000\"/>\n",
       "<text fill=\"#000000\" font-family=\"Times,serif\" font-size=\"14.00\" text-anchor=\"middle\" x=\"1405.2417\" y=\"-434.3\">(None, 12, 7)</text>\n",
       "<polyline fill=\"none\" points=\"1359.9175,-427.5 1450.5659,-427.5 \" stroke=\"#000000\"/>\n",
       "<text fill=\"#000000\" font-family=\"Times,serif\" font-size=\"14.00\" text-anchor=\"middle\" x=\"1405.2417\" y=\"-412.3\">(None, 12, 7)</text>\n",
       "</g>\n",
       "<!-- 6178330104 -->\n",
       "<g class=\"node\" id=\"node8\">\n",
       "<title>6178330104</title>\n",
       "<polygon fill=\"none\" points=\"1173.3862,-324.5 1173.3862,-368.5 1454.3071,-368.5 1454.3071,-324.5 1173.3862,-324.5\" stroke=\"#000000\"/>\n",
       "<text fill=\"#000000\" font-family=\"Times,serif\" font-size=\"14.00\" text-anchor=\"middle\" x=\"1240.688\" y=\"-342.3\">dropout_71: Dropout</text>\n",
       "<polyline fill=\"none\" points=\"1307.9897,-324.5 1307.9897,-368.5 \" stroke=\"#000000\"/>\n",
       "<text fill=\"#000000\" font-family=\"Times,serif\" font-size=\"14.00\" text-anchor=\"middle\" x=\"1335.8242\" y=\"-353.3\">input:</text>\n",
       "<polyline fill=\"none\" points=\"1307.9897,-346.5 1363.6587,-346.5 \" stroke=\"#000000\"/>\n",
       "<text fill=\"#000000\" font-family=\"Times,serif\" font-size=\"14.00\" text-anchor=\"middle\" x=\"1335.8242\" y=\"-331.3\">output:</text>\n",
       "<polyline fill=\"none\" points=\"1363.6587,-324.5 1363.6587,-368.5 \" stroke=\"#000000\"/>\n",
       "<text fill=\"#000000\" font-family=\"Times,serif\" font-size=\"14.00\" text-anchor=\"middle\" x=\"1408.9829\" y=\"-353.3\">(None, 12, 7)</text>\n",
       "<polyline fill=\"none\" points=\"1363.6587,-346.5 1454.3071,-346.5 \" stroke=\"#000000\"/>\n",
       "<text fill=\"#000000\" font-family=\"Times,serif\" font-size=\"14.00\" text-anchor=\"middle\" x=\"1408.9829\" y=\"-331.3\">(None, 12, 7)</text>\n",
       "</g>\n",
       "<!-- 6178329040&#45;&gt;6178330104 -->\n",
       "<g class=\"edge\" id=\"edge2\">\n",
       "<title>6178329040-&gt;6178330104</title>\n",
       "<path d=\"M1308.0327,-405.3664C1308.844,-397.1516 1309.7817,-387.6579 1310.6639,-378.7252\" fill=\"none\" stroke=\"#000000\"/>\n",
       "<polygon fill=\"#000000\" points=\"1314.1634,-378.9025 1311.6633,-368.6068 1307.1973,-378.2144 1314.1634,-378.9025\" stroke=\"#000000\"/>\n",
       "</g>\n",
       "<!-- 6178330608 -->\n",
       "<g class=\"node\" id=\"node3\">\n",
       "<title>6178330608</title>\n",
       "<polygon fill=\"none\" points=\"1468.9551,-405.5 1468.9551,-449.5 1760.7383,-449.5 1760.7383,-405.5 1468.9551,-405.5\" stroke=\"#000000\"/>\n",
       "<text fill=\"#000000\" font-family=\"Times,serif\" font-size=\"14.00\" text-anchor=\"middle\" x=\"1541.688\" y=\"-423.3\">AMperson: InputLayer</text>\n",
       "<polyline fill=\"none\" points=\"1614.4209,-405.5 1614.4209,-449.5 \" stroke=\"#000000\"/>\n",
       "<text fill=\"#000000\" font-family=\"Times,serif\" font-size=\"14.00\" text-anchor=\"middle\" x=\"1642.2554\" y=\"-434.3\">input:</text>\n",
       "<polyline fill=\"none\" points=\"1614.4209,-427.5 1670.0898,-427.5 \" stroke=\"#000000\"/>\n",
       "<text fill=\"#000000\" font-family=\"Times,serif\" font-size=\"14.00\" text-anchor=\"middle\" x=\"1642.2554\" y=\"-412.3\">output:</text>\n",
       "<polyline fill=\"none\" points=\"1670.0898,-405.5 1670.0898,-449.5 \" stroke=\"#000000\"/>\n",
       "<text fill=\"#000000\" font-family=\"Times,serif\" font-size=\"14.00\" text-anchor=\"middle\" x=\"1715.4141\" y=\"-434.3\">(None, 12, 5)</text>\n",
       "<polyline fill=\"none\" points=\"1670.0898,-427.5 1760.7383,-427.5 \" stroke=\"#000000\"/>\n",
       "<text fill=\"#000000\" font-family=\"Times,serif\" font-size=\"14.00\" text-anchor=\"middle\" x=\"1715.4141\" y=\"-412.3\">(None, 12, 5)</text>\n",
       "</g>\n",
       "<!-- 6178331168 -->\n",
       "<g class=\"node\" id=\"node9\">\n",
       "<title>6178331168</title>\n",
       "<polygon fill=\"none\" points=\"1474.3862,-324.5 1474.3862,-368.5 1755.3071,-368.5 1755.3071,-324.5 1474.3862,-324.5\" stroke=\"#000000\"/>\n",
       "<text fill=\"#000000\" font-family=\"Times,serif\" font-size=\"14.00\" text-anchor=\"middle\" x=\"1541.688\" y=\"-342.3\">dropout_72: Dropout</text>\n",
       "<polyline fill=\"none\" points=\"1608.9897,-324.5 1608.9897,-368.5 \" stroke=\"#000000\"/>\n",
       "<text fill=\"#000000\" font-family=\"Times,serif\" font-size=\"14.00\" text-anchor=\"middle\" x=\"1636.8242\" y=\"-353.3\">input:</text>\n",
       "<polyline fill=\"none\" points=\"1608.9897,-346.5 1664.6587,-346.5 \" stroke=\"#000000\"/>\n",
       "<text fill=\"#000000\" font-family=\"Times,serif\" font-size=\"14.00\" text-anchor=\"middle\" x=\"1636.8242\" y=\"-331.3\">output:</text>\n",
       "<polyline fill=\"none\" points=\"1664.6587,-324.5 1664.6587,-368.5 \" stroke=\"#000000\"/>\n",
       "<text fill=\"#000000\" font-family=\"Times,serif\" font-size=\"14.00\" text-anchor=\"middle\" x=\"1709.9829\" y=\"-353.3\">(None, 12, 5)</text>\n",
       "<polyline fill=\"none\" points=\"1664.6587,-346.5 1755.3071,-346.5 \" stroke=\"#000000\"/>\n",
       "<text fill=\"#000000\" font-family=\"Times,serif\" font-size=\"14.00\" text-anchor=\"middle\" x=\"1709.9829\" y=\"-331.3\">(None, 12, 5)</text>\n",
       "</g>\n",
       "<!-- 6178330608&#45;&gt;6178331168 -->\n",
       "<g class=\"edge\" id=\"edge3\">\n",
       "<title>6178330608-&gt;6178331168</title>\n",
       "<path d=\"M1614.8467,-405.3664C1614.8467,-397.1516 1614.8467,-387.6579 1614.8467,-378.7252\" fill=\"none\" stroke=\"#000000\"/>\n",
       "<polygon fill=\"#000000\" points=\"1618.3468,-378.6068 1614.8467,-368.6068 1611.3468,-378.6069 1618.3468,-378.6068\" stroke=\"#000000\"/>\n",
       "</g>\n",
       "<!-- 6178331896 -->\n",
       "<g class=\"node\" id=\"node4\">\n",
       "<title>6178331896</title>\n",
       "<polygon fill=\"none\" points=\"1779.0654,-405.5 1779.0654,-449.5 2064.6279,-449.5 2064.6279,-405.5 1779.0654,-405.5\" stroke=\"#000000\"/>\n",
       "<text fill=\"#000000\" font-family=\"Times,serif\" font-size=\"14.00\" text-anchor=\"middle\" x=\"1848.688\" y=\"-423.3\">STperson: InputLayer</text>\n",
       "<polyline fill=\"none\" points=\"1918.3105,-405.5 1918.3105,-449.5 \" stroke=\"#000000\"/>\n",
       "<text fill=\"#000000\" font-family=\"Times,serif\" font-size=\"14.00\" text-anchor=\"middle\" x=\"1946.145\" y=\"-434.3\">input:</text>\n",
       "<polyline fill=\"none\" points=\"1918.3105,-427.5 1973.9795,-427.5 \" stroke=\"#000000\"/>\n",
       "<text fill=\"#000000\" font-family=\"Times,serif\" font-size=\"14.00\" text-anchor=\"middle\" x=\"1946.145\" y=\"-412.3\">output:</text>\n",
       "<polyline fill=\"none\" points=\"1973.9795,-405.5 1973.9795,-449.5 \" stroke=\"#000000\"/>\n",
       "<text fill=\"#000000\" font-family=\"Times,serif\" font-size=\"14.00\" text-anchor=\"middle\" x=\"2019.3037\" y=\"-434.3\">(None, 12, 1)</text>\n",
       "<polyline fill=\"none\" points=\"1973.9795,-427.5 2064.6279,-427.5 \" stroke=\"#000000\"/>\n",
       "<text fill=\"#000000\" font-family=\"Times,serif\" font-size=\"14.00\" text-anchor=\"middle\" x=\"2019.3037\" y=\"-412.3\">(None, 12, 1)</text>\n",
       "</g>\n",
       "<!-- 6178331280 -->\n",
       "<g class=\"node\" id=\"node10\">\n",
       "<title>6178331280</title>\n",
       "<polygon fill=\"none\" points=\"1775.3862,-324.5 1775.3862,-368.5 2056.3071,-368.5 2056.3071,-324.5 1775.3862,-324.5\" stroke=\"#000000\"/>\n",
       "<text fill=\"#000000\" font-family=\"Times,serif\" font-size=\"14.00\" text-anchor=\"middle\" x=\"1842.688\" y=\"-342.3\">dropout_73: Dropout</text>\n",
       "<polyline fill=\"none\" points=\"1909.9897,-324.5 1909.9897,-368.5 \" stroke=\"#000000\"/>\n",
       "<text fill=\"#000000\" font-family=\"Times,serif\" font-size=\"14.00\" text-anchor=\"middle\" x=\"1937.8242\" y=\"-353.3\">input:</text>\n",
       "<polyline fill=\"none\" points=\"1909.9897,-346.5 1965.6587,-346.5 \" stroke=\"#000000\"/>\n",
       "<text fill=\"#000000\" font-family=\"Times,serif\" font-size=\"14.00\" text-anchor=\"middle\" x=\"1937.8242\" y=\"-331.3\">output:</text>\n",
       "<polyline fill=\"none\" points=\"1965.6587,-324.5 1965.6587,-368.5 \" stroke=\"#000000\"/>\n",
       "<text fill=\"#000000\" font-family=\"Times,serif\" font-size=\"14.00\" text-anchor=\"middle\" x=\"2010.9829\" y=\"-353.3\">(None, 12, 1)</text>\n",
       "<polyline fill=\"none\" points=\"1965.6587,-346.5 2056.3071,-346.5 \" stroke=\"#000000\"/>\n",
       "<text fill=\"#000000\" font-family=\"Times,serif\" font-size=\"14.00\" text-anchor=\"middle\" x=\"2010.9829\" y=\"-331.3\">(None, 12, 1)</text>\n",
       "</g>\n",
       "<!-- 6178331896&#45;&gt;6178331280 -->\n",
       "<g class=\"edge\" id=\"edge4\">\n",
       "<title>6178331896-&gt;6178331280</title>\n",
       "<path d=\"M1920.2072,-405.3664C1919.5987,-397.1516 1918.8954,-387.6579 1918.2337,-378.7252\" fill=\"none\" stroke=\"#000000\"/>\n",
       "<polygon fill=\"#000000\" points=\"1921.7135,-378.3209 1917.4842,-368.6068 1914.7326,-378.8381 1921.7135,-378.3209\" stroke=\"#000000\"/>\n",
       "</g>\n",
       "<!-- 6178332568 -->\n",
       "<g class=\"node\" id=\"node5\">\n",
       "<title>6178332568</title>\n",
       "<polygon fill=\"none\" points=\"2082.3931,-405.5 2082.3931,-449.5 2363.3003,-449.5 2363.3003,-405.5 2082.3931,-405.5\" stroke=\"#000000\"/>\n",
       "<text fill=\"#000000\" font-family=\"Times,serif\" font-size=\"14.00\" text-anchor=\"middle\" x=\"2146.188\" y=\"-423.3\">MXpos: InputLayer</text>\n",
       "<polyline fill=\"none\" points=\"2209.9829,-405.5 2209.9829,-449.5 \" stroke=\"#000000\"/>\n",
       "<text fill=\"#000000\" font-family=\"Times,serif\" font-size=\"14.00\" text-anchor=\"middle\" x=\"2237.8174\" y=\"-434.3\">input:</text>\n",
       "<polyline fill=\"none\" points=\"2209.9829,-427.5 2265.6519,-427.5 \" stroke=\"#000000\"/>\n",
       "<text fill=\"#000000\" font-family=\"Times,serif\" font-size=\"14.00\" text-anchor=\"middle\" x=\"2237.8174\" y=\"-412.3\">output:</text>\n",
       "<polyline fill=\"none\" points=\"2265.6519,-405.5 2265.6519,-449.5 \" stroke=\"#000000\"/>\n",
       "<text fill=\"#000000\" font-family=\"Times,serif\" font-size=\"14.00\" text-anchor=\"middle\" x=\"2314.4761\" y=\"-434.3\">(None, 12, 70)</text>\n",
       "<polyline fill=\"none\" points=\"2265.6519,-427.5 2363.3003,-427.5 \" stroke=\"#000000\"/>\n",
       "<text fill=\"#000000\" font-family=\"Times,serif\" font-size=\"14.00\" text-anchor=\"middle\" x=\"2314.4761\" y=\"-412.3\">(None, 12, 70)</text>\n",
       "</g>\n",
       "<!-- 6178331616 -->\n",
       "<g class=\"node\" id=\"node11\">\n",
       "<title>6178331616</title>\n",
       "<polygon fill=\"none\" points=\"2074.8862,-324.5 2074.8862,-368.5 2362.8071,-368.5 2362.8071,-324.5 2074.8862,-324.5\" stroke=\"#000000\"/>\n",
       "<text fill=\"#000000\" font-family=\"Times,serif\" font-size=\"14.00\" text-anchor=\"middle\" x=\"2142.188\" y=\"-342.3\">dropout_74: Dropout</text>\n",
       "<polyline fill=\"none\" points=\"2209.4897,-324.5 2209.4897,-368.5 \" stroke=\"#000000\"/>\n",
       "<text fill=\"#000000\" font-family=\"Times,serif\" font-size=\"14.00\" text-anchor=\"middle\" x=\"2237.3242\" y=\"-353.3\">input:</text>\n",
       "<polyline fill=\"none\" points=\"2209.4897,-346.5 2265.1587,-346.5 \" stroke=\"#000000\"/>\n",
       "<text fill=\"#000000\" font-family=\"Times,serif\" font-size=\"14.00\" text-anchor=\"middle\" x=\"2237.3242\" y=\"-331.3\">output:</text>\n",
       "<polyline fill=\"none\" points=\"2265.1587,-324.5 2265.1587,-368.5 \" stroke=\"#000000\"/>\n",
       "<text fill=\"#000000\" font-family=\"Times,serif\" font-size=\"14.00\" text-anchor=\"middle\" x=\"2313.9829\" y=\"-353.3\">(None, 12, 70)</text>\n",
       "<polyline fill=\"none\" points=\"2265.1587,-346.5 2362.8071,-346.5 \" stroke=\"#000000\"/>\n",
       "<text fill=\"#000000\" font-family=\"Times,serif\" font-size=\"14.00\" text-anchor=\"middle\" x=\"2313.9829\" y=\"-331.3\">(None, 12, 70)</text>\n",
       "</g>\n",
       "<!-- 6178332568&#45;&gt;6178331616 -->\n",
       "<g class=\"edge\" id=\"edge5\">\n",
       "<title>6178332568-&gt;6178331616</title>\n",
       "<path d=\"M2221.7537,-405.3664C2221.348,-397.1516 2220.8792,-387.6579 2220.438,-378.7252\" fill=\"none\" stroke=\"#000000\"/>\n",
       "<polygon fill=\"#000000\" points=\"2223.9274,-378.422 2219.9384,-368.6068 2216.936,-378.7673 2223.9274,-378.422\" stroke=\"#000000\"/>\n",
       "</g>\n",
       "<!-- 6178332064 -->\n",
       "<g class=\"node\" id=\"node6\">\n",
       "<title>6178332064</title>\n",
       "<polygon fill=\"none\" points=\"2381.7266,-405.5 2381.7266,-449.5 2663.9668,-449.5 2663.9668,-405.5 2381.7266,-405.5\" stroke=\"#000000\"/>\n",
       "<text fill=\"#000000\" font-family=\"Times,serif\" font-size=\"14.00\" text-anchor=\"middle\" x=\"2449.688\" y=\"-423.3\">STaspect: InputLayer</text>\n",
       "<polyline fill=\"none\" points=\"2517.6494,-405.5 2517.6494,-449.5 \" stroke=\"#000000\"/>\n",
       "<text fill=\"#000000\" font-family=\"Times,serif\" font-size=\"14.00\" text-anchor=\"middle\" x=\"2545.4839\" y=\"-434.3\">input:</text>\n",
       "<polyline fill=\"none\" points=\"2517.6494,-427.5 2573.3184,-427.5 \" stroke=\"#000000\"/>\n",
       "<text fill=\"#000000\" font-family=\"Times,serif\" font-size=\"14.00\" text-anchor=\"middle\" x=\"2545.4839\" y=\"-412.3\">output:</text>\n",
       "<polyline fill=\"none\" points=\"2573.3184,-405.5 2573.3184,-449.5 \" stroke=\"#000000\"/>\n",
       "<text fill=\"#000000\" font-family=\"Times,serif\" font-size=\"14.00\" text-anchor=\"middle\" x=\"2618.6426\" y=\"-434.3\">(None, 12, 7)</text>\n",
       "<polyline fill=\"none\" points=\"2573.3184,-427.5 2663.9668,-427.5 \" stroke=\"#000000\"/>\n",
       "<text fill=\"#000000\" font-family=\"Times,serif\" font-size=\"14.00\" text-anchor=\"middle\" x=\"2618.6426\" y=\"-412.3\">(None, 12, 7)</text>\n",
       "</g>\n",
       "<!-- 6178331952 -->\n",
       "<g class=\"node\" id=\"node12\">\n",
       "<title>6178331952</title>\n",
       "<polygon fill=\"none\" points=\"2381.3862,-324.5 2381.3862,-368.5 2662.3071,-368.5 2662.3071,-324.5 2381.3862,-324.5\" stroke=\"#000000\"/>\n",
       "<text fill=\"#000000\" font-family=\"Times,serif\" font-size=\"14.00\" text-anchor=\"middle\" x=\"2448.688\" y=\"-342.3\">dropout_75: Dropout</text>\n",
       "<polyline fill=\"none\" points=\"2515.9897,-324.5 2515.9897,-368.5 \" stroke=\"#000000\"/>\n",
       "<text fill=\"#000000\" font-family=\"Times,serif\" font-size=\"14.00\" text-anchor=\"middle\" x=\"2543.8242\" y=\"-353.3\">input:</text>\n",
       "<polyline fill=\"none\" points=\"2515.9897,-346.5 2571.6587,-346.5 \" stroke=\"#000000\"/>\n",
       "<text fill=\"#000000\" font-family=\"Times,serif\" font-size=\"14.00\" text-anchor=\"middle\" x=\"2543.8242\" y=\"-331.3\">output:</text>\n",
       "<polyline fill=\"none\" points=\"2571.6587,-324.5 2571.6587,-368.5 \" stroke=\"#000000\"/>\n",
       "<text fill=\"#000000\" font-family=\"Times,serif\" font-size=\"14.00\" text-anchor=\"middle\" x=\"2616.9829\" y=\"-353.3\">(None, 12, 7)</text>\n",
       "<polyline fill=\"none\" points=\"2571.6587,-346.5 2662.3071,-346.5 \" stroke=\"#000000\"/>\n",
       "<text fill=\"#000000\" font-family=\"Times,serif\" font-size=\"14.00\" text-anchor=\"middle\" x=\"2616.9829\" y=\"-331.3\">(None, 12, 7)</text>\n",
       "</g>\n",
       "<!-- 6178332064&#45;&gt;6178331952 -->\n",
       "<g class=\"edge\" id=\"edge6\">\n",
       "<title>6178332064-&gt;6178331952</title>\n",
       "<path d=\"M2522.5734,-405.3664C2522.472,-397.1516 2522.3548,-387.6579 2522.2445,-378.7252\" fill=\"none\" stroke=\"#000000\"/>\n",
       "<polygon fill=\"#000000\" points=\"2525.7429,-378.5628 2522.1196,-368.6068 2518.7434,-378.6493 2525.7429,-378.5628\" stroke=\"#000000\"/>\n",
       "</g>\n",
       "<!-- 6178328984 -->\n",
       "<g class=\"node\" id=\"node13\">\n",
       "<title>6178328984</title>\n",
       "<polygon fill=\"none\" points=\"1386.0854,-243.5 1386.0854,-287.5 2143.6079,-287.5 2143.6079,-243.5 1386.0854,-243.5\" stroke=\"#000000\"/>\n",
       "<text fill=\"#000000\" font-family=\"Times,serif\" font-size=\"14.00\" text-anchor=\"middle\" x=\"1475.9048\" y=\"-261.3\">concatenate_12: Concatenate</text>\n",
       "<polyline fill=\"none\" points=\"1565.7241,-243.5 1565.7241,-287.5 \" stroke=\"#000000\"/>\n",
       "<text fill=\"#000000\" font-family=\"Times,serif\" font-size=\"14.00\" text-anchor=\"middle\" x=\"1593.5586\" y=\"-272.3\">input:</text>\n",
       "<polyline fill=\"none\" points=\"1565.7241,-265.5 1621.3931,-265.5 \" stroke=\"#000000\"/>\n",
       "<text fill=\"#000000\" font-family=\"Times,serif\" font-size=\"14.00\" text-anchor=\"middle\" x=\"1593.5586\" y=\"-250.3\">output:</text>\n",
       "<polyline fill=\"none\" points=\"1621.3931,-243.5 1621.3931,-287.5 \" stroke=\"#000000\"/>\n",
       "<text fill=\"#000000\" font-family=\"Times,serif\" font-size=\"14.00\" text-anchor=\"middle\" x=\"1882.5005\" y=\"-272.3\">[(None, 12, 60), (None, 12, 7), (None, 12, 5), (None, 12, 1), (None, 12, 70), (None, 12, 7)]</text>\n",
       "<polyline fill=\"none\" points=\"1621.3931,-265.5 2143.6079,-265.5 \" stroke=\"#000000\"/>\n",
       "<text fill=\"#000000\" font-family=\"Times,serif\" font-size=\"14.00\" text-anchor=\"middle\" x=\"1882.2173\" y=\"-250.3\">(None, 12, 150)</text>\n",
       "</g>\n",
       "<!-- 6178331336&#45;&gt;6178328984 -->\n",
       "<g class=\"edge\" id=\"edge7\">\n",
       "<title>6178331336-&gt;6178328984</title>\n",
       "<path d=\"M1151.9702,-325.5877C1156.3094,-325.0406 1160.6093,-324.5099 1164.8467,-324 1275.325,-310.7046 1397.5283,-298.3623 1502.6616,-288.4748\" fill=\"none\" stroke=\"#000000\"/>\n",
       "<polygon fill=\"#000000\" points=\"1503.1521,-291.9442 1512.7815,-287.5256 1502.4984,-284.9748 1503.1521,-291.9442\" stroke=\"#000000\"/>\n",
       "</g>\n",
       "<!-- 6178330104&#45;&gt;6178328984 -->\n",
       "<g class=\"edge\" id=\"edge8\">\n",
       "<title>6178330104-&gt;6178328984</title>\n",
       "<path d=\"M1436.4887,-324.4734C1497.0244,-313.6011 1570.1465,-300.4683 1632.0066,-289.3582\" fill=\"none\" stroke=\"#000000\"/>\n",
       "<polygon fill=\"#000000\" points=\"1633.0053,-292.7349 1642.2291,-287.5222 1631.7678,-285.8452 1633.0053,-292.7349\" stroke=\"#000000\"/>\n",
       "</g>\n",
       "<!-- 6178331168&#45;&gt;6178328984 -->\n",
       "<g class=\"edge\" id=\"edge9\">\n",
       "<title>6178331168-&gt;6178328984</title>\n",
       "<path d=\"M1655.8348,-324.3664C1674.1064,-314.4998 1695.7947,-302.7881 1714.9959,-292.4194\" fill=\"none\" stroke=\"#000000\"/>\n",
       "<polygon fill=\"#000000\" points=\"1716.7721,-295.4381 1723.9081,-287.6068 1713.446,-289.2787 1716.7721,-295.4381\" stroke=\"#000000\"/>\n",
       "</g>\n",
       "<!-- 6178331280&#45;&gt;6178328984 -->\n",
       "<g class=\"edge\" id=\"edge10\">\n",
       "<title>6178331280-&gt;6178328984</title>\n",
       "<path d=\"M1874.5853,-324.3664C1856.1919,-314.4998 1834.359,-302.7881 1815.0298,-292.4194\" fill=\"none\" stroke=\"#000000\"/>\n",
       "<polygon fill=\"#000000\" points=\"1816.5249,-289.2497 1806.0582,-287.6068 1813.2159,-295.4182 1816.5249,-289.2497\" stroke=\"#000000\"/>\n",
       "</g>\n",
       "<!-- 6178331616&#45;&gt;6178328984 -->\n",
       "<g class=\"edge\" id=\"edge11\">\n",
       "<title>6178331616-&gt;6178328984</title>\n",
       "<path d=\"M2095.3889,-324.4734C2034.3248,-313.5787 1960.5384,-300.4142 1898.1853,-289.2895\" fill=\"none\" stroke=\"#000000\"/>\n",
       "<polygon fill=\"#000000\" points=\"1898.7392,-285.8331 1888.2799,-287.5222 1897.5097,-292.7243 1898.7392,-285.8331\" stroke=\"#000000\"/>\n",
       "</g>\n",
       "<!-- 6178331952&#45;&gt;6178328984 -->\n",
       "<g class=\"edge\" id=\"edge12\">\n",
       "<title>6178331952-&gt;6178328984</title>\n",
       "<path d=\"M2381.352,-325.1959C2378.1548,-324.7854 2374.983,-324.3861 2371.8467,-324 2261.7826,-310.451 2140.1659,-298.1958 2034.8768,-288.4438\" fill=\"none\" stroke=\"#000000\"/>\n",
       "<polygon fill=\"#000000\" points=\"2035.0189,-284.9422 2024.7395,-287.508 2034.3754,-291.9125 2035.0189,-284.9422\" stroke=\"#000000\"/>\n",
       "</g>\n",
       "<!-- 5885474688 -->\n",
       "<g class=\"node\" id=\"node15\">\n",
       "<title>5885474688</title>\n",
       "<polygon fill=\"none\" points=\"1607.0205,-162.5 1607.0205,-206.5 2056.6729,-206.5 2056.6729,-162.5 1607.0205,-162.5\" stroke=\"#000000\"/>\n",
       "<text fill=\"#000000\" font-family=\"Times,serif\" font-size=\"14.00\" text-anchor=\"middle\" x=\"1751.688\" y=\"-180.3\">bidirectional_12(lstm_18): Bidirectional(LSTM)</text>\n",
       "<polyline fill=\"none\" points=\"1896.3555,-162.5 1896.3555,-206.5 \" stroke=\"#000000\"/>\n",
       "<text fill=\"#000000\" font-family=\"Times,serif\" font-size=\"14.00\" text-anchor=\"middle\" x=\"1924.1899\" y=\"-191.3\">input:</text>\n",
       "<polyline fill=\"none\" points=\"1896.3555,-184.5 1952.0244,-184.5 \" stroke=\"#000000\"/>\n",
       "<text fill=\"#000000\" font-family=\"Times,serif\" font-size=\"14.00\" text-anchor=\"middle\" x=\"1924.1899\" y=\"-169.3\">output:</text>\n",
       "<polyline fill=\"none\" points=\"1952.0244,-162.5 1952.0244,-206.5 \" stroke=\"#000000\"/>\n",
       "<text fill=\"#000000\" font-family=\"Times,serif\" font-size=\"14.00\" text-anchor=\"middle\" x=\"2004.3486\" y=\"-191.3\">(None, 12, 150)</text>\n",
       "<polyline fill=\"none\" points=\"1952.0244,-184.5 2056.6729,-184.5 \" stroke=\"#000000\"/>\n",
       "<text fill=\"#000000\" font-family=\"Times,serif\" font-size=\"14.00\" text-anchor=\"middle\" x=\"2004.3486\" y=\"-169.3\">(None, 12, 256)</text>\n",
       "</g>\n",
       "<!-- 6178328984&#45;&gt;5885474688 -->\n",
       "<g class=\"edge\" id=\"edge13\">\n",
       "<title>6178328984-&gt;5885474688</title>\n",
       "<path d=\"M1783.1547,-243.3664C1790.5405,-234.4373 1799.1762,-223.9972 1807.1073,-214.4088\" fill=\"none\" stroke=\"#000000\"/>\n",
       "<polygon fill=\"#000000\" points=\"1809.884,-216.5432 1813.5608,-206.6068 1804.4901,-212.0816 1809.884,-216.5432\" stroke=\"#000000\"/>\n",
       "</g>\n",
       "<!-- 5885175344 -->\n",
       "<g class=\"node\" id=\"node14\">\n",
       "<title>5885175344</title>\n",
       "<polygon fill=\"none\" points=\"2161.7896,-243.5 2161.7896,-287.5 2441.9038,-287.5 2441.9038,-243.5 2161.7896,-243.5\" stroke=\"#000000\"/>\n",
       "<text fill=\"#000000\" font-family=\"Times,serif\" font-size=\"14.00\" text-anchor=\"middle\" x=\"2235.688\" y=\"-261.3\">bw_onehot: InputLayer</text>\n",
       "<polyline fill=\"none\" points=\"2309.5864,-243.5 2309.5864,-287.5 \" stroke=\"#000000\"/>\n",
       "<text fill=\"#000000\" font-family=\"Times,serif\" font-size=\"14.00\" text-anchor=\"middle\" x=\"2337.4209\" y=\"-272.3\">input:</text>\n",
       "<polyline fill=\"none\" points=\"2309.5864,-265.5 2365.2554,-265.5 \" stroke=\"#000000\"/>\n",
       "<text fill=\"#000000\" font-family=\"Times,serif\" font-size=\"14.00\" text-anchor=\"middle\" x=\"2337.4209\" y=\"-250.3\">output:</text>\n",
       "<polyline fill=\"none\" points=\"2365.2554,-243.5 2365.2554,-287.5 \" stroke=\"#000000\"/>\n",
       "<text fill=\"#000000\" font-family=\"Times,serif\" font-size=\"14.00\" text-anchor=\"middle\" x=\"2403.5796\" y=\"-272.3\">(None, 12)</text>\n",
       "<polyline fill=\"none\" points=\"2365.2554,-265.5 2441.9038,-265.5 \" stroke=\"#000000\"/>\n",
       "<text fill=\"#000000\" font-family=\"Times,serif\" font-size=\"14.00\" text-anchor=\"middle\" x=\"2403.5796\" y=\"-250.3\">(None, 12)</text>\n",
       "</g>\n",
       "<!-- 5883827928 -->\n",
       "<g class=\"node\" id=\"node16\">\n",
       "<title>5883827928</title>\n",
       "<polygon fill=\"none\" points=\"2109.1172,-162.5 2109.1172,-206.5 2426.5762,-206.5 2426.5762,-162.5 2109.1172,-162.5\" stroke=\"#000000\"/>\n",
       "<text fill=\"#000000\" font-family=\"Times,serif\" font-size=\"14.00\" text-anchor=\"middle\" x=\"2191.188\" y=\"-180.3\">embedding_1: Embedding</text>\n",
       "<polyline fill=\"none\" points=\"2273.2588,-162.5 2273.2588,-206.5 \" stroke=\"#000000\"/>\n",
       "<text fill=\"#000000\" font-family=\"Times,serif\" font-size=\"14.00\" text-anchor=\"middle\" x=\"2301.0933\" y=\"-191.3\">input:</text>\n",
       "<polyline fill=\"none\" points=\"2273.2588,-184.5 2328.9277,-184.5 \" stroke=\"#000000\"/>\n",
       "<text fill=\"#000000\" font-family=\"Times,serif\" font-size=\"14.00\" text-anchor=\"middle\" x=\"2301.0933\" y=\"-169.3\">output:</text>\n",
       "<polyline fill=\"none\" points=\"2328.9277,-162.5 2328.9277,-206.5 \" stroke=\"#000000\"/>\n",
       "<text fill=\"#000000\" font-family=\"Times,serif\" font-size=\"14.00\" text-anchor=\"middle\" x=\"2377.752\" y=\"-191.3\">(None, 12)</text>\n",
       "<polyline fill=\"none\" points=\"2328.9277,-184.5 2426.5762,-184.5 \" stroke=\"#000000\"/>\n",
       "<text fill=\"#000000\" font-family=\"Times,serif\" font-size=\"14.00\" text-anchor=\"middle\" x=\"2377.752\" y=\"-169.3\">(None, 12, 10)</text>\n",
       "</g>\n",
       "<!-- 5885175344&#45;&gt;5883827928 -->\n",
       "<g class=\"edge\" id=\"edge14\">\n",
       "<title>5885175344-&gt;5883827928</title>\n",
       "<path d=\"M2292.556,-243.3664C2288.9954,-234.8838 2284.8624,-225.0374 2281.0073,-215.8532\" fill=\"none\" stroke=\"#000000\"/>\n",
       "<polygon fill=\"#000000\" points=\"2284.2238,-214.4728 2277.1261,-206.6068 2277.7693,-217.1821 2284.2238,-214.4728\" stroke=\"#000000\"/>\n",
       "</g>\n",
       "<!-- 5692709072 -->\n",
       "<g class=\"node\" id=\"node17\">\n",
       "<title>5692709072</title>\n",
       "<polygon fill=\"none\" points=\"1813.8823,-81.5 1813.8823,-125.5 2251.811,-125.5 2251.811,-81.5 1813.8823,-81.5\" stroke=\"#000000\"/>\n",
       "<text fill=\"#000000\" font-family=\"Times,serif\" font-size=\"14.00\" text-anchor=\"middle\" x=\"1903.7017\" y=\"-99.3\">concatenate_13: Concatenate</text>\n",
       "<polyline fill=\"none\" points=\"1993.521,-81.5 1993.521,-125.5 \" stroke=\"#000000\"/>\n",
       "<text fill=\"#000000\" font-family=\"Times,serif\" font-size=\"14.00\" text-anchor=\"middle\" x=\"2021.3555\" y=\"-110.3\">input:</text>\n",
       "<polyline fill=\"none\" points=\"1993.521,-103.5 2049.1899,-103.5 \" stroke=\"#000000\"/>\n",
       "<text fill=\"#000000\" font-family=\"Times,serif\" font-size=\"14.00\" text-anchor=\"middle\" x=\"2021.3555\" y=\"-88.3\">output:</text>\n",
       "<polyline fill=\"none\" points=\"2049.1899,-81.5 2049.1899,-125.5 \" stroke=\"#000000\"/>\n",
       "<text fill=\"#000000\" font-family=\"Times,serif\" font-size=\"14.00\" text-anchor=\"middle\" x=\"2150.5005\" y=\"-110.3\">[(None, 12, 256), (None, 12, 10)]</text>\n",
       "<polyline fill=\"none\" points=\"2049.1899,-103.5 2251.811,-103.5 \" stroke=\"#000000\"/>\n",
       "<text fill=\"#000000\" font-family=\"Times,serif\" font-size=\"14.00\" text-anchor=\"middle\" x=\"2150.0142\" y=\"-88.3\">(None, 12, 266)</text>\n",
       "</g>\n",
       "<!-- 5885474688&#45;&gt;5692709072 -->\n",
       "<g class=\"edge\" id=\"edge15\">\n",
       "<title>5885474688-&gt;5692709072</title>\n",
       "<path d=\"M1886.5053,-162.4734C1911.8715,-152.2512 1942.1963,-140.0308 1968.646,-129.3719\" fill=\"none\" stroke=\"#000000\"/>\n",
       "<polygon fill=\"#000000\" points=\"1970.232,-132.5064 1978.1989,-125.5222 1967.6155,-126.0137 1970.232,-132.5064\" stroke=\"#000000\"/>\n",
       "</g>\n",
       "<!-- 5883827928&#45;&gt;5692709072 -->\n",
       "<g class=\"edge\" id=\"edge16\">\n",
       "<title>5883827928-&gt;5692709072</title>\n",
       "<path d=\"M2203.9423,-162.4734C2173.7651,-152.0719 2137.5852,-139.6014 2106.2839,-128.8124\" fill=\"none\" stroke=\"#000000\"/>\n",
       "<polygon fill=\"#000000\" points=\"2107.333,-125.472 2096.7383,-125.5222 2105.0519,-132.0899 2107.333,-125.472\" stroke=\"#000000\"/>\n",
       "</g>\n",
       "<!-- 5692660536 -->\n",
       "<g class=\"node\" id=\"node18\">\n",
       "<title>5692660536</title>\n",
       "<polygon fill=\"none\" points=\"0,-.5 0,-44.5 421.6934,-44.5 421.6934,-.5 0,-.5\" stroke=\"#000000\"/>\n",
       "<text fill=\"#000000\" font-family=\"Times,serif\" font-size=\"14.00\" text-anchor=\"middle\" x=\"130.688\" y=\"-18.3\">QApos(dense_61): TimeDistributed(Dense)</text>\n",
       "<polyline fill=\"none\" points=\"261.376,-.5 261.376,-44.5 \" stroke=\"#000000\"/>\n",
       "<text fill=\"#000000\" font-family=\"Times,serif\" font-size=\"14.00\" text-anchor=\"middle\" x=\"289.2104\" y=\"-29.3\">input:</text>\n",
       "<polyline fill=\"none\" points=\"261.376,-22.5 317.0449,-22.5 \" stroke=\"#000000\"/>\n",
       "<text fill=\"#000000\" font-family=\"Times,serif\" font-size=\"14.00\" text-anchor=\"middle\" x=\"289.2104\" y=\"-7.3\">output:</text>\n",
       "<polyline fill=\"none\" points=\"317.0449,-.5 317.0449,-44.5 \" stroke=\"#000000\"/>\n",
       "<text fill=\"#000000\" font-family=\"Times,serif\" font-size=\"14.00\" text-anchor=\"middle\" x=\"369.3691\" y=\"-29.3\">(None, 12, 266)</text>\n",
       "<polyline fill=\"none\" points=\"317.0449,-22.5 421.6934,-22.5 \" stroke=\"#000000\"/>\n",
       "<text fill=\"#000000\" font-family=\"Times,serif\" font-size=\"14.00\" text-anchor=\"middle\" x=\"369.3691\" y=\"-7.3\">(None, 12, 87)</text>\n",
       "</g>\n",
       "<!-- 5692709072&#45;&gt;5692660536 -->\n",
       "<g class=\"edge\" id=\"edge17\">\n",
       "<title>5692709072-&gt;5692660536</title>\n",
       "<path d=\"M1813.8347,-100.0757C1507.0583,-94.2467 931.765,-79.5549 432.096,-45.1372\" fill=\"none\" stroke=\"#000000\"/>\n",
       "<polygon fill=\"#000000\" points=\"432.0071,-41.6227 421.7892,-44.4237 431.5236,-48.606 432.0071,-41.6227\" stroke=\"#000000\"/>\n",
       "</g>\n",
       "<!-- 5692383584 -->\n",
       "<g class=\"node\" id=\"node19\">\n",
       "<title>5692383584</title>\n",
       "<polygon fill=\"none\" points=\"439.2344,-.5 439.2344,-44.5 876.459,-44.5 876.459,-.5 439.2344,-.5\" stroke=\"#000000\"/>\n",
       "<text fill=\"#000000\" font-family=\"Times,serif\" font-size=\"14.00\" text-anchor=\"middle\" x=\"577.688\" y=\"-18.3\">QAaspect(dense_62): TimeDistributed(Dense)</text>\n",
       "<polyline fill=\"none\" points=\"716.1416,-.5 716.1416,-44.5 \" stroke=\"#000000\"/>\n",
       "<text fill=\"#000000\" font-family=\"Times,serif\" font-size=\"14.00\" text-anchor=\"middle\" x=\"743.9761\" y=\"-29.3\">input:</text>\n",
       "<polyline fill=\"none\" points=\"716.1416,-22.5 771.8105,-22.5 \" stroke=\"#000000\"/>\n",
       "<text fill=\"#000000\" font-family=\"Times,serif\" font-size=\"14.00\" text-anchor=\"middle\" x=\"743.9761\" y=\"-7.3\">output:</text>\n",
       "<polyline fill=\"none\" points=\"771.8105,-.5 771.8105,-44.5 \" stroke=\"#000000\"/>\n",
       "<text fill=\"#000000\" font-family=\"Times,serif\" font-size=\"14.00\" text-anchor=\"middle\" x=\"824.1348\" y=\"-29.3\">(None, 12, 266)</text>\n",
       "<polyline fill=\"none\" points=\"771.8105,-22.5 876.459,-22.5 \" stroke=\"#000000\"/>\n",
       "<text fill=\"#000000\" font-family=\"Times,serif\" font-size=\"14.00\" text-anchor=\"middle\" x=\"824.1348\" y=\"-7.3\">(None, 12, 8)</text>\n",
       "</g>\n",
       "<!-- 5692709072&#45;&gt;5692383584 -->\n",
       "<g class=\"edge\" id=\"edge18\">\n",
       "<title>5692709072-&gt;5692383584</title>\n",
       "<path d=\"M1813.6403,-95.4522C1584.8444,-86.3289 1215.4028,-69.5632 886.7036,-45.1241\" fill=\"none\" stroke=\"#000000\"/>\n",
       "<polygon fill=\"#000000\" points=\"886.7338,-41.6167 876.5008,-44.362 886.2123,-48.5972 886.7338,-41.6167\" stroke=\"#000000\"/>\n",
       "</g>\n",
       "<!-- 5692412704 -->\n",
       "<g class=\"node\" id=\"node20\">\n",
       "<title>5692412704</title>\n",
       "<polygon fill=\"none\" points=\"894.062,-.5 894.062,-44.5 1333.6313,-44.5 1333.6313,-.5 894.062,-.5\" stroke=\"#000000\"/>\n",
       "<text fill=\"#000000\" font-family=\"Times,serif\" font-size=\"14.00\" text-anchor=\"middle\" x=\"1033.688\" y=\"-18.3\">QAperson(dense_63): TimeDistributed(Dense)</text>\n",
       "<polyline fill=\"none\" points=\"1173.314,-.5 1173.314,-44.5 \" stroke=\"#000000\"/>\n",
       "<text fill=\"#000000\" font-family=\"Times,serif\" font-size=\"14.00\" text-anchor=\"middle\" x=\"1201.1484\" y=\"-29.3\">input:</text>\n",
       "<polyline fill=\"none\" points=\"1173.314,-22.5 1228.9829,-22.5 \" stroke=\"#000000\"/>\n",
       "<text fill=\"#000000\" font-family=\"Times,serif\" font-size=\"14.00\" text-anchor=\"middle\" x=\"1201.1484\" y=\"-7.3\">output:</text>\n",
       "<polyline fill=\"none\" points=\"1228.9829,-.5 1228.9829,-44.5 \" stroke=\"#000000\"/>\n",
       "<text fill=\"#000000\" font-family=\"Times,serif\" font-size=\"14.00\" text-anchor=\"middle\" x=\"1281.3071\" y=\"-29.3\">(None, 12, 266)</text>\n",
       "<polyline fill=\"none\" points=\"1228.9829,-22.5 1333.6313,-22.5 \" stroke=\"#000000\"/>\n",
       "<text fill=\"#000000\" font-family=\"Times,serif\" font-size=\"14.00\" text-anchor=\"middle\" x=\"1281.3071\" y=\"-7.3\">(None, 12, 10)</text>\n",
       "</g>\n",
       "<!-- 5692709072&#45;&gt;5692412704 -->\n",
       "<g class=\"edge\" id=\"edge19\">\n",
       "<title>5692709072-&gt;5692412704</title>\n",
       "<path d=\"M1813.6996,-85.6721C1680.8199,-74.6793 1507.5531,-60.0227 1344.0885,-45.1084\" fill=\"none\" stroke=\"#000000\"/>\n",
       "<polygon fill=\"#000000\" points=\"1344.1114,-41.596 1333.8343,-44.1714 1343.4743,-48.567 1344.1114,-41.596\" stroke=\"#000000\"/>\n",
       "</g>\n",
       "<!-- 5692193480 -->\n",
       "<g class=\"node\" id=\"node21\">\n",
       "<title>5692193480</title>\n",
       "<polygon fill=\"none\" points=\"1351.6792,-.5 1351.6792,-44.5 1792.0142,-44.5 1792.0142,-.5 1351.6792,-.5\" stroke=\"#000000\"/>\n",
       "<text fill=\"#000000\" font-family=\"Times,serif\" font-size=\"14.00\" text-anchor=\"middle\" x=\"1491.688\" y=\"-18.3\">QAgender(dense_64): TimeDistributed(Dense)</text>\n",
       "<polyline fill=\"none\" points=\"1631.6968,-.5 1631.6968,-44.5 \" stroke=\"#000000\"/>\n",
       "<text fill=\"#000000\" font-family=\"Times,serif\" font-size=\"14.00\" text-anchor=\"middle\" x=\"1659.5313\" y=\"-29.3\">input:</text>\n",
       "<polyline fill=\"none\" points=\"1631.6968,-22.5 1687.3657,-22.5 \" stroke=\"#000000\"/>\n",
       "<text fill=\"#000000\" font-family=\"Times,serif\" font-size=\"14.00\" text-anchor=\"middle\" x=\"1659.5313\" y=\"-7.3\">output:</text>\n",
       "<polyline fill=\"none\" points=\"1687.3657,-.5 1687.3657,-44.5 \" stroke=\"#000000\"/>\n",
       "<text fill=\"#000000\" font-family=\"Times,serif\" font-size=\"14.00\" text-anchor=\"middle\" x=\"1739.6899\" y=\"-29.3\">(None, 12, 266)</text>\n",
       "<polyline fill=\"none\" points=\"1687.3657,-22.5 1792.0142,-22.5 \" stroke=\"#000000\"/>\n",
       "<text fill=\"#000000\" font-family=\"Times,serif\" font-size=\"14.00\" text-anchor=\"middle\" x=\"1739.6899\" y=\"-7.3\">(None, 12, 8)</text>\n",
       "</g>\n",
       "<!-- 5692709072&#45;&gt;5692193480 -->\n",
       "<g class=\"edge\" id=\"edge20\">\n",
       "<title>5692709072-&gt;5692193480</title>\n",
       "<path d=\"M1907.4853,-81.4734C1845.4798,-70.5787 1770.5557,-57.4142 1707.2412,-46.2895\" fill=\"none\" stroke=\"#000000\"/>\n",
       "<polygon fill=\"#000000\" points=\"1707.6379,-42.8057 1697.1831,-44.5222 1706.4265,-49.7 1707.6379,-42.8057\" stroke=\"#000000\"/>\n",
       "</g>\n",
       "<!-- 5692045464 -->\n",
       "<g class=\"node\" id=\"node22\">\n",
       "<title>5692045464</title>\n",
       "<polygon fill=\"none\" points=\"1810.3413,-.5 1810.3413,-44.5 2255.3521,-44.5 2255.3521,-.5 1810.3413,-.5\" stroke=\"#000000\"/>\n",
       "<text fill=\"#000000\" font-family=\"Times,serif\" font-size=\"14.00\" text-anchor=\"middle\" x=\"1952.688\" y=\"-18.3\">QAnumber(dense_65): TimeDistributed(Dense)</text>\n",
       "<polyline fill=\"none\" points=\"2095.0347,-.5 2095.0347,-44.5 \" stroke=\"#000000\"/>\n",
       "<text fill=\"#000000\" font-family=\"Times,serif\" font-size=\"14.00\" text-anchor=\"middle\" x=\"2122.8691\" y=\"-29.3\">input:</text>\n",
       "<polyline fill=\"none\" points=\"2095.0347,-22.5 2150.7036,-22.5 \" stroke=\"#000000\"/>\n",
       "<text fill=\"#000000\" font-family=\"Times,serif\" font-size=\"14.00\" text-anchor=\"middle\" x=\"2122.8691\" y=\"-7.3\">output:</text>\n",
       "<polyline fill=\"none\" points=\"2150.7036,-.5 2150.7036,-44.5 \" stroke=\"#000000\"/>\n",
       "<text fill=\"#000000\" font-family=\"Times,serif\" font-size=\"14.00\" text-anchor=\"middle\" x=\"2203.0278\" y=\"-29.3\">(None, 12, 266)</text>\n",
       "<polyline fill=\"none\" points=\"2150.7036,-22.5 2255.3521,-22.5 \" stroke=\"#000000\"/>\n",
       "<text fill=\"#000000\" font-family=\"Times,serif\" font-size=\"14.00\" text-anchor=\"middle\" x=\"2203.0278\" y=\"-7.3\">(None, 12, 12)</text>\n",
       "</g>\n",
       "<!-- 5692709072&#45;&gt;5692045464 -->\n",
       "<g class=\"edge\" id=\"edge21\">\n",
       "<title>5692709072-&gt;5692045464</title>\n",
       "<path d=\"M2032.8467,-81.3664C2032.8467,-73.1516 2032.8467,-63.6579 2032.8467,-54.7252\" fill=\"none\" stroke=\"#000000\"/>\n",
       "<polygon fill=\"#000000\" points=\"2036.3468,-54.6068 2032.8467,-44.6068 2029.3468,-54.6069 2036.3468,-54.6068\" stroke=\"#000000\"/>\n",
       "</g>\n",
       "<!-- 5691876744 -->\n",
       "<g class=\"node\" id=\"node23\">\n",
       "<title>5691876744</title>\n",
       "<polygon fill=\"none\" points=\"2273.6792,-.5 2273.6792,-44.5 2700.0142,-44.5 2700.0142,-.5 2273.6792,-.5\" stroke=\"#000000\"/>\n",
       "<text fill=\"#000000\" font-family=\"Times,serif\" font-size=\"14.00\" text-anchor=\"middle\" x=\"2406.688\" y=\"-18.3\">QAcase(dense_66): TimeDistributed(Dense)</text>\n",
       "<polyline fill=\"none\" points=\"2539.6968,-.5 2539.6968,-44.5 \" stroke=\"#000000\"/>\n",
       "<text fill=\"#000000\" font-family=\"Times,serif\" font-size=\"14.00\" text-anchor=\"middle\" x=\"2567.5313\" y=\"-29.3\">input:</text>\n",
       "<polyline fill=\"none\" points=\"2539.6968,-22.5 2595.3657,-22.5 \" stroke=\"#000000\"/>\n",
       "<text fill=\"#000000\" font-family=\"Times,serif\" font-size=\"14.00\" text-anchor=\"middle\" x=\"2567.5313\" y=\"-7.3\">output:</text>\n",
       "<polyline fill=\"none\" points=\"2595.3657,-.5 2595.3657,-44.5 \" stroke=\"#000000\"/>\n",
       "<text fill=\"#000000\" font-family=\"Times,serif\" font-size=\"14.00\" text-anchor=\"middle\" x=\"2647.6899\" y=\"-29.3\">(None, 12, 266)</text>\n",
       "<polyline fill=\"none\" points=\"2595.3657,-22.5 2700.0142,-22.5 \" stroke=\"#000000\"/>\n",
       "<text fill=\"#000000\" font-family=\"Times,serif\" font-size=\"14.00\" text-anchor=\"middle\" x=\"2647.6899\" y=\"-7.3\">(None, 12, 10)</text>\n",
       "</g>\n",
       "<!-- 5692709072&#45;&gt;5691876744 -->\n",
       "<g class=\"edge\" id=\"edge22\">\n",
       "<title>5692709072-&gt;5691876744</title>\n",
       "<path d=\"M2156.3045,-81.4734C2217.3685,-70.5787 2291.1549,-57.4142 2353.508,-46.2895\" fill=\"none\" stroke=\"#000000\"/>\n",
       "<polygon fill=\"#000000\" points=\"2354.1837,-49.7243 2363.4135,-44.5222 2352.9541,-42.8331 2354.1837,-49.7243\" stroke=\"#000000\"/>\n",
       "</g>\n",
       "<!-- 5691745728 -->\n",
       "<g class=\"node\" id=\"node24\">\n",
       "<title>5691745728</title>\n",
       "<polygon fill=\"none\" points=\"2718.0815,-.5 2718.0815,-44.5 3149.6118,-44.5 3149.6118,-.5 2718.0815,-.5\" stroke=\"#000000\"/>\n",
       "<text fill=\"#000000\" font-family=\"Times,serif\" font-size=\"14.00\" text-anchor=\"middle\" x=\"2853.688\" y=\"-18.3\">QAvoice(dense_67): TimeDistributed(Dense)</text>\n",
       "<polyline fill=\"none\" points=\"2989.2944,-.5 2989.2944,-44.5 \" stroke=\"#000000\"/>\n",
       "<text fill=\"#000000\" font-family=\"Times,serif\" font-size=\"14.00\" text-anchor=\"middle\" x=\"3017.1289\" y=\"-29.3\">input:</text>\n",
       "<polyline fill=\"none\" points=\"2989.2944,-22.5 3044.9634,-22.5 \" stroke=\"#000000\"/>\n",
       "<text fill=\"#000000\" font-family=\"Times,serif\" font-size=\"14.00\" text-anchor=\"middle\" x=\"3017.1289\" y=\"-7.3\">output:</text>\n",
       "<polyline fill=\"none\" points=\"3044.9634,-.5 3044.9634,-44.5 \" stroke=\"#000000\"/>\n",
       "<text fill=\"#000000\" font-family=\"Times,serif\" font-size=\"14.00\" text-anchor=\"middle\" x=\"3097.2876\" y=\"-29.3\">(None, 12, 266)</text>\n",
       "<polyline fill=\"none\" points=\"3044.9634,-22.5 3149.6118,-22.5 \" stroke=\"#000000\"/>\n",
       "<text fill=\"#000000\" font-family=\"Times,serif\" font-size=\"14.00\" text-anchor=\"middle\" x=\"3097.2876\" y=\"-7.3\">(None, 12, 8)</text>\n",
       "</g>\n",
       "<!-- 5692709072&#45;&gt;5691745728 -->\n",
       "<g class=\"edge\" id=\"edge23\">\n",
       "<title>5692709072-&gt;5691745728</title>\n",
       "<path d=\"M2252.1128,-85.2704C2381.586,-74.3246 2548.999,-59.8578 2707.5674,-45.1139\" fill=\"none\" stroke=\"#000000\"/>\n",
       "<polygon fill=\"#000000\" points=\"2708.3665,-48.5547 2717.9988,-44.1423 2707.7173,-41.5849 2708.3665,-48.5547\" stroke=\"#000000\"/>\n",
       "</g>\n",
       "<!-- 5691675312 -->\n",
       "<g class=\"node\" id=\"node25\">\n",
       "<title>5691675312</title>\n",
       "<polygon fill=\"none\" points=\"3167.7793,-.5 3167.7793,-44.5 3601.9141,-44.5 3601.9141,-.5 3167.7793,-.5\" stroke=\"#000000\"/>\n",
       "<text fill=\"#000000\" font-family=\"Times,serif\" font-size=\"14.00\" text-anchor=\"middle\" x=\"3304.688\" y=\"-18.3\">QAmood(dense_68): TimeDistributed(Dense)</text>\n",
       "<polyline fill=\"none\" points=\"3441.5967,-.5 3441.5967,-44.5 \" stroke=\"#000000\"/>\n",
       "<text fill=\"#000000\" font-family=\"Times,serif\" font-size=\"14.00\" text-anchor=\"middle\" x=\"3469.4312\" y=\"-29.3\">input:</text>\n",
       "<polyline fill=\"none\" points=\"3441.5967,-22.5 3497.2656,-22.5 \" stroke=\"#000000\"/>\n",
       "<text fill=\"#000000\" font-family=\"Times,serif\" font-size=\"14.00\" text-anchor=\"middle\" x=\"3469.4312\" y=\"-7.3\">output:</text>\n",
       "<polyline fill=\"none\" points=\"3497.2656,-.5 3497.2656,-44.5 \" stroke=\"#000000\"/>\n",
       "<text fill=\"#000000\" font-family=\"Times,serif\" font-size=\"14.00\" text-anchor=\"middle\" x=\"3549.5898\" y=\"-29.3\">(None, 12, 266)</text>\n",
       "<polyline fill=\"none\" points=\"3497.2656,-22.5 3601.9141,-22.5 \" stroke=\"#000000\"/>\n",
       "<text fill=\"#000000\" font-family=\"Times,serif\" font-size=\"14.00\" text-anchor=\"middle\" x=\"3549.5898\" y=\"-7.3\">(None, 12, 12)</text>\n",
       "</g>\n",
       "<!-- 5692709072&#45;&gt;5691675312 -->\n",
       "<g class=\"edge\" id=\"edge24\">\n",
       "<title>5692709072-&gt;5691675312</title>\n",
       "<path d=\"M2252.061,-95.1842C2476.6789,-85.9503 2836.2755,-69.1951 3157.3087,-45.0996\" fill=\"none\" stroke=\"#000000\"/>\n",
       "<polygon fill=\"#000000\" points=\"3158.0444,-48.5542 3167.7529,-44.3121 3157.518,-41.574 3158.0444,-48.5542\" stroke=\"#000000\"/>\n",
       "</g>\n",
       "<!-- 5691443800 -->\n",
       "<g class=\"node\" id=\"node26\">\n",
       "<title>5691443800</title>\n",
       "<polygon fill=\"none\" points=\"3619.8965,-.5 3619.8965,-44.5 4047.7969,-44.5 4047.7969,-.5 3619.8965,-.5\" stroke=\"#000000\"/>\n",
       "<text fill=\"#000000\" font-family=\"Times,serif\" font-size=\"14.00\" text-anchor=\"middle\" x=\"3753.688\" y=\"-18.3\">QAstate(dense_69): TimeDistributed(Dense)</text>\n",
       "<polyline fill=\"none\" points=\"3887.4795,-.5 3887.4795,-44.5 \" stroke=\"#000000\"/>\n",
       "<text fill=\"#000000\" font-family=\"Times,serif\" font-size=\"14.00\" text-anchor=\"middle\" x=\"3915.314\" y=\"-29.3\">input:</text>\n",
       "<polyline fill=\"none\" points=\"3887.4795,-22.5 3943.1484,-22.5 \" stroke=\"#000000\"/>\n",
       "<text fill=\"#000000\" font-family=\"Times,serif\" font-size=\"14.00\" text-anchor=\"middle\" x=\"3915.314\" y=\"-7.3\">output:</text>\n",
       "<polyline fill=\"none\" points=\"3943.1484,-.5 3943.1484,-44.5 \" stroke=\"#000000\"/>\n",
       "<text fill=\"#000000\" font-family=\"Times,serif\" font-size=\"14.00\" text-anchor=\"middle\" x=\"3995.4727\" y=\"-29.3\">(None, 12, 266)</text>\n",
       "<polyline fill=\"none\" points=\"3943.1484,-22.5 4047.7969,-22.5 \" stroke=\"#000000\"/>\n",
       "<text fill=\"#000000\" font-family=\"Times,serif\" font-size=\"14.00\" text-anchor=\"middle\" x=\"3995.4727\" y=\"-7.3\">(None, 12, 10)</text>\n",
       "</g>\n",
       "<!-- 5692709072&#45;&gt;5691443800 -->\n",
       "<g class=\"edge\" id=\"edge25\">\n",
       "<title>5692709072-&gt;5691443800</title>\n",
       "<path d=\"M2251.9731,-99.7695C2554.8321,-93.6193 3118.6399,-78.5918 3609.5143,-45.0708\" fill=\"none\" stroke=\"#000000\"/>\n",
       "<polygon fill=\"#000000\" points=\"3609.9029,-48.5525 3619.6398,-44.376 3609.4237,-41.5689 3609.9029,-48.5525\" stroke=\"#000000\"/>\n",
       "</g>\n",
       "</g>\n",
       "</svg>"
      ],
      "text/plain": [
       "<IPython.core.display.SVG object>"
      ]
     },
     "execution_count": 445,
     "metadata": {},
     "output_type": "execute_result"
    }
   ],
   "source": [
    "from IPython.display import SVG\n",
    "from keras.utils.vis_utils import model_to_dot\n",
    "if not e.LOAD_MODEL:\n",
    "    plot_model(model, to_file='plots/model_{}.png'.format(e.NAME), )#show_shapes=True)\n",
    "SVG(model_to_dot(model, show_shapes=True, show_layer_names=True).create(prog='dot', format='svg'))"
   ]
  },
  {
   "cell_type": "markdown",
   "metadata": {
    "deletable": true,
    "editable": true
   },
   "source": [
    "# 10. Training"
   ]
  },
  {
   "cell_type": "code",
   "execution_count": 382,
   "metadata": {
    "ExecuteTime": {
     "end_time": "2018-08-01T23:28:22.315329Z",
     "start_time": "2018-08-01T23:28:16.720876Z"
    },
    "collapsed": false,
    "deletable": true,
    "editable": true
   },
   "outputs": [
    {
     "name": "stdout",
     "output_type": "stream",
     "text": [
      "What is the name of this experiment? 1\n",
      "\n",
      "NAME= comp_end_ST_AM_FA_1\n",
      "DATE= .2018.08.02.00.28\n"
     ]
    }
   ],
   "source": [
    "# optional\n",
    "e.set_name()"
   ]
  },
  {
   "cell_type": "code",
   "execution_count": 383,
   "metadata": {
    "ExecuteTime": {
     "end_time": "2018-08-01T23:28:22.322433Z",
     "start_time": "2018-08-01T23:28:22.317556Z"
    },
    "collapsed": true,
    "deletable": true,
    "editable": true
   },
   "outputs": [],
   "source": [
    "if not e.LOAD_MODEL:\n",
    "    earlyStopping=EarlyStopping(monitor='val_loss', patience=5, verbose=0, mode='auto')\n",
    "\n",
    "    tensorboard = TensorBoard(\n",
    "        log_dir=\"logs/\" + e.NAME + \"_{}\".format(e.thedate))\n"
   ]
  },
  {
   "cell_type": "code",
   "execution_count": 384,
   "metadata": {
    "ExecuteTime": {
     "end_time": "2018-08-01T23:28:24.471681Z",
     "start_time": "2018-08-01T23:28:24.467394Z"
    },
    "collapsed": false,
    "deletable": true,
    "editable": true
   },
   "outputs": [
    {
     "name": "stdout",
     "output_type": "stream",
     "text": [
      "comp_end_ST_AM_FA_1_.2018.08.02.00.28\n"
     ]
    }
   ],
   "source": [
    "print(e.NAME + \"_{}\".format(e.thedate))\n"
   ]
  },
  {
   "cell_type": "code",
   "execution_count": 385,
   "metadata": {
    "ExecuteTime": {
     "end_time": "2018-08-01T23:56:11.545749Z",
     "start_time": "2018-08-01T23:28:29.732583Z"
    },
    "collapsed": false,
    "deletable": true,
    "editable": true,
    "scrolled": true
   },
   "outputs": [
    {
     "name": "stdout",
     "output_type": "stream",
     "text": [
      "Train on 17886 samples, validate on 2236 samples\n",
      "Epoch 1/40\n",
      " - 59s - loss: 3.1801 - QAutf8_loss: 0.9228 - QApos_loss: 0.6274 - QAaspect_loss: 0.1550 - QAperson_loss: 0.2277 - QAgender_loss: 0.2510 - QAnumber_loss: 0.2795 - QAcase_loss: 0.2521 - QAvoice_loss: 0.1459 - QAmood_loss: 0.1256 - QAstate_loss: 0.1930 - QAutf8_acc: 0.7209 - QApos_acc: 0.8028 - QAaspect_acc: 0.8952 - QAperson_acc: 0.8596 - QAgender_acc: 0.8450 - QAnumber_acc: 0.8439 - QAcase_acc: 0.8674 - QAvoice_acc: 0.8901 - QAmood_acc: 0.9155 - QAstate_acc: 0.8734 - val_loss: 6.0025 - val_QAutf8_loss: 2.2586 - val_QApos_loss: 0.9806 - val_QAaspect_loss: 0.2179 - val_QAperson_loss: 0.4261 - val_QAgender_loss: 0.4384 - val_QAnumber_loss: 0.5503 - val_QAcase_loss: 0.4332 - val_QAvoice_loss: 0.2211 - val_QAmood_loss: 0.1854 - val_QAstate_loss: 0.2909 - val_QAutf8_acc: 0.7711 - val_QApos_acc: 0.9134 - val_QAaspect_acc: 0.9793 - val_QAperson_acc: 0.9436 - val_QAgender_acc: 0.9462 - val_QAnumber_acc: 0.9288 - val_QAcase_acc: 0.9432 - val_QAvoice_acc: 0.9753 - val_QAmood_acc: 0.9827 - val_QAstate_acc: 0.9682\n",
      "Epoch 2/40\n",
      " - 54s - loss: 1.8327 - QAutf8_loss: 0.6683 - QApos_loss: 0.2898 - QAaspect_loss: 0.0655 - QAperson_loss: 0.1341 - QAgender_loss: 0.1413 - QAnumber_loss: 0.1708 - QAcase_loss: 0.1403 - QAvoice_loss: 0.0718 - QAmood_loss: 0.0629 - QAstate_loss: 0.0878 - QAutf8_acc: 0.7867 - QApos_acc: 0.9238 - QAaspect_acc: 0.9783 - QAperson_acc: 0.9480 - QAgender_acc: 0.9488 - QAnumber_acc: 0.9348 - QAcase_acc: 0.9482 - QAvoice_acc: 0.9750 - QAmood_acc: 0.9797 - QAstate_acc: 0.9696 - val_loss: 4.6406 - val_QAutf8_loss: 1.7911 - val_QApos_loss: 0.6640 - val_QAaspect_loss: 0.1433 - val_QAperson_loss: 0.3570 - val_QAgender_loss: 0.3675 - val_QAnumber_loss: 0.4477 - val_QAcase_loss: 0.3441 - val_QAvoice_loss: 0.1851 - val_QAmood_loss: 0.1518 - val_QAstate_loss: 0.1888 - val_QAutf8_acc: 0.8063 - val_QApos_acc: 0.9396 - val_QAaspect_acc: 0.9844 - val_QAperson_acc: 0.9504 - val_QAgender_acc: 0.9557 - val_QAnumber_acc: 0.9442 - val_QAcase_acc: 0.9582 - val_QAvoice_acc: 0.9785 - val_QAmood_acc: 0.9843 - val_QAstate_acc: 0.9775\n",
      "Epoch 3/40\n",
      " - 53s - loss: 1.4720 - QAutf8_loss: 0.5330 - QApos_loss: 0.2182 - QAaspect_loss: 0.0484 - QAperson_loss: 0.1130 - QAgender_loss: 0.1213 - QAnumber_loss: 0.1446 - QAcase_loss: 0.1116 - QAvoice_loss: 0.0631 - QAmood_loss: 0.0537 - QAstate_loss: 0.0649 - QAutf8_acc: 0.8280 - QApos_acc: 0.9392 - QAaspect_acc: 0.9835 - QAperson_acc: 0.9565 - QAgender_acc: 0.9567 - QAnumber_acc: 0.9462 - QAcase_acc: 0.9607 - QAvoice_acc: 0.9784 - QAmood_acc: 0.9818 - QAstate_acc: 0.9773 - val_loss: 3.8073 - val_QAutf8_loss: 1.4124 - val_QApos_loss: 0.5315 - val_QAaspect_loss: 0.1209 - val_QAperson_loss: 0.3076 - val_QAgender_loss: 0.3172 - val_QAnumber_loss: 0.3778 - val_QAcase_loss: 0.2684 - val_QAvoice_loss: 0.1715 - val_QAmood_loss: 0.1410 - val_QAstate_loss: 0.1589 - val_QAutf8_acc: 0.8427 - val_QApos_acc: 0.9499 - val_QAaspect_acc: 0.9881 - val_QAperson_acc: 0.9633 - val_QAgender_acc: 0.9628 - val_QAnumber_acc: 0.9555 - val_QAcase_acc: 0.9698 - val_QAvoice_acc: 0.9801 - val_QAmood_acc: 0.9851 - val_QAstate_acc: 0.9813\n",
      "Epoch 4/40\n",
      " - 53s - loss: 1.2335 - QAutf8_loss: 0.4251 - QApos_loss: 0.1824 - QAaspect_loss: 0.0414 - QAperson_loss: 0.0979 - QAgender_loss: 0.1057 - QAnumber_loss: 0.1269 - QAcase_loss: 0.0896 - QAvoice_loss: 0.0587 - QAmood_loss: 0.0486 - QAstate_loss: 0.0571 - QAutf8_acc: 0.8612 - QApos_acc: 0.9476 - QAaspect_acc: 0.9861 - QAperson_acc: 0.9650 - QAgender_acc: 0.9631 - QAnumber_acc: 0.9546 - QAcase_acc: 0.9697 - QAvoice_acc: 0.9802 - QAmood_acc: 0.9836 - QAstate_acc: 0.9800 - val_loss: 3.2949 - val_QAutf8_loss: 1.1710 - val_QApos_loss: 0.4625 - val_QAaspect_loss: 0.1114 - val_QAperson_loss: 0.2648 - val_QAgender_loss: 0.2820 - val_QAnumber_loss: 0.3435 - val_QAcase_loss: 0.2245 - val_QAvoice_loss: 0.1603 - val_QAmood_loss: 0.1325 - val_QAstate_loss: 0.1424 - val_QAutf8_acc: 0.8523 - val_QApos_acc: 0.9547 - val_QAaspect_acc: 0.9888 - val_QAperson_acc: 0.9699 - val_QAgender_acc: 0.9675 - val_QAnumber_acc: 0.9597 - val_QAcase_acc: 0.9756 - val_QAvoice_acc: 0.9818 - val_QAmood_acc: 0.9860 - val_QAstate_acc: 0.9835\n",
      "Epoch 5/40\n",
      " - 53s - loss: 1.0601 - QAutf8_loss: 0.3436 - QApos_loss: 0.1577 - QAaspect_loss: 0.0369 - QAperson_loss: 0.0859 - QAgender_loss: 0.0951 - QAnumber_loss: 0.1150 - QAcase_loss: 0.0757 - QAvoice_loss: 0.0540 - QAmood_loss: 0.0447 - QAstate_loss: 0.0514 - QAutf8_acc: 0.8877 - QApos_acc: 0.9536 - QAaspect_acc: 0.9873 - QAperson_acc: 0.9702 - QAgender_acc: 0.9673 - QAnumber_acc: 0.9588 - QAcase_acc: 0.9753 - QAvoice_acc: 0.9819 - QAmood_acc: 0.9848 - QAstate_acc: 0.9825 - val_loss: 2.8543 - val_QAutf8_loss: 0.9372 - val_QApos_loss: 0.4176 - val_QAaspect_loss: 0.0997 - val_QAperson_loss: 0.2341 - val_QAgender_loss: 0.2616 - val_QAnumber_loss: 0.3097 - val_QAcase_loss: 0.1949 - val_QAvoice_loss: 0.1471 - val_QAmood_loss: 0.1221 - val_QAstate_loss: 0.1304 - val_QAutf8_acc: 0.8984 - val_QApos_acc: 0.9596 - val_QAaspect_acc: 0.9896 - val_QAperson_acc: 0.9731 - val_QAgender_acc: 0.9699 - val_QAnumber_acc: 0.9647 - val_QAcase_acc: 0.9796 - val_QAvoice_acc: 0.9835 - val_QAmood_acc: 0.9875 - val_QAstate_acc: 0.9856\n",
      "Epoch 6/40\n",
      " - 54s - loss: 0.9354 - QAutf8_loss: 0.2867 - QApos_loss: 0.1409 - QAaspect_loss: 0.0329 - QAperson_loss: 0.0758 - QAgender_loss: 0.0866 - QAnumber_loss: 0.1050 - QAcase_loss: 0.0679 - QAvoice_loss: 0.0507 - QAmood_loss: 0.0412 - QAstate_loss: 0.0477 - QAutf8_acc: 0.9067 - QApos_acc: 0.9585 - QAaspect_acc: 0.9887 - QAperson_acc: 0.9741 - QAgender_acc: 0.9704 - QAnumber_acc: 0.9630 - QAcase_acc: 0.9783 - QAvoice_acc: 0.9831 - QAmood_acc: 0.9862 - QAstate_acc: 0.9835 - val_loss: 2.5792 - val_QAutf8_loss: 0.8027 - val_QApos_loss: 0.3770 - val_QAaspect_loss: 0.0907 - val_QAperson_loss: 0.2129 - val_QAgender_loss: 0.2368 - val_QAnumber_loss: 0.2945 - val_QAcase_loss: 0.1804 - val_QAvoice_loss: 0.1426 - val_QAmood_loss: 0.1158 - val_QAstate_loss: 0.1259 - val_QAutf8_acc: 0.9165 - val_QApos_acc: 0.9627 - val_QAaspect_acc: 0.9903 - val_QAperson_acc: 0.9758 - val_QAgender_acc: 0.9737 - val_QAnumber_acc: 0.9677 - val_QAcase_acc: 0.9795 - val_QAvoice_acc: 0.9835 - val_QAmood_acc: 0.9883 - val_QAstate_acc: 0.9858\n",
      "Epoch 7/40\n",
      " - 53s - loss: 0.8444 - QAutf8_loss: 0.2454 - QApos_loss: 0.1297 - QAaspect_loss: 0.0294 - QAperson_loss: 0.0691 - QAgender_loss: 0.0800 - QAnumber_loss: 0.0978 - QAcase_loss: 0.0620 - QAvoice_loss: 0.0474 - QAmood_loss: 0.0382 - QAstate_loss: 0.0454 - QAutf8_acc: 0.9202 - QApos_acc: 0.9608 - QAaspect_acc: 0.9898 - QAperson_acc: 0.9764 - QAgender_acc: 0.9729 - QAnumber_acc: 0.9664 - QAcase_acc: 0.9801 - QAvoice_acc: 0.9843 - QAmood_acc: 0.9872 - QAstate_acc: 0.9846 - val_loss: 2.3754 - val_QAutf8_loss: 0.7093 - val_QApos_loss: 0.3526 - val_QAaspect_loss: 0.0854 - val_QAperson_loss: 0.2005 - val_QAgender_loss: 0.2254 - val_QAnumber_loss: 0.2769 - val_QAcase_loss: 0.1617 - val_QAvoice_loss: 0.1339 - val_QAmood_loss: 0.1066 - val_QAstate_loss: 0.1231 - val_QAutf8_acc: 0.9274 - val_QApos_acc: 0.9654 - val_QAaspect_acc: 0.9913 - val_QAperson_acc: 0.9774 - val_QAgender_acc: 0.9758 - val_QAnumber_acc: 0.9700 - val_QAcase_acc: 0.9818 - val_QAvoice_acc: 0.9850 - val_QAmood_acc: 0.9889 - val_QAstate_acc: 0.9854\n",
      "Epoch 8/40\n",
      " - 53s - loss: 0.7670 - QAutf8_loss: 0.2115 - QApos_loss: 0.1191 - QAaspect_loss: 0.0272 - QAperson_loss: 0.0639 - QAgender_loss: 0.0743 - QAnumber_loss: 0.0920 - QAcase_loss: 0.0555 - QAvoice_loss: 0.0446 - QAmood_loss: 0.0365 - QAstate_loss: 0.0426 - QAutf8_acc: 0.9309 - QApos_acc: 0.9627 - QAaspect_acc: 0.9904 - QAperson_acc: 0.9782 - QAgender_acc: 0.9747 - QAnumber_acc: 0.9683 - QAcase_acc: 0.9813 - QAvoice_acc: 0.9850 - QAmood_acc: 0.9878 - QAstate_acc: 0.9848 - val_loss: 2.1900 - val_QAutf8_loss: 0.6224 - val_QApos_loss: 0.3272 - val_QAaspect_loss: 0.0793 - val_QAperson_loss: 0.1902 - val_QAgender_loss: 0.2130 - val_QAnumber_loss: 0.2588 - val_QAcase_loss: 0.1493 - val_QAvoice_loss: 0.1297 - val_QAmood_loss: 0.1047 - val_QAstate_loss: 0.1156 - val_QAutf8_acc: 0.9325 - val_QApos_acc: 0.9668 - val_QAaspect_acc: 0.9921 - val_QAperson_acc: 0.9789 - val_QAgender_acc: 0.9773 - val_QAnumber_acc: 0.9714 - val_QAcase_acc: 0.9835 - val_QAvoice_acc: 0.9852 - val_QAmood_acc: 0.9892 - val_QAstate_acc: 0.9869\n",
      "Epoch 9/40\n",
      " - 53s - loss: 0.7125 - QAutf8_loss: 0.1886 - QApos_loss: 0.1111 - QAaspect_loss: 0.0249 - QAperson_loss: 0.0602 - QAgender_loss: 0.0701 - QAnumber_loss: 0.0872 - QAcase_loss: 0.0521 - QAvoice_loss: 0.0426 - QAmood_loss: 0.0345 - QAstate_loss: 0.0413 - QAutf8_acc: 0.9374 - QApos_acc: 0.9652 - QAaspect_acc: 0.9916 - QAperson_acc: 0.9797 - QAgender_acc: 0.9762 - QAnumber_acc: 0.9701 - QAcase_acc: 0.9829 - QAvoice_acc: 0.9852 - QAmood_acc: 0.9885 - QAstate_acc: 0.9860 - val_loss: 2.1114 - val_QAutf8_loss: 0.5918 - val_QApos_loss: 0.3151 - val_QAaspect_loss: 0.0767 - val_QAperson_loss: 0.1830 - val_QAgender_loss: 0.2067 - val_QAnumber_loss: 0.2515 - val_QAcase_loss: 0.1454 - val_QAvoice_loss: 0.1259 - val_QAmood_loss: 0.1009 - val_QAstate_loss: 0.1144 - val_QAutf8_acc: 0.9235 - val_QApos_acc: 0.9677 - val_QAaspect_acc: 0.9917 - val_QAperson_acc: 0.9794 - val_QAgender_acc: 0.9768 - val_QAnumber_acc: 0.9716 - val_QAcase_acc: 0.9844 - val_QAvoice_acc: 0.9863 - val_QAmood_acc: 0.9894 - val_QAstate_acc: 0.9868\n",
      "Epoch 10/40\n",
      " - 53s - loss: 0.6589 - QAutf8_loss: 0.1658 - QApos_loss: 0.1042 - QAaspect_loss: 0.0228 - QAperson_loss: 0.0559 - QAgender_loss: 0.0667 - QAnumber_loss: 0.0818 - QAcase_loss: 0.0491 - QAvoice_loss: 0.0404 - QAmood_loss: 0.0322 - QAstate_loss: 0.0400 - QAutf8_acc: 0.9452 - QApos_acc: 0.9667 - QAaspect_acc: 0.9921 - QAperson_acc: 0.9809 - QAgender_acc: 0.9778 - QAnumber_acc: 0.9717 - QAcase_acc: 0.9837 - QAvoice_acc: 0.9866 - QAmood_acc: 0.9889 - QAstate_acc: 0.9863 - val_loss: 1.9886 - val_QAutf8_loss: 0.5425 - val_QApos_loss: 0.2970 - val_QAaspect_loss: 0.0734 - val_QAperson_loss: 0.1736 - val_QAgender_loss: 0.1974 - val_QAnumber_loss: 0.2413 - val_QAcase_loss: 0.1367 - val_QAvoice_loss: 0.1209 - val_QAmood_loss: 0.0956 - val_QAstate_loss: 0.1101 - val_QAutf8_acc: 0.9407 - val_QApos_acc: 0.9691 - val_QAaspect_acc: 0.9929 - val_QAperson_acc: 0.9800 - val_QAgender_acc: 0.9785 - val_QAnumber_acc: 0.9735 - val_QAcase_acc: 0.9841 - val_QAvoice_acc: 0.9860 - val_QAmood_acc: 0.9903 - val_QAstate_acc: 0.9871\n",
      "Epoch 11/40\n",
      " - 53s - loss: 0.6220 - QAutf8_loss: 0.1481 - QApos_loss: 0.1000 - QAaspect_loss: 0.0217 - QAperson_loss: 0.0532 - QAgender_loss: 0.0632 - QAnumber_loss: 0.0792 - QAcase_loss: 0.0475 - QAvoice_loss: 0.0392 - QAmood_loss: 0.0315 - QAstate_loss: 0.0385 - QAutf8_acc: 0.9510 - QApos_acc: 0.9681 - QAaspect_acc: 0.9923 - QAperson_acc: 0.9819 - QAgender_acc: 0.9790 - QAnumber_acc: 0.9727 - QAcase_acc: 0.9843 - QAvoice_acc: 0.9867 - QAmood_acc: 0.9892 - QAstate_acc: 0.9863 - val_loss: 1.9603 - val_QAutf8_loss: 0.5238 - val_QApos_loss: 0.2970 - val_QAaspect_loss: 0.0722 - val_QAperson_loss: 0.1689 - val_QAgender_loss: 0.1974 - val_QAnumber_loss: 0.2382 - val_QAcase_loss: 0.1352 - val_QAvoice_loss: 0.1223 - val_QAmood_loss: 0.0927 - val_QAstate_loss: 0.1127 - val_QAutf8_acc: 0.9441 - val_QApos_acc: 0.9689 - val_QAaspect_acc: 0.9925 - val_QAperson_acc: 0.9807 - val_QAgender_acc: 0.9797 - val_QAnumber_acc: 0.9732 - val_QAcase_acc: 0.9841 - val_QAvoice_acc: 0.9860 - val_QAmood_acc: 0.9906 - val_QAstate_acc: 0.9864\n",
      "Epoch 12/40\n",
      " - 54s - loss: 0.5739 - QAutf8_loss: 0.1331 - QApos_loss: 0.0930 - QAaspect_loss: 0.0193 - QAperson_loss: 0.0484 - QAgender_loss: 0.0594 - QAnumber_loss: 0.0730 - QAcase_loss: 0.0438 - QAvoice_loss: 0.0372 - QAmood_loss: 0.0296 - QAstate_loss: 0.0372 - QAutf8_acc: 0.9550 - QApos_acc: 0.9704 - QAaspect_acc: 0.9932 - QAperson_acc: 0.9835 - QAgender_acc: 0.9801 - QAnumber_acc: 0.9752 - QAcase_acc: 0.9855 - QAvoice_acc: 0.9871 - QAmood_acc: 0.9900 - QAstate_acc: 0.9872 - val_loss: 1.8552 - val_QAutf8_loss: 0.4858 - val_QApos_loss: 0.2797 - val_QAaspect_loss: 0.0679 - val_QAperson_loss: 0.1660 - val_QAgender_loss: 0.1859 - val_QAnumber_loss: 0.2299 - val_QAcase_loss: 0.1251 - val_QAvoice_loss: 0.1161 - val_QAmood_loss: 0.0901 - val_QAstate_loss: 0.1086 - val_QAutf8_acc: 0.9479 - val_QApos_acc: 0.9702 - val_QAaspect_acc: 0.9928 - val_QAperson_acc: 0.9808 - val_QAgender_acc: 0.9809 - val_QAnumber_acc: 0.9747 - val_QAcase_acc: 0.9855 - val_QAvoice_acc: 0.9862 - val_QAmood_acc: 0.9911 - val_QAstate_acc: 0.9873\n",
      "Epoch 13/40\n",
      " - 54s - loss: 0.5444 - QAutf8_loss: 0.1191 - QApos_loss: 0.0896 - QAaspect_loss: 0.0190 - QAperson_loss: 0.0465 - QAgender_loss: 0.0569 - QAnumber_loss: 0.0707 - QAcase_loss: 0.0411 - QAvoice_loss: 0.0364 - QAmood_loss: 0.0290 - QAstate_loss: 0.0360 - QAutf8_acc: 0.9598 - QApos_acc: 0.9712 - QAaspect_acc: 0.9933 - QAperson_acc: 0.9842 - QAgender_acc: 0.9807 - QAnumber_acc: 0.9762 - QAcase_acc: 0.9862 - QAvoice_acc: 0.9874 - QAmood_acc: 0.9903 - QAstate_acc: 0.9879 - val_loss: 1.8146 - val_QAutf8_loss: 0.4674 - val_QApos_loss: 0.2752 - val_QAaspect_loss: 0.0686 - val_QAperson_loss: 0.1612 - val_QAgender_loss: 0.1825 - val_QAnumber_loss: 0.2233 - val_QAcase_loss: 0.1272 - val_QAvoice_loss: 0.1138 - val_QAmood_loss: 0.0870 - val_QAstate_loss: 0.1085 - val_QAutf8_acc: 0.9525 - val_QApos_acc: 0.9716 - val_QAaspect_acc: 0.9924 - val_QAperson_acc: 0.9815 - val_QAgender_acc: 0.9817 - val_QAnumber_acc: 0.9757 - val_QAcase_acc: 0.9862 - val_QAvoice_acc: 0.9870 - val_QAmood_acc: 0.9913 - val_QAstate_acc: 0.9871\n",
      "Epoch 14/40\n",
      " - 54s - loss: 0.5109 - QAutf8_loss: 0.1085 - QApos_loss: 0.0847 - QAaspect_loss: 0.0167 - QAperson_loss: 0.0440 - QAgender_loss: 0.0540 - QAnumber_loss: 0.0678 - QAcase_loss: 0.0388 - QAvoice_loss: 0.0339 - QAmood_loss: 0.0275 - QAstate_loss: 0.0349 - QAutf8_acc: 0.9630 - QApos_acc: 0.9725 - QAaspect_acc: 0.9942 - QAperson_acc: 0.9849 - QAgender_acc: 0.9817 - QAnumber_acc: 0.9769 - QAcase_acc: 0.9866 - QAvoice_acc: 0.9884 - QAmood_acc: 0.9905 - QAstate_acc: 0.9878 - val_loss: 1.7230 - val_QAutf8_loss: 0.4220 - val_QApos_loss: 0.2672 - val_QAaspect_loss: 0.0632 - val_QAperson_loss: 0.1553 - val_QAgender_loss: 0.1767 - val_QAnumber_loss: 0.2176 - val_QAcase_loss: 0.1194 - val_QAvoice_loss: 0.1095 - val_QAmood_loss: 0.0850 - val_QAstate_loss: 0.1070 - val_QAutf8_acc: 0.9542 - val_QApos_acc: 0.9705 - val_QAaspect_acc: 0.9936 - val_QAperson_acc: 0.9828 - val_QAgender_acc: 0.9826 - val_QAnumber_acc: 0.9761 - val_QAcase_acc: 0.9860 - val_QAvoice_acc: 0.9877 - val_QAmood_acc: 0.9908 - val_QAstate_acc: 0.9870\n",
      "Epoch 15/40\n",
      " - 54s - loss: 0.4920 - QAutf8_loss: 0.1003 - QApos_loss: 0.0815 - QAaspect_loss: 0.0162 - QAperson_loss: 0.0429 - QAgender_loss: 0.0528 - QAnumber_loss: 0.0658 - QAcase_loss: 0.0386 - QAvoice_loss: 0.0333 - QAmood_loss: 0.0270 - QAstate_loss: 0.0336 - QAutf8_acc: 0.9650 - QApos_acc: 0.9731 - QAaspect_acc: 0.9944 - QAperson_acc: 0.9852 - QAgender_acc: 0.9821 - QAnumber_acc: 0.9773 - QAcase_acc: 0.9871 - QAvoice_acc: 0.9887 - QAmood_acc: 0.9903 - QAstate_acc: 0.9882 - val_loss: 1.7842 - val_QAutf8_loss: 0.4272 - val_QApos_loss: 0.2779 - val_QAaspect_loss: 0.0698 - val_QAperson_loss: 0.1614 - val_QAgender_loss: 0.1835 - val_QAnumber_loss: 0.2283 - val_QAcase_loss: 0.1239 - val_QAvoice_loss: 0.1138 - val_QAmood_loss: 0.0858 - val_QAstate_loss: 0.1124 - val_QAutf8_acc: 0.9533 - val_QApos_acc: 0.9707 - val_QAaspect_acc: 0.9928 - val_QAperson_acc: 0.9803 - val_QAgender_acc: 0.9812 - val_QAnumber_acc: 0.9750 - val_QAcase_acc: 0.9852 - val_QAvoice_acc: 0.9867 - val_QAmood_acc: 0.9914 - val_QAstate_acc: 0.9865\n",
      "Epoch 16/40\n",
      " - 54s - loss: 0.4643 - QAutf8_loss: 0.0903 - QApos_loss: 0.0786 - QAaspect_loss: 0.0151 - QAperson_loss: 0.0401 - QAgender_loss: 0.0502 - QAnumber_loss: 0.0632 - QAcase_loss: 0.0363 - QAvoice_loss: 0.0322 - QAmood_loss: 0.0256 - QAstate_loss: 0.0326 - QAutf8_acc: 0.9688 - QApos_acc: 0.9736 - QAaspect_acc: 0.9946 - QAperson_acc: 0.9864 - QAgender_acc: 0.9830 - QAnumber_acc: 0.9781 - QAcase_acc: 0.9878 - QAvoice_acc: 0.9890 - QAmood_acc: 0.9911 - QAstate_acc: 0.9888 - val_loss: 1.7027 - val_QAutf8_loss: 0.4087 - val_QApos_loss: 0.2641 - val_QAaspect_loss: 0.0644 - val_QAperson_loss: 0.1594 - val_QAgender_loss: 0.1759 - val_QAnumber_loss: 0.2167 - val_QAcase_loss: 0.1164 - val_QAvoice_loss: 0.1109 - val_QAmood_loss: 0.0830 - val_QAstate_loss: 0.1032 - val_QAutf8_acc: 0.9587 - val_QApos_acc: 0.9714 - val_QAaspect_acc: 0.9936 - val_QAperson_acc: 0.9812 - val_QAgender_acc: 0.9827 - val_QAnumber_acc: 0.9763 - val_QAcase_acc: 0.9855 - val_QAvoice_acc: 0.9890 - val_QAmood_acc: 0.9915 - val_QAstate_acc: 0.9874\n",
      "Epoch 17/40\n",
      " - 54s - loss: 0.4461 - QAutf8_loss: 0.0861 - QApos_loss: 0.0754 - QAaspect_loss: 0.0143 - QAperson_loss: 0.0389 - QAgender_loss: 0.0484 - QAnumber_loss: 0.0602 - QAcase_loss: 0.0354 - QAvoice_loss: 0.0313 - QAmood_loss: 0.0250 - QAstate_loss: 0.0312 - QAutf8_acc: 0.9698 - QApos_acc: 0.9749 - QAaspect_acc: 0.9951 - QAperson_acc: 0.9870 - QAgender_acc: 0.9837 - QAnumber_acc: 0.9796 - QAcase_acc: 0.9877 - QAvoice_acc: 0.9893 - QAmood_acc: 0.9913 - QAstate_acc: 0.9892 - val_loss: 1.6729 - val_QAutf8_loss: 0.4144 - val_QApos_loss: 0.2595 - val_QAaspect_loss: 0.0618 - val_QAperson_loss: 0.1468 - val_QAgender_loss: 0.1778 - val_QAnumber_loss: 0.2072 - val_QAcase_loss: 0.1155 - val_QAvoice_loss: 0.1086 - val_QAmood_loss: 0.0787 - val_QAstate_loss: 0.1026 - val_QAutf8_acc: 0.9547 - val_QApos_acc: 0.9716 - val_QAaspect_acc: 0.9942 - val_QAperson_acc: 0.9835 - val_QAgender_acc: 0.9830 - val_QAnumber_acc: 0.9781 - val_QAcase_acc: 0.9867 - val_QAvoice_acc: 0.9878 - val_QAmood_acc: 0.9919 - val_QAstate_acc: 0.9870\n",
      "Epoch 18/40\n",
      " - 54s - loss: 0.4339 - QAutf8_loss: 0.0838 - QApos_loss: 0.0752 - QAaspect_loss: 0.0138 - QAperson_loss: 0.0373 - QAgender_loss: 0.0465 - QAnumber_loss: 0.0577 - QAcase_loss: 0.0343 - QAvoice_loss: 0.0300 - QAmood_loss: 0.0240 - QAstate_loss: 0.0312 - QAutf8_acc: 0.9692 - QApos_acc: 0.9748 - QAaspect_acc: 0.9949 - QAperson_acc: 0.9869 - QAgender_acc: 0.9841 - QAnumber_acc: 0.9804 - QAcase_acc: 0.9881 - QAvoice_acc: 0.9894 - QAmood_acc: 0.9913 - QAstate_acc: 0.9891 - val_loss: 1.6096 - val_QAutf8_loss: 0.3905 - val_QApos_loss: 0.2503 - val_QAaspect_loss: 0.0613 - val_QAperson_loss: 0.1410 - val_QAgender_loss: 0.1696 - val_QAnumber_loss: 0.2039 - val_QAcase_loss: 0.1117 - val_QAvoice_loss: 0.1060 - val_QAmood_loss: 0.0766 - val_QAstate_loss: 0.0989 - val_QAutf8_acc: 0.9560 - val_QApos_acc: 0.9732 - val_QAaspect_acc: 0.9939 - val_QAperson_acc: 0.9838 - val_QAgender_acc: 0.9828 - val_QAnumber_acc: 0.9776 - val_QAcase_acc: 0.9874 - val_QAvoice_acc: 0.9887 - val_QAmood_acc: 0.9922 - val_QAstate_acc: 0.9880\n",
      "Epoch 19/40\n",
      " - 54s - loss: 0.4187 - QAutf8_loss: 0.0827 - QApos_loss: 0.0710 - QAaspect_loss: 0.0132 - QAperson_loss: 0.0360 - QAgender_loss: 0.0447 - QAnumber_loss: 0.0554 - QAcase_loss: 0.0329 - QAvoice_loss: 0.0296 - QAmood_loss: 0.0233 - QAstate_loss: 0.0299 - QAutf8_acc: 0.9698 - QApos_acc: 0.9761 - QAaspect_acc: 0.9951 - QAperson_acc: 0.9869 - QAgender_acc: 0.9850 - QAnumber_acc: 0.9815 - QAcase_acc: 0.9884 - QAvoice_acc: 0.9896 - QAmood_acc: 0.9918 - QAstate_acc: 0.9897 - val_loss: 1.5811 - val_QAutf8_loss: 0.3845 - val_QApos_loss: 0.2433 - val_QAaspect_loss: 0.0582 - val_QAperson_loss: 0.1430 - val_QAgender_loss: 0.1670 - val_QAnumber_loss: 0.1992 - val_QAcase_loss: 0.1087 - val_QAvoice_loss: 0.1022 - val_QAmood_loss: 0.0769 - val_QAstate_loss: 0.0981 - val_QAutf8_acc: 0.9538 - val_QApos_acc: 0.9742 - val_QAaspect_acc: 0.9944 - val_QAperson_acc: 0.9840 - val_QAgender_acc: 0.9835 - val_QAnumber_acc: 0.9778 - val_QAcase_acc: 0.9875 - val_QAvoice_acc: 0.9889 - val_QAmood_acc: 0.9915 - val_QAstate_acc: 0.9883\n",
      "Epoch 20/40\n",
      " - 54s - loss: 0.3987 - QAutf8_loss: 0.0759 - QApos_loss: 0.0685 - QAaspect_loss: 0.0124 - QAperson_loss: 0.0340 - QAgender_loss: 0.0434 - QAnumber_loss: 0.0537 - QAcase_loss: 0.0310 - QAvoice_loss: 0.0285 - QAmood_loss: 0.0223 - QAstate_loss: 0.0290 - QAutf8_acc: 0.9719 - QApos_acc: 0.9763 - QAaspect_acc: 0.9955 - QAperson_acc: 0.9888 - QAgender_acc: 0.9852 - QAnumber_acc: 0.9815 - QAcase_acc: 0.9893 - QAvoice_acc: 0.9899 - QAmood_acc: 0.9921 - QAstate_acc: 0.9897 - val_loss: 1.5621 - val_QAutf8_loss: 0.3849 - val_QApos_loss: 0.2369 - val_QAaspect_loss: 0.0546 - val_QAperson_loss: 0.1424 - val_QAgender_loss: 0.1633 - val_QAnumber_loss: 0.2029 - val_QAcase_loss: 0.1053 - val_QAvoice_loss: 0.1010 - val_QAmood_loss: 0.0756 - val_QAstate_loss: 0.0952 - val_QAutf8_acc: 0.9531 - val_QApos_acc: 0.9745 - val_QAaspect_acc: 0.9944 - val_QAperson_acc: 0.9838 - val_QAgender_acc: 0.9836 - val_QAnumber_acc: 0.9781 - val_QAcase_acc: 0.9877 - val_QAvoice_acc: 0.9882 - val_QAmood_acc: 0.9921 - val_QAstate_acc: 0.9884\n",
      "Epoch 21/40\n",
      " - 54s - loss: 0.3852 - QAutf8_loss: 0.0677 - QApos_loss: 0.0680 - QAaspect_loss: 0.0121 - QAperson_loss: 0.0339 - QAgender_loss: 0.0423 - QAnumber_loss: 0.0525 - QAcase_loss: 0.0305 - QAvoice_loss: 0.0278 - QAmood_loss: 0.0220 - QAstate_loss: 0.0283 - QAutf8_acc: 0.9756 - QApos_acc: 0.9767 - QAaspect_acc: 0.9956 - QAperson_acc: 0.9880 - QAgender_acc: 0.9856 - QAnumber_acc: 0.9817 - QAcase_acc: 0.9893 - QAvoice_acc: 0.9906 - QAmood_acc: 0.9920 - QAstate_acc: 0.9900 - val_loss: 1.5344 - val_QAutf8_loss: 0.3492 - val_QApos_loss: 0.2397 - val_QAaspect_loss: 0.0568 - val_QAperson_loss: 0.1426 - val_QAgender_loss: 0.1621 - val_QAnumber_loss: 0.2008 - val_QAcase_loss: 0.1052 - val_QAvoice_loss: 0.1025 - val_QAmood_loss: 0.0768 - val_QAstate_loss: 0.0988 - val_QAutf8_acc: 0.9599 - val_QApos_acc: 0.9733 - val_QAaspect_acc: 0.9945 - val_QAperson_acc: 0.9843 - val_QAgender_acc: 0.9840 - val_QAnumber_acc: 0.9781 - val_QAcase_acc: 0.9880 - val_QAvoice_acc: 0.9883 - val_QAmood_acc: 0.9917 - val_QAstate_acc: 0.9877\n",
      "Epoch 22/40\n",
      " - 54s - loss: 0.3690 - QAutf8_loss: 0.0603 - QApos_loss: 0.0662 - QAaspect_loss: 0.0113 - QAperson_loss: 0.0328 - QAgender_loss: 0.0405 - QAnumber_loss: 0.0521 - QAcase_loss: 0.0294 - QAvoice_loss: 0.0269 - QAmood_loss: 0.0214 - QAstate_loss: 0.0280 - QAutf8_acc: 0.9784 - QApos_acc: 0.9772 - QAaspect_acc: 0.9960 - QAperson_acc: 0.9887 - QAgender_acc: 0.9863 - QAnumber_acc: 0.9824 - QAcase_acc: 0.9897 - QAvoice_acc: 0.9909 - QAmood_acc: 0.9922 - QAstate_acc: 0.9900 - val_loss: 1.5415 - val_QAutf8_loss: 0.3714 - val_QApos_loss: 0.2354 - val_QAaspect_loss: 0.0555 - val_QAperson_loss: 0.1421 - val_QAgender_loss: 0.1621 - val_QAnumber_loss: 0.1978 - val_QAcase_loss: 0.1016 - val_QAvoice_loss: 0.1007 - val_QAmood_loss: 0.0760 - val_QAstate_loss: 0.0988 - val_QAutf8_acc: 0.9609 - val_QApos_acc: 0.9748 - val_QAaspect_acc: 0.9947 - val_QAperson_acc: 0.9839 - val_QAgender_acc: 0.9833 - val_QAnumber_acc: 0.9783 - val_QAcase_acc: 0.9887 - val_QAvoice_acc: 0.9888 - val_QAmood_acc: 0.9922 - val_QAstate_acc: 0.9878\n",
      "Epoch 23/40\n",
      " - 54s - loss: 0.3463 - QAutf8_loss: 0.0516 - QApos_loss: 0.0635 - QAaspect_loss: 0.0107 - QAperson_loss: 0.0305 - QAgender_loss: 0.0389 - QAnumber_loss: 0.0490 - QAcase_loss: 0.0278 - QAvoice_loss: 0.0260 - QAmood_loss: 0.0210 - QAstate_loss: 0.0274 - QAutf8_acc: 0.9815 - QApos_acc: 0.9779 - QAaspect_acc: 0.9961 - QAperson_acc: 0.9891 - QAgender_acc: 0.9866 - QAnumber_acc: 0.9833 - QAcase_acc: 0.9899 - QAvoice_acc: 0.9906 - QAmood_acc: 0.9924 - QAstate_acc: 0.9899 - val_loss: 1.4763 - val_QAutf8_loss: 0.3321 - val_QApos_loss: 0.2334 - val_QAaspect_loss: 0.0533 - val_QAperson_loss: 0.1353 - val_QAgender_loss: 0.1588 - val_QAnumber_loss: 0.1939 - val_QAcase_loss: 0.1039 - val_QAvoice_loss: 0.0963 - val_QAmood_loss: 0.0735 - val_QAstate_loss: 0.0956 - val_QAutf8_acc: 0.9651 - val_QApos_acc: 0.9748 - val_QAaspect_acc: 0.9945 - val_QAperson_acc: 0.9848 - val_QAgender_acc: 0.9842 - val_QAnumber_acc: 0.9783 - val_QAcase_acc: 0.9885 - val_QAvoice_acc: 0.9888 - val_QAmood_acc: 0.9923 - val_QAstate_acc: 0.9880\n",
      "Epoch 24/40\n",
      " - 54s - loss: 0.3363 - QAutf8_loss: 0.0490 - QApos_loss: 0.0624 - QAaspect_loss: 0.0102 - QAperson_loss: 0.0299 - QAgender_loss: 0.0381 - QAnumber_loss: 0.0477 - QAcase_loss: 0.0271 - QAvoice_loss: 0.0257 - QAmood_loss: 0.0200 - QAstate_loss: 0.0261 - QAutf8_acc: 0.9825 - QApos_acc: 0.9781 - QAaspect_acc: 0.9961 - QAperson_acc: 0.9894 - QAgender_acc: 0.9868 - QAnumber_acc: 0.9837 - QAcase_acc: 0.9902 - QAvoice_acc: 0.9909 - QAmood_acc: 0.9925 - QAstate_acc: 0.9904 - val_loss: 1.5251 - val_QAutf8_loss: 0.3482 - val_QApos_loss: 0.2378 - val_QAaspect_loss: 0.0580 - val_QAperson_loss: 0.1450 - val_QAgender_loss: 0.1614 - val_QAnumber_loss: 0.1971 - val_QAcase_loss: 0.1063 - val_QAvoice_loss: 0.1003 - val_QAmood_loss: 0.0738 - val_QAstate_loss: 0.0971 - val_QAutf8_acc: 0.9650 - val_QApos_acc: 0.9745 - val_QAaspect_acc: 0.9943 - val_QAperson_acc: 0.9837 - val_QAgender_acc: 0.9842 - val_QAnumber_acc: 0.9781 - val_QAcase_acc: 0.9878 - val_QAvoice_acc: 0.9891 - val_QAmood_acc: 0.9919 - val_QAstate_acc: 0.9885\n",
      "Epoch 25/40\n",
      " - 54s - loss: 0.3301 - QAutf8_loss: 0.0482 - QApos_loss: 0.0613 - QAaspect_loss: 0.0097 - QAperson_loss: 0.0295 - QAgender_loss: 0.0361 - QAnumber_loss: 0.0465 - QAcase_loss: 0.0272 - QAvoice_loss: 0.0248 - QAmood_loss: 0.0202 - QAstate_loss: 0.0265 - QAutf8_acc: 0.9823 - QApos_acc: 0.9786 - QAaspect_acc: 0.9966 - QAperson_acc: 0.9901 - QAgender_acc: 0.9874 - QAnumber_acc: 0.9843 - QAcase_acc: 0.9904 - QAvoice_acc: 0.9915 - QAmood_acc: 0.9926 - QAstate_acc: 0.9908 - val_loss: 1.5148 - val_QAutf8_loss: 0.3676 - val_QApos_loss: 0.2313 - val_QAaspect_loss: 0.0553 - val_QAperson_loss: 0.1385 - val_QAgender_loss: 0.1605 - val_QAnumber_loss: 0.1923 - val_QAcase_loss: 0.1026 - val_QAvoice_loss: 0.0994 - val_QAmood_loss: 0.0719 - val_QAstate_loss: 0.0955 - val_QAutf8_acc: 0.9598 - val_QApos_acc: 0.9759 - val_QAaspect_acc: 0.9946 - val_QAperson_acc: 0.9839 - val_QAgender_acc: 0.9848 - val_QAnumber_acc: 0.9803 - val_QAcase_acc: 0.9887 - val_QAvoice_acc: 0.9891 - val_QAmood_acc: 0.9920 - val_QAstate_acc: 0.9879\n",
      "Epoch 26/40\n",
      " - 54s - loss: 0.3220 - QAutf8_loss: 0.0461 - QApos_loss: 0.0600 - QAaspect_loss: 0.0093 - QAperson_loss: 0.0282 - QAgender_loss: 0.0361 - QAnumber_loss: 0.0449 - QAcase_loss: 0.0263 - QAvoice_loss: 0.0253 - QAmood_loss: 0.0196 - QAstate_loss: 0.0262 - QAutf8_acc: 0.9827 - QApos_acc: 0.9792 - QAaspect_acc: 0.9967 - QAperson_acc: 0.9901 - QAgender_acc: 0.9877 - QAnumber_acc: 0.9847 - QAcase_acc: 0.9907 - QAvoice_acc: 0.9913 - QAmood_acc: 0.9928 - QAstate_acc: 0.9908 - val_loss: 1.5130 - val_QAutf8_loss: 0.3451 - val_QApos_loss: 0.2385 - val_QAaspect_loss: 0.0542 - val_QAperson_loss: 0.1402 - val_QAgender_loss: 0.1655 - val_QAnumber_loss: 0.1938 - val_QAcase_loss: 0.1060 - val_QAvoice_loss: 0.0969 - val_QAmood_loss: 0.0733 - val_QAstate_loss: 0.0994 - val_QAutf8_acc: 0.9644 - val_QApos_acc: 0.9737 - val_QAaspect_acc: 0.9947 - val_QAperson_acc: 0.9848 - val_QAgender_acc: 0.9832 - val_QAnumber_acc: 0.9791 - val_QAcase_acc: 0.9881 - val_QAvoice_acc: 0.9894 - val_QAmood_acc: 0.9926 - val_QAstate_acc: 0.9881\n",
      "Epoch 27/40\n",
      " - 54s - loss: 0.3173 - QAutf8_loss: 0.0473 - QApos_loss: 0.0592 - QAaspect_loss: 0.0090 - QAperson_loss: 0.0277 - QAgender_loss: 0.0347 - QAnumber_loss: 0.0437 - QAcase_loss: 0.0259 - QAvoice_loss: 0.0248 - QAmood_loss: 0.0196 - QAstate_loss: 0.0255 - QAutf8_acc: 0.9820 - QApos_acc: 0.9794 - QAaspect_acc: 0.9970 - QAperson_acc: 0.9904 - QAgender_acc: 0.9885 - QAnumber_acc: 0.9853 - QAcase_acc: 0.9908 - QAvoice_acc: 0.9917 - QAmood_acc: 0.9930 - QAstate_acc: 0.9912 - val_loss: 1.4795 - val_QAutf8_loss: 0.3326 - val_QApos_loss: 0.2324 - val_QAaspect_loss: 0.0558 - val_QAperson_loss: 0.1385 - val_QAgender_loss: 0.1612 - val_QAnumber_loss: 0.1914 - val_QAcase_loss: 0.1023 - val_QAvoice_loss: 0.0973 - val_QAmood_loss: 0.0730 - val_QAstate_loss: 0.0951 - val_QAutf8_acc: 0.9661 - val_QApos_acc: 0.9756 - val_QAaspect_acc: 0.9946 - val_QAperson_acc: 0.9845 - val_QAgender_acc: 0.9849 - val_QAnumber_acc: 0.9805 - val_QAcase_acc: 0.9888 - val_QAvoice_acc: 0.9890 - val_QAmood_acc: 0.9928 - val_QAstate_acc: 0.9881\n",
      "Epoch 28/40\n",
      " - 54s - loss: 0.3061 - QAutf8_loss: 0.0440 - QApos_loss: 0.0577 - QAaspect_loss: 0.0090 - QAperson_loss: 0.0268 - QAgender_loss: 0.0338 - QAnumber_loss: 0.0430 - QAcase_loss: 0.0245 - QAvoice_loss: 0.0236 - QAmood_loss: 0.0187 - QAstate_loss: 0.0250 - QAutf8_acc: 0.9831 - QApos_acc: 0.9798 - QAaspect_acc: 0.9966 - QAperson_acc: 0.9905 - QAgender_acc: 0.9881 - QAnumber_acc: 0.9852 - QAcase_acc: 0.9912 - QAvoice_acc: 0.9914 - QAmood_acc: 0.9931 - QAstate_acc: 0.9909 - val_loss: 1.4900 - val_QAutf8_loss: 0.3638 - val_QApos_loss: 0.2288 - val_QAaspect_loss: 0.0552 - val_QAperson_loss: 0.1360 - val_QAgender_loss: 0.1560 - val_QAnumber_loss: 0.1862 - val_QAcase_loss: 0.1015 - val_QAvoice_loss: 0.0942 - val_QAmood_loss: 0.0711 - val_QAstate_loss: 0.0971 - val_QAutf8_acc: 0.9656 - val_QApos_acc: 0.9752 - val_QAaspect_acc: 0.9941 - val_QAperson_acc: 0.9851 - val_QAgender_acc: 0.9850 - val_QAnumber_acc: 0.9801 - val_QAcase_acc: 0.9885 - val_QAvoice_acc: 0.9896 - val_QAmood_acc: 0.9918 - val_QAstate_acc: 0.9874\n"
     ]
    }
   ],
   "source": [
    "if not e.LOAD_MODEL:\n",
    "    history = model.fit(data['input'], data['output'],\n",
    "                    batch_size=e.BATCH_SIZE,\n",
    "                    shuffle=False,\n",
    "                    callbacks=[earlyStopping, TestCallback(data['test']), tensorboard],\n",
    "                    epochs=e.EPOCHS,\n",
    "                    verbose=2,\n",
    "                    sample_weight={i:((data[\"output\"][i].argmax(axis=2) > 0).astype(int)*.9)+.1 for i in model.output_names},\n",
    "                    validation_data=data['val'])"
   ]
  },
  {
   "cell_type": "code",
   "execution_count": 386,
   "metadata": {
    "ExecuteTime": {
     "end_time": "2018-08-01T23:56:17.012046Z",
     "start_time": "2018-08-01T23:56:11.548113Z"
    },
    "collapsed": false,
    "deletable": true,
    "editable": true
   },
   "outputs": [],
   "source": [
    "if not e.LOAD_MODEL:\n",
    "    model.save(\"models/\" + e.NAME + \"_{}.keras\".format(e.thedate))"
   ]
  },
  {
   "cell_type": "code",
   "execution_count": 387,
   "metadata": {
    "ExecuteTime": {
     "end_time": "2018-08-01T23:56:17.057627Z",
     "start_time": "2018-08-01T23:56:17.015165Z"
    },
    "collapsed": false,
    "deletable": true,
    "editable": true
   },
   "outputs": [],
   "source": [
    "def calc_accuracy(model,mydata,data_length, debug=True):\n",
    "    preds = [np.argmax(x, axis=-1) for x in model.predict(mydata[0])]\n",
    "    results = pd.DataFrame([], columns=[[\"inputs\"]*2+[\"agg\"]*3+model.output_names*3\n",
    "                                        ,[\"QAwutf8\",\"index\"]\n",
    "                                        +[\"all\",\"utf8\",\"mf\"]\n",
    "                                        +[\"acc\"]*len(model.output_names)\n",
    "                                        +[\"pred\"]*len(model.output_names)\n",
    "                                        +[\"actu\"]*len(model.output_names)])\n",
    "    results.sort_index(axis=1, inplace=True)\n",
    "    for ite in range(data_length):\n",
    "        df2_row = mydata[2].iloc[ite*5]\n",
    "        r = {\n",
    "            (\"inputs\",\"QAwutf8\"): ctable.decode(mydata[0][e.strings_x[0]][ite], calc_argmax=True),\n",
    "            (\"inputs\",\"index\"): str(df2_row[(\"vals\",\"sid\")])+\"-\"+str(df2_row[(\"vals\",\"aid\")])+\"-\"+str(df2_row[(\"vals\",\"wid\")])+\"-\"+str(df2_row[(\"vals\",\"mid\")])\n",
    "        }\n",
    "        for i, v in enumerate(model.output_names):\n",
    "            if v not in e.strings_y:\n",
    "                continue\n",
    "\n",
    "            r[(v,\"acc\")] = (np.argmax(mydata[1][v][ite], axis=-1) == preds[i][ite]).all()\n",
    "            r[(v,\"pred\")] = utf2bw(ctable.decode(preds[i][ite], calc_argmax=False)).strip(\" \") if debug else \"\"\n",
    "            r[(v,\"actu\")] = utf2bw(ctable.decode(mydata[1][v][ite], calc_argmax=True)).strip(\" \") if debug else \"\"\n",
    "\n",
    "        for i, v in enumerate(model.output_names):\n",
    "            if v in e.strings_y:\n",
    "                continue\n",
    "            correct, pred = np.argmax(mydata[1][v][ite], axis=-1), preds[i][ite]\n",
    "            r[(v,\"acc\")] = (correct == pred).all()\n",
    "            r[(v,\"actu\")] = pretty_join2(correct,val[v].columns,v) if debug else \"\"\n",
    "            r[(v,\"pred\")] = pretty_join2(pred,val[v].columns,v) if debug else \"\"\n",
    "        r[(\"agg\",\"all\")] = sum([r[(v,\"acc\")] for i, v in enumerate(model.output_names)]) == len(model.output_names)\n",
    "        r[(\"agg\",\"utf8\")] = sum([r[(v,\"acc\")] for i, v in enumerate(model.output_names) if v != \"QAutf8\" ]) == len([x for i,v in enumerate(model.output_names) if v != \"QAutf8\"])\n",
    "        r[(\"agg\",\"mf\")] = sum([r[(v,\"acc\")] for i, v in enumerate(model.output_names)  if v != \"QAutf8\" and v != \"QApos\" ]) == len([x for i,v in enumerate(model.output_names) if v != \"QApos\"])\n",
    "        results.loc[ite] = r\n",
    "    return results"
   ]
  },
  {
   "cell_type": "code",
   "execution_count": 388,
   "metadata": {
    "ExecuteTime": {
     "end_time": "2018-08-01T23:57:41.291224Z",
     "start_time": "2018-08-01T23:56:17.060081Z"
    },
    "collapsed": false,
    "deletable": true,
    "editable": true
   },
   "outputs": [],
   "source": [
    "result = calc_accuracy(model, [*data[\"test\"],test], len(data[\"test\"][0][e.strings_x[0]]),debug=True)\n",
    "result.to_excel(e.writer,'results')\n",
    "e.writer.save()"
   ]
  },
  {
   "cell_type": "code",
   "execution_count": 389,
   "metadata": {
    "ExecuteTime": {
     "end_time": "2018-08-01T23:57:41.297102Z",
     "start_time": "2018-08-01T23:57:41.293739Z"
    },
    "collapsed": false,
    "deletable": true,
    "editable": true
   },
   "outputs": [],
   "source": [
    "e.results[e.NAME][\"results_test\"]=result"
   ]
  },
  {
   "cell_type": "code",
   "execution_count": 390,
   "metadata": {
    "ExecuteTime": {
     "end_time": "2018-08-01T23:57:41.334677Z",
     "start_time": "2018-08-01T23:57:41.299471Z"
    },
    "collapsed": false,
    "deletable": true,
    "editable": true
   },
   "outputs": [
    {
     "data": {
      "text/html": [
       "<div>\n",
       "<style scoped>\n",
       "    .dataframe tbody tr th:only-of-type {\n",
       "        vertical-align: middle;\n",
       "    }\n",
       "\n",
       "    .dataframe tbody tr th {\n",
       "        vertical-align: top;\n",
       "    }\n",
       "\n",
       "    .dataframe thead tr th {\n",
       "        text-align: left;\n",
       "    }\n",
       "</style>\n",
       "<table border=\"1\" class=\"dataframe\">\n",
       "  <thead>\n",
       "    <tr>\n",
       "      <th></th>\n",
       "      <th>QAaspect</th>\n",
       "      <th>QAcase</th>\n",
       "      <th>QAgender</th>\n",
       "      <th>QAmood</th>\n",
       "      <th>QAnumber</th>\n",
       "      <th>QAperson</th>\n",
       "      <th>QApos</th>\n",
       "      <th>QAstate</th>\n",
       "      <th>QAvoice</th>\n",
       "      <th>QAutf8</th>\n",
       "      <th colspan=\"3\" halign=\"left\">agg</th>\n",
       "    </tr>\n",
       "    <tr>\n",
       "      <th></th>\n",
       "      <th>acc</th>\n",
       "      <th>acc</th>\n",
       "      <th>acc</th>\n",
       "      <th>acc</th>\n",
       "      <th>acc</th>\n",
       "      <th>acc</th>\n",
       "      <th>acc</th>\n",
       "      <th>acc</th>\n",
       "      <th>acc</th>\n",
       "      <th>acc</th>\n",
       "      <th>all</th>\n",
       "      <th>mf</th>\n",
       "      <th>utf8</th>\n",
       "    </tr>\n",
       "  </thead>\n",
       "  <tbody>\n",
       "    <tr>\n",
       "      <th>comp_end_baseline_1_test</th>\n",
       "      <td>0.970917</td>\n",
       "      <td>0.940492</td>\n",
       "      <td>0.919016</td>\n",
       "      <td>0.957942</td>\n",
       "      <td>0.899776</td>\n",
       "      <td>0.939597</td>\n",
       "      <td>0.878747</td>\n",
       "      <td>0.926622</td>\n",
       "      <td>0.944072</td>\n",
       "      <td>0.725727</td>\n",
       "      <td>0.570470</td>\n",
       "      <td>0.0</td>\n",
       "      <td>0.688591</td>\n",
       "    </tr>\n",
       "    <tr>\n",
       "      <th>comp_end_baseline_1_val</th>\n",
       "      <td>0.969589</td>\n",
       "      <td>0.933363</td>\n",
       "      <td>0.911896</td>\n",
       "      <td>0.953488</td>\n",
       "      <td>0.900268</td>\n",
       "      <td>0.936494</td>\n",
       "      <td>0.877460</td>\n",
       "      <td>0.930233</td>\n",
       "      <td>0.944544</td>\n",
       "      <td>0.738819</td>\n",
       "      <td>0.583184</td>\n",
       "      <td>0.0</td>\n",
       "      <td>0.682469</td>\n",
       "    </tr>\n",
       "    <tr>\n",
       "      <th>comp_end_MX_1_test</th>\n",
       "      <td>0.976286</td>\n",
       "      <td>0.955705</td>\n",
       "      <td>0.939597</td>\n",
       "      <td>0.965101</td>\n",
       "      <td>0.924385</td>\n",
       "      <td>0.950336</td>\n",
       "      <td>0.897539</td>\n",
       "      <td>0.939597</td>\n",
       "      <td>0.954810</td>\n",
       "      <td>0.725280</td>\n",
       "      <td>0.585682</td>\n",
       "      <td>0.0</td>\n",
       "      <td>0.735123</td>\n",
       "    </tr>\n",
       "    <tr>\n",
       "      <th>comp_end_MX_1_val</th>\n",
       "      <td>0.976297</td>\n",
       "      <td>0.952147</td>\n",
       "      <td>0.930233</td>\n",
       "      <td>0.964669</td>\n",
       "      <td>0.916369</td>\n",
       "      <td>0.946333</td>\n",
       "      <td>0.894454</td>\n",
       "      <td>0.941413</td>\n",
       "      <td>0.954830</td>\n",
       "      <td>0.738372</td>\n",
       "      <td>0.608676</td>\n",
       "      <td>0.0</td>\n",
       "      <td>0.740608</td>\n",
       "    </tr>\n",
       "    <tr>\n",
       "      <th>comp_end_FA_1_test</th>\n",
       "      <td>0.975391</td>\n",
       "      <td>0.948993</td>\n",
       "      <td>0.925727</td>\n",
       "      <td>0.960179</td>\n",
       "      <td>0.912752</td>\n",
       "      <td>0.940492</td>\n",
       "      <td>0.888591</td>\n",
       "      <td>0.936018</td>\n",
       "      <td>0.951678</td>\n",
       "      <td>0.727964</td>\n",
       "      <td>0.582103</td>\n",
       "      <td>0.0</td>\n",
       "      <td>0.711857</td>\n",
       "    </tr>\n",
       "    <tr>\n",
       "      <th>comp_end_FA_1_val</th>\n",
       "      <td>0.976744</td>\n",
       "      <td>0.949016</td>\n",
       "      <td>0.923524</td>\n",
       "      <td>0.959302</td>\n",
       "      <td>0.919499</td>\n",
       "      <td>0.940966</td>\n",
       "      <td>0.892665</td>\n",
       "      <td>0.944991</td>\n",
       "      <td>0.953488</td>\n",
       "      <td>0.735242</td>\n",
       "      <td>0.610912</td>\n",
       "      <td>0.0</td>\n",
       "      <td>0.729428</td>\n",
       "    </tr>\n",
       "    <tr>\n",
       "      <th>comp_end_AM_1_test</th>\n",
       "      <td>0.967785</td>\n",
       "      <td>0.942282</td>\n",
       "      <td>0.928859</td>\n",
       "      <td>0.961969</td>\n",
       "      <td>0.908725</td>\n",
       "      <td>0.935123</td>\n",
       "      <td>0.883669</td>\n",
       "      <td>0.928859</td>\n",
       "      <td>0.949888</td>\n",
       "      <td>0.734676</td>\n",
       "      <td>0.580313</td>\n",
       "      <td>0.0</td>\n",
       "      <td>0.705145</td>\n",
       "    </tr>\n",
       "    <tr>\n",
       "      <th>comp_end_AM_1_val</th>\n",
       "      <td>0.972272</td>\n",
       "      <td>0.941413</td>\n",
       "      <td>0.923077</td>\n",
       "      <td>0.957961</td>\n",
       "      <td>0.907871</td>\n",
       "      <td>0.938730</td>\n",
       "      <td>0.888193</td>\n",
       "      <td>0.936494</td>\n",
       "      <td>0.953936</td>\n",
       "      <td>0.750447</td>\n",
       "      <td>0.602862</td>\n",
       "      <td>0.0</td>\n",
       "      <td>0.708855</td>\n",
       "    </tr>\n",
       "    <tr>\n",
       "      <th>comp_end_ST_1_test</th>\n",
       "      <td>0.965996</td>\n",
       "      <td>0.946756</td>\n",
       "      <td>0.930649</td>\n",
       "      <td>0.960626</td>\n",
       "      <td>0.912752</td>\n",
       "      <td>0.934228</td>\n",
       "      <td>0.878747</td>\n",
       "      <td>0.928412</td>\n",
       "      <td>0.945414</td>\n",
       "      <td>0.691275</td>\n",
       "      <td>0.551678</td>\n",
       "      <td>0.0</td>\n",
       "      <td>0.704251</td>\n",
       "    </tr>\n",
       "    <tr>\n",
       "      <th>comp_end_ST_1_val</th>\n",
       "      <td>0.963775</td>\n",
       "      <td>0.936941</td>\n",
       "      <td>0.919946</td>\n",
       "      <td>0.956619</td>\n",
       "      <td>0.906082</td>\n",
       "      <td>0.940072</td>\n",
       "      <td>0.879249</td>\n",
       "      <td>0.937388</td>\n",
       "      <td>0.945886</td>\n",
       "      <td>0.703041</td>\n",
       "      <td>0.579159</td>\n",
       "      <td>0.0</td>\n",
       "      <td>0.704383</td>\n",
       "    </tr>\n",
       "    <tr>\n",
       "      <th>comp_end_ST_AM_FA_1_test</th>\n",
       "      <td>0.970470</td>\n",
       "      <td>0.952125</td>\n",
       "      <td>0.931096</td>\n",
       "      <td>0.960626</td>\n",
       "      <td>0.920358</td>\n",
       "      <td>0.937808</td>\n",
       "      <td>0.880089</td>\n",
       "      <td>0.935123</td>\n",
       "      <td>0.945414</td>\n",
       "      <td>0.726622</td>\n",
       "      <td>0.576286</td>\n",
       "      <td>0.0</td>\n",
       "      <td>0.716331</td>\n",
       "    </tr>\n",
       "  </tbody>\n",
       "</table>\n",
       "</div>"
      ],
      "text/plain": [
       "                          QAaspect    QAcase  QAgender    QAmood  QAnumber  \\\n",
       "                               acc       acc       acc       acc       acc   \n",
       "comp_end_baseline_1_test  0.970917  0.940492  0.919016  0.957942  0.899776   \n",
       "comp_end_baseline_1_val   0.969589  0.933363  0.911896  0.953488  0.900268   \n",
       "comp_end_MX_1_test        0.976286  0.955705  0.939597  0.965101  0.924385   \n",
       "comp_end_MX_1_val         0.976297  0.952147  0.930233  0.964669  0.916369   \n",
       "comp_end_FA_1_test        0.975391  0.948993  0.925727  0.960179  0.912752   \n",
       "comp_end_FA_1_val         0.976744  0.949016  0.923524  0.959302  0.919499   \n",
       "comp_end_AM_1_test        0.967785  0.942282  0.928859  0.961969  0.908725   \n",
       "comp_end_AM_1_val         0.972272  0.941413  0.923077  0.957961  0.907871   \n",
       "comp_end_ST_1_test        0.965996  0.946756  0.930649  0.960626  0.912752   \n",
       "comp_end_ST_1_val         0.963775  0.936941  0.919946  0.956619  0.906082   \n",
       "comp_end_ST_AM_FA_1_test  0.970470  0.952125  0.931096  0.960626  0.920358   \n",
       "\n",
       "                          QAperson     QApos   QAstate   QAvoice    QAutf8  \\\n",
       "                               acc       acc       acc       acc       acc   \n",
       "comp_end_baseline_1_test  0.939597  0.878747  0.926622  0.944072  0.725727   \n",
       "comp_end_baseline_1_val   0.936494  0.877460  0.930233  0.944544  0.738819   \n",
       "comp_end_MX_1_test        0.950336  0.897539  0.939597  0.954810  0.725280   \n",
       "comp_end_MX_1_val         0.946333  0.894454  0.941413  0.954830  0.738372   \n",
       "comp_end_FA_1_test        0.940492  0.888591  0.936018  0.951678  0.727964   \n",
       "comp_end_FA_1_val         0.940966  0.892665  0.944991  0.953488  0.735242   \n",
       "comp_end_AM_1_test        0.935123  0.883669  0.928859  0.949888  0.734676   \n",
       "comp_end_AM_1_val         0.938730  0.888193  0.936494  0.953936  0.750447   \n",
       "comp_end_ST_1_test        0.934228  0.878747  0.928412  0.945414  0.691275   \n",
       "comp_end_ST_1_val         0.940072  0.879249  0.937388  0.945886  0.703041   \n",
       "comp_end_ST_AM_FA_1_test  0.937808  0.880089  0.935123  0.945414  0.726622   \n",
       "\n",
       "                               agg                 \n",
       "                               all   mf      utf8  \n",
       "comp_end_baseline_1_test  0.570470  0.0  0.688591  \n",
       "comp_end_baseline_1_val   0.583184  0.0  0.682469  \n",
       "comp_end_MX_1_test        0.585682  0.0  0.735123  \n",
       "comp_end_MX_1_val         0.608676  0.0  0.740608  \n",
       "comp_end_FA_1_test        0.582103  0.0  0.711857  \n",
       "comp_end_FA_1_val         0.610912  0.0  0.729428  \n",
       "comp_end_AM_1_test        0.580313  0.0  0.705145  \n",
       "comp_end_AM_1_val         0.602862  0.0  0.708855  \n",
       "comp_end_ST_1_test        0.551678  0.0  0.704251  \n",
       "comp_end_ST_1_val         0.579159  0.0  0.704383  \n",
       "comp_end_ST_AM_FA_1_test  0.576286  0.0  0.716331  "
      ]
     },
     "execution_count": 390,
     "metadata": {},
     "output_type": "execute_result"
    }
   ],
   "source": [
    "r = {x: np.average(result[x].values.astype(int),axis=0) if x in result.columns else 0 for x in list(accuracies.columns)}\n",
    "\n",
    "accuracies.loc[e.NAME+\"_test\"] = r\n",
    "accuracies\n"
   ]
  },
  {
   "cell_type": "code",
   "execution_count": 391,
   "metadata": {
    "ExecuteTime": {
     "end_time": "2018-08-01T23:59:06.262327Z",
     "start_time": "2018-08-01T23:57:41.336808Z"
    },
    "collapsed": true,
    "deletable": true,
    "editable": true
   },
   "outputs": [],
   "source": [
    "result = calc_accuracy(model, [data[\"val\"][0],data[\"val\"][1],val], len(data[\"val\"][0][e.strings_x[0]]),debug=True)\n",
    "result.to_excel(e.writer,'results_val')\n",
    "e.writer.save()"
   ]
  },
  {
   "cell_type": "code",
   "execution_count": 392,
   "metadata": {
    "ExecuteTime": {
     "end_time": "2018-08-01T23:59:06.267953Z",
     "start_time": "2018-08-01T23:59:06.264585Z"
    },
    "collapsed": false,
    "deletable": true,
    "editable": true
   },
   "outputs": [],
   "source": [
    "e.results[e.NAME][\"results_val\"]=result"
   ]
  },
  {
   "cell_type": "code",
   "execution_count": 393,
   "metadata": {
    "ExecuteTime": {
     "end_time": "2018-08-01T23:59:06.307512Z",
     "start_time": "2018-08-01T23:59:06.270809Z"
    },
    "collapsed": false,
    "deletable": true,
    "editable": true,
    "scrolled": false
   },
   "outputs": [
    {
     "data": {
      "text/html": [
       "<div>\n",
       "<style scoped>\n",
       "    .dataframe tbody tr th:only-of-type {\n",
       "        vertical-align: middle;\n",
       "    }\n",
       "\n",
       "    .dataframe tbody tr th {\n",
       "        vertical-align: top;\n",
       "    }\n",
       "\n",
       "    .dataframe thead tr th {\n",
       "        text-align: left;\n",
       "    }\n",
       "</style>\n",
       "<table border=\"1\" class=\"dataframe\">\n",
       "  <thead>\n",
       "    <tr>\n",
       "      <th></th>\n",
       "      <th>QAaspect</th>\n",
       "      <th>QAcase</th>\n",
       "      <th>QAgender</th>\n",
       "      <th>QAmood</th>\n",
       "      <th>QAnumber</th>\n",
       "      <th>QAperson</th>\n",
       "      <th>QApos</th>\n",
       "      <th>QAstate</th>\n",
       "      <th>QAvoice</th>\n",
       "      <th>QAutf8</th>\n",
       "      <th colspan=\"3\" halign=\"left\">agg</th>\n",
       "    </tr>\n",
       "    <tr>\n",
       "      <th></th>\n",
       "      <th>acc</th>\n",
       "      <th>acc</th>\n",
       "      <th>acc</th>\n",
       "      <th>acc</th>\n",
       "      <th>acc</th>\n",
       "      <th>acc</th>\n",
       "      <th>acc</th>\n",
       "      <th>acc</th>\n",
       "      <th>acc</th>\n",
       "      <th>acc</th>\n",
       "      <th>all</th>\n",
       "      <th>mf</th>\n",
       "      <th>utf8</th>\n",
       "    </tr>\n",
       "  </thead>\n",
       "  <tbody>\n",
       "    <tr>\n",
       "      <th>comp_end_baseline_1_test</th>\n",
       "      <td>0.970917</td>\n",
       "      <td>0.940492</td>\n",
       "      <td>0.919016</td>\n",
       "      <td>0.957942</td>\n",
       "      <td>0.899776</td>\n",
       "      <td>0.939597</td>\n",
       "      <td>0.878747</td>\n",
       "      <td>0.926622</td>\n",
       "      <td>0.944072</td>\n",
       "      <td>0.725727</td>\n",
       "      <td>0.570470</td>\n",
       "      <td>0.0</td>\n",
       "      <td>0.688591</td>\n",
       "    </tr>\n",
       "    <tr>\n",
       "      <th>comp_end_baseline_1_val</th>\n",
       "      <td>0.969589</td>\n",
       "      <td>0.933363</td>\n",
       "      <td>0.911896</td>\n",
       "      <td>0.953488</td>\n",
       "      <td>0.900268</td>\n",
       "      <td>0.936494</td>\n",
       "      <td>0.877460</td>\n",
       "      <td>0.930233</td>\n",
       "      <td>0.944544</td>\n",
       "      <td>0.738819</td>\n",
       "      <td>0.583184</td>\n",
       "      <td>0.0</td>\n",
       "      <td>0.682469</td>\n",
       "    </tr>\n",
       "    <tr>\n",
       "      <th>comp_end_MX_1_test</th>\n",
       "      <td>0.976286</td>\n",
       "      <td>0.955705</td>\n",
       "      <td>0.939597</td>\n",
       "      <td>0.965101</td>\n",
       "      <td>0.924385</td>\n",
       "      <td>0.950336</td>\n",
       "      <td>0.897539</td>\n",
       "      <td>0.939597</td>\n",
       "      <td>0.954810</td>\n",
       "      <td>0.725280</td>\n",
       "      <td>0.585682</td>\n",
       "      <td>0.0</td>\n",
       "      <td>0.735123</td>\n",
       "    </tr>\n",
       "    <tr>\n",
       "      <th>comp_end_MX_1_val</th>\n",
       "      <td>0.976297</td>\n",
       "      <td>0.952147</td>\n",
       "      <td>0.930233</td>\n",
       "      <td>0.964669</td>\n",
       "      <td>0.916369</td>\n",
       "      <td>0.946333</td>\n",
       "      <td>0.894454</td>\n",
       "      <td>0.941413</td>\n",
       "      <td>0.954830</td>\n",
       "      <td>0.738372</td>\n",
       "      <td>0.608676</td>\n",
       "      <td>0.0</td>\n",
       "      <td>0.740608</td>\n",
       "    </tr>\n",
       "    <tr>\n",
       "      <th>comp_end_FA_1_test</th>\n",
       "      <td>0.975391</td>\n",
       "      <td>0.948993</td>\n",
       "      <td>0.925727</td>\n",
       "      <td>0.960179</td>\n",
       "      <td>0.912752</td>\n",
       "      <td>0.940492</td>\n",
       "      <td>0.888591</td>\n",
       "      <td>0.936018</td>\n",
       "      <td>0.951678</td>\n",
       "      <td>0.727964</td>\n",
       "      <td>0.582103</td>\n",
       "      <td>0.0</td>\n",
       "      <td>0.711857</td>\n",
       "    </tr>\n",
       "    <tr>\n",
       "      <th>comp_end_FA_1_val</th>\n",
       "      <td>0.976744</td>\n",
       "      <td>0.949016</td>\n",
       "      <td>0.923524</td>\n",
       "      <td>0.959302</td>\n",
       "      <td>0.919499</td>\n",
       "      <td>0.940966</td>\n",
       "      <td>0.892665</td>\n",
       "      <td>0.944991</td>\n",
       "      <td>0.953488</td>\n",
       "      <td>0.735242</td>\n",
       "      <td>0.610912</td>\n",
       "      <td>0.0</td>\n",
       "      <td>0.729428</td>\n",
       "    </tr>\n",
       "    <tr>\n",
       "      <th>comp_end_AM_1_test</th>\n",
       "      <td>0.967785</td>\n",
       "      <td>0.942282</td>\n",
       "      <td>0.928859</td>\n",
       "      <td>0.961969</td>\n",
       "      <td>0.908725</td>\n",
       "      <td>0.935123</td>\n",
       "      <td>0.883669</td>\n",
       "      <td>0.928859</td>\n",
       "      <td>0.949888</td>\n",
       "      <td>0.734676</td>\n",
       "      <td>0.580313</td>\n",
       "      <td>0.0</td>\n",
       "      <td>0.705145</td>\n",
       "    </tr>\n",
       "    <tr>\n",
       "      <th>comp_end_AM_1_val</th>\n",
       "      <td>0.972272</td>\n",
       "      <td>0.941413</td>\n",
       "      <td>0.923077</td>\n",
       "      <td>0.957961</td>\n",
       "      <td>0.907871</td>\n",
       "      <td>0.938730</td>\n",
       "      <td>0.888193</td>\n",
       "      <td>0.936494</td>\n",
       "      <td>0.953936</td>\n",
       "      <td>0.750447</td>\n",
       "      <td>0.602862</td>\n",
       "      <td>0.0</td>\n",
       "      <td>0.708855</td>\n",
       "    </tr>\n",
       "    <tr>\n",
       "      <th>comp_end_ST_1_test</th>\n",
       "      <td>0.965996</td>\n",
       "      <td>0.946756</td>\n",
       "      <td>0.930649</td>\n",
       "      <td>0.960626</td>\n",
       "      <td>0.912752</td>\n",
       "      <td>0.934228</td>\n",
       "      <td>0.878747</td>\n",
       "      <td>0.928412</td>\n",
       "      <td>0.945414</td>\n",
       "      <td>0.691275</td>\n",
       "      <td>0.551678</td>\n",
       "      <td>0.0</td>\n",
       "      <td>0.704251</td>\n",
       "    </tr>\n",
       "    <tr>\n",
       "      <th>comp_end_ST_1_val</th>\n",
       "      <td>0.963775</td>\n",
       "      <td>0.936941</td>\n",
       "      <td>0.919946</td>\n",
       "      <td>0.956619</td>\n",
       "      <td>0.906082</td>\n",
       "      <td>0.940072</td>\n",
       "      <td>0.879249</td>\n",
       "      <td>0.937388</td>\n",
       "      <td>0.945886</td>\n",
       "      <td>0.703041</td>\n",
       "      <td>0.579159</td>\n",
       "      <td>0.0</td>\n",
       "      <td>0.704383</td>\n",
       "    </tr>\n",
       "    <tr>\n",
       "      <th>comp_end_ST_AM_FA_1_test</th>\n",
       "      <td>0.970470</td>\n",
       "      <td>0.952125</td>\n",
       "      <td>0.931096</td>\n",
       "      <td>0.960626</td>\n",
       "      <td>0.920358</td>\n",
       "      <td>0.937808</td>\n",
       "      <td>0.880089</td>\n",
       "      <td>0.935123</td>\n",
       "      <td>0.945414</td>\n",
       "      <td>0.726622</td>\n",
       "      <td>0.576286</td>\n",
       "      <td>0.0</td>\n",
       "      <td>0.716331</td>\n",
       "    </tr>\n",
       "    <tr>\n",
       "      <th>comp_end_ST_AM_FA_1_val</th>\n",
       "      <td>0.971825</td>\n",
       "      <td>0.948122</td>\n",
       "      <td>0.932469</td>\n",
       "      <td>0.959750</td>\n",
       "      <td>0.915474</td>\n",
       "      <td>0.940072</td>\n",
       "      <td>0.889088</td>\n",
       "      <td>0.938283</td>\n",
       "      <td>0.949463</td>\n",
       "      <td>0.740608</td>\n",
       "      <td>0.606887</td>\n",
       "      <td>0.0</td>\n",
       "      <td>0.725403</td>\n",
       "    </tr>\n",
       "  </tbody>\n",
       "</table>\n",
       "</div>"
      ],
      "text/plain": [
       "                          QAaspect    QAcase  QAgender    QAmood  QAnumber  \\\n",
       "                               acc       acc       acc       acc       acc   \n",
       "comp_end_baseline_1_test  0.970917  0.940492  0.919016  0.957942  0.899776   \n",
       "comp_end_baseline_1_val   0.969589  0.933363  0.911896  0.953488  0.900268   \n",
       "comp_end_MX_1_test        0.976286  0.955705  0.939597  0.965101  0.924385   \n",
       "comp_end_MX_1_val         0.976297  0.952147  0.930233  0.964669  0.916369   \n",
       "comp_end_FA_1_test        0.975391  0.948993  0.925727  0.960179  0.912752   \n",
       "comp_end_FA_1_val         0.976744  0.949016  0.923524  0.959302  0.919499   \n",
       "comp_end_AM_1_test        0.967785  0.942282  0.928859  0.961969  0.908725   \n",
       "comp_end_AM_1_val         0.972272  0.941413  0.923077  0.957961  0.907871   \n",
       "comp_end_ST_1_test        0.965996  0.946756  0.930649  0.960626  0.912752   \n",
       "comp_end_ST_1_val         0.963775  0.936941  0.919946  0.956619  0.906082   \n",
       "comp_end_ST_AM_FA_1_test  0.970470  0.952125  0.931096  0.960626  0.920358   \n",
       "comp_end_ST_AM_FA_1_val   0.971825  0.948122  0.932469  0.959750  0.915474   \n",
       "\n",
       "                          QAperson     QApos   QAstate   QAvoice    QAutf8  \\\n",
       "                               acc       acc       acc       acc       acc   \n",
       "comp_end_baseline_1_test  0.939597  0.878747  0.926622  0.944072  0.725727   \n",
       "comp_end_baseline_1_val   0.936494  0.877460  0.930233  0.944544  0.738819   \n",
       "comp_end_MX_1_test        0.950336  0.897539  0.939597  0.954810  0.725280   \n",
       "comp_end_MX_1_val         0.946333  0.894454  0.941413  0.954830  0.738372   \n",
       "comp_end_FA_1_test        0.940492  0.888591  0.936018  0.951678  0.727964   \n",
       "comp_end_FA_1_val         0.940966  0.892665  0.944991  0.953488  0.735242   \n",
       "comp_end_AM_1_test        0.935123  0.883669  0.928859  0.949888  0.734676   \n",
       "comp_end_AM_1_val         0.938730  0.888193  0.936494  0.953936  0.750447   \n",
       "comp_end_ST_1_test        0.934228  0.878747  0.928412  0.945414  0.691275   \n",
       "comp_end_ST_1_val         0.940072  0.879249  0.937388  0.945886  0.703041   \n",
       "comp_end_ST_AM_FA_1_test  0.937808  0.880089  0.935123  0.945414  0.726622   \n",
       "comp_end_ST_AM_FA_1_val   0.940072  0.889088  0.938283  0.949463  0.740608   \n",
       "\n",
       "                               agg                 \n",
       "                               all   mf      utf8  \n",
       "comp_end_baseline_1_test  0.570470  0.0  0.688591  \n",
       "comp_end_baseline_1_val   0.583184  0.0  0.682469  \n",
       "comp_end_MX_1_test        0.585682  0.0  0.735123  \n",
       "comp_end_MX_1_val         0.608676  0.0  0.740608  \n",
       "comp_end_FA_1_test        0.582103  0.0  0.711857  \n",
       "comp_end_FA_1_val         0.610912  0.0  0.729428  \n",
       "comp_end_AM_1_test        0.580313  0.0  0.705145  \n",
       "comp_end_AM_1_val         0.602862  0.0  0.708855  \n",
       "comp_end_ST_1_test        0.551678  0.0  0.704251  \n",
       "comp_end_ST_1_val         0.579159  0.0  0.704383  \n",
       "comp_end_ST_AM_FA_1_test  0.576286  0.0  0.716331  \n",
       "comp_end_ST_AM_FA_1_val   0.606887  0.0  0.725403  "
      ]
     },
     "execution_count": 393,
     "metadata": {},
     "output_type": "execute_result"
    }
   ],
   "source": [
    "r = {x: np.average(result[x].values.astype(int),axis=0) if x in result.columns else 0 for x in list(accuracies.columns)}\n",
    "\n",
    "accuracies.loc[e.NAME+\"_val\"] = r\n",
    "accuracies\n"
   ]
  },
  {
   "cell_type": "code",
   "execution_count": 394,
   "metadata": {
    "ExecuteTime": {
     "end_time": "2018-08-01T23:59:06.333681Z",
     "start_time": "2018-08-01T23:59:06.310005Z"
    },
    "collapsed": true,
    "deletable": true,
    "editable": true
   },
   "outputs": [],
   "source": [
    "accuracies.to_excel(writer_all,'acc')\n",
    "writer_all.save()"
   ]
  },
  {
   "cell_type": "code",
   "execution_count": 395,
   "metadata": {
    "ExecuteTime": {
     "end_time": "2018-08-01T23:59:06.616141Z",
     "start_time": "2018-08-01T23:59:06.335981Z"
    },
    "collapsed": false,
    "deletable": true,
    "editable": true
   },
   "outputs": [
    {
     "data": {
      "image/png": "[encoded data removed]",
      "text/plain": [
       "<Figure size 432x288 with 1 Axes>"
      ]
     },
     "metadata": {},
     "output_type": "display_data"
    }
   ],
   "source": [
    "%matplotlib inline\n",
    "import matplotlib.pyplot as plt\n",
    "\n",
    "fig = plt.figure()\n",
    "plt.plot(history.history[\"loss\"])\n",
    "plt.plot(history.history['val_loss'])\n",
    "plt.plot(history.history['test_loss'])\n",
    "plt.title('model overall loss')\n",
    "plt.ylabel('loss')\n",
    "plt.xlabel('epoch')\n",
    "plt.legend(['train', 'val', 'test'], loc='upper right')\n",
    "plt.savefig('plots/model_overall_loss' +\n",
    "            e.NAME + \"_{}\".format(e.thedate) + '.png')\n",
    "plt.close(fig)\n",
    "\n",
    "# plt.show()\n",
    "\n",
    "\n",
    "# In[471]:\n",
    "\n",
    "# summarize history for loss\n",
    "plt.plot(history.history[\"train_acc\"])\n",
    "plt.plot(history.history['val_acc'])\n",
    "plt.plot(history.history['test_acc'])\n",
    "plt.title('model average accuracy')\n",
    "plt.ylabel('accuracy')\n",
    "plt.xlabel('epoch')\n",
    "plt.legend([x +\" = \"+ str(round(history.history[x+'_acc'][-1]*100,2)) for x in ['train', 'val', 'test']], loc='lower right')\n",
    "# for i, x in enumerate(['train', 'val', 'test']):\n",
    "#     plt.annotate(str(round(history.history[x+'_acc'][-1]*100,2)),\n",
    "#                  xy=(len(history.history[x+'_acc']), history.history[x+'_acc'][-1]), \n",
    "#                  textcoords='figure pixels', \n",
    "#                  xytext=(-20,-10))\n",
    "plt.savefig('plots/model_average_accuracy' +\n",
    "            e.NAME + \"_{}\".format(e.thedate) + '.png')\n"
   ]
  },
  {
   "cell_type": "code",
   "execution_count": 396,
   "metadata": {
    "ExecuteTime": {
     "end_time": "2018-08-01T23:59:06.795052Z",
     "start_time": "2018-08-01T23:59:06.618453Z"
    },
    "collapsed": false,
    "deletable": true,
    "editable": true
   },
   "outputs": [
    {
     "data": {
      "image/png": "[encoded data removed]",
      "text/plain": [
       "<Figure size 432x288 with 1 Axes>"
      ]
     },
     "metadata": {},
     "output_type": "display_data"
    }
   ],
   "source": [
    "%matplotlib inline\n",
    "import matplotlib.pyplot as plt\n",
    "\n",
    "# summarize history for loss\n",
    "plt.plot(history.history[\"loss\"])\n",
    "plt.plot(history.history['val_loss'])\n",
    "plt.plot(history.history['test_loss'])\n",
    "plt.title('model overall loss')\n",
    "plt.ylabel('loss')\n",
    "plt.xlabel('epoch')\n",
    "plt.legend(['train', 'val', 'test'], loc='upper right')\n",
    "plt.savefig('plots/model_overall_loss' +\n",
    "            e.NAME + \"_{}\".format(e.thedate) + '.png')\n",
    "\n",
    "# plt.show()"
   ]
  },
  {
   "cell_type": "code",
   "execution_count": 397,
   "metadata": {
    "ExecuteTime": {
     "end_time": "2018-08-01T23:59:06.980448Z",
     "start_time": "2018-08-01T23:59:06.796934Z"
    },
    "collapsed": false,
    "deletable": true,
    "editable": true
   },
   "outputs": [
    {
     "data": {
      "image/png": "[encoded data removed]",
      "text/plain": [
       "<Figure size 432x288 with 1 Axes>"
      ]
     },
     "metadata": {},
     "output_type": "display_data"
    }
   ],
   "source": [
    "%matplotlib inline\n",
    "import matplotlib.pyplot as plt\n",
    "\n",
    "# summarize history for loss\n",
    "plt.plot(history.history[\"train_acc\"])\n",
    "plt.plot(history.history['val_acc'])\n",
    "plt.plot(history.history['test_acc'])\n",
    "plt.title('model average accuracy')\n",
    "plt.ylabel('accuracy')\n",
    "plt.xlabel('epoch')\n",
    "plt.legend([x +\" = \"+ str(round(history.history[x+'_acc'][-1]*100,2)) for x in ['train', 'val', 'test']], loc='lower right')\n",
    "# for i, x in enumerate(['train', 'val', 'test']):\n",
    "#     plt.annotate(str(round(history.history[x+'_acc'][-1]*100,2)),\n",
    "#                  xy=(len(history.history[x+'_acc']), history.history[x+'_acc'][-1]), \n",
    "#                  textcoords='figure pixels', \n",
    "#                  xytext=(-20,-10))\n",
    "plt.savefig('plots/model_average_accuracy' +\n",
    "            e.NAME + \"_{}\".format(e.thedate) + '.png')\n",
    "\n",
    "plt.show()"
   ]
  },
  {
   "cell_type": "code",
   "execution_count": 398,
   "metadata": {
    "ExecuteTime": {
     "end_time": "2018-08-01T23:59:07.244792Z",
     "start_time": "2018-08-01T23:59:06.982831Z"
    },
    "collapsed": false,
    "deletable": true,
    "editable": true
   },
   "outputs": [
    {
     "data": {
      "image/png": "[encoded data removed]",
      "text/plain": [
       "<Figure size 432x288 with 1 Axes>"
      ]
     },
     "metadata": {},
     "output_type": "display_data"
    }
   ],
   "source": [
    "%matplotlib inline\n",
    "import matplotlib.pyplot as plt\n",
    "\n",
    "# VALIDATAION = True\n",
    "# prefix = \"val_\" if VALIDATAION else \"\"\n",
    "# del prefix\n",
    "legends = []\n",
    "for x in model.output_names:\n",
    "    # summarize history for accuracy\n",
    "    plt.plot(history.history[x+\"_acc\"])\n",
    "    legends.append(\"\"+x +\" = \"+ str(round(history.history[x+'_acc'][-1]*100,2)))\n",
    "#     plt.plot(history.history[x+\"_acc\"])\n",
    "#     legends.append(\"val_\"+x)\n",
    "#     plt.plot(history.history[\"val_\" + x+\"_acc\"])\n",
    "#     legends.append(\"train_\"+x)\n",
    "plt.title('model indiviual accuracy on test dataset')\n",
    "plt.ylabel('accuracy')\n",
    "plt.xlabel('epoch')\n",
    "plt.legend(legends, loc='lower right')\n",
    "plt.savefig('plots/accuracy_all' +\n",
    "            e.NAME + \"_{}\".format(e.thedate) + '.png')\n",
    "plt.show()"
   ]
  },
  {
   "cell_type": "code",
   "execution_count": 399,
   "metadata": {
    "ExecuteTime": {
     "end_time": "2018-08-01T23:59:07.506114Z",
     "start_time": "2018-08-01T23:59:07.246911Z"
    },
    "collapsed": false,
    "deletable": true,
    "editable": true
   },
   "outputs": [
    {
     "data": {
      "image/png": "[encoded data removed]",
      "text/plain": [
       "<Figure size 432x288 with 1 Axes>"
      ]
     },
     "metadata": {},
     "output_type": "display_data"
    }
   ],
   "source": [
    "%matplotlib inline\n",
    "import matplotlib.pyplot as plt\n",
    "\n",
    "legends = []\n",
    "for x in model.output_names:\n",
    "    # summarize history for loss\n",
    "    plt.plot(history.history[\"test_\"+x+\"_loss\"])\n",
    "    legends.append(\"\"+x +\" = \"+ str(round(history.history[x+'_loss'][-1]*100,2)))\n",
    "plt.title('model individual loss on test dataset')\n",
    "plt.ylabel('loss')\n",
    "plt.xlabel('epoch')\n",
    "plt.legend(legends, loc='upper right')\n",
    "plt.savefig('plots/loss_all' +\n",
    "            e.NAME + \"_{}\".format(e.thedate) + '.png')\n",
    "plt.show()"
   ]
  },
  {
   "cell_type": "markdown",
   "metadata": {
    "deletable": true,
    "editable": true
   },
   "source": [
    "## 10.1 Inspect One"
   ]
  },
  {
   "cell_type": "code",
   "execution_count": null,
   "metadata": {
    "collapsed": true,
    "deletable": true,
    "editable": true
   },
   "outputs": [],
   "source": [
    "#%%capture --no-stderr cap\n",
    "%autoreload 2\n",
    "\n",
    "colors.ok = ''\n",
    "colors.fail = ''\n",
    "colors.close = ''\n",
    "\n",
    "\n",
    "def inspectOne(times=0, printCorrect=True):\n",
    "    isAllCorrect = True\n",
    "    if times > 10000: # to prevent infinite loops\n",
    "        return\n",
    "    ind = np.random.randint(0, len(val.index))\n",
    "    ind = (val.index[ind][0], slice(None))\n",
    "\n",
    "    string_input = values_test.loc[(slice(None), ind[0]), :]\n",
    "    preds = model.predict(\n",
    "        getData(val.loc[ind], string_input, e.feat_x, e.strings_x))\n",
    "    preds = [np.argmax(x, axis=-1) for x in preds]\n",
    "    #predicted string\n",
    "    print(\"Predicted String Q\", string_input[e.strings_x[0]][0], \"from\",\n",
    "          \"-\".join(str(x) for x in string_input.index.values[0]))\n",
    "\n",
    "    if (np.argmax(string_input[e.strings_y[0]][0], axis=-1) == preds[0]).all():\n",
    "        if printCorrect: print(colors.ok + '✅' + colors.close + \"Segmentation\")\n",
    "    else:\n",
    "        print(colors.fail + '❌' + colors.close + \"Segmentation\")\n",
    "        isAllCorrect = False\n",
    "        print(\"    T\", utf2bw(string_input[e.strings_y[0]][0]))\n",
    "        print(\"     \", utf2bw(ctable.decode(preds[0][0], calc_argmax=False)))\n",
    "\n",
    "\n",
    "#     print('Q', utf2bw(pretty_join(rowx)))\n",
    "\n",
    "    rowy = dict()\n",
    "    for i, v in enumerate(e.feat_y):\n",
    "        rowy[v] = {\"correct\": val[v].loc[ind]}\n",
    "        res = np.zeros((SENTLEN, rowy[v][\"correct\"].shape[1]))\n",
    "        for ii, c in enumerate(preds[i + 1][0]):\n",
    "            res[ii, c] = 1\n",
    "        rowy[v][\"pred\"] = pd.DataFrame(res, columns=val[v].columns)\n",
    "        results = []\n",
    "        if (rowy[v][\"correct\"].values == rowy[v][\"pred\"].values).all():\n",
    "            if printCorrect: print(colors.ok + '✅' + colors.close + v)\n",
    "        else:\n",
    "            isAllCorrect = False\n",
    "            print(colors.fail + '❌' + colors.close + v, end=' ')\n",
    "            #             results.append(colors.fail + '☒' + colors.close)\n",
    "            results.append('T ' + pretty_join(rowy[v][\"correct\"]))\n",
    "            results.append(pretty_join(rowy[v][\"pred\"]))\n",
    "            print(' '.join(results))\n",
    "    if isAllCorrect or times < 10:\n",
    "        print(\"\")\n",
    "        inspectOne(times + 1, printCorrect)\n",
    "\n",
    "inspectOne(printCorrect=False)\n",
    "\n",
    "with open(\n",
    "        'output' + datetime.datetime.now().strftime(\".%Y.%m.%d.%H.%M.%S\") +\n",
    "        '.txt', 'w') as f:\n",
    "    f.write(cap.stdout)"
   ]
  },
  {
   "cell_type": "markdown",
   "metadata": {
    "deletable": true,
    "editable": true
   },
   "source": [
    "\n",
    "### After alignment. Accuracy is good. Can be treated as baseline. (name=baseline)\n",
    "`strings_cats_aligned_2018.06.25.15.14`\n",
    "### Comaprison between baseline and POS embeddings. (No drop, so it is the best) (name=baseline+pos_emb)\n",
    "`with_pos_embeddings_2018.06.25.17.37`\n",
    "### Comaprison between baseline with POS embeddings and subword embeddings. (name=baseline+pos_emb+subword_emb)\n",
    "`with_embeddings_2018.06.25.17.37` NOT DONE\n",
    "### Comaprison between baseline with subword embeddings. (name=baseline+pos_emb+subword_emb+word2vec)\n",
    "`with_word2vec_2018.06.25.17.37` NOT DONE\n",
    "\n",
    "### Different Sizes of Baseline or subword"
   ]
  }
 ],
 "metadata": {
  "kernelspec": {
   "display_name": "tf1.4py3.5",
   "language": "python",
   "name": "tf1.4py3.5"
  },
  "language_info": {
   "codemirror_mode": {
    "name": "ipython",
    "version": 3
   },
   "file_extension": ".py",
   "mimetype": "text/x-python",
   "name": "python",
   "nbconvert_exporter": "python",
   "pygments_lexer": "ipython3",
   "version": "3.5.1"
  },
  "notify_time": "10"
 },
 "nbformat": 4,
 "nbformat_minor": 2
}
